{
 "cells": [
  {
   "cell_type": "markdown",
   "metadata": {},
   "source": [
    "from player_table.ipynb"
   ]
  },
  {
   "cell_type": "code",
   "execution_count": 1,
   "metadata": {},
   "outputs": [],
   "source": [
    "#environment setup  C:\\Users\\Administrator\\Desktop\\simple eda\\simple eda\\EDA\\player_table.ipynb\n",
    "import pandas as pd\n",
    "import numpy as np\n",
    "import seaborn as sns\n",
    "from prefect import flow, task\n",
    "\n"
   ]
  },
  {
   "cell_type": "code",
   "execution_count": 2,
   "metadata": {},
   "outputs": [],
   "source": [
    "@task(name=\"calculate_player_games\")\n",
    "def calculate_player_games(df):\n",
    "    \"\"\"统计每位棋手作为白方和黑方的对局数量\"\"\"\n",
    "    games_white = df.groupby('White').count()['Event'].sort_values(ascending=False).reset_index()\n",
    "    games_black = df.groupby('Black').count()['Event'].sort_values(ascending=False).reset_index()\n",
    "    \n",
    "    games_white.columns = ['user', 'white_games']\n",
    "    games_black.columns = ['user', 'black_games']\n",
    "    \n",
    "    df_games = pd.merge(games_white, games_black)\n",
    "    df_games['total_games'] = df_games.white_games + df_games.black_games\n",
    "    df_games = df_games.sort_values(by='total_games', ascending=False)\n",
    "    \n",
    "    return df_games\n",
    "\n",
    "@task(name=\"calculate_player_wins\")\n",
    "def calculate_player_wins(df):\n",
    "    \"\"\"计算玩家胜场\"\"\"\n",
    "    df_wins_white = df[['White', 'Result', 'Event']].groupby(['White', 'Result']).count().reset_index()\n",
    "    df_wins_white = df_wins_white[df_wins_white.Result=='1-0'].groupby('White').sum()['Event'].reset_index()\n",
    "    df_wins_white.columns = ['user', 'wins_white']\n",
    "\n",
    "    df_wins_black = df[['Black', 'Result', 'Event']].groupby(['Black', 'Result']).count().reset_index()\n",
    "    df_wins_black = df_wins_black[df_wins_black.Result=='0-1'].groupby('Black').sum()['Event'].reset_index()\n",
    "    df_wins_black.columns = ['user', 'wins_black']\n",
    "    \n",
    "    df_wins = pd.merge(df_wins_white, df_wins_black)\n",
    "    df_wins['wins_total'] = df_wins['wins_white'] + df_wins['wins_black']\n",
    "    \n",
    "    return df_wins\n",
    "\n",
    "@task(name=\"calculate_player_draws\")\n",
    "def calculate_player_draws(df):\n",
    "    \"\"\"计算玩家平局数量\"\"\"\n",
    "    df_draw_white = df[['White', 'Result', 'Event']].groupby(['White', 'Result']).count().reset_index()\n",
    "    df_draw_white = df_draw_white[df_draw_white.Result=='1/2-1/2'].groupby('White').sum()['Event'].reset_index()\n",
    "    df_draw_white.columns = ['user', 'draw_white']\n",
    "\n",
    "    df_draw_black = df[['Black', 'Result', 'Event']].groupby(['Black', 'Result']).count().reset_index()\n",
    "    df_draw_black = df_draw_black[df_draw_black.Result=='1/2-1/2'].groupby('Black').sum()['Event'].reset_index()\n",
    "    df_draw_black.columns = ['user', 'draw_black']\n",
    "    \n",
    "    df_draw = pd.merge(df_draw_white, df_draw_black)\n",
    "    df_draw['draw_total'] = df_draw['draw_white'] + df_draw['draw_black']\n",
    "    \n",
    "    return df_draw\n",
    "\n",
    "@task(name=\"calculate_player_losses\")\n",
    "def calculate_player_losses(df):\n",
    "    \"\"\"计算玩家失败场次\"\"\"\n",
    "    df_lose_white = df[['White', 'Result', 'Event']].groupby(['White', 'Result']).count().reset_index()\n",
    "    df_lose_white = df_lose_white[df_lose_white.Result=='0-1'].groupby('White').sum()['Event'].reset_index()\n",
    "    df_lose_white.columns = ['user', 'lose_white']\n",
    "\n",
    "    df_lose_black = df[['Black', 'Result', 'Event']].groupby(['Black', 'Result']).count().reset_index()\n",
    "    df_lose_black = df_lose_black[df_lose_black.Result=='1-0'].groupby('Black').sum()['Event'].reset_index()\n",
    "    df_lose_black.columns = ['user', 'lose_black']\n",
    "    \n",
    "    df_lose = pd.merge(df_lose_white, df_lose_black)\n",
    "    df_lose['lose_total'] = df_lose['lose_white'] + df_lose['lose_black']\n",
    "    \n",
    "    return df_lose\n",
    "\n",
    "@task(name=\"calculate_player_elo\")\n",
    "def calculate_player_elo(df):\n",
    "    \"\"\"计算玩家ELO分数\"\"\"\n",
    "    white_elos = df[['White', 'WhiteElo']]\n",
    "    black_elos = df[['Black', 'BlackElo']]\n",
    "    \n",
    "    white_elos.columns = ['user', 'elo']\n",
    "    black_elos.columns = ['user', 'elo']\n",
    "    \n",
    "    df_elo = pd.concat([white_elos, black_elos])\n",
    "    df_elo = df_elo.groupby('user').mean().reset_index()\n",
    "    \n",
    "    return df_elo\n",
    "\n",
    "@task(name=\"calculate_player_accuracy\")\n",
    "def calculate_player_accuracy(df):\n",
    "    \"\"\"计算玩家准确率\"\"\"\n",
    "    df_ea = pd.concat([\n",
    "        df[['White', 'White Accuracy', \n",
    "            'White Beginning Accuracy', 'White Middle Accuracy', 'White Endgame Accuracy']]\n",
    "        .rename(columns={\n",
    "            'White':'user', \n",
    "            'White Accuracy':'accuracy', \n",
    "            'White Beginning Accuracy': 'accuracy_opening',\n",
    "            'White Middle Accuracy': 'accuracy_middlegame',\n",
    "            'White Endgame Accuracy': 'accuracy_endgame'\n",
    "        }),\n",
    "        \n",
    "        df[['Black', 'Black Accuracy',\n",
    "            'Black Beginning Accuracy', 'Black Middle Accuracy', 'Black Endgame Accuracy']]\n",
    "        .rename(columns={\n",
    "            'Black':'user',\n",
    "            'Black Accuracy':'accuracy', \n",
    "            'Black Beginning Accuracy': 'accuracy_opening',\n",
    "            'Black Middle Accuracy': 'accuracy_middlegame',\n",
    "            'Black Endgame Accuracy': 'accuracy_endgame'\n",
    "        })\n",
    "    ], axis=0)\n",
    "    \n",
    "    df_ea = df_ea.dropna().groupby('user').mean().reset_index()\n",
    "    \n",
    "    return df_ea\n",
    "\n",
    "@flow(name=\"comprehensive_player_analysis\")\n",
    "def comprehensive_player_analysis(df):\n",
    "    \"\"\"综合分析玩家数据\"\"\"\n",
    "    #calculate each index\n",
    "    df_games = calculate_player_games(df)\n",
    "    df_wins = calculate_player_wins(df)\n",
    "    df_draws = calculate_player_draws(df)\n",
    "    df_losses = calculate_player_losses(df)\n",
    "    df_elo = calculate_player_elo(df)\n",
    "    df_accuracy = calculate_player_accuracy(df)\n",
    "    \n",
    "    #merge\n",
    "    df_all = df_games.merge(df_wins, on='user', how='left')\n",
    "    df_all = df_all.merge(df_draws, on='user', how='left')\n",
    "    df_all = df_all.merge(df_losses, on='user', how='left')\n",
    "    df_all = df_all.merge(df_elo, on='user', how='left')\n",
    "    df_final = df_all.merge(df_accuracy, on='user', how='left')\n",
    "    \n",
    "    df_final = df_final.fillna(0)\n",
    "    \n",
    "    #calculate win rate and the accuracy distance between whole-game accuracy and stage accuracy\n",
    "    df_final['win_rate'] = df_final['wins_total'] / df_final['total_games']\n",
    "    df_final['opening_distance'] = df_final['accuracy_opening'] - df_final['accuracy']\n",
    "    df_final['middlegame_distance'] = df_final['accuracy_middlegame'] - df_final['accuracy']\n",
    "    df_final['endgame_distance'] = df_final['accuracy_endgame'] - df_final['accuracy']\n",
    "    \n",
    "    df_final['opening_distance_alt'] = df_final['accuracy_opening'] - df_final['accuracy_opening'].mean()\n",
    "    df_final['middlegame_distance_alt'] = df_final['accuracy_middlegame'] - df_final['accuracy_middlegame'].mean()\n",
    "    df_final['endgame_distance_alt'] = df_final['accuracy_endgame'] - df_final['accuracy_endgame'].mean()\n",
    "    \n",
    "    df_final.to_csv('df_final.csv', index=False)\n",
    "    \n",
    "    return df_final"
   ]
  },
  {
   "cell_type": "code",
   "execution_count": 3,
   "metadata": {},
   "outputs": [
    {
     "data": {
      "text/html": [
       "<pre style=\"white-space:pre;overflow-x:auto;line-height:normal;font-family:Menlo,'DejaVu Sans Mono',consolas,'Courier New',monospace\">17:42:12.930 | <span style=\"color: #008080; text-decoration-color: #008080\">INFO</span>    | Flow run<span style=\"color: #800080; text-decoration-color: #800080\"> 'xanthic-guillemot'</span> - Beginning flow run<span style=\"color: #800080; text-decoration-color: #800080\"> 'xanthic-guillemot'</span> for flow<span style=\"color: #800080; text-decoration-color: #800080; font-weight: bold\"> 'comprehensive_player_analysis'</span>\n",
       "</pre>\n"
      ],
      "text/plain": [
       "17:42:12.930 | \u001b[36mINFO\u001b[0m    | Flow run\u001b[35m 'xanthic-guillemot'\u001b[0m - Beginning flow run\u001b[35m 'xanthic-guillemot'\u001b[0m for flow\u001b[1;35m 'comprehensive_player_analysis'\u001b[0m\n"
      ]
     },
     "metadata": {},
     "output_type": "display_data"
    },
    {
     "data": {
      "text/html": [
       "<pre style=\"white-space:pre;overflow-x:auto;line-height:normal;font-family:Menlo,'DejaVu Sans Mono',consolas,'Courier New',monospace\">17:42:12.934 | <span style=\"color: #008080; text-decoration-color: #008080\">INFO</span>    | Flow run<span style=\"color: #800080; text-decoration-color: #800080\"> 'xanthic-guillemot'</span> - View at <span style=\"color: #0000ff; text-decoration-color: #0000ff\">https://app.prefect.cloud/account/71508390-397c-440e-97b4-78dbc476dcb7/workspace/172b3720-fac9-4160-bb30-ce47604ed31d/runs/flow-run/0684014f-3b5e-74d5-8000-dcc429f464c3</span>\n",
       "</pre>\n"
      ],
      "text/plain": [
       "17:42:12.934 | \u001b[36mINFO\u001b[0m    | Flow run\u001b[35m 'xanthic-guillemot'\u001b[0m - View at \u001b[94mhttps://app.prefect.cloud/account/71508390-397c-440e-97b4-78dbc476dcb7/workspace/172b3720-fac9-4160-bb30-ce47604ed31d/runs/flow-run/0684014f-3b5e-74d5-8000-dcc429f464c3\u001b[0m\n"
      ]
     },
     "metadata": {},
     "output_type": "display_data"
    },
    {
     "data": {
      "text/html": [
       "<pre style=\"white-space:pre;overflow-x:auto;line-height:normal;font-family:Menlo,'DejaVu Sans Mono',consolas,'Courier New',monospace\">17:42:13.151 | <span style=\"color: #008080; text-decoration-color: #008080\">INFO</span>    | Task run 'calculate_player_games-cfd' - Finished in state <span style=\"color: #008000; text-decoration-color: #008000\">Completed</span>()\n",
       "</pre>\n"
      ],
      "text/plain": [
       "17:42:13.151 | \u001b[36mINFO\u001b[0m    | Task run 'calculate_player_games-cfd' - Finished in state \u001b[32mCompleted\u001b[0m()\n"
      ]
     },
     "metadata": {},
     "output_type": "display_data"
    },
    {
     "data": {
      "text/html": [
       "<pre style=\"white-space:pre;overflow-x:auto;line-height:normal;font-family:Menlo,'DejaVu Sans Mono',consolas,'Courier New',monospace\">17:42:13.356 | <span style=\"color: #008080; text-decoration-color: #008080\">INFO</span>    | Task run 'calculate_player_wins-bdc' - Finished in state <span style=\"color: #008000; text-decoration-color: #008000\">Completed</span>()\n",
       "</pre>\n"
      ],
      "text/plain": [
       "17:42:13.356 | \u001b[36mINFO\u001b[0m    | Task run 'calculate_player_wins-bdc' - Finished in state \u001b[32mCompleted\u001b[0m()\n"
      ]
     },
     "metadata": {},
     "output_type": "display_data"
    },
    {
     "data": {
      "text/html": [
       "<pre style=\"white-space:pre;overflow-x:auto;line-height:normal;font-family:Menlo,'DejaVu Sans Mono',consolas,'Courier New',monospace\">17:42:13.562 | <span style=\"color: #008080; text-decoration-color: #008080\">INFO</span>    | Task run 'calculate_player_draws-34e' - Finished in state <span style=\"color: #008000; text-decoration-color: #008000\">Completed</span>()\n",
       "</pre>\n"
      ],
      "text/plain": [
       "17:42:13.562 | \u001b[36mINFO\u001b[0m    | Task run 'calculate_player_draws-34e' - Finished in state \u001b[32mCompleted\u001b[0m()\n"
      ]
     },
     "metadata": {},
     "output_type": "display_data"
    },
    {
     "data": {
      "text/html": [
       "<pre style=\"white-space:pre;overflow-x:auto;line-height:normal;font-family:Menlo,'DejaVu Sans Mono',consolas,'Courier New',monospace\">17:42:13.753 | <span style=\"color: #008080; text-decoration-color: #008080\">INFO</span>    | Task run 'calculate_player_losses-67f' - Finished in state <span style=\"color: #008000; text-decoration-color: #008000\">Completed</span>()\n",
       "</pre>\n"
      ],
      "text/plain": [
       "17:42:13.753 | \u001b[36mINFO\u001b[0m    | Task run 'calculate_player_losses-67f' - Finished in state \u001b[32mCompleted\u001b[0m()\n"
      ]
     },
     "metadata": {},
     "output_type": "display_data"
    },
    {
     "data": {
      "text/html": [
       "<pre style=\"white-space:pre;overflow-x:auto;line-height:normal;font-family:Menlo,'DejaVu Sans Mono',consolas,'Courier New',monospace\">17:42:13.903 | <span style=\"color: #008080; text-decoration-color: #008080\">INFO</span>    | Task run 'calculate_player_elo-a40' - Finished in state <span style=\"color: #008000; text-decoration-color: #008000\">Completed</span>()\n",
       "</pre>\n"
      ],
      "text/plain": [
       "17:42:13.903 | \u001b[36mINFO\u001b[0m    | Task run 'calculate_player_elo-a40' - Finished in state \u001b[32mCompleted\u001b[0m()\n"
      ]
     },
     "metadata": {},
     "output_type": "display_data"
    },
    {
     "data": {
      "text/html": [
       "<pre style=\"white-space:pre;overflow-x:auto;line-height:normal;font-family:Menlo,'DejaVu Sans Mono',consolas,'Courier New',monospace\">17:42:14.054 | <span style=\"color: #008080; text-decoration-color: #008080\">INFO</span>    | Task run 'calculate_player_accuracy-446' - Finished in state <span style=\"color: #008000; text-decoration-color: #008000\">Completed</span>()\n",
       "</pre>\n"
      ],
      "text/plain": [
       "17:42:14.054 | \u001b[36mINFO\u001b[0m    | Task run 'calculate_player_accuracy-446' - Finished in state \u001b[32mCompleted\u001b[0m()\n"
      ]
     },
     "metadata": {},
     "output_type": "display_data"
    },
    {
     "data": {
      "text/html": [
       "<pre style=\"white-space:pre;overflow-x:auto;line-height:normal;font-family:Menlo,'DejaVu Sans Mono',consolas,'Courier New',monospace\">17:42:14.472 | <span style=\"color: #008080; text-decoration-color: #008080\">INFO</span>    | Flow run<span style=\"color: #800080; text-decoration-color: #800080\"> 'xanthic-guillemot'</span> - Finished in state <span style=\"color: #008000; text-decoration-color: #008000\">Completed</span>()\n",
       "</pre>\n"
      ],
      "text/plain": [
       "17:42:14.472 | \u001b[36mINFO\u001b[0m    | Flow run\u001b[35m 'xanthic-guillemot'\u001b[0m - Finished in state \u001b[32mCompleted\u001b[0m()\n"
      ]
     },
     "metadata": {},
     "output_type": "display_data"
    },
    {
     "name": "stdout",
     "output_type": "stream",
     "text": [
      "                   user  white_games  black_games  total_games  wins_white  \\\n",
      "0            gumersindo           25           25           50        10.0   \n",
      "1            GeorgMeier           23           20           43        18.0   \n",
      "2              jcibarra           22           19           41        13.0   \n",
      "3        exoticprincess           22           17           39        17.0   \n",
      "4            pKiLz5Rn9b           18           21           39         7.0   \n",
      "..                  ...          ...          ...          ...         ...   \n",
      "226              DaPazz            1            1            2         0.0   \n",
      "227           DatsFunny            1            1            2         0.0   \n",
      "228  Room_for_Squares64            1            1            2         0.0   \n",
      "229              gmsakk            1            1            2         0.0   \n",
      "230        mortalbovine            1            1            2         0.0   \n",
      "\n",
      "     wins_black  wins_total  draw_white  draw_black  draw_total  ...  \\\n",
      "0          10.0        20.0         4.0         4.0         8.0  ...   \n",
      "1          11.0        29.0         4.0         6.0        10.0  ...   \n",
      "2          13.0        26.0         3.0         2.0         5.0  ...   \n",
      "3          12.0        29.0         4.0         1.0         5.0  ...   \n",
      "4           7.0        14.0         1.0         3.0         4.0  ...   \n",
      "..          ...         ...         ...         ...         ...  ...   \n",
      "226         0.0         0.0         0.0         0.0         0.0  ...   \n",
      "227         0.0         0.0         0.0         0.0         0.0  ...   \n",
      "228         0.0         0.0         0.0         0.0         0.0  ...   \n",
      "229         0.0         0.0         0.0         0.0         0.0  ...   \n",
      "230         0.0         0.0         0.0         0.0         0.0  ...   \n",
      "\n",
      "     accuracy_opening  accuracy_middlegame  accuracy_endgame  win_rate  \\\n",
      "0           95.294494            90.424053         90.946420  0.400000   \n",
      "1           96.272751            93.357711         93.657779  0.674419   \n",
      "2           96.366876            92.480656         93.484708  0.634146   \n",
      "3           95.167053            94.413971         95.664461  0.743590   \n",
      "4           94.294099            91.001432         92.258552  0.358974   \n",
      "..                ...                  ...               ...       ...   \n",
      "226         94.209705            82.506789         94.543282  0.000000   \n",
      "227         95.691499            89.852147         93.445308  0.000000   \n",
      "228         96.036752            90.829841         93.007691  0.000000   \n",
      "229         97.164269            94.862744         93.421826  0.000000   \n",
      "230         92.353471            90.453955         83.928558  0.000000   \n",
      "\n",
      "     opening_distance  middlegame_distance  endgame_distance  \\\n",
      "0           11.146179             6.275737          6.798105   \n",
      "1            5.538821             2.623781          2.923849   \n",
      "2            6.479504             2.593284          3.597336   \n",
      "3            2.343845             1.590763          2.841253   \n",
      "4            7.272533             3.979865          5.236986   \n",
      "..                ...                  ...               ...   \n",
      "226         12.754321             1.051405         13.087898   \n",
      "227          6.693737             0.854385          4.447546   \n",
      "228          9.351802             4.144891          6.322741   \n",
      "229          4.364527             2.063001          0.622084   \n",
      "230         11.332505             9.432989          2.907592   \n",
      "\n",
      "     opening_distance_alt  middlegame_distance_alt  endgame_distance_alt  \n",
      "0                0.254588                -0.515546             -0.571212  \n",
      "1                1.232845                 2.418112              2.140147  \n",
      "2                1.326970                 1.541057              1.967076  \n",
      "3                0.127148                 3.474372              4.146829  \n",
      "4               -0.745807                 0.061833              0.740920  \n",
      "..                    ...                      ...                   ...  \n",
      "226             -0.830200                -8.432809              3.025650  \n",
      "227              0.651593                -1.087452              1.927676  \n",
      "228              0.996846                -0.109758              1.490059  \n",
      "229              2.124364                 3.923145              1.904194  \n",
      "230             -2.686434                -0.485644             -7.589074  \n",
      "\n",
      "[231 rows x 25 columns]\n"
     ]
    }
   ],
   "source": [
    "if __name__ == \"__main__\":\n",
    "    \n",
    "    #the file there is just the csv file generated from the games_flow2.ipynb,\n",
    "    #but because run the games_flow2.ipynb takes too much time,\n",
    "    #you can just use \"1410-15result.csv\" as input(i already run the code and got this from my computer)\n",
    "    df = pd.read_csv(\"C:\\\\Users\\\\Administrator\\\\Desktop\\\\simple eda\\\\simple eda\\\\EDA\\\\prefectlearning\\\\1410-15result.csv\") \n",
    "\n",
    "    result = comprehensive_player_analysis(df)\n",
    "    print(result)"
   ]
  },
  {
   "cell_type": "code",
   "execution_count": null,
   "metadata": {},
   "outputs": [],
   "source": []
  }
 ],
 "metadata": {
  "kernelspec": {
   "display_name": "Python 3",
   "language": "python",
   "name": "python3"
  },
  "language_info": {
   "codemirror_mode": {
    "name": "ipython",
    "version": 3
   },
   "file_extension": ".py",
   "mimetype": "text/x-python",
   "name": "python",
   "nbconvert_exporter": "python",
   "pygments_lexer": "ipython3",
   "version": "3.12.9"
  }
 },
 "nbformat": 4,
 "nbformat_minor": 2
}
