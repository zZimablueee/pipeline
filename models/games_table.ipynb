{
 "cells": [
  {
   "cell_type": "code",
   "execution_count": 1,
   "metadata": {},
   "outputs": [],
   "source": [
    "#environment setup  C:\\Users\\Administrator\\Desktop\\simple eda\\simple eda\\games_table.ipynb\n",
    "import pandas as pd\n",
    "import seaborn as sns\n",
    "import matplotlib.pyplot as plt\n",
    "\n",
    "original_file=\"C:\\\\Users\\\\Administrator\\\\Desktop\\\\2014.10-15.2\\\\results\\\\aftermerge\\\\1410-1503.csv\"\n",
    "df=pd.read_csv(original_file)"
   ]
  },
  {
   "cell_type": "code",
   "execution_count": 2,
   "metadata": {},
   "outputs": [],
   "source": [
    "import math\n",
    "import chess\n",
    "import os\n",
    "import sys\n",
    "import chess.pgn\n",
    "import chess.engine\n",
    "import csv\n",
    "import io\n",
    "import traceback\n",
    "import subprocess\n",
    "import time\n",
    "import math\n",
    "from tqdm import tqdm\n",
    "import numpy as np\n",
    "import pandas as pd\n",
    "import asyncio\n",
    "from tqdm import tqdm\n",
    "from pathlib import Path\n",
    "import matplotlib.pyplot as plt\n",
    "from stockfish import Stockfish  \n",
    "#强制更换 event loop（解决部分 Windows 异步问题）\n",
    "if sys.platform.startswith('win'):\n",
    "    asyncio.set_event_loop_policy(asyncio.WindowsSelectorEventLoopPolicy())\n",
    "#environment setup\n",
    "import tqdm\n",
    "import numpy as np"
   ]
  },
  {
   "cell_type": "code",
   "execution_count": 3,
   "metadata": {},
   "outputs": [],
   "source": [
    "def get_eval_str(score, board):\n",
    "    #score is mate\n",
    "    if isinstance(score, chess.engine.Mate):\n",
    "        mate_value = score.mate()\n",
    "        if (mate_value > 0 and board.turn == chess.WHITE) or (mate_value < 0 and board.turn == chess.BLACK):\n",
    "            mating_side = \"White\"\n",
    "        else:\n",
    "            mating_side = \"Black\"\n",
    "        return f\"Mate in {abs(mate_value)} for {mating_side}\"\n",
    "    else:\n",
    "        #score is centipawn\n",
    "        cp_score = score.score()\n",
    "        return f\"{cp_score/100.0:.2f}\"\n",
    "\n",
    "\n",
    "def move_accuracy_percent(before, after):\n",
    "    if after >= before:\n",
    "        return 100.0 #didnt get worse,think it's a perfect move\n",
    "    else:\n",
    "        win_diff = before - after\n",
    "        raw = 103.1668100711649 * math.exp(-0.04354415386753951 * win_diff) + -3.166924740191411\n",
    "        return max(min(raw + 1, 100), 0)\n",
    "\n",
    "\n",
    "def winning_chances_percent(cp):\n",
    "    multiplier = -0.00368208\n",
    "    chances = 2 / (1 + math.exp(multiplier * cp)) - 1\n",
    "    return 50 + 50 * max(min(chances, 1), -1)\n",
    "\n",
    "\n",
    "def harmonic_mean(values):\n",
    "    n = len(values)\n",
    "    if n == 0:\n",
    "        return 0\n",
    "    reciprocal_sum = sum(1 / x for x in values if x)\n",
    "    return n / reciprocal_sum if reciprocal_sum else 0\n",
    "\n",
    "\n",
    "def std_dev(seq):\n",
    "    if len(seq) == 0:\n",
    "        return 0.5 \n",
    "    mean = sum(seq) / len(seq)\n",
    "    variance = sum((x - mean) ** 2 for x in seq) / len(seq)\n",
    "    return math.sqrt(variance)\n",
    "\n",
    "\n",
    "def volatility_weighted_mean(accuracies, win_chances, is_white):\n",
    "    weights = []\n",
    "    for i in range(len(accuracies)):\n",
    "        base_index = i * 2 + 1 if is_white else i * 2 + 2\n",
    "        start_idx = max(base_index - 2, 0)\n",
    "        end_idx = min(base_index + 2, len(win_chances) - 1)\n",
    "\n",
    "        sub_seq = win_chances[start_idx:end_idx+1]\n",
    "        weight = max(min(std_dev(sub_seq), 12), 0.5)\n",
    "        weights.append(weight)\n",
    "\n",
    "    weighted_sum = sum(a*w for a,w in zip(accuracies,weights))\n",
    "    total_weight = sum(weights)\n",
    "    weighted_mean = weighted_sum / total_weight if total_weight else 0\n",
    "\n",
    "    return weighted_mean\n",
    "\n",
    "\n",
    "class SimpleStockfishEngine:\n",
    "    def __init__(self, engine_path, threads=1):\n",
    "        self.engine_path = Path(engine_path)\n",
    "        if not self.engine_path.exists():\n",
    "            raise FileNotFoundError(f\"引擎路径不存在: {engine_path}\")\n",
    "        \n",
    "        self.process = subprocess.Popen(\n",
    "            str(self.engine_path),\n",
    "            universal_newlines=True,\n",
    "            stdin=subprocess.PIPE,\n",
    "            stdout=subprocess.PIPE,\n",
    "            bufsize=1\n",
    "        )\n",
    "        \n",
    "        self._send_command(\"uci\")\n",
    "        self._wait_for(\"uciok\")\n",
    "        self._send_command(f\"setoption name Threads value {threads}\")\n",
    "        self._send_command(\"isready\")\n",
    "        self._wait_for(\"readyok\")\n",
    "    \n",
    "    def _send_command(self, command):\n",
    "        self.process.stdin.write(f\"{command}\\n\")\n",
    "        self.process.stdin.flush()\n",
    "    \n",
    "    def _wait_for(self, text, timeout=5.0):\n",
    "        start_time = time.time()\n",
    "        while time.time() - start_time < timeout:\n",
    "            line = self.process.stdout.readline().strip()\n",
    "            if text in line:\n",
    "                return line\n",
    "        raise TimeoutError(f\"等待'{text}'超时\")\n",
    "    \n",
    "    def _read_until_empty(self):\n",
    "        lines = []\n",
    "        while True:\n",
    "            line = self.process.stdout.readline().strip()\n",
    "            if not line:\n",
    "                break\n",
    "            lines.append(line)\n",
    "        return lines\n",
    "    \n",
    "    def analyse(self, board, depth=16):\n",
    "        fen = board.fen()\n",
    "        self._send_command(f\"position fen {fen}\")\n",
    "        self._send_command(f\"go depth {depth}\")\n",
    "        \n",
    "        score = None\n",
    "        best_move = None\n",
    "        \n",
    "        while True:\n",
    "            line = self.process.stdout.readline().strip()\n",
    "            if \"bestmove\" in line:\n",
    "                best_move = line.split()[1]\n",
    "                break\n",
    "            \n",
    "            if \"score\" in line:\n",
    "                parts = line.split()\n",
    "                score_idx = parts.index(\"score\")\n",
    "                score_type = parts[score_idx + 1]\n",
    "                score_value = int(parts[score_idx + 2])\n",
    "                \n",
    "                if score_type == \"cp\":\n",
    "                    score = chess.engine.Cp(score_value)\n",
    "                elif score_type == \"mate\":\n",
    "                    score = chess.engine.Mate(score_value)\n",
    "        \n",
    "        if score is None:\n",
    "            score = chess.engine.Cp(0)  \n",
    "            \n",
    "        return {\"score\": score, \"pv\": [best_move] if best_move else []}\n",
    "    \n",
    "    def quit(self):\n",
    "        self._send_command(\"quit\")\n",
    "        self.process.terminate()\n",
    "        try:\n",
    "            self.process.wait(timeout=5)\n",
    "        except subprocess.TimeoutExpired:\n",
    "            self.process.kill()\n",
    "\n",
    "\n",
    "def get_score_value(score, board, mate_score=1000):\n",
    "    #convert the stockfish score to numeric value,\n",
    "    #and for mate, it's +/-10000\n",
    "    if isinstance(score, chess.engine.Mate):\n",
    "        mate = score.mate()\n",
    "        value = mate_score if mate > 0 else -mate_score\n",
    "        if mate > 0:\n",
    "            value = mate_score - mate\n",
    "        else:\n",
    "            value = -mate_score - mate\n",
    "    else:  # Cp\n",
    "        value = score.score()\n",
    "        \n",
    "    if board.turn == chess.BLACK:\n",
    "        value = -value\n",
    "        \n",
    "    return value\n"
   ]
  },
  {
   "cell_type": "code",
   "execution_count": 4,
   "metadata": {},
   "outputs": [],
   "source": [
    "def process_csv(csv_file, engine, depth, is_verbose):\n",
    "    all_games = []\n",
    "    skipped_indices = []\n",
    "    game_details = []  # 存储每局游戏的详细分析\n",
    "    \n",
    "    with open(csv_file, 'r', newline='', encoding='utf-8') as file:\n",
    "        # 读第一行获取分隔符\n",
    "        first_line = file.readline().strip()\n",
    "        file.seek(0)\n",
    "        \n",
    "        delimiter = '\\t' if '\\t' in first_line else ','\n",
    "        csv_reader = csv.DictReader(file, delimiter=delimiter)\n",
    "        rows = list(csv_reader)\n",
    "\n",
    "        pbar = tqdm.tqdm(total=len(rows), desc=\"分析棋局\")\n",
    "\n",
    "        \n",
    "        # 使用tqdm创建进度条\n",
    "        for row_idx, row in enumerate(rows):\n",
    "            # 获取基本信息\n",
    "            white_player = row.get('White', 'Unknown')\n",
    "            black_player = row.get('Black', 'Unknown')\n",
    "            white_elo = row.get('WhiteElo', 'N/A')\n",
    "            black_elo = row.get('BlackElo', 'N/A')\n",
    "            \n",
    "            if is_verbose:\n",
    "                print(f'\\n—— Analyzing Game {row_idx+1} ——')\n",
    "                print(f'White: {white_player} ({white_elo}), Black: {black_player} ({black_elo})')\n",
    "            \n",
    "            # 分割走法\n",
    "            moves_str = row.get('Moves', '')\n",
    "            if not moves_str:\n",
    "                all_games.append((row_idx, white_player, black_player, None, None, None, None, None))\n",
    "                skipped_indices.append(row_idx)\n",
    "                continue\n",
    "            \n",
    "            # 检查走法格式\n",
    "            moves_list = moves_str.split(',')\n",
    "            has_invalid_moves = any(move_str.strip() and (len(move_str.strip()) < 4 or len(move_str.strip()) > 5) \n",
    "                                     for move_str in moves_list)\n",
    "            \n",
    "            if has_invalid_moves:\n",
    "                all_games.append((row_idx, white_player, black_player, None, None, None, None, None))\n",
    "                skipped_indices.append(row_idx)\n",
    "                continue\n",
    "                \n",
    "            # 初始化参数\n",
    "            game_acc_white, game_acc_black = [], []\n",
    "            game_cp_white, game_cp_black = 0, 0\n",
    "            game_win_chances = []\n",
    "            \n",
    "            # 存储每步详细信息\n",
    "            move_details = []\n",
    "            \n",
    "            board = chess.Board()\n",
    "            move_number = 1\n",
    "            analysis_success = True\n",
    "            \n",
    "            try:\n",
    "                for move_idx, move_str in enumerate(moves_list):\n",
    "                    try:\n",
    "                        move_str = move_str.strip()\n",
    "                        if not move_str:\n",
    "                            continue\n",
    "                        \n",
    "                        # 尝试解析走法\n",
    "                        try:\n",
    "                            move = chess.Move.from_uci(move_str)\n",
    "                            if move not in board.legal_moves:\n",
    "                                analysis_success = False\n",
    "                                break\n",
    "                        except chess.InvalidMoveError:\n",
    "                            analysis_success = False\n",
    "                            break\n",
    "                            \n",
    "                        san_move = board.san(move)\n",
    "                        \n",
    "                        # 评估走法前后的局面\n",
    "                        result_before = engine.analyse(board, depth)\n",
    "                        score_before = get_score_value(result_before[\"score\"], board)\n",
    "                        board.push(move)\n",
    "                        result_after = engine.analyse(board, depth)\n",
    "                        score_after = get_score_value(result_after[\"score\"], board)\n",
    "                        \n",
    "                        # 转换为胜率\n",
    "                        win_before_white = winning_chances_percent(score_before)\n",
    "                        win_after_white = winning_chances_percent(score_after)\n",
    "                        game_win_chances.append(win_after_white)\n",
    "                        \n",
    "                        if board.turn == chess.WHITE:  # 黑方刚走完\n",
    "                            win_before = 100 - win_before_white\n",
    "                            win_after = 100 - win_after_white\n",
    "                        else:  # 白方刚走完\n",
    "                            win_before = win_before_white\n",
    "                            win_after = win_after_white\n",
    "                            \n",
    "                        accuracy = move_accuracy_percent(win_before, win_after)\n",
    "                        \n",
    "                        # 计算cp loss\n",
    "                        if board.turn == chess.BLACK:  # 白方刚走完\n",
    "                            cp_loss = 0 if score_after > score_before else score_before - score_after\n",
    "                            game_cp_white += cp_loss\n",
    "                            game_acc_white.append(accuracy)\n",
    "                            player = \"White\"\n",
    "                        else:  # 黑方刚走完\n",
    "                            cp_loss = 0 if score_after < score_before else score_after - score_before\n",
    "                            game_cp_black += cp_loss\n",
    "                            game_acc_black.append(accuracy)\n",
    "                            player = \"Black\"\n",
    "                            \n",
    "                        # 存储走棋分析详情，而不是打印\n",
    "                        step_info = {\n",
    "                            \"move_number\": (move_idx // 2) + 1,\n",
    "                            \"san_move\": san_move,\n",
    "                            \"player\": player,\n",
    "                            \"evaluation\": get_eval_str(result_after[\"score\"], board),\n",
    "                            \"cp_loss\": cp_loss,\n",
    "                            \"accuracy\": accuracy,\n",
    "                            \"win_percentage\": win_after_white\n",
    "                        }\n",
    "                        move_details.append(step_info)\n",
    "                        \n",
    "                        if board.turn == chess.WHITE:\n",
    "                            move_number += 1\n",
    "                            \n",
    "                    except Exception as e:\n",
    "                        if is_verbose:\n",
    "                            print(f\"Game {row_idx+1}: Error processing move {move_str}: {e}\")\n",
    "                        analysis_success = False\n",
    "                        break\n",
    "                \n",
    "                # 计算每局指标\n",
    "                if analysis_success and (game_acc_white or game_acc_black):\n",
    "                    # 基本指标计算\n",
    "                    avg_cp_white = game_cp_white / len(game_acc_white) if game_acc_white else None\n",
    "                    avg_cp_black = game_cp_black / len(game_acc_black) if game_acc_black else None\n",
    "                    \n",
    "                    harmonic_white = harmonic_mean(game_acc_white) if game_acc_white else None\n",
    "                    weighted_white = volatility_weighted_mean(game_acc_white, game_win_chances, True) if game_acc_white else None\n",
    "                    final_acc_white = (harmonic_white + weighted_white) / 2 if harmonic_white is not None and weighted_white is not None else None\n",
    "                    \n",
    "                    harmonic_black = harmonic_mean(game_acc_black) if game_acc_black else None\n",
    "                    weighted_black = volatility_weighted_mean(game_acc_black, game_win_chances, False) if game_acc_black else None\n",
    "                    final_acc_black = (harmonic_black + weighted_black) / 2 if harmonic_black is not None and weighted_black is not None else None\n",
    "                    \n",
    "                    # 按阶段分析 - 将移动划分为3个阶段\n",
    "                    white_moves = [(i, acc) for i, acc in enumerate(game_acc_white)]\n",
    "                    black_moves = [(i, acc) for i, acc in enumerate(game_acc_black)]\n",
    "                    \n",
    "                    # 阶段分析结果\n",
    "                    stage_analysis = {\n",
    "                        \"beginning\": {\"white\": {\"accuracy\": None, \"std\": None}, \"black\": {\"accuracy\": None, \"std\": None}},\n",
    "                        \"middle\": {\"white\": {\"accuracy\": None, \"std\": None}, \"black\": {\"accuracy\": None, \"std\": None}},\n",
    "                        \"endgame\": {\"white\": {\"accuracy\": None, \"std\": None}, \"black\": {\"accuracy\": None, \"std\": None}}\n",
    "                    }\n",
    "                    \n",
    "                    # 处理白方走棋按阶段划分\n",
    "                    if white_moves:\n",
    "                        n_moves = len(white_moves)\n",
    "                        begin_idx = n_moves // 3\n",
    "                        mid_idx = 2 * n_moves // 3\n",
    "                        \n",
    "                        begin_moves = [move[1] for move in white_moves[:begin_idx]]\n",
    "                        mid_moves = [move[1] for move in white_moves[begin_idx:mid_idx]]\n",
    "                        end_moves = [move[1] for move in white_moves[mid_idx:]]\n",
    "                        \n",
    "                        if begin_moves:\n",
    "                            stage_analysis[\"beginning\"][\"white\"][\"accuracy\"] = sum(begin_moves) / len(begin_moves)\n",
    "                            stage_analysis[\"beginning\"][\"white\"][\"std\"] = np.std(begin_moves) if len(begin_moves) > 1 else 0\n",
    "                            \n",
    "                        if mid_moves:\n",
    "                            stage_analysis[\"middle\"][\"white\"][\"accuracy\"] = sum(mid_moves) / len(mid_moves)\n",
    "                            stage_analysis[\"middle\"][\"white\"][\"std\"] = np.std(mid_moves) if len(mid_moves) > 1 else 0\n",
    "                            \n",
    "                        if end_moves:\n",
    "                            stage_analysis[\"endgame\"][\"white\"][\"accuracy\"] = sum(end_moves) / len(end_moves)\n",
    "                            stage_analysis[\"endgame\"][\"white\"][\"std\"] = np.std(end_moves) if len(end_moves) > 1 else 0\n",
    "                    \n",
    "                    # 处理黑方走棋按阶段划分\n",
    "                    if black_moves:\n",
    "                        n_moves = len(black_moves)\n",
    "                        begin_idx = n_moves // 3\n",
    "                        mid_idx = 2 * n_moves // 3\n",
    "                        \n",
    "                        begin_moves = [move[1] for move in black_moves[:begin_idx]]\n",
    "                        mid_moves = [move[1] for move in black_moves[begin_idx:mid_idx]]\n",
    "                        end_moves = [move[1] for move in black_moves[mid_idx:]]\n",
    "                        \n",
    "                        if begin_moves:\n",
    "                            stage_analysis[\"beginning\"][\"black\"][\"accuracy\"] = sum(begin_moves) / len(begin_moves)\n",
    "                            stage_analysis[\"beginning\"][\"black\"][\"std\"] = np.std(begin_moves) if len(begin_moves) > 1 else 0\n",
    "                            \n",
    "                        if mid_moves:\n",
    "                            stage_analysis[\"middle\"][\"black\"][\"accuracy\"] = sum(mid_moves) / len(mid_moves)\n",
    "                            stage_analysis[\"middle\"][\"black\"][\"std\"] = np.std(mid_moves) if len(mid_moves) > 1 else 0\n",
    "                            \n",
    "                        if end_moves:\n",
    "                            stage_analysis[\"endgame\"][\"black\"][\"accuracy\"] = sum(end_moves) / len(end_moves)\n",
    "                            stage_analysis[\"endgame\"][\"black\"][\"std\"] = np.std(end_moves) if len(end_moves) > 1 else 0\n",
    "                    \n",
    "                    all_games.append((row_idx, white_player, black_player, avg_cp_white, final_acc_white, avg_cp_black, final_acc_black, stage_analysis))\n",
    "                    game_details.append({\n",
    "                        \"row_idx\": row_idx,\n",
    "                        \"white_player\": white_player,\n",
    "                        \"black_player\": black_player,\n",
    "                        \"moves\": move_details,\n",
    "                        \"summary\": {\n",
    "                            \"white\": {\"cp_loss\": avg_cp_white, \"accuracy\": final_acc_white},\n",
    "                            \"black\": {\"cp_loss\": avg_cp_black, \"accuracy\": final_acc_black}\n",
    "                        },\n",
    "                        \"stage_analysis\": stage_analysis\n",
    "                    })\n",
    "                else:\n",
    "                    all_games.append((row_idx, white_player, black_player, None, None, None, None, None))\n",
    "                    skipped_indices.append(row_idx)\n",
    "            \n",
    "            except Exception as e:\n",
    "                if is_verbose:\n",
    "                    print(f\"Game {row_idx+1}: Error analyzing game: {e}\")\n",
    "                    traceback.print_exc()\n",
    "                all_games.append((row_idx, white_player, black_player, None, None, None, None, None))\n",
    "                skipped_indices.append(row_idx)\n",
    "            \n",
    "            pbar.update(1)\n",
    "        pbar.close()\n",
    "    \n",
    "    if skipped_indices and is_verbose:\n",
    "        print(f\"\\n跳过/分析失败的棋局数: {len(skipped_indices)}\")\n",
    "    \n",
    "    return all_games, game_details\n",
    "\n",
    "\n",
    "def analyze_csv(csv_file_path, engine_path, threads, depth, is_verbose=False):\n",
    "    \"\"\"\n",
    "    分析CSV文件中的国际象棋对局，计算每局对局的准确率和CP损失，\n",
    "    并将结果添加到原始DataFrame中\n",
    "    \n",
    "    input:\n",
    "    csv_file_path (str) \n",
    "    engine_path (str) \n",
    "    threads (int) \n",
    "    depth (int)\n",
    "    is_verbose (bool)\n",
    "    \n",
    "    output:\n",
    "    tuple: (result_dict, original_df with analysis result)\n",
    "    \"\"\"\n",
    "    # 读取CSV到DataFrame\n",
    "    with open(csv_file_path, 'r', encoding='utf-8') as f:\n",
    "        first_line = f.readline().strip()\n",
    "        delimiter = '\\t' if '\\t' in first_line else ','\n",
    "    original_df = pd.read_csv(csv_file_path, delimiter=delimiter)\n",
    "    \n",
    "    engine = SimpleStockfishEngine(engine_path, threads)\n",
    "    \n",
    "    try:\n",
    "        all_games, game_details = process_csv(csv_file_path, engine, depth, is_verbose)\n",
    "        \n",
    "        # 创建与原始DataFrame长度相同的空列表\n",
    "        white_cp_loss_list = [None] * len(original_df)\n",
    "        white_accuracy_list = [None] * len(original_df)\n",
    "        black_cp_loss_list = [None] * len(original_df)\n",
    "        black_accuracy_list = [None] * len(original_df)\n",
    "        \n",
    "        # 添加阶段分析结果的列表\n",
    "        white_beginning_acc = [None] * len(original_df)\n",
    "        white_beginning_std = [None] * len(original_df)\n",
    "        white_middle_acc = [None] * len(original_df)\n",
    "        white_middle_std = [None] * len(original_df)\n",
    "        white_endgame_acc = [None] * len(original_df)\n",
    "        white_endgame_std = [None] * len(original_df)\n",
    "        \n",
    "        black_beginning_acc = [None] * len(original_df)\n",
    "        black_beginning_std = [None] * len(original_df)\n",
    "        black_middle_acc = [None] * len(original_df)\n",
    "        black_middle_std = [None] * len(original_df)\n",
    "        black_endgame_acc = [None] * len(original_df)\n",
    "        black_endgame_std = [None] * len(original_df)\n",
    "        \n",
    "        # 有效对局数据统计\n",
    "        valid_games = 0\n",
    "        total_avg_cp_white = total_avg_cp_black = 0.0\n",
    "        total_acc_white = total_acc_black = 0.0\n",
    "        \n",
    "        for game in all_games:\n",
    "            row_idx, white, black, avg_cp_white, acc_white, avg_cp_black, acc_black, stage_analysis = game\n",
    "            \n",
    "            # 将结果填入对应索引位置\n",
    "            white_cp_loss_list[row_idx] = avg_cp_white\n",
    "            white_accuracy_list[row_idx] = acc_white\n",
    "            black_cp_loss_list[row_idx] = avg_cp_black\n",
    "            black_accuracy_list[row_idx] = acc_black\n",
    "            \n",
    "            # 填充阶段分析结果\n",
    "            if stage_analysis is not None:\n",
    "                # 白方\n",
    "                white_beginning_acc[row_idx] = stage_analysis[\"beginning\"][\"white\"][\"accuracy\"]\n",
    "                white_beginning_std[row_idx] = stage_analysis[\"beginning\"][\"white\"][\"std\"]\n",
    "                white_middle_acc[row_idx] = stage_analysis[\"middle\"][\"white\"][\"accuracy\"]\n",
    "                white_middle_std[row_idx] = stage_analysis[\"middle\"][\"white\"][\"std\"]\n",
    "                white_endgame_acc[row_idx] = stage_analysis[\"endgame\"][\"white\"][\"accuracy\"]\n",
    "                white_endgame_std[row_idx] = stage_analysis[\"endgame\"][\"white\"][\"std\"]\n",
    "                \n",
    "                # 黑方\n",
    "                black_beginning_acc[row_idx] = stage_analysis[\"beginning\"][\"black\"][\"accuracy\"]\n",
    "                black_beginning_std[row_idx] = stage_analysis[\"beginning\"][\"black\"][\"std\"]\n",
    "                black_middle_acc[row_idx] = stage_analysis[\"middle\"][\"black\"][\"accuracy\"]\n",
    "                black_middle_std[row_idx] = stage_analysis[\"middle\"][\"black\"][\"std\"]\n",
    "                black_endgame_acc[row_idx] = stage_analysis[\"endgame\"][\"black\"][\"accuracy\"]\n",
    "                black_endgame_std[row_idx] = stage_analysis[\"endgame\"][\"black\"][\"std\"]\n",
    "            \n",
    "            # 只统计有效对局\n",
    "            if avg_cp_white is not None and acc_white is not None and avg_cp_black is not None and acc_black is not None:\n",
    "                valid_games += 1\n",
    "                total_avg_cp_white += avg_cp_white\n",
    "                total_avg_cp_black += avg_cp_black\n",
    "                total_acc_white += acc_white\n",
    "                total_acc_black += acc_black\n",
    "        \n",
    "        # 添加新列到原始DataFrame\n",
    "        original_df['White CP Loss'] = white_cp_loss_list\n",
    "        original_df['White Accuracy'] = white_accuracy_list\n",
    "        original_df['Black CP Loss'] = black_cp_loss_list\n",
    "        original_df['Black Accuracy'] = black_accuracy_list\n",
    "        \n",
    "        # 添加阶段分析列\n",
    "        original_df['White Beginning Accuracy'] = white_beginning_acc\n",
    "        original_df['White Beginning Std'] = white_beginning_std\n",
    "        original_df['White Middle Accuracy'] = white_middle_acc\n",
    "        original_df['White Middle Std'] = white_middle_std\n",
    "        original_df['White Endgame Accuracy'] = white_endgame_acc\n",
    "        original_df['White Endgame Std'] = white_endgame_std\n",
    "        \n",
    "        original_df['Black Beginning Accuracy'] = black_beginning_acc\n",
    "        original_df['Black Beginning Std'] = black_beginning_std\n",
    "        original_df['Black Middle Accuracy'] = black_middle_acc\n",
    "        original_df['Black Middle Std'] = black_middle_std\n",
    "        original_df['Black Endgame Accuracy'] = black_endgame_acc\n",
    "        original_df['Black Endgame Std'] = black_endgame_std\n",
    "        \n",
    "        # 输出统计信息\n",
    "        print(f\"\\n总棋局数: {len(original_df)}\")\n",
    "        print(f\"成功分析棋局数: {valid_games}\")\n",
    "        print(f\"跳过/分析失败棋局数: {len(original_df) - valid_games}\")\n",
    "        \n",
    "        summary = {}\n",
    "        if valid_games > 0:\n",
    "            print(\"\\n===== 总体统计 =====\")\n",
    "            print(f'有效分析对局数: {valid_games}')\n",
    "            print(f'白方平均: {total_avg_cp_white/valid_games:.1f}cp损失, {total_acc_white/valid_games:.1f}%准确率')\n",
    "            print(f'黑方平均: {total_avg_cp_black/valid_games:.1f}cp损失, {total_acc_black/valid_games:.1f}%准确率')\n",
    "            \n",
    "            summary = {\n",
    "                \"total_games\": valid_games,\n",
    "                \"avg_white_cp_loss\": total_avg_cp_white/valid_games,\n",
    "                \"avg_white_accuracy\": total_acc_white/valid_games,\n",
    "                \"avg_black_cp_loss\": total_avg_cp_black/valid_games,\n",
    "                \"avg_black_accuracy\": total_acc_black/valid_games\n",
    "            }\n",
    "        \n",
    "        result_dict = {\n",
    "            \"game_results\": game_details,  # 使用详细游戏信息替换简单结果\n",
    "            \"summary\": summary\n",
    "        }\n",
    "        \n",
    "        return result_dict, original_df\n",
    "    \n",
    "    finally:\n",
    "        engine.quit()"
   ]
  },
  {
   "cell_type": "code",
   "execution_count": 5,
   "metadata": {},
   "outputs": [
    {
     "name": "stderr",
     "output_type": "stream",
     "text": [
      "分析棋局:   0%|          | 0/1686 [00:00<?, ?it/s]"
     ]
    },
    {
     "name": "stdout",
     "output_type": "stream",
     "text": [
      "\n",
      "—— Analyzing Game 1 ——\n",
      "White: VovAn1991 (2355), Black: RealBlindMuddy (2037)\n",
      "\n",
      "—— Analyzing Game 2 ——\n",
      "White: TomsKantans (2234), Black: lorcho (2632)\n",
      "\n",
      "—— Analyzing Game 3 ——\n",
      "White: ilmago (1718), Black: GMG (2278)\n"
     ]
    },
    {
     "name": "stderr",
     "output_type": "stream",
     "text": [
      "分析棋局:   0%|          | 2/1686 [00:04<1:07:01,  2.39s/it]"
     ]
    },
    {
     "name": "stdout",
     "output_type": "stream",
     "text": [
      "\n",
      "—— Analyzing Game 4 ——\n",
      "White: SabinaFoisor (2284), Black: swayamsm (2288)\n"
     ]
    },
    {
     "name": "stderr",
     "output_type": "stream",
     "text": [
      "分析棋局:   0%|          | 3/1686 [00:06<56:47,  2.02s/it]  "
     ]
    },
    {
     "name": "stdout",
     "output_type": "stream",
     "text": [
      "\n",
      "—— Analyzing Game 5 ——\n",
      "White: KingPetrosian (2095), Black: mat_kolosowski (2352)\n"
     ]
    },
    {
     "name": "stderr",
     "output_type": "stream",
     "text": [
      "分析棋局:   0%|          | 4/1686 [00:10<1:21:34,  2.91s/it]"
     ]
    },
    {
     "name": "stdout",
     "output_type": "stream",
     "text": [
      "\n",
      "—— Analyzing Game 6 ——\n",
      "White: IMRosen (2000), Black: jbj (2293)\n"
     ]
    },
    {
     "name": "stderr",
     "output_type": "stream",
     "text": [
      "分析棋局:   0%|          | 5/1686 [00:15<1:41:25,  3.62s/it]"
     ]
    },
    {
     "name": "stdout",
     "output_type": "stream",
     "text": [
      "\n",
      "—— Analyzing Game 7 ——\n",
      "White: Alexander_Donchenko (2310), Black: brauliocuarta (1959)\n"
     ]
    },
    {
     "name": "stderr",
     "output_type": "stream",
     "text": [
      "分析棋局:   0%|          | 6/1686 [00:19<1:46:22,  3.80s/it]"
     ]
    },
    {
     "name": "stdout",
     "output_type": "stream",
     "text": [
      "\n",
      "—— Analyzing Game 8 ——\n",
      "White: kevin9512 (1850), Black: wannabe2700 (2302)\n"
     ]
    },
    {
     "name": "stderr",
     "output_type": "stream",
     "text": [
      "分析棋局:   0%|          | 7/1686 [00:24<1:50:22,  3.94s/it]"
     ]
    },
    {
     "name": "stdout",
     "output_type": "stream",
     "text": [
      "\n",
      "—— Analyzing Game 9 ——\n",
      "White: Trendle (2188), Black: jcibarra (2421)\n"
     ]
    },
    {
     "name": "stderr",
     "output_type": "stream",
     "text": [
      "分析棋局:   0%|          | 8/1686 [00:30<2:11:06,  4.69s/it]"
     ]
    },
    {
     "name": "stdout",
     "output_type": "stream",
     "text": [
      "\n",
      "—— Analyzing Game 10 ——\n",
      "White: liczner (2429), Black: Palacios-LLera (2200)\n"
     ]
    },
    {
     "name": "stderr",
     "output_type": "stream",
     "text": [
      "分析棋局:   1%|          | 9/1686 [00:34<2:07:50,  4.57s/it]"
     ]
    },
    {
     "name": "stdout",
     "output_type": "stream",
     "text": [
      "\n",
      "—— Analyzing Game 11 ——\n",
      "White: DaPazz (1867), Black: mokerslag (2297)\n"
     ]
    },
    {
     "name": "stderr",
     "output_type": "stream",
     "text": [
      "分析棋局:   1%|          | 10/1686 [00:39<2:08:35,  4.60s/it]"
     ]
    },
    {
     "name": "stdout",
     "output_type": "stream",
     "text": [
      "\n",
      "—— Analyzing Game 12 ——\n",
      "White: exoticprincess (2405), Black: GMHess (2433)\n"
     ]
    },
    {
     "name": "stderr",
     "output_type": "stream",
     "text": [
      "分析棋局:   1%|          | 11/1686 [00:45<2:17:42,  4.93s/it]"
     ]
    },
    {
     "name": "stdout",
     "output_type": "stream",
     "text": [
      "\n",
      "—— Analyzing Game 13 ——\n",
      "White: MichiganEagle (2297), Black: dsanchez1973 (1850)\n"
     ]
    },
    {
     "name": "stderr",
     "output_type": "stream",
     "text": [
      "分析棋局:   1%|          | 12/1686 [00:49<2:15:12,  4.85s/it]"
     ]
    },
    {
     "name": "stdout",
     "output_type": "stream",
     "text": [
      "\n",
      "—— Analyzing Game 14 ——\n",
      "White: David_Klein (2341), Black: alexsuper1987 (2007)\n"
     ]
    },
    {
     "name": "stderr",
     "output_type": "stream",
     "text": [
      "分析棋局:   1%|          | 13/1686 [00:55<2:24:13,  5.17s/it]"
     ]
    },
    {
     "name": "stdout",
     "output_type": "stream",
     "text": [
      "\n",
      "—— Analyzing Game 15 ——\n",
      "White: GeorgMeier (2524), Black: marabu44 (2223)\n"
     ]
    },
    {
     "name": "stderr",
     "output_type": "stream",
     "text": [
      "分析棋局:   1%|          | 14/1686 [01:01<2:26:05,  5.24s/it]"
     ]
    },
    {
     "name": "stdout",
     "output_type": "stream",
     "text": [
      "\n",
      "—— Analyzing Game 16 ——\n",
      "White: KaydenTroffChess (2357), Black: WanderingPuppet (2067)\n"
     ]
    },
    {
     "name": "stderr",
     "output_type": "stream",
     "text": [
      "分析棋局:   1%|          | 15/1686 [01:07<2:39:07,  5.71s/it]"
     ]
    },
    {
     "name": "stdout",
     "output_type": "stream",
     "text": [
      "\n",
      "—— Analyzing Game 17 ——\n",
      "White: XeresLt (2281), Black: chesstatour (1796)\n"
     ]
    },
    {
     "name": "stderr",
     "output_type": "stream",
     "text": [
      "分析棋局:   1%|          | 16/1686 [01:14<2:45:55,  5.96s/it]"
     ]
    },
    {
     "name": "stdout",
     "output_type": "stream",
     "text": [
      "\n",
      "—— Analyzing Game 18 ——\n",
      "White: GedoGluperd (2306), Black: Danesz22 (2259)\n"
     ]
    },
    {
     "name": "stderr",
     "output_type": "stream",
     "text": [
      "分析棋局:   1%|          | 17/1686 [01:21<2:55:48,  6.32s/it]"
     ]
    },
    {
     "name": "stdout",
     "output_type": "stream",
     "text": [
      "\n",
      "—— Analyzing Game 19 ——\n",
      "White: HZMC92 (2165), Black: Th3ChessViking (2387)\n"
     ]
    },
    {
     "name": "stderr",
     "output_type": "stream",
     "text": [
      "分析棋局:   1%|          | 18/1686 [01:27<2:50:06,  6.12s/it]"
     ]
    },
    {
     "name": "stdout",
     "output_type": "stream",
     "text": [
      "\n",
      "—— Analyzing Game 20 ——\n",
      "White: Nouki (2600), Black: ruzomberok (2245)\n"
     ]
    },
    {
     "name": "stderr",
     "output_type": "stream",
     "text": [
      "分析棋局:   1%|          | 19/1686 [01:34<2:57:55,  6.40s/it]"
     ]
    },
    {
     "name": "stdout",
     "output_type": "stream",
     "text": [
      "\n",
      "—— Analyzing Game 21 ——\n",
      "White: DanielRensch (2361), Black: gumersindo (2138)\n"
     ]
    },
    {
     "name": "stderr",
     "output_type": "stream",
     "text": [
      "分析棋局:   1%|          | 20/1686 [01:39<2:47:42,  6.04s/it]"
     ]
    },
    {
     "name": "stdout",
     "output_type": "stream",
     "text": [
      "\n",
      "—— Analyzing Game 22 ——\n",
      "White: AlmirDzhumaev (2210), Black: vovkcoach (2517)\n"
     ]
    },
    {
     "name": "stderr",
     "output_type": "stream",
     "text": [
      "分析棋局:   1%|          | 21/1686 [01:48<3:11:04,  6.89s/it]"
     ]
    },
    {
     "name": "stdout",
     "output_type": "stream",
     "text": [
      "\n",
      "—— Analyzing Game 23 ——\n",
      "White: Carolina-moon (2065), Black: JamesColeman (2351)\n"
     ]
    },
    {
     "name": "stderr",
     "output_type": "stream",
     "text": [
      "分析棋局:   1%|▏         | 22/1686 [01:54<3:04:21,  6.65s/it]"
     ]
    },
    {
     "name": "stdout",
     "output_type": "stream",
     "text": [
      "\n",
      "—— Analyzing Game 24 ——\n",
      "White: Fischwitsch (2056), Black: Time2Pretend (2329)\n"
     ]
    },
    {
     "name": "stderr",
     "output_type": "stream",
     "text": [
      "分析棋局:   1%|▏         | 23/1686 [02:01<3:09:14,  6.83s/it]"
     ]
    },
    {
     "name": "stdout",
     "output_type": "stream",
     "text": [
      "\n",
      "—— Analyzing Game 25 ——\n",
      "White: Iran_Chess_Trainer (2389), Black: THORK (2154)\n"
     ]
    },
    {
     "name": "stderr",
     "output_type": "stream",
     "text": [
      "分析棋局:   1%|▏         | 24/1686 [02:12<3:39:47,  7.93s/it]"
     ]
    },
    {
     "name": "stdout",
     "output_type": "stream",
     "text": [
      "\n",
      "—— Analyzing Game 26 ——\n",
      "White: GMNeiksans (2494), Black: oggy1984 (2205)\n"
     ]
    },
    {
     "name": "stderr",
     "output_type": "stream",
     "text": [
      "分析棋局:   2%|▏         | 26/1686 [02:20<2:38:20,  5.72s/it]"
     ]
    },
    {
     "name": "stdout",
     "output_type": "stream",
     "text": [
      "\n",
      "—— Analyzing Game 27 ——\n",
      "White: Time2Pretend (2334), Black: IMRosen (1997)\n",
      "\n",
      "—— Analyzing Game 28 ——\n",
      "White: brauliocuarta (1957), Black: kevin9512 (1852)\n"
     ]
    },
    {
     "name": "stderr",
     "output_type": "stream",
     "text": [
      "分析棋局:   2%|▏         | 27/1686 [02:22<2:08:19,  4.64s/it]"
     ]
    },
    {
     "name": "stdout",
     "output_type": "stream",
     "text": [
      "\n",
      "—— Analyzing Game 29 ——\n",
      "White: Danesz22 (2362), Black: HZMC92 (2153)\n"
     ]
    },
    {
     "name": "stderr",
     "output_type": "stream",
     "text": [
      "分析棋局:   2%|▏         | 28/1686 [02:27<2:11:24,  4.76s/it]"
     ]
    },
    {
     "name": "stdout",
     "output_type": "stream",
     "text": [
      "\n",
      "—— Analyzing Game 30 ——\n",
      "White: marabu44 (2223), Black: AlmirDzhumaev (2210)\n"
     ]
    },
    {
     "name": "stderr",
     "output_type": "stream",
     "text": [
      "分析棋局:   2%|▏         | 29/1686 [02:34<2:25:39,  5.27s/it]"
     ]
    },
    {
     "name": "stdout",
     "output_type": "stream",
     "text": [
      "\n",
      "—— Analyzing Game 31 ——\n",
      "White: jcibarra (2442), Black: JamesColeman (2342)\n"
     ]
    },
    {
     "name": "stderr",
     "output_type": "stream",
     "text": [
      "分析棋局:   2%|▏         | 30/1686 [02:38<2:17:01,  4.96s/it]"
     ]
    },
    {
     "name": "stdout",
     "output_type": "stream",
     "text": [
      "\n",
      "—— Analyzing Game 32 ——\n",
      "White: Nouki (2603), Black: Alexander_Donchenko (2305)\n"
     ]
    },
    {
     "name": "stderr",
     "output_type": "stream",
     "text": [
      "分析棋局:   2%|▏         | 31/1686 [02:44<2:20:51,  5.11s/it]"
     ]
    },
    {
     "name": "stdout",
     "output_type": "stream",
     "text": [
      "\n",
      "—— Analyzing Game 33 ——\n",
      "White: Th3ChessViking (2390), Black: KingPetrosian (2091)\n"
     ]
    },
    {
     "name": "stderr",
     "output_type": "stream",
     "text": [
      "分析棋局:   2%|▏         | 32/1686 [02:49<2:21:58,  5.15s/it]"
     ]
    },
    {
     "name": "stdout",
     "output_type": "stream",
     "text": [
      "\n",
      "—— Analyzing Game 34 ——\n",
      "White: GMG (2310), Black: KaydenTroffChess (2332)\n"
     ]
    },
    {
     "name": "stderr",
     "output_type": "stream",
     "text": [
      "分析棋局:   2%|▏         | 33/1686 [02:56<2:38:04,  5.74s/it]"
     ]
    },
    {
     "name": "stdout",
     "output_type": "stream",
     "text": [
      "\n",
      "—— Analyzing Game 35 ——\n",
      "White: gumersindo (2135), Black: exoticprincess (2460)\n"
     ]
    },
    {
     "name": "stderr",
     "output_type": "stream",
     "text": [
      "分析棋局:   2%|▏         | 34/1686 [03:02<2:43:21,  5.93s/it]"
     ]
    },
    {
     "name": "stdout",
     "output_type": "stream",
     "text": [
      "\n",
      "—— Analyzing Game 36 ——\n",
      "White: ruzomberok (2237), Black: Carolina-moon (2069)\n"
     ]
    },
    {
     "name": "stderr",
     "output_type": "stream",
     "text": [
      "分析棋局:   2%|▏         | 35/1686 [03:07<2:30:20,  5.46s/it]"
     ]
    },
    {
     "name": "stdout",
     "output_type": "stream",
     "text": [
      "\n",
      "—— Analyzing Game 37 ——\n",
      "White: Iran_Chess_Trainer (2377), Black: Trendle (2200)\n"
     ]
    },
    {
     "name": "stderr",
     "output_type": "stream",
     "text": [
      "分析棋局:   2%|▏         | 36/1686 [03:12<2:27:51,  5.38s/it]"
     ]
    },
    {
     "name": "stdout",
     "output_type": "stream",
     "text": [
      "\n",
      "—— Analyzing Game 38 ——\n",
      "White: THORK (2149), Black: SabinaFoisor (2388)\n"
     ]
    },
    {
     "name": "stderr",
     "output_type": "stream",
     "text": [
      "分析棋局:   2%|▏         | 37/1686 [03:20<2:47:21,  6.09s/it]"
     ]
    },
    {
     "name": "stdout",
     "output_type": "stream",
     "text": [
      "\n",
      "—— Analyzing Game 39 ——\n",
      "White: GMHess (2435), Black: Fischwitsch (2054)\n"
     ]
    },
    {
     "name": "stderr",
     "output_type": "stream",
     "text": [
      "分析棋局:   2%|▏         | 38/1686 [03:25<2:43:43,  5.96s/it]"
     ]
    },
    {
     "name": "stdout",
     "output_type": "stream",
     "text": [
      "\n",
      "—— Analyzing Game 40 ——\n",
      "White: vovkcoach (2521), Black: MichiganEagle (2291)\n"
     ]
    },
    {
     "name": "stderr",
     "output_type": "stream",
     "text": [
      "分析棋局:   2%|▏         | 39/1686 [03:33<2:57:22,  6.46s/it]"
     ]
    },
    {
     "name": "stdout",
     "output_type": "stream",
     "text": [
      "\n",
      "—— Analyzing Game 41 ——\n",
      "White: wannabe2700 (2368), Black: liczner (2418)\n"
     ]
    },
    {
     "name": "stderr",
     "output_type": "stream",
     "text": [
      "分析棋局:   2%|▏         | 40/1686 [03:40<3:04:46,  6.74s/it]"
     ]
    },
    {
     "name": "stdout",
     "output_type": "stream",
     "text": [
      "\n",
      "—— Analyzing Game 42 ——\n",
      "White: WanderingPuppet (2064), Black: GedoGluperd (2312)\n"
     ]
    },
    {
     "name": "stderr",
     "output_type": "stream",
     "text": [
      "分析棋局:   2%|▏         | 41/1686 [03:49<3:16:41,  7.17s/it]"
     ]
    },
    {
     "name": "stdout",
     "output_type": "stream",
     "text": [
      "\n",
      "—— Analyzing Game 43 ——\n",
      "White: chesstatour (1806), Black: DaPazz (1857)\n"
     ]
    },
    {
     "name": "stderr",
     "output_type": "stream",
     "text": [
      "分析棋局:   2%|▏         | 42/1686 [03:54<3:04:44,  6.74s/it]"
     ]
    },
    {
     "name": "stdout",
     "output_type": "stream",
     "text": [
      "\n",
      "—— Analyzing Game 44 ——\n",
      "White: alexsuper1987 (2018), Black: dsanchez1973 (1844)\n"
     ]
    },
    {
     "name": "stderr",
     "output_type": "stream",
     "text": [
      "分析棋局:   3%|▎         | 43/1686 [04:05<3:36:08,  7.89s/it]"
     ]
    },
    {
     "name": "stdout",
     "output_type": "stream",
     "text": [
      "\n",
      "—— Analyzing Game 45 ——\n",
      "White: GMNeiksans (2462), Black: VovAn1991 (2399)\n"
     ]
    },
    {
     "name": "stderr",
     "output_type": "stream",
     "text": [
      "分析棋局:   3%|▎         | 44/1686 [04:12<3:27:09,  7.57s/it]"
     ]
    },
    {
     "name": "stdout",
     "output_type": "stream",
     "text": [
      "\n",
      "—— Analyzing Game 46 ——\n",
      "White: Palacios-LLera (2211), Black: DanielRensch (2348)\n"
     ]
    },
    {
     "name": "stderr",
     "output_type": "stream",
     "text": [
      "分析棋局:   3%|▎         | 45/1686 [04:22<3:47:05,  8.30s/it]"
     ]
    },
    {
     "name": "stdout",
     "output_type": "stream",
     "text": [
      "\n",
      "—— Analyzing Game 47 ——\n",
      "White: jbj (2288), Black: oggy1984 (2207)\n"
     ]
    },
    {
     "name": "stderr",
     "output_type": "stream",
     "text": [
      "分析棋局:   3%|▎         | 46/1686 [04:28<3:32:32,  7.78s/it]"
     ]
    },
    {
     "name": "stdout",
     "output_type": "stream",
     "text": [
      "\n",
      "—— Analyzing Game 48 ——\n",
      "White: lorcho (2465), Black: mokerslag (2311)\n"
     ]
    },
    {
     "name": "stderr",
     "output_type": "stream",
     "text": [
      "分析棋局:   3%|▎         | 47/1686 [04:36<3:35:23,  7.89s/it]"
     ]
    },
    {
     "name": "stdout",
     "output_type": "stream",
     "text": [
      "\n",
      "—— Analyzing Game 49 ——\n",
      "White: GeorgMeier (2514), Black: David_Klein (2346)\n"
     ]
    },
    {
     "name": "stderr",
     "output_type": "stream",
     "text": [
      "分析棋局:   3%|▎         | 48/1686 [04:48<4:07:27,  9.06s/it]"
     ]
    },
    {
     "name": "stdout",
     "output_type": "stream",
     "text": [
      "\n",
      "—— Analyzing Game 50 ——\n",
      "White: mat_kolosowski (2350), Black: XeresLt (2283)\n"
     ]
    },
    {
     "name": "stderr",
     "output_type": "stream",
     "text": [
      "分析棋局:   3%|▎         | 50/1686 [04:59<3:02:31,  6.69s/it]"
     ]
    },
    {
     "name": "stdout",
     "output_type": "stream",
     "text": [
      "\n",
      "—— Analyzing Game 51 ——\n",
      "White: marabu44 (2228), Black: Carolina-moon (2064)\n",
      "\n",
      "—— Analyzing Game 52 ——\n",
      "White: MichiganEagle (2284), Black: GMNeiksans (2474)\n"
     ]
    },
    {
     "name": "stderr",
     "output_type": "stream",
     "text": [
      "分析棋局:   3%|▎         | 51/1686 [05:03<2:43:01,  5.98s/it]"
     ]
    },
    {
     "name": "stdout",
     "output_type": "stream",
     "text": [
      "\n",
      "—— Analyzing Game 53 ——\n",
      "White: HZMC92 (2131), Black: alexsuper1987 (2043)\n"
     ]
    },
    {
     "name": "stderr",
     "output_type": "stream",
     "text": [
      "分析棋局:   3%|▎         | 52/1686 [05:07<2:28:58,  5.47s/it]"
     ]
    },
    {
     "name": "stdout",
     "output_type": "stream",
     "text": [
      "\n",
      "—— Analyzing Game 54 ——\n",
      "White: mokerslag (2306), Black: jcibarra (2458)\n"
     ]
    },
    {
     "name": "stderr",
     "output_type": "stream",
     "text": [
      "分析棋局:   3%|▎         | 53/1686 [05:13<2:26:31,  5.38s/it]"
     ]
    },
    {
     "name": "stdout",
     "output_type": "stream",
     "text": [
      "\n",
      "—— Analyzing Game 55 ——\n",
      "White: kevin9512 (1865), Black: KingPetrosian (2071)\n"
     ]
    },
    {
     "name": "stderr",
     "output_type": "stream",
     "text": [
      "分析棋局:   3%|▎         | 54/1686 [05:17<2:20:44,  5.17s/it]"
     ]
    },
    {
     "name": "stdout",
     "output_type": "stream",
     "text": [
      "\n",
      "—— Analyzing Game 56 ——\n",
      "White: wannabe2700 (2347), Black: Nouki (2606)\n"
     ]
    },
    {
     "name": "stderr",
     "output_type": "stream",
     "text": [
      "分析棋局:   3%|▎         | 55/1686 [05:24<2:36:51,  5.77s/it]"
     ]
    },
    {
     "name": "stdout",
     "output_type": "stream",
     "text": [
      "\n",
      "—— Analyzing Game 57 ——\n",
      "White: oggy1984 (2215), Black: AlmirDzhumaev (2202)\n"
     ]
    },
    {
     "name": "stderr",
     "output_type": "stream",
     "text": [
      "分析棋局:   3%|▎         | 56/1686 [05:32<2:48:54,  6.22s/it]"
     ]
    },
    {
     "name": "stdout",
     "output_type": "stream",
     "text": [
      "\n",
      "—— Analyzing Game 58 ——\n",
      "White: Th3ChessViking (2378), Black: Trendle (2212)\n"
     ]
    },
    {
     "name": "stderr",
     "output_type": "stream",
     "text": [
      "分析棋局:   3%|▎         | 57/1686 [05:38<2:46:35,  6.14s/it]"
     ]
    },
    {
     "name": "stdout",
     "output_type": "stream",
     "text": [
      "\n",
      "—— Analyzing Game 59 ——\n",
      "White: KaydenTroffChess (2351), Black: GedoGluperd (2299)\n"
     ]
    },
    {
     "name": "stderr",
     "output_type": "stream",
     "text": [
      "分析棋局:   3%|▎         | 58/1686 [05:47<3:08:48,  6.96s/it]"
     ]
    },
    {
     "name": "stdout",
     "output_type": "stream",
     "text": [
      "\n",
      "—— Analyzing Game 60 ——\n",
      "White: gumersindo (2137), Black: chesstatour (1804)\n"
     ]
    },
    {
     "name": "stderr",
     "output_type": "stream",
     "text": [
      "分析棋局:   3%|▎         | 59/1686 [05:56<3:29:03,  7.71s/it]"
     ]
    },
    {
     "name": "stdout",
     "output_type": "stream",
     "text": [
      "\n",
      "—— Analyzing Game 61 ——\n",
      "White: brauliocuarta (1971), Black: DanielRensch (2332)\n"
     ]
    },
    {
     "name": "stderr",
     "output_type": "stream",
     "text": [
      "分析棋局:   4%|▎         | 60/1686 [06:03<3:23:24,  7.51s/it]"
     ]
    },
    {
     "name": "stdout",
     "output_type": "stream",
     "text": [
      "\n",
      "—— Analyzing Game 62 ——\n",
      "White: ruzomberok (2211), Black: Fischwitsch (2066)\n"
     ]
    },
    {
     "name": "stderr",
     "output_type": "stream",
     "text": [
      "分析棋局:   4%|▎         | 61/1686 [06:09<3:11:04,  7.06s/it]"
     ]
    },
    {
     "name": "stdout",
     "output_type": "stream",
     "text": [
      "\n",
      "—— Analyzing Game 63 ——\n",
      "White: mat_kolosowski (2342), Black: David_Klein (2356)\n"
     ]
    },
    {
     "name": "stderr",
     "output_type": "stream",
     "text": [
      "分析棋局:   4%|▎         | 62/1686 [06:15<3:02:12,  6.73s/it]"
     ]
    },
    {
     "name": "stdout",
     "output_type": "stream",
     "text": [
      "\n",
      "—— Analyzing Game 64 ——\n",
      "White: dsanchez1973 (1839), Black: WanderingPuppet (2068)\n"
     ]
    },
    {
     "name": "stderr",
     "output_type": "stream",
     "text": [
      "分析棋局:   4%|▎         | 63/1686 [06:23<3:08:55,  6.98s/it]"
     ]
    },
    {
     "name": "stdout",
     "output_type": "stream",
     "text": [
      "\n",
      "—— Analyzing Game 65 ——\n",
      "White: vovkcoach (2509), Black: GMG (2349)\n"
     ]
    },
    {
     "name": "stderr",
     "output_type": "stream",
     "text": [
      "分析棋局:   4%|▍         | 64/1686 [06:30<3:13:59,  7.18s/it]"
     ]
    },
    {
     "name": "stdout",
     "output_type": "stream",
     "text": [
      "\n",
      "—— Analyzing Game 66 ——\n",
      "White: XeresLt (2279), Black: lorcho (2515)\n"
     ]
    },
    {
     "name": "stderr",
     "output_type": "stream",
     "text": [
      "分析棋局:   4%|▍         | 65/1686 [06:37<3:13:49,  7.17s/it]"
     ]
    },
    {
     "name": "stdout",
     "output_type": "stream",
     "text": [
      "\n",
      "—— Analyzing Game 67 ——\n",
      "White: Time2Pretend (2324), Black: GeorgMeier (2525)\n"
     ]
    },
    {
     "name": "stderr",
     "output_type": "stream",
     "text": [
      "分析棋局:   4%|▍         | 66/1686 [06:45<3:17:18,  7.31s/it]"
     ]
    },
    {
     "name": "stdout",
     "output_type": "stream",
     "text": [
      "\n",
      "—— Analyzing Game 68 ——\n",
      "White: JamesColeman (2337), Black: THORK (2153)\n"
     ]
    },
    {
     "name": "stderr",
     "output_type": "stream",
     "text": [
      "分析棋局:   4%|▍         | 67/1686 [06:53<3:21:59,  7.49s/it]"
     ]
    },
    {
     "name": "stdout",
     "output_type": "stream",
     "text": [
      "\n",
      "—— Analyzing Game 69 ——\n",
      "White: liczner (2407), Black: Alexander_Donchenko (2325)\n"
     ]
    },
    {
     "name": "stderr",
     "output_type": "stream",
     "text": [
      "分析棋局:   4%|▍         | 68/1686 [07:01<3:30:55,  7.82s/it]"
     ]
    },
    {
     "name": "stdout",
     "output_type": "stream",
     "text": [
      "\n",
      "—— Analyzing Game 70 ——\n",
      "White: GMHess (2439), Black: Palacios-LLera (2208)\n"
     ]
    },
    {
     "name": "stderr",
     "output_type": "stream",
     "text": [
      "分析棋局:   4%|▍         | 69/1686 [07:11<3:41:57,  8.24s/it]"
     ]
    },
    {
     "name": "stdout",
     "output_type": "stream",
     "text": [
      "\n",
      "—— Analyzing Game 71 ——\n",
      "White: SabinaFoisor (2268), Black: Danesz22 (2472)\n"
     ]
    },
    {
     "name": "stderr",
     "output_type": "stream",
     "text": [
      "分析棋局:   4%|▍         | 70/1686 [07:18<3:35:22,  8.00s/it]"
     ]
    },
    {
     "name": "stdout",
     "output_type": "stream",
     "text": [
      "\n",
      "—— Analyzing Game 72 ——\n",
      "White: VovAn1991 (2374), Black: exoticprincess (2543)\n"
     ]
    },
    {
     "name": "stderr",
     "output_type": "stream",
     "text": [
      "分析棋局:   4%|▍         | 71/1686 [07:27<3:38:40,  8.12s/it]"
     ]
    },
    {
     "name": "stdout",
     "output_type": "stream",
     "text": [
      "\n",
      "—— Analyzing Game 73 ——\n",
      "White: jbj (2290), Black: ilmago (1710)\n"
     ]
    },
    {
     "name": "stderr",
     "output_type": "stream",
     "text": [
      "分析棋局:   4%|▍         | 72/1686 [07:39<4:10:20,  9.31s/it]"
     ]
    },
    {
     "name": "stdout",
     "output_type": "stream",
     "text": [
      "\n",
      "—— Analyzing Game 74 ——\n",
      "White: chesstatour (1794), Black: ilmago (1786)\n"
     ]
    },
    {
     "name": "stderr",
     "output_type": "stream",
     "text": [
      "分析棋局:   4%|▍         | 73/1686 [07:43<3:27:32,  7.72s/it]"
     ]
    },
    {
     "name": "stdout",
     "output_type": "stream",
     "text": [
      "\n",
      "—— Analyzing Game 75 ——\n",
      "White: JamesColeman (2323), Black: oggy1984 (2226)\n"
     ]
    },
    {
     "name": "stderr",
     "output_type": "stream",
     "text": [
      "分析棋局:   4%|▍         | 74/1686 [07:49<3:13:24,  7.20s/it]"
     ]
    },
    {
     "name": "stdout",
     "output_type": "stream",
     "text": [
      "\n",
      "—— Analyzing Game 76 ——\n",
      "White: DanielRensch (2335), Black: KingPetrosian (2066)\n"
     ]
    },
    {
     "name": "stderr",
     "output_type": "stream",
     "text": [
      "分析棋局:   4%|▍         | 75/1686 [07:53<2:48:49,  6.29s/it]"
     ]
    },
    {
     "name": "stdout",
     "output_type": "stream",
     "text": [
      "\n",
      "—— Analyzing Game 77 ——\n",
      "White: mokerslag (2302), Black: vovkcoach (2513)\n"
     ]
    },
    {
     "name": "stderr",
     "output_type": "stream",
     "text": [
      "分析棋局:   5%|▍         | 76/1686 [07:59<2:46:48,  6.22s/it]"
     ]
    },
    {
     "name": "stdout",
     "output_type": "stream",
     "text": [
      "\n",
      "—— Analyzing Game 78 ——\n",
      "White: Palacios-LLera (2202), Black: MichiganEagle (2293)\n"
     ]
    },
    {
     "name": "stderr",
     "output_type": "stream",
     "text": [
      "分析棋局:   5%|▍         | 77/1686 [08:05<2:44:14,  6.12s/it]"
     ]
    },
    {
     "name": "stdout",
     "output_type": "stream",
     "text": [
      "\n",
      "—— Analyzing Game 79 ——\n",
      "White: WanderingPuppet (2066), Black: Th3ChessViking (2380)\n"
     ]
    },
    {
     "name": "stderr",
     "output_type": "stream",
     "text": [
      "分析棋局:   5%|▍         | 78/1686 [08:14<3:06:12,  6.95s/it]"
     ]
    },
    {
     "name": "stdout",
     "output_type": "stream",
     "text": [
      "\n",
      "—— Analyzing Game 80 ——\n",
      "White: mat_kolosowski (2347), Black: marabu44 (2222)\n"
     ]
    },
    {
     "name": "stderr",
     "output_type": "stream",
     "text": [
      "分析棋局:   5%|▍         | 79/1686 [08:20<2:57:59,  6.65s/it]"
     ]
    },
    {
     "name": "stdout",
     "output_type": "stream",
     "text": [
      "\n",
      "—— Analyzing Game 81 ——\n",
      "White: GMG (2388), Black: Nouki (2593)\n"
     ]
    },
    {
     "name": "stderr",
     "output_type": "stream",
     "text": [
      "分析棋局:   5%|▍         | 80/1686 [08:29<3:19:14,  7.44s/it]"
     ]
    },
    {
     "name": "stdout",
     "output_type": "stream",
     "text": [
      "\n",
      "—— Analyzing Game 82 ——\n",
      "White: David_Klein (2370), Black: lorcho (2413)\n"
     ]
    },
    {
     "name": "stderr",
     "output_type": "stream",
     "text": [
      "分析棋局:   5%|▍         | 81/1686 [08:35<3:11:08,  7.15s/it]"
     ]
    },
    {
     "name": "stdout",
     "output_type": "stream",
     "text": [
      "\n",
      "—— Analyzing Game 83 ——\n",
      "White: Fischwitsch (2062), Black: kevin9512 (1869)\n"
     ]
    },
    {
     "name": "stderr",
     "output_type": "stream",
     "text": [
      "分析棋局:   5%|▍         | 82/1686 [08:41<2:58:38,  6.68s/it]"
     ]
    },
    {
     "name": "stdout",
     "output_type": "stream",
     "text": [
      "\n",
      "—— Analyzing Game 84 ——\n",
      "White: Time2Pretend (2339), Black: XeresLt (2272)\n"
     ]
    },
    {
     "name": "stderr",
     "output_type": "stream",
     "text": [
      "分析棋局:   5%|▍         | 83/1686 [08:48<3:05:24,  6.94s/it]"
     ]
    },
    {
     "name": "stdout",
     "output_type": "stream",
     "text": [
      "\n",
      "—— Analyzing Game 85 ——\n",
      "White: Alexander_Donchenko (2315), Black: GMHess (2445)\n"
     ]
    },
    {
     "name": "stderr",
     "output_type": "stream",
     "text": [
      "分析棋局:   5%|▍         | 84/1686 [08:56<3:10:07,  7.12s/it]"
     ]
    },
    {
     "name": "stdout",
     "output_type": "stream",
     "text": [
      "\n",
      "—— Analyzing Game 86 ——\n",
      "White: GedoGluperd (2280), Black: HZMC92 (2153)\n"
     ]
    },
    {
     "name": "stderr",
     "output_type": "stream",
     "text": [
      "分析棋局:   5%|▌         | 85/1686 [09:03<3:08:52,  7.08s/it]"
     ]
    },
    {
     "name": "stdout",
     "output_type": "stream",
     "text": [
      "\n",
      "—— Analyzing Game 87 ——\n",
      "White: VovAn1991 (2329), Black: gumersindo (2150)\n"
     ]
    },
    {
     "name": "stderr",
     "output_type": "stream",
     "text": [
      "分析棋局:   5%|▌         | 86/1686 [09:10<3:10:30,  7.14s/it]"
     ]
    },
    {
     "name": "stdout",
     "output_type": "stream",
     "text": [
      "\n",
      "—— Analyzing Game 88 ——\n",
      "White: GMNeiksans (2488), Black: wannabe2700 (2319)\n"
     ]
    },
    {
     "name": "stderr",
     "output_type": "stream",
     "text": [
      "分析棋局:   5%|▌         | 87/1686 [09:17<3:08:23,  7.07s/it]"
     ]
    },
    {
     "name": "stdout",
     "output_type": "stream",
     "text": [
      "\n",
      "—— Analyzing Game 89 ——\n",
      "White: Trendle (2207), Black: KaydenTroffChess (2363)\n"
     ]
    },
    {
     "name": "stderr",
     "output_type": "stream",
     "text": [
      "分析棋局:   5%|▌         | 88/1686 [09:24<3:03:59,  6.91s/it]"
     ]
    },
    {
     "name": "stdout",
     "output_type": "stream",
     "text": [
      "\n",
      "—— Analyzing Game 90 ——\n",
      "White: brauliocuarta (1970), Black: liczner (2408)\n"
     ]
    },
    {
     "name": "stderr",
     "output_type": "stream",
     "text": [
      "分析棋局:   5%|▌         | 89/1686 [09:32<3:15:05,  7.33s/it]"
     ]
    },
    {
     "name": "stdout",
     "output_type": "stream",
     "text": [
      "\n",
      "—— Analyzing Game 91 ——\n",
      "White: THORK (2164), Black: jbj (2264)\n"
     ]
    },
    {
     "name": "stderr",
     "output_type": "stream",
     "text": [
      "分析棋局:   5%|▌         | 90/1686 [09:39<3:14:33,  7.31s/it]"
     ]
    },
    {
     "name": "stdout",
     "output_type": "stream",
     "text": [
      "\n",
      "—— Analyzing Game 92 ——\n",
      "White: alexsuper1987 (2035), Black: SabinaFoisor (2319)\n"
     ]
    },
    {
     "name": "stderr",
     "output_type": "stream",
     "text": [
      "分析棋局:   5%|▌         | 91/1686 [09:48<3:23:52,  7.67s/it]"
     ]
    },
    {
     "name": "stdout",
     "output_type": "stream",
     "text": [
      "\n",
      "—— Analyzing Game 93 ——\n",
      "White: Danesz22 (2396), Black: GeorgMeier (2541)\n"
     ]
    },
    {
     "name": "stderr",
     "output_type": "stream",
     "text": [
      "分析棋局:   5%|▌         | 92/1686 [09:56<3:26:46,  7.78s/it]"
     ]
    },
    {
     "name": "stdout",
     "output_type": "stream",
     "text": [
      "\n",
      "—— Analyzing Game 94 ——\n",
      "White: jcibarra (2440), Black: exoticprincess (2608)\n"
     ]
    },
    {
     "name": "stderr",
     "output_type": "stream",
     "text": [
      "分析棋局:   6%|▌         | 93/1686 [10:10<4:19:44,  9.78s/it]"
     ]
    },
    {
     "name": "stdout",
     "output_type": "stream",
     "text": [
      "\n",
      "—— Analyzing Game 95 ——\n",
      "White: AlmirDzhumaev (2194), Black: ruzomberok (2227)\n"
     ]
    },
    {
     "name": "stderr",
     "output_type": "stream",
     "text": [
      "分析棋局:   6%|▌         | 94/1686 [10:20<4:20:35,  9.82s/it]"
     ]
    },
    {
     "name": "stdout",
     "output_type": "stream",
     "text": [
      "\n",
      "—— Analyzing Game 96 ——\n",
      "White: dsanchez1973 (1838), Black: DanielRensch (2336)\n"
     ]
    },
    {
     "name": "stderr",
     "output_type": "stream",
     "text": [
      "分析棋局:   6%|▌         | 95/1686 [10:23<3:28:16,  7.85s/it]"
     ]
    },
    {
     "name": "stdout",
     "output_type": "stream",
     "text": [
      "\n",
      "—— Analyzing Game 97 ——\n",
      "White: exoticprincess (2644), Black: GMG (2377)\n"
     ]
    },
    {
     "name": "stderr",
     "output_type": "stream",
     "text": [
      "分析棋局:   6%|▌         | 96/1686 [10:27<2:50:05,  6.42s/it]"
     ]
    },
    {
     "name": "stdout",
     "output_type": "stream",
     "text": [
      "\n",
      "—— Analyzing Game 98 ——\n",
      "White: GMHess (2448), Black: gumersindo (2148)\n"
     ]
    },
    {
     "name": "stderr",
     "output_type": "stream",
     "text": [
      "分析棋局:   6%|▌         | 97/1686 [10:30<2:26:19,  5.52s/it]"
     ]
    },
    {
     "name": "stdout",
     "output_type": "stream",
     "text": [
      "\n",
      "—— Analyzing Game 99 ——\n",
      "White: Danesz22 (2461), Black: mat_kolosowski (2340)\n"
     ]
    },
    {
     "name": "stderr",
     "output_type": "stream",
     "text": [
      "分析棋局:   6%|▌         | 98/1686 [10:33<2:09:57,  4.91s/it]"
     ]
    },
    {
     "name": "stdout",
     "output_type": "stream",
     "text": [
      "\n",
      "—— Analyzing Game 100 ——\n",
      "White: ilmago (1771), Black: HZMC92 (2156)\n"
     ]
    },
    {
     "name": "stderr",
     "output_type": "stream",
     "text": [
      "分析棋局:   6%|▌         | 99/1686 [10:41<2:27:04,  5.56s/it]"
     ]
    },
    {
     "name": "stdout",
     "output_type": "stream",
     "text": [
      "\n",
      "—— Analyzing Game 101 ——\n",
      "White: mokerslag (2311), Black: VovAn1991 (2301)\n"
     ]
    },
    {
     "name": "stderr",
     "output_type": "stream",
     "text": [
      "分析棋局:   6%|▌         | 100/1686 [10:47<2:35:04,  5.87s/it]"
     ]
    },
    {
     "name": "stdout",
     "output_type": "stream",
     "text": [
      "\n",
      "—— Analyzing Game 102 ——\n",
      "White: lorcho (2459), Black: MichiganEagle (2285)\n"
     ]
    },
    {
     "name": "stderr",
     "output_type": "stream",
     "text": [
      "分析棋局:   6%|▌         | 101/1686 [10:53<2:37:38,  5.97s/it]"
     ]
    },
    {
     "name": "stdout",
     "output_type": "stream",
     "text": [
      "\n",
      "—— Analyzing Game 103 ——\n",
      "White: chesstatour (1793), Black: AlmirDzhumaev (2195)\n"
     ]
    },
    {
     "name": "stderr",
     "output_type": "stream",
     "text": [
      "分析棋局:   6%|▌         | 102/1686 [11:02<3:00:39,  6.84s/it]"
     ]
    },
    {
     "name": "stdout",
     "output_type": "stream",
     "text": [
      "\n",
      "—— Analyzing Game 104 ——\n",
      "White: Alexander_Donchenko (2325), Black: Trendle (2201)\n"
     ]
    },
    {
     "name": "stderr",
     "output_type": "stream",
     "text": [
      "分析棋局:   6%|▌         | 103/1686 [11:11<3:13:44,  7.34s/it]"
     ]
    },
    {
     "name": "stdout",
     "output_type": "stream",
     "text": [
      "\n",
      "—— Analyzing Game 105 ——\n",
      "White: GedoGluperd (2284), Black: brauliocuarta (1968)\n"
     ]
    },
    {
     "name": "stderr",
     "output_type": "stream",
     "text": [
      "分析棋局:   6%|▌         | 104/1686 [11:18<3:15:03,  7.40s/it]"
     ]
    },
    {
     "name": "stdout",
     "output_type": "stream",
     "text": [
      "\n",
      "—— Analyzing Game 106 ——\n",
      "White: jcibarra (2455), Black: SabinaFoisor (2260)\n"
     ]
    },
    {
     "name": "stderr",
     "output_type": "stream",
     "text": [
      "分析棋局:   6%|▌         | 105/1686 [11:25<3:08:01,  7.14s/it]"
     ]
    },
    {
     "name": "stdout",
     "output_type": "stream",
     "text": [
      "\n",
      "—— Analyzing Game 107 ——\n",
      "White: alexsuper1987 (2063), Black: JamesColeman (2306)\n"
     ]
    },
    {
     "name": "stderr",
     "output_type": "stream",
     "text": [
      "分析棋局:   6%|▋         | 106/1686 [11:30<2:56:29,  6.70s/it]"
     ]
    },
    {
     "name": "stdout",
     "output_type": "stream",
     "text": [
      "\n",
      "—— Analyzing Game 108 ——\n",
      "White: jbj (2280), Black: ruzomberok (2213)\n"
     ]
    },
    {
     "name": "stderr",
     "output_type": "stream",
     "text": [
      "分析棋局:   6%|▋         | 107/1686 [11:39<3:09:25,  7.20s/it]"
     ]
    },
    {
     "name": "stdout",
     "output_type": "stream",
     "text": [
      "\n",
      "—— Analyzing Game 109 ——\n",
      "White: oggy1984 (2222), Black: liczner (2412)\n"
     ]
    },
    {
     "name": "stderr",
     "output_type": "stream",
     "text": [
      "分析棋局:   6%|▋         | 108/1686 [11:46<3:06:16,  7.08s/it]"
     ]
    },
    {
     "name": "stdout",
     "output_type": "stream",
     "text": [
      "\n",
      "—— Analyzing Game 110 ——\n",
      "White: David_Klein (2364), Black: vovkcoach (2518)\n"
     ]
    },
    {
     "name": "stderr",
     "output_type": "stream",
     "text": [
      "分析棋局:   6%|▋         | 109/1686 [11:56<3:28:49,  7.94s/it]"
     ]
    },
    {
     "name": "stdout",
     "output_type": "stream",
     "text": [
      "\n",
      "—— Analyzing Game 111 ——\n",
      "White: GeorgMeier (2544), Black: Nouki (2592)\n"
     ]
    },
    {
     "name": "stderr",
     "output_type": "stream",
     "text": [
      "分析棋局:   7%|▋         | 110/1686 [12:03<3:23:05,  7.73s/it]"
     ]
    },
    {
     "name": "stdout",
     "output_type": "stream",
     "text": [
      "\n",
      "—— Analyzing Game 112 ——\n",
      "White: KaydenTroffChess (2369), Black: GMNeiksans (2481)\n"
     ]
    },
    {
     "name": "stderr",
     "output_type": "stream",
     "text": [
      "分析棋局:   7%|▋         | 111/1686 [12:10<3:18:14,  7.55s/it]"
     ]
    },
    {
     "name": "stdout",
     "output_type": "stream",
     "text": [
      "\n",
      "—— Analyzing Game 113 ——\n",
      "White: XeresLt (2279), Black: marabu44 (2215)\n"
     ]
    },
    {
     "name": "stderr",
     "output_type": "stream",
     "text": [
      "分析棋局:   7%|▋         | 112/1686 [12:21<3:49:04,  8.73s/it]"
     ]
    },
    {
     "name": "stdout",
     "output_type": "stream",
     "text": [
      "\n",
      "—— Analyzing Game 114 ——\n",
      "White: THORK (2176), Black: Time2Pretend (2314)\n"
     ]
    },
    {
     "name": "stderr",
     "output_type": "stream",
     "text": [
      "分析棋局:   7%|▋         | 113/1686 [12:32<4:01:12,  9.20s/it]"
     ]
    },
    {
     "name": "stdout",
     "output_type": "stream",
     "text": [
      "\n",
      "—— Analyzing Game 115 ——\n",
      "White: Th3ChessViking (2387), Black: wannabe2700 (2287)\n"
     ]
    },
    {
     "name": "stderr",
     "output_type": "stream",
     "text": [
      "分析棋局:   7%|▋         | 114/1686 [12:41<3:59:53,  9.16s/it]"
     ]
    },
    {
     "name": "stdout",
     "output_type": "stream",
     "text": [
      "\n",
      "—— Analyzing Game 116 ——\n",
      "White: ruzomberok (2219), Black: brauliocuarta (1965)\n"
     ]
    },
    {
     "name": "stderr",
     "output_type": "stream",
     "text": [
      "分析棋局:   7%|▋         | 115/1686 [12:43<3:09:11,  7.23s/it]"
     ]
    },
    {
     "name": "stdout",
     "output_type": "stream",
     "text": [
      "\n",
      "—— Analyzing Game 117 ——\n",
      "White: Nouki (2597), Black: Danesz22 (2417)\n"
     ]
    },
    {
     "name": "stderr",
     "output_type": "stream",
     "text": [
      "分析棋局:   7%|▋         | 116/1686 [12:49<2:55:45,  6.72s/it]"
     ]
    },
    {
     "name": "stdout",
     "output_type": "stream",
     "text": [
      "\n",
      "—— Analyzing Game 118 ——\n",
      "White: oggy1984 (2217), Black: DanielRensch (2342)\n"
     ]
    },
    {
     "name": "stderr",
     "output_type": "stream",
     "text": [
      "分析棋局:   7%|▋         | 117/1686 [12:54<2:42:30,  6.21s/it]"
     ]
    },
    {
     "name": "stdout",
     "output_type": "stream",
     "text": [
      "\n",
      "—— Analyzing Game 119 ——\n",
      "White: liczner (2418), Black: mokerslag (2305)\n"
     ]
    },
    {
     "name": "stderr",
     "output_type": "stream",
     "text": [
      "分析棋局:   7%|▋         | 118/1686 [12:59<2:28:39,  5.69s/it]"
     ]
    },
    {
     "name": "stdout",
     "output_type": "stream",
     "text": [
      "\n",
      "—— Analyzing Game 120 ——\n",
      "White: gumersindo (2150), Black: SabinaFoisor (2241)\n"
     ]
    },
    {
     "name": "stderr",
     "output_type": "stream",
     "text": [
      "分析棋局:   7%|▋         | 119/1686 [13:03<2:22:32,  5.46s/it]"
     ]
    },
    {
     "name": "stdout",
     "output_type": "stream",
     "text": [
      "\n",
      "—— Analyzing Game 121 ——\n",
      "White: AlmirDzhumaev (2197), Black: dsanchez1973 (1836)\n"
     ]
    },
    {
     "name": "stderr",
     "output_type": "stream",
     "text": [
      "分析棋局:   7%|▋         | 120/1686 [13:11<2:39:39,  6.12s/it]"
     ]
    },
    {
     "name": "stdout",
     "output_type": "stream",
     "text": [
      "\n",
      "—— Analyzing Game 122 ——\n",
      "White: exoticprincess (2691), Black: GeorgMeier (2531)\n"
     ]
    },
    {
     "name": "stderr",
     "output_type": "stream",
     "text": [
      "分析棋局:   7%|▋         | 121/1686 [13:18<2:49:15,  6.49s/it]"
     ]
    },
    {
     "name": "stdout",
     "output_type": "stream",
     "text": [
      "\n",
      "—— Analyzing Game 123 ——\n",
      "White: MichiganEagle (2286), Black: ilmago (1764)\n"
     ]
    },
    {
     "name": "stderr",
     "output_type": "stream",
     "text": [
      "分析棋局:   7%|▋         | 122/1686 [13:24<2:45:16,  6.34s/it]"
     ]
    },
    {
     "name": "stdout",
     "output_type": "stream",
     "text": [
      "\n",
      "—— Analyzing Game 124 ——\n",
      "White: wannabe2700 (2254), Black: VovAn1991 (2325)\n"
     ]
    },
    {
     "name": "stderr",
     "output_type": "stream",
     "text": [
      "分析棋局:   7%|▋         | 123/1686 [13:31<2:46:58,  6.41s/it]"
     ]
    },
    {
     "name": "stdout",
     "output_type": "stream",
     "text": [
      "\n",
      "—— Analyzing Game 125 ——\n",
      "White: GMNeiksans (2494), Black: David_Klein (2358)\n"
     ]
    },
    {
     "name": "stderr",
     "output_type": "stream",
     "text": [
      "分析棋局:   7%|▋         | 124/1686 [13:38<2:48:14,  6.46s/it]"
     ]
    },
    {
     "name": "stdout",
     "output_type": "stream",
     "text": [
      "\n",
      "—— Analyzing Game 126 ——\n",
      "White: lorcho (2480), Black: HZMC92 (2151)\n"
     ]
    },
    {
     "name": "stderr",
     "output_type": "stream",
     "text": [
      "分析棋局:   7%|▋         | 125/1686 [13:47<3:11:03,  7.34s/it]"
     ]
    },
    {
     "name": "stdout",
     "output_type": "stream",
     "text": [
      "\n",
      "—— Analyzing Game 127 ——\n",
      "White: jbj (2297), Black: XeresLt (2271)\n"
     ]
    },
    {
     "name": "stderr",
     "output_type": "stream",
     "text": [
      "分析棋局:   7%|▋         | 126/1686 [13:51<2:48:03,  6.46s/it]"
     ]
    },
    {
     "name": "stdout",
     "output_type": "stream",
     "text": [
      "\n",
      "—— Analyzing Game 128 ——\n",
      "White: Trendle (2211), Black: GedoGluperd (2268)\n"
     ]
    },
    {
     "name": "stderr",
     "output_type": "stream",
     "text": [
      "分析棋局:   8%|▊         | 127/1686 [13:58<2:50:09,  6.55s/it]"
     ]
    },
    {
     "name": "stdout",
     "output_type": "stream",
     "text": [
      "\n",
      "—— Analyzing Game 129 ——\n",
      "White: GMG (2403), Black: GMHess (2438)\n"
     ]
    },
    {
     "name": "stderr",
     "output_type": "stream",
     "text": [
      "分析棋局:   8%|▊         | 128/1686 [14:09<3:22:21,  7.79s/it]"
     ]
    },
    {
     "name": "stdout",
     "output_type": "stream",
     "text": [
      "\n",
      "—— Analyzing Game 130 ——\n",
      "White: JamesColeman (2303), Black: marabu44 (2217)\n"
     ]
    },
    {
     "name": "stderr",
     "output_type": "stream",
     "text": [
      "分析棋局:   8%|▊         | 129/1686 [14:16<3:16:40,  7.58s/it]"
     ]
    },
    {
     "name": "stdout",
     "output_type": "stream",
     "text": [
      "\n",
      "—— Analyzing Game 131 ——\n",
      "White: alexsuper1987 (2057), Black: mat_kolosowski (2343)\n"
     ]
    },
    {
     "name": "stderr",
     "output_type": "stream",
     "text": [
      "分析棋局:   8%|▊         | 130/1686 [14:25<3:25:13,  7.91s/it]"
     ]
    },
    {
     "name": "stdout",
     "output_type": "stream",
     "text": [
      "\n",
      "—— Analyzing Game 132 ——\n",
      "White: vovkcoach (2509), Black: jcibarra (2479)\n"
     ]
    },
    {
     "name": "stderr",
     "output_type": "stream",
     "text": [
      "分析棋局:   8%|▊         | 131/1686 [14:34<3:40:09,  8.49s/it]"
     ]
    },
    {
     "name": "stdout",
     "output_type": "stream",
     "text": [
      "\n",
      "—— Analyzing Game 133 ——\n",
      "White: Th3ChessViking (2386), Black: Alexander_Donchenko (2327)\n"
     ]
    },
    {
     "name": "stderr",
     "output_type": "stream",
     "text": [
      "分析棋局:   8%|▊         | 132/1686 [14:44<3:46:33,  8.75s/it]"
     ]
    },
    {
     "name": "stdout",
     "output_type": "stream",
     "text": [
      "\n",
      "—— Analyzing Game 134 ——\n",
      "White: KaydenTroffChess (2360), Black: THORK (2180)\n"
     ]
    },
    {
     "name": "stderr",
     "output_type": "stream",
     "text": [
      "分析棋局:   8%|▊         | 133/1686 [15:00<4:46:55, 11.09s/it]"
     ]
    },
    {
     "name": "stdout",
     "output_type": "stream",
     "text": [
      "\n",
      "—— Analyzing Game 135 ——\n",
      "White: mokerslag (2308), Black: alexsuper1987 (2051)\n"
     ]
    },
    {
     "name": "stderr",
     "output_type": "stream",
     "text": [
      "分析棋局:   8%|▊         | 134/1686 [15:03<3:43:42,  8.65s/it]"
     ]
    },
    {
     "name": "stdout",
     "output_type": "stream",
     "text": [
      "\n",
      "—— Analyzing Game 136 ——\n",
      "White: ruzomberok (2204), Black: oggy1984 (2225)\n"
     ]
    },
    {
     "name": "stderr",
     "output_type": "stream",
     "text": [
      "分析棋局:   8%|▊         | 135/1686 [15:07<3:05:17,  7.17s/it]"
     ]
    },
    {
     "name": "stdout",
     "output_type": "stream",
     "text": [
      "\n",
      "—— Analyzing Game 137 ——\n",
      "White: XeresLt (2277), Black: AlmirDzhumaev (2191)\n"
     ]
    },
    {
     "name": "stderr",
     "output_type": "stream",
     "text": [
      "分析棋局:   8%|▊         | 136/1686 [15:11<2:37:47,  6.11s/it]"
     ]
    },
    {
     "name": "stdout",
     "output_type": "stream",
     "text": [
      "\n",
      "—— Analyzing Game 138 ——\n",
      "White: Danesz22 (2469), Black: Th3ChessViking (2379)\n"
     ]
    },
    {
     "name": "stderr",
     "output_type": "stream",
     "text": [
      "分析棋局:   8%|▊         | 137/1686 [15:14<2:14:22,  5.20s/it]"
     ]
    },
    {
     "name": "stdout",
     "output_type": "stream",
     "text": [
      "\n",
      "—— Analyzing Game 139 ——\n",
      "White: exoticprincess (2733), Black: Nouki (2591)\n"
     ]
    },
    {
     "name": "stderr",
     "output_type": "stream",
     "text": [
      "分析棋局:   8%|▊         | 138/1686 [15:20<2:18:37,  5.37s/it]"
     ]
    },
    {
     "name": "stdout",
     "output_type": "stream",
     "text": [
      "\n",
      "—— Analyzing Game 140 ——\n",
      "White: DanielRensch (2349), Black: MichiganEagle (2277)\n"
     ]
    },
    {
     "name": "stderr",
     "output_type": "stream",
     "text": [
      "分析棋局:   8%|▊         | 139/1686 [15:23<2:05:46,  4.88s/it]"
     ]
    },
    {
     "name": "stdout",
     "output_type": "stream",
     "text": [
      "\n",
      "—— Analyzing Game 141 ——\n",
      "White: jcibarra (2495), Black: GMG (2386)\n"
     ]
    },
    {
     "name": "stderr",
     "output_type": "stream",
     "text": [
      "分析棋局:   8%|▊         | 140/1686 [15:31<2:24:05,  5.59s/it]"
     ]
    },
    {
     "name": "stdout",
     "output_type": "stream",
     "text": [
      "\n",
      "—— Analyzing Game 142 ——\n",
      "White: David_Klein (2362), Black: gumersindo (2146)\n"
     ]
    },
    {
     "name": "stderr",
     "output_type": "stream",
     "text": [
      "分析棋局:   8%|▊         | 141/1686 [15:35<2:18:47,  5.39s/it]"
     ]
    },
    {
     "name": "stdout",
     "output_type": "stream",
     "text": [
      "\n",
      "—— Analyzing Game 143 ——\n",
      "White: ilmago (1756), Black: wannabe2700 (2258)\n"
     ]
    },
    {
     "name": "stderr",
     "output_type": "stream",
     "text": [
      "分析棋局:   8%|▊         | 142/1686 [15:41<2:17:06,  5.33s/it]"
     ]
    },
    {
     "name": "stdout",
     "output_type": "stream",
     "text": [
      "\n",
      "—— Analyzing Game 144 ——\n",
      "White: marabu44 (2210), Black: GedoGluperd (2278)\n"
     ]
    },
    {
     "name": "stderr",
     "output_type": "stream",
     "text": [
      "分析棋局:   8%|▊         | 143/1686 [15:49<2:39:22,  6.20s/it]"
     ]
    },
    {
     "name": "stdout",
     "output_type": "stream",
     "text": [
      "\n",
      "—— Analyzing Game 145 ——\n",
      "White: dsanchez1973 (1829), Black: brauliocuarta (1970)\n"
     ]
    },
    {
     "name": "stderr",
     "output_type": "stream",
     "text": [
      "分析棋局:   9%|▊         | 144/1686 [15:55<2:39:46,  6.22s/it]"
     ]
    },
    {
     "name": "stdout",
     "output_type": "stream",
     "text": [
      "\n",
      "—— Analyzing Game 146 ——\n",
      "White: GMHess (2441), Black: THORK (2177)\n"
     ]
    },
    {
     "name": "stderr",
     "output_type": "stream",
     "text": [
      "分析棋局:   9%|▊         | 145/1686 [16:03<2:49:29,  6.60s/it]"
     ]
    },
    {
     "name": "stdout",
     "output_type": "stream",
     "text": [
      "\n",
      "—— Analyzing Game 147 ——\n",
      "White: vovkcoach (2514), Black: KaydenTroffChess (2350)\n"
     ]
    },
    {
     "name": "stderr",
     "output_type": "stream",
     "text": [
      "分析棋局:   9%|▊         | 146/1686 [16:08<2:41:08,  6.28s/it]"
     ]
    },
    {
     "name": "stdout",
     "output_type": "stream",
     "text": [
      "\n",
      "—— Analyzing Game 148 ——\n",
      "White: VovAn1991 (2341), Black: Trendle (2206)\n"
     ]
    },
    {
     "name": "stderr",
     "output_type": "stream",
     "text": [
      "分析棋局:   9%|▊         | 147/1686 [16:13<2:33:34,  5.99s/it]"
     ]
    },
    {
     "name": "stdout",
     "output_type": "stream",
     "text": [
      "\n",
      "—— Analyzing Game 149 ——\n",
      "White: GeorgMeier (2542), Black: liczner (2413)\n"
     ]
    },
    {
     "name": "stderr",
     "output_type": "stream",
     "text": [
      "分析棋局:   9%|▉         | 148/1686 [16:19<2:29:32,  5.83s/it]"
     ]
    },
    {
     "name": "stdout",
     "output_type": "stream",
     "text": [
      "\n",
      "—— Analyzing Game 150 ——\n",
      "White: JamesColeman (2304), Black: chesstatour (1792)\n"
     ]
    },
    {
     "name": "stderr",
     "output_type": "stream",
     "text": [
      "分析棋局:   9%|▉         | 149/1686 [16:26<2:41:03,  6.29s/it]"
     ]
    },
    {
     "name": "stdout",
     "output_type": "stream",
     "text": [
      "\n",
      "—— Analyzing Game 151 ——\n",
      "White: lorcho (2430), Black: GMNeiksans (2511)\n"
     ]
    },
    {
     "name": "stderr",
     "output_type": "stream",
     "text": [
      "分析棋局:   9%|▉         | 150/1686 [16:36<3:06:50,  7.30s/it]"
     ]
    },
    {
     "name": "stdout",
     "output_type": "stream",
     "text": [
      "\n",
      "—— Analyzing Game 152 ——\n",
      "White: SabinaFoisor (2188), Black: jbj (2311)\n"
     ]
    },
    {
     "name": "stderr",
     "output_type": "stream",
     "text": [
      "分析棋局:   9%|▉         | 151/1686 [16:48<3:43:21,  8.73s/it]"
     ]
    },
    {
     "name": "stdout",
     "output_type": "stream",
     "text": [
      "\n",
      "—— Analyzing Game 153 ——\n",
      "White: mat_kolosowski (2343), Black: Alexander_Donchenko (2328)\n"
     ]
    },
    {
     "name": "stderr",
     "output_type": "stream",
     "text": [
      "分析棋局:   9%|▉         | 152/1686 [16:54<3:23:07,  7.94s/it]"
     ]
    },
    {
     "name": "stdout",
     "output_type": "stream",
     "text": [
      "\n",
      "—— Analyzing Game 154 ——\n",
      "White: THORK (2172), Black: mokerslag (2313)\n"
     ]
    },
    {
     "name": "stderr",
     "output_type": "stream",
     "text": [
      "分析棋局:   9%|▉         | 153/1686 [17:00<3:10:17,  7.45s/it]"
     ]
    },
    {
     "name": "stdout",
     "output_type": "stream",
     "text": [
      "\n",
      "—— Analyzing Game 155 ——\n",
      "White: vovkcoach (2505), Black: Danesz22 (2525)\n"
     ]
    },
    {
     "name": "stderr",
     "output_type": "stream",
     "text": [
      "分析棋局:   9%|▉         | 154/1686 [17:05<2:46:56,  6.54s/it]"
     ]
    },
    {
     "name": "stdout",
     "output_type": "stream",
     "text": [
      "\n",
      "—— Analyzing Game 156 ——\n",
      "White: chesstatour (1785), Black: dsanchez1973 (1838)\n"
     ]
    },
    {
     "name": "stderr",
     "output_type": "stream",
     "text": [
      "分析棋局:   9%|▉         | 155/1686 [17:10<2:33:54,  6.03s/it]"
     ]
    },
    {
     "name": "stdout",
     "output_type": "stream",
     "text": [
      "\n",
      "—— Analyzing Game 157 ——\n",
      "White: SabinaFoisor (2259), Black: JamesColeman (2291)\n"
     ]
    },
    {
     "name": "stderr",
     "output_type": "stream",
     "text": [
      "分析棋局:   9%|▉         | 156/1686 [17:16<2:38:25,  6.21s/it]"
     ]
    },
    {
     "name": "stdout",
     "output_type": "stream",
     "text": [
      "\n",
      "—— Analyzing Game 158 ——\n",
      "White: marabu44 (2211), Black: ilmago (1747)\n"
     ]
    },
    {
     "name": "stderr",
     "output_type": "stream",
     "text": [
      "分析棋局:   9%|▉         | 157/1686 [17:22<2:37:55,  6.20s/it]"
     ]
    },
    {
     "name": "stdout",
     "output_type": "stream",
     "text": [
      "\n",
      "—— Analyzing Game 159 ——\n",
      "White: AlmirDzhumaev (2179), Black: brauliocuarta (1982)\n"
     ]
    },
    {
     "name": "stderr",
     "output_type": "stream",
     "text": [
      "分析棋局:   9%|▉         | 158/1686 [17:29<2:41:59,  6.36s/it]"
     ]
    },
    {
     "name": "stdout",
     "output_type": "stream",
     "text": [
      "\n",
      "—— Analyzing Game 160 ——\n",
      "White: mat_kolosowski (2335), Black: KaydenTroffChess (2366)\n"
     ]
    },
    {
     "name": "stderr",
     "output_type": "stream",
     "text": [
      "分析棋局:   9%|▉         | 159/1686 [17:36<2:42:51,  6.40s/it]"
     ]
    },
    {
     "name": "stdout",
     "output_type": "stream",
     "text": [
      "\n",
      "—— Analyzing Game 161 ——\n",
      "White: exoticprincess (2757), Black: GMNeiksans (2503)\n"
     ]
    },
    {
     "name": "stderr",
     "output_type": "stream",
     "text": [
      "分析棋局:   9%|▉         | 160/1686 [17:44<2:54:17,  6.85s/it]"
     ]
    },
    {
     "name": "stdout",
     "output_type": "stream",
     "text": [
      "\n",
      "—— Analyzing Game 162 ——\n",
      "White: DanielRensch (2340), Black: Alexander_Donchenko (2342)\n"
     ]
    },
    {
     "name": "stderr",
     "output_type": "stream",
     "text": [
      "分析棋局:  10%|▉         | 161/1686 [17:52<3:07:49,  7.39s/it]"
     ]
    },
    {
     "name": "stdout",
     "output_type": "stream",
     "text": [
      "\n",
      "—— Analyzing Game 163 ——\n",
      "White: MichiganEagle (2275), Black: Trendle (2208)\n"
     ]
    },
    {
     "name": "stderr",
     "output_type": "stream",
     "text": [
      "分析棋局:  10%|▉         | 162/1686 [17:59<3:05:50,  7.32s/it]"
     ]
    },
    {
     "name": "stdout",
     "output_type": "stream",
     "text": [
      "\n",
      "—— Analyzing Game 164 ——\n",
      "White: oggy1984 (2236), Black: Th3ChessViking (2368)\n"
     ]
    },
    {
     "name": "stderr",
     "output_type": "stream",
     "text": [
      "分析棋局:  10%|▉         | 163/1686 [18:07<3:11:43,  7.55s/it]"
     ]
    },
    {
     "name": "stdout",
     "output_type": "stream",
     "text": [
      "\n",
      "—— Analyzing Game 165 ——\n",
      "White: liczner (2419), Black: VovAn1991 (2323)\n"
     ]
    },
    {
     "name": "stderr",
     "output_type": "stream",
     "text": [
      "分析棋局:  10%|▉         | 164/1686 [18:17<3:25:56,  8.12s/it]"
     ]
    },
    {
     "name": "stdout",
     "output_type": "stream",
     "text": [
      "\n",
      "—— Analyzing Game 166 ——\n",
      "White: alexsuper1987 (2057), Black: ruzomberok (2198)\n"
     ]
    },
    {
     "name": "stderr",
     "output_type": "stream",
     "text": [
      "分析棋局:  10%|▉         | 165/1686 [18:24<3:16:04,  7.73s/it]"
     ]
    },
    {
     "name": "stdout",
     "output_type": "stream",
     "text": [
      "\n",
      "—— Analyzing Game 167 ——\n",
      "White: GedoGluperd (2289), Black: wannabe2700 (2228)\n"
     ]
    },
    {
     "name": "stderr",
     "output_type": "stream",
     "text": [
      "分析棋局:  10%|▉         | 166/1686 [18:33<3:25:37,  8.12s/it]"
     ]
    },
    {
     "name": "stdout",
     "output_type": "stream",
     "text": [
      "\n",
      "—— Analyzing Game 168 ——\n",
      "White: jbj (2300), Black: lorcho (2463)\n"
     ]
    },
    {
     "name": "stderr",
     "output_type": "stream",
     "text": [
      "分析棋局:  10%|▉         | 167/1686 [18:43<3:44:50,  8.88s/it]"
     ]
    },
    {
     "name": "stdout",
     "output_type": "stream",
     "text": [
      "\n",
      "—— Analyzing Game 169 ——\n",
      "White: GMG (2404), Black: David_Klein (2354)\n"
     ]
    },
    {
     "name": "stderr",
     "output_type": "stream",
     "text": [
      "分析棋局:  10%|▉         | 168/1686 [18:58<4:25:17, 10.49s/it]"
     ]
    },
    {
     "name": "stdout",
     "output_type": "stream",
     "text": [
      "\n",
      "—— Analyzing Game 170 ——\n",
      "White: Nouki (2588), Black: GMHess (2444)\n"
     ]
    },
    {
     "name": "stderr",
     "output_type": "stream",
     "text": [
      "分析棋局:  10%|█         | 169/1686 [19:06<4:09:48,  9.88s/it]"
     ]
    },
    {
     "name": "stdout",
     "output_type": "stream",
     "text": [
      "\n",
      "—— Analyzing Game 171 ——\n",
      "White: jcibarra (2479), Black: GeorgMeier (2556)\n"
     ]
    },
    {
     "name": "stderr",
     "output_type": "stream",
     "text": [
      "分析棋局:  10%|█         | 170/1686 [19:18<4:25:08, 10.49s/it]"
     ]
    },
    {
     "name": "stdout",
     "output_type": "stream",
     "text": [
      "\n",
      "—— Analyzing Game 172 ——\n",
      "White: gumersindo (2157), Black: XeresLt (2266)\n"
     ]
    },
    {
     "name": "stderr",
     "output_type": "stream",
     "text": [
      "分析棋局:  10%|█         | 171/1686 [19:30<4:35:39, 10.92s/it]"
     ]
    },
    {
     "name": "stdout",
     "output_type": "stream",
     "text": [
      "\n",
      "—— Analyzing Game 173 ——\n",
      "White: dsanchez1973 (1826), Black: ilmago (1804)\n"
     ]
    },
    {
     "name": "stderr",
     "output_type": "stream",
     "text": [
      "分析棋局:  10%|█         | 172/1686 [19:35<3:49:33,  9.10s/it]"
     ]
    },
    {
     "name": "stdout",
     "output_type": "stream",
     "text": [
      "\n",
      "—— Analyzing Game 174 ——\n",
      "White: VovAn1991 (2336), Black: THORK (2167)\n"
     ]
    },
    {
     "name": "stderr",
     "output_type": "stream",
     "text": [
      "分析棋局:  10%|█         | 173/1686 [19:40<3:17:45,  7.84s/it]"
     ]
    },
    {
     "name": "stdout",
     "output_type": "stream",
     "text": [
      "\n",
      "—— Analyzing Game 175 ——\n",
      "White: SabinaFoisor (2220), Black: DanielRensch (2346)\n"
     ]
    },
    {
     "name": "stderr",
     "output_type": "stream",
     "text": [
      "分析棋局:  10%|█         | 174/1686 [19:44<2:48:29,  6.69s/it]"
     ]
    },
    {
     "name": "stdout",
     "output_type": "stream",
     "text": [
      "\n",
      "—— Analyzing Game 176 ——\n",
      "White: David_Klein (2360), Black: oggy1984 (2231)\n"
     ]
    },
    {
     "name": "stderr",
     "output_type": "stream",
     "text": [
      "分析棋局:  10%|█         | 175/1686 [19:50<2:42:18,  6.45s/it]"
     ]
    },
    {
     "name": "stdout",
     "output_type": "stream",
     "text": [
      "\n",
      "—— Analyzing Game 177 ——\n",
      "White: gumersindo (2152), Black: jbj (2309)\n"
     ]
    },
    {
     "name": "stderr",
     "output_type": "stream",
     "text": [
      "分析棋局:  10%|█         | 176/1686 [19:56<2:42:58,  6.48s/it]"
     ]
    },
    {
     "name": "stdout",
     "output_type": "stream",
     "text": [
      "\n",
      "—— Analyzing Game 178 ——\n",
      "White: ruzomberok (2201), Black: chesstatour (1784)\n"
     ]
    },
    {
     "name": "stderr",
     "output_type": "stream",
     "text": [
      "分析棋局:  10%|█         | 177/1686 [20:02<2:36:00,  6.20s/it]"
     ]
    },
    {
     "name": "stdout",
     "output_type": "stream",
     "text": [
      "\n",
      "—— Analyzing Game 179 ——\n",
      "White: brauliocuarta (1980), Black: JamesColeman (2294)\n"
     ]
    },
    {
     "name": "stderr",
     "output_type": "stream",
     "text": [
      "分析棋局:  11%|█         | 178/1686 [20:07<2:31:03,  6.01s/it]"
     ]
    },
    {
     "name": "stdout",
     "output_type": "stream",
     "text": [
      "\n",
      "—— Analyzing Game 180 ——\n",
      "White: wannabe2700 (2256), Black: marabu44 (2203)\n"
     ]
    },
    {
     "name": "stderr",
     "output_type": "stream",
     "text": [
      "分析棋局:  11%|█         | 179/1686 [20:13<2:29:02,  5.93s/it]"
     ]
    },
    {
     "name": "stdout",
     "output_type": "stream",
     "text": [
      "\n",
      "—— Analyzing Game 181 ——\n",
      "White: GedoGluperd (2303), Black: Th3ChessViking (2358)\n"
     ]
    },
    {
     "name": "stderr",
     "output_type": "stream",
     "text": [
      "分析棋局:  11%|█         | 180/1686 [20:19<2:28:53,  5.93s/it]"
     ]
    },
    {
     "name": "stdout",
     "output_type": "stream",
     "text": [
      "\n",
      "—— Analyzing Game 182 ——\n",
      "White: Alexander_Donchenko (2360), Black: vovkcoach (2494)\n"
     ]
    },
    {
     "name": "stderr",
     "output_type": "stream",
     "text": [
      "分析棋局:  11%|█         | 181/1686 [20:27<2:45:17,  6.59s/it]"
     ]
    },
    {
     "name": "stdout",
     "output_type": "stream",
     "text": [
      "\n",
      "—— Analyzing Game 183 ——\n",
      "White: KaydenTroffChess (2348), Black: mokerslag (2322)\n"
     ]
    },
    {
     "name": "stderr",
     "output_type": "stream",
     "text": [
      "分析棋局:  11%|█         | 182/1686 [20:32<2:33:36,  6.13s/it]"
     ]
    },
    {
     "name": "stdout",
     "output_type": "stream",
     "text": [
      "\n",
      "—— Analyzing Game 184 ——\n",
      "White: Danesz22 (2596), Black: exoticprincess (2685)\n"
     ]
    },
    {
     "name": "stderr",
     "output_type": "stream",
     "text": [
      "分析棋局:  11%|█         | 183/1686 [20:37<2:23:58,  5.75s/it]"
     ]
    },
    {
     "name": "stdout",
     "output_type": "stream",
     "text": [
      "\n",
      "—— Analyzing Game 185 ——\n",
      "White: Nouki (2576), Black: liczner (2431)\n"
     ]
    },
    {
     "name": "stderr",
     "output_type": "stream",
     "text": [
      "分析棋局:  11%|█         | 184/1686 [20:44<2:35:56,  6.23s/it]"
     ]
    },
    {
     "name": "stdout",
     "output_type": "stream",
     "text": [
      "\n",
      "—— Analyzing Game 186 ——\n",
      "White: GeorgMeier (2550), Black: GMG (2412)\n"
     ]
    },
    {
     "name": "stderr",
     "output_type": "stream",
     "text": [
      "分析棋局:  11%|█         | 185/1686 [20:50<2:31:43,  6.07s/it]"
     ]
    },
    {
     "name": "stdout",
     "output_type": "stream",
     "text": [
      "\n",
      "—— Analyzing Game 187 ——\n",
      "White: GMHess (2452), Black: lorcho (2419)\n"
     ]
    },
    {
     "name": "stderr",
     "output_type": "stream",
     "text": [
      "分析棋局:  11%|█         | 186/1686 [20:55<2:25:32,  5.82s/it]"
     ]
    },
    {
     "name": "stdout",
     "output_type": "stream",
     "text": [
      "\n",
      "—— Analyzing Game 188 ——\n",
      "White: MichiganEagle (2280), Black: alexsuper1987 (2050)\n"
     ]
    },
    {
     "name": "stderr",
     "output_type": "stream",
     "text": [
      "分析棋局:  11%|█         | 187/1686 [21:02<2:35:10,  6.21s/it]"
     ]
    },
    {
     "name": "stdout",
     "output_type": "stream",
     "text": [
      "\n",
      "—— Analyzing Game 189 ——\n",
      "White: GMNeiksans (2519), Black: jcibarra (2462)\n"
     ]
    },
    {
     "name": "stderr",
     "output_type": "stream",
     "text": [
      "分析棋局:  11%|█         | 188/1686 [21:10<2:48:09,  6.74s/it]"
     ]
    },
    {
     "name": "stdout",
     "output_type": "stream",
     "text": [
      "\n",
      "—— Analyzing Game 190 ——\n",
      "White: Trendle (2217), Black: XeresLt (2257)\n"
     ]
    },
    {
     "name": "stderr",
     "output_type": "stream",
     "text": [
      "分析棋局:  11%|█         | 189/1686 [21:20<3:13:02,  7.74s/it]"
     ]
    },
    {
     "name": "stdout",
     "output_type": "stream",
     "text": [
      "\n",
      "—— Analyzing Game 191 ——\n",
      "White: JamesColeman (2279), Black: Hafez_Bakr (1792)\n"
     ]
    },
    {
     "name": "stderr",
     "output_type": "stream",
     "text": [
      "分析棋局:  11%|█▏        | 190/1686 [21:23<2:37:26,  6.31s/it]"
     ]
    },
    {
     "name": "stdout",
     "output_type": "stream",
     "text": [
      "\n",
      "—— Analyzing Game 192 ——\n",
      "White: Dlugy (2588), Black: Philofive (2231)\n"
     ]
    },
    {
     "name": "stderr",
     "output_type": "stream",
     "text": [
      "分析棋局:  11%|█▏        | 191/1686 [21:28<2:27:25,  5.92s/it]"
     ]
    },
    {
     "name": "stdout",
     "output_type": "stream",
     "text": [
      "\n",
      "—— Analyzing Game 193 ——\n",
      "White: GulamaliRises (2428), Black: bsmail (2107)\n"
     ]
    },
    {
     "name": "stderr",
     "output_type": "stream",
     "text": [
      "分析棋局:  11%|█▏        | 192/1686 [21:31<2:01:13,  4.87s/it]"
     ]
    },
    {
     "name": "stdout",
     "output_type": "stream",
     "text": [
      "\n",
      "—— Analyzing Game 194 ——\n",
      "White: MattyDPerrine (2028), Black: David_Klein (2363)\n"
     ]
    },
    {
     "name": "stderr",
     "output_type": "stream",
     "text": [
      "分析棋局:  11%|█▏        | 193/1686 [21:35<1:52:52,  4.54s/it]"
     ]
    },
    {
     "name": "stdout",
     "output_type": "stream",
     "text": [
      "\n",
      "—— Analyzing Game 195 ——\n",
      "White: minnesotachessmaster (1925), Black: promen1999 (2316)\n"
     ]
    },
    {
     "name": "stderr",
     "output_type": "stream",
     "text": [
      "分析棋局:  12%|█▏        | 194/1686 [21:40<2:02:46,  4.94s/it]"
     ]
    },
    {
     "name": "stdout",
     "output_type": "stream",
     "text": [
      "\n",
      "—— Analyzing Game 196 ——\n",
      "White: Bab3s (2112), Black: rhungaski (2422)\n"
     ]
    },
    {
     "name": "stderr",
     "output_type": "stream",
     "text": [
      "分析棋局:  12%|█▏        | 195/1686 [21:45<2:02:12,  4.92s/it]"
     ]
    },
    {
     "name": "stdout",
     "output_type": "stream",
     "text": [
      "\n",
      "—— Analyzing Game 197 ——\n",
      "White: alexsuper1987 (2045), Black: Baggio95 (2369)\n"
     ]
    },
    {
     "name": "stderr",
     "output_type": "stream",
     "text": [
      "分析棋局:  12%|█▏        | 196/1686 [21:50<1:58:47,  4.78s/it]"
     ]
    },
    {
     "name": "stdout",
     "output_type": "stream",
     "text": [
      "\n",
      "—— Analyzing Game 198 ——\n",
      "White: jlandaw (2277), Black: Yaacovn (2588)\n"
     ]
    },
    {
     "name": "stderr",
     "output_type": "stream",
     "text": [
      "分析棋局:  12%|█▏        | 197/1686 [21:53<1:49:04,  4.40s/it]"
     ]
    },
    {
     "name": "stdout",
     "output_type": "stream",
     "text": [
      "\n",
      "—— Analyzing Game 199 ——\n",
      "White: Byniolus (2316), Black: Mvpag (1880)\n"
     ]
    },
    {
     "name": "stderr",
     "output_type": "stream",
     "text": [
      "分析棋局:  12%|█▏        | 198/1686 [21:59<2:01:38,  4.90s/it]"
     ]
    },
    {
     "name": "stdout",
     "output_type": "stream",
     "text": [
      "\n",
      "—— Analyzing Game 200 ——\n",
      "White: FrankieJay (2180), Black: thegormacle (2488)\n"
     ]
    },
    {
     "name": "stderr",
     "output_type": "stream",
     "text": [
      "分析棋局:  12%|█▏        | 199/1686 [22:06<2:12:26,  5.34s/it]"
     ]
    },
    {
     "name": "stdout",
     "output_type": "stream",
     "text": [
      "\n",
      "—— Analyzing Game 201 ——\n",
      "White: DanielRensch (2354), Black: WanderingPuppet (2016)\n"
     ]
    },
    {
     "name": "stderr",
     "output_type": "stream",
     "text": [
      "分析棋局:  12%|█▏        | 200/1686 [22:10<2:07:09,  5.13s/it]"
     ]
    },
    {
     "name": "stdout",
     "output_type": "stream",
     "text": [
      "\n",
      "—— Analyzing Game 202 ——\n",
      "White: hitaman (2371), Black: gumersindo (2034)\n"
     ]
    },
    {
     "name": "stderr",
     "output_type": "stream",
     "text": [
      "分析棋局:  12%|█▏        | 201/1686 [22:17<2:14:36,  5.44s/it]"
     ]
    },
    {
     "name": "stdout",
     "output_type": "stream",
     "text": [
      "\n",
      "—— Analyzing Game 203 ——\n",
      "White: MoreChessJulia (1873), Black: bugsbunny444 (2310)\n"
     ]
    },
    {
     "name": "stderr",
     "output_type": "stream",
     "text": [
      "分析棋局:  12%|█▏        | 202/1686 [22:23<2:19:34,  5.64s/it]"
     ]
    },
    {
     "name": "stdout",
     "output_type": "stream",
     "text": [
      "\n",
      "—— Analyzing Game 204 ——\n",
      "White: juniortay (2212), Black: gmjlh (2500)\n"
     ]
    },
    {
     "name": "stderr",
     "output_type": "stream",
     "text": [
      "分析棋局:  12%|█▏        | 203/1686 [22:28<2:20:15,  5.67s/it]"
     ]
    },
    {
     "name": "stdout",
     "output_type": "stream",
     "text": [
      "\n",
      "—— Analyzing Game 205 ——\n",
      "White: Quinten94 (1967), Black: grandmastergauri (2351)\n"
     ]
    },
    {
     "name": "stderr",
     "output_type": "stream",
     "text": [
      "分析棋局:  12%|█▏        | 204/1686 [22:34<2:16:45,  5.54s/it]"
     ]
    },
    {
     "name": "stdout",
     "output_type": "stream",
     "text": [
      "\n",
      "—— Analyzing Game 206 ——\n",
      "White: stepanosinovsky (2307), Black: Vandros57 (1808)\n"
     ]
    },
    {
     "name": "stderr",
     "output_type": "stream",
     "text": [
      "分析棋局:  12%|█▏        | 205/1686 [22:41<2:28:00,  6.00s/it]"
     ]
    },
    {
     "name": "stdout",
     "output_type": "stream",
     "text": [
      "\n",
      "—— Analyzing Game 207 ——\n",
      "White: AungTZ (2182), Black: jcibarra (2429)\n"
     ]
    },
    {
     "name": "stderr",
     "output_type": "stream",
     "text": [
      "分析棋局:  12%|█▏        | 206/1686 [22:49<2:41:41,  6.55s/it]"
     ]
    },
    {
     "name": "stdout",
     "output_type": "stream",
     "text": [
      "\n",
      "—— Analyzing Game 208 ——\n",
      "White: Sebastian (2523), Black: IMLevAltounian (2203)\n"
     ]
    },
    {
     "name": "stderr",
     "output_type": "stream",
     "text": [
      "分析棋局:  12%|█▏        | 207/1686 [22:57<2:53:48,  7.05s/it]"
     ]
    },
    {
     "name": "stdout",
     "output_type": "stream",
     "text": [
      "\n",
      "—— Analyzing Game 209 ——\n",
      "White: jup1978 (2122), Black: GMHess (2435)\n"
     ]
    },
    {
     "name": "stderr",
     "output_type": "stream",
     "text": [
      "分析棋局:  12%|█▏        | 208/1686 [23:06<3:12:30,  7.82s/it]"
     ]
    },
    {
     "name": "stdout",
     "output_type": "stream",
     "text": [
      "\n",
      "—— Analyzing Game 210 ——\n",
      "White: wonderfultime (2515), Black: VSERGUEI (2135)\n"
     ]
    },
    {
     "name": "stderr",
     "output_type": "stream",
     "text": [
      "分析棋局:  12%|█▏        | 209/1686 [23:15<3:18:15,  8.05s/it]"
     ]
    },
    {
     "name": "stdout",
     "output_type": "stream",
     "text": [
      "\n",
      "—— Analyzing Game 211 ——\n",
      "White: DatsFunny (2095), Black: liczner (2406)\n"
     ]
    },
    {
     "name": "stderr",
     "output_type": "stream",
     "text": [
      "分析棋局:  12%|█▏        | 210/1686 [23:22<3:09:35,  7.71s/it]"
     ]
    },
    {
     "name": "stdout",
     "output_type": "stream",
     "text": [
      "\n",
      "—— Analyzing Game 212 ——\n",
      "White: lorcho (2376), Black: alturas_pacificas (2041)\n"
     ]
    },
    {
     "name": "stderr",
     "output_type": "stream",
     "text": [
      "分析棋局:  13%|█▎        | 211/1686 [23:29<3:03:39,  7.47s/it]"
     ]
    },
    {
     "name": "stdout",
     "output_type": "stream",
     "text": [
      "\n",
      "—— Analyzing Game 213 ——\n",
      "White: RitvarsReimanis (2246), Black: GMBenjaminBok (2605)\n"
     ]
    },
    {
     "name": "stderr",
     "output_type": "stream",
     "text": [
      "分析棋局:  13%|█▎        | 212/1686 [23:36<3:01:37,  7.39s/it]"
     ]
    },
    {
     "name": "stdout",
     "output_type": "stream",
     "text": [
      "\n",
      "—— Analyzing Game 214 ——\n",
      "White: AverageRecord (2602), Black: AlmirDzhumaev (2248)\n"
     ]
    },
    {
     "name": "stderr",
     "output_type": "stream",
     "text": [
      "分析棋局:  13%|█▎        | 213/1686 [23:43<2:59:06,  7.30s/it]"
     ]
    },
    {
     "name": "stdout",
     "output_type": "stream",
     "text": [
      "\n",
      "—— Analyzing Game 215 ——\n",
      "White: josiwales (1773), Black: 162a54f5d (2267)\n"
     ]
    },
    {
     "name": "stderr",
     "output_type": "stream",
     "text": [
      "分析棋局:  13%|█▎        | 214/1686 [23:54<3:25:55,  8.39s/it]"
     ]
    },
    {
     "name": "stdout",
     "output_type": "stream",
     "text": [
      "\n",
      "—— Analyzing Game 216 ——\n",
      "White: Nouki (2647), Black: DragonB70 (2256)\n"
     ]
    },
    {
     "name": "stderr",
     "output_type": "stream",
     "text": [
      "分析棋局:  13%|█▎        | 215/1686 [24:04<3:37:52,  8.89s/it]"
     ]
    },
    {
     "name": "stdout",
     "output_type": "stream",
     "text": [
      "\n",
      "—— Analyzing Game 217 ——\n",
      "White: ameet100 (2437), Black: pKiLz5Rn9b (2164)\n"
     ]
    },
    {
     "name": "stderr",
     "output_type": "stream",
     "text": [
      "分析棋局:  13%|█▎        | 216/1686 [24:12<3:28:46,  8.52s/it]"
     ]
    },
    {
     "name": "stdout",
     "output_type": "stream",
     "text": [
      "\n",
      "—— Analyzing Game 218 ——\n",
      "White: oggy1984 (2230), Black: GeorgMeier (2555)\n"
     ]
    },
    {
     "name": "stderr",
     "output_type": "stream",
     "text": [
      "分析棋局:  13%|█▎        | 217/1686 [24:21<3:33:36,  8.72s/it]"
     ]
    },
    {
     "name": "stdout",
     "output_type": "stream",
     "text": [
      "\n",
      "—— Analyzing Game 219 ——\n",
      "White: redchessman (2240), Black: IMRosen (1979)\n"
     ]
    },
    {
     "name": "stderr",
     "output_type": "stream",
     "text": [
      "分析棋局:  13%|█▎        | 218/1686 [24:30<3:32:41,  8.69s/it]"
     ]
    },
    {
     "name": "stdout",
     "output_type": "stream",
     "text": [
      "\n",
      "—— Analyzing Game 220 ——\n",
      "White: ChessWarrior7197 (1806), Black: GedoGluperd (2305)\n"
     ]
    },
    {
     "name": "stderr",
     "output_type": "stream",
     "text": [
      "分析棋局:  13%|█▎        | 219/1686 [24:44<4:16:25, 10.49s/it]"
     ]
    },
    {
     "name": "stdout",
     "output_type": "stream",
     "text": [
      "\n",
      "—— Analyzing Game 221 ——\n",
      "White: LePlusMortel (2391), Black: esr44 (2066)\n"
     ]
    },
    {
     "name": "stderr",
     "output_type": "stream",
     "text": [
      "分析棋局:  13%|█▎        | 220/1686 [24:56<4:28:50, 11.00s/it]"
     ]
    },
    {
     "name": "stdout",
     "output_type": "stream",
     "text": [
      "\n",
      "—— Analyzing Game 222 ——\n",
      "White: pedromartinez91 (2069), Black: VovAn1991 (2341)\n"
     ]
    },
    {
     "name": "stderr",
     "output_type": "stream",
     "text": [
      "分析棋局:  13%|█▎        | 221/1686 [25:04<4:06:21, 10.09s/it]"
     ]
    },
    {
     "name": "stdout",
     "output_type": "stream",
     "text": [
      "\n",
      "—— Analyzing Game 223 ——\n",
      "White: vovkcoach (2486), Black: Argente (2165)\n"
     ]
    },
    {
     "name": "stderr",
     "output_type": "stream",
     "text": [
      "分析棋局:  13%|█▎        | 222/1686 [25:16<4:14:56, 10.45s/it]"
     ]
    },
    {
     "name": "stdout",
     "output_type": "stream",
     "text": [
      "\n",
      "—— Analyzing Game 224 ——\n",
      "White: Chesseducation4u (2414), Black: patzerplay (2098)\n"
     ]
    },
    {
     "name": "stderr",
     "output_type": "stream",
     "text": [
      "分析棋局:  13%|█▎        | 224/1686 [25:28<3:10:01,  7.80s/it]"
     ]
    },
    {
     "name": "stdout",
     "output_type": "stream",
     "text": [
      "\n",
      "—— Analyzing Game 225 ——\n",
      "White: bugsbunny444 (2315), Black: AungTZ (2177)\n",
      "\n",
      "—— Analyzing Game 226 ——\n",
      "White: MattyDPerrine (2033), Black: MoreChessJulia (1868)\n"
     ]
    },
    {
     "name": "stderr",
     "output_type": "stream",
     "text": [
      "分析棋局:  13%|█▎        | 225/1686 [25:32<2:40:09,  6.58s/it]"
     ]
    },
    {
     "name": "stdout",
     "output_type": "stream",
     "text": [
      "\n",
      "—— Analyzing Game 227 ——\n",
      "White: jcibarra (2435), Black: Bab3s (2108)\n"
     ]
    },
    {
     "name": "stderr",
     "output_type": "stream",
     "text": [
      "分析棋局:  13%|█▎        | 226/1686 [25:34<2:08:32,  5.28s/it]"
     ]
    },
    {
     "name": "stdout",
     "output_type": "stream",
     "text": [
      "\n",
      "—— Analyzing Game 228 ——\n",
      "White: Yaacovn (2590), Black: juniortay (2210)\n"
     ]
    },
    {
     "name": "stderr",
     "output_type": "stream",
     "text": [
      "分析棋局:  13%|█▎        | 227/1686 [25:38<1:58:04,  4.86s/it]"
     ]
    },
    {
     "name": "stdout",
     "output_type": "stream",
     "text": [
      "\n",
      "—— Analyzing Game 229 ——\n",
      "White: Hafez_Bakr (1792), Black: gmjlh (2501)\n"
     ]
    },
    {
     "name": "stderr",
     "output_type": "stream",
     "text": [
      "分析棋局:  14%|█▎        | 228/1686 [25:45<2:11:10,  5.40s/it]"
     ]
    },
    {
     "name": "stdout",
     "output_type": "stream",
     "text": [
      "\n",
      "—— Analyzing Game 230 ——\n",
      "White: GMHess (2440), Black: promen1999 (2302)\n"
     ]
    },
    {
     "name": "stderr",
     "output_type": "stream",
     "text": [
      "分析棋局:  14%|█▎        | 229/1686 [25:51<2:16:40,  5.63s/it]"
     ]
    },
    {
     "name": "stdout",
     "output_type": "stream",
     "text": [
      "\n",
      "—— Analyzing Game 231 ——\n",
      "White: JamesColeman (2283), Black: DatsFunny (2091)\n"
     ]
    },
    {
     "name": "stderr",
     "output_type": "stream",
     "text": [
      "分析棋局:  14%|█▎        | 230/1686 [25:58<2:24:54,  5.97s/it]"
     ]
    },
    {
     "name": "stdout",
     "output_type": "stream",
     "text": [
      "\n",
      "—— Analyzing Game 232 ——\n",
      "White: Argente (2158), Black: oggy1984 (2237)\n"
     ]
    },
    {
     "name": "stderr",
     "output_type": "stream",
     "text": [
      "分析棋局:  14%|█▎        | 231/1686 [26:02<2:14:05,  5.53s/it]"
     ]
    },
    {
     "name": "stdout",
     "output_type": "stream",
     "text": [
      "\n",
      "—— Analyzing Game 233 ——\n",
      "White: IMLevAltounian (2229), Black: alexsuper1987 (2035)\n"
     ]
    },
    {
     "name": "stderr",
     "output_type": "stream",
     "text": [
      "分析棋局:  14%|█▍        | 232/1686 [26:08<2:12:31,  5.47s/it]"
     ]
    },
    {
     "name": "stdout",
     "output_type": "stream",
     "text": [
      "\n",
      "—— Analyzing Game 234 ——\n",
      "White: VSERGUEI (2260), Black: FrankieJay (2171)\n"
     ]
    },
    {
     "name": "stderr",
     "output_type": "stream",
     "text": [
      "分析棋局:  14%|█▍        | 233/1686 [26:13<2:15:00,  5.58s/it]"
     ]
    },
    {
     "name": "stdout",
     "output_type": "stream",
     "text": [
      "\n",
      "—— Analyzing Game 235 ——\n",
      "White: ChessWarrior7197 (1781), Black: josiwales (1789)\n"
     ]
    },
    {
     "name": "stderr",
     "output_type": "stream",
     "text": [
      "分析棋局:  14%|█▍        | 234/1686 [26:19<2:13:45,  5.53s/it]"
     ]
    },
    {
     "name": "stdout",
     "output_type": "stream",
     "text": [
      "\n",
      "—— Analyzing Game 236 ——\n",
      "White: GeorgMeier (2564), Black: David_Klein (2358)\n"
     ]
    },
    {
     "name": "stderr",
     "output_type": "stream",
     "text": [
      "分析棋局:  14%|█▍        | 235/1686 [26:24<2:12:03,  5.46s/it]"
     ]
    },
    {
     "name": "stdout",
     "output_type": "stream",
     "text": [
      "\n",
      "—— Analyzing Game 237 ——\n",
      "White: Baggio95 (2366), Black: Nouki (2650)\n"
     ]
    },
    {
     "name": "stderr",
     "output_type": "stream",
     "text": [
      "分析棋局:  14%|█▍        | 236/1686 [26:30<2:17:06,  5.67s/it]"
     ]
    },
    {
     "name": "stdout",
     "output_type": "stream",
     "text": [
      "\n",
      "—— Analyzing Game 238 ——\n",
      "White: DragonB70 (2242), Black: jup1978 (2135)\n"
     ]
    },
    {
     "name": "stderr",
     "output_type": "stream",
     "text": [
      "分析棋局:  14%|█▍        | 237/1686 [26:37<2:24:20,  5.98s/it]"
     ]
    },
    {
     "name": "stdout",
     "output_type": "stream",
     "text": [
      "\n",
      "—— Analyzing Game 239 ——\n",
      "White: gumersindo (2039), Black: Mvpag (1875)\n"
     ]
    },
    {
     "name": "stderr",
     "output_type": "stream",
     "text": [
      "分析棋局:  14%|█▍        | 238/1686 [26:43<2:25:37,  6.03s/it]"
     ]
    },
    {
     "name": "stdout",
     "output_type": "stream",
     "text": [
      "\n",
      "—— Analyzing Game 240 ——\n",
      "White: WanderingPuppet (2022), Black: minnesotachessmaster (1907)\n"
     ]
    },
    {
     "name": "stderr",
     "output_type": "stream",
     "text": [
      "分析棋局:  14%|█▍        | 239/1686 [26:51<2:37:03,  6.51s/it]"
     ]
    },
    {
     "name": "stdout",
     "output_type": "stream",
     "text": [
      "\n",
      "—— Analyzing Game 241 ——\n",
      "White: Byniolus (2342), Black: jlandaw (2266)\n"
     ]
    },
    {
     "name": "stderr",
     "output_type": "stream",
     "text": [
      "分析棋局:  14%|█▍        | 240/1686 [26:58<2:43:27,  6.78s/it]"
     ]
    },
    {
     "name": "stdout",
     "output_type": "stream",
     "text": [
      "\n",
      "—— Analyzing Game 242 ——\n",
      "White: grandmastergauri (2346), Black: vovkcoach (2491)\n"
     ]
    },
    {
     "name": "stderr",
     "output_type": "stream",
     "text": [
      "分析棋局:  14%|█▍        | 241/1686 [27:04<2:32:32,  6.33s/it]"
     ]
    },
    {
     "name": "stdout",
     "output_type": "stream",
     "text": [
      "\n",
      "—— Analyzing Game 243 ——\n",
      "White: Vandros57 (1802), Black: Quinten94 (2022)\n"
     ]
    },
    {
     "name": "stderr",
     "output_type": "stream",
     "text": [
      "分析棋局:  14%|█▍        | 242/1686 [27:10<2:31:53,  6.31s/it]"
     ]
    },
    {
     "name": "stdout",
     "output_type": "stream",
     "text": [
      "\n",
      "—— Analyzing Game 244 ——\n",
      "White: VovAn1991 (2348), Black: patzerplay (2093)\n"
     ]
    },
    {
     "name": "stderr",
     "output_type": "stream",
     "text": [
      "分析棋局:  14%|█▍        | 243/1686 [27:16<2:30:09,  6.24s/it]"
     ]
    },
    {
     "name": "stdout",
     "output_type": "stream",
     "text": [
      "\n",
      "—— Analyzing Game 245 ——\n",
      "White: pKiLz5Rn9b (2158), Black: RitvarsReimanis (2252)\n"
     ]
    },
    {
     "name": "stderr",
     "output_type": "stream",
     "text": [
      "分析棋局:  14%|█▍        | 244/1686 [27:23<2:38:38,  6.60s/it]"
     ]
    },
    {
     "name": "stdout",
     "output_type": "stream",
     "text": [
      "\n",
      "—— Analyzing Game 246 ——\n",
      "White: 162a54f5d (2310), Black: stepanosinovsky (2298)\n"
     ]
    },
    {
     "name": "stderr",
     "output_type": "stream",
     "text": [
      "分析棋局:  15%|█▍        | 245/1686 [27:30<2:41:11,  6.71s/it]"
     ]
    },
    {
     "name": "stdout",
     "output_type": "stream",
     "text": [
      "\n",
      "—— Analyzing Game 247 ——\n",
      "White: Sebastian (2528), Black: LePlusMortel (2376)\n"
     ]
    },
    {
     "name": "stderr",
     "output_type": "stream",
     "text": [
      "分析棋局:  15%|█▍        | 246/1686 [27:39<2:55:23,  7.31s/it]"
     ]
    },
    {
     "name": "stdout",
     "output_type": "stream",
     "text": [
      "\n",
      "—— Analyzing Game 248 ——\n",
      "White: ameet100 (2428), Black: Chesseducation4u (2423)\n"
     ]
    },
    {
     "name": "stderr",
     "output_type": "stream",
     "text": [
      "分析棋局:  15%|█▍        | 247/1686 [27:45<2:47:15,  6.97s/it]"
     ]
    },
    {
     "name": "stdout",
     "output_type": "stream",
     "text": [
      "\n",
      "—— Analyzing Game 249 ——\n",
      "White: GedoGluperd (2311), Black: pedromartinez91 (2066)\n"
     ]
    },
    {
     "name": "stderr",
     "output_type": "stream",
     "text": [
      "分析棋局:  15%|█▍        | 248/1686 [27:56<3:12:41,  8.04s/it]"
     ]
    },
    {
     "name": "stdout",
     "output_type": "stream",
     "text": [
      "\n",
      "—— Analyzing Game 250 ——\n",
      "White: IMRosen (1983), Black: Zhani-Z (1700)\n"
     ]
    },
    {
     "name": "stderr",
     "output_type": "stream",
     "text": [
      "分析棋局:  15%|█▍        | 249/1686 [28:05<3:18:08,  8.27s/it]"
     ]
    },
    {
     "name": "stdout",
     "output_type": "stream",
     "text": [
      "\n",
      "—— Analyzing Game 251 ——\n",
      "White: wonderfultime (2504), Black: DanielRensch (2368)\n"
     ]
    },
    {
     "name": "stderr",
     "output_type": "stream",
     "text": [
      "分析棋局:  15%|█▍        | 250/1686 [28:12<3:13:25,  8.08s/it]"
     ]
    },
    {
     "name": "stdout",
     "output_type": "stream",
     "text": [
      "\n",
      "—— Analyzing Game 252 ——\n",
      "White: Dlugy (2584), Black: lorcho (2390)\n"
     ]
    },
    {
     "name": "stderr",
     "output_type": "stream",
     "text": [
      "分析棋局:  15%|█▍        | 251/1686 [28:20<3:10:22,  7.96s/it]"
     ]
    },
    {
     "name": "stdout",
     "output_type": "stream",
     "text": [
      "\n",
      "—— Analyzing Game 253 ——\n",
      "White: GMBenjaminBok (2621), Black: hitaman (2360)\n"
     ]
    },
    {
     "name": "stderr",
     "output_type": "stream",
     "text": [
      "分析棋局:  15%|█▍        | 252/1686 [28:30<3:29:28,  8.76s/it]"
     ]
    },
    {
     "name": "stdout",
     "output_type": "stream",
     "text": [
      "\n",
      "—— Analyzing Game 254 ——\n",
      "White: bsmail (2102), Black: redchessman (2273)\n"
     ]
    },
    {
     "name": "stderr",
     "output_type": "stream",
     "text": [
      "分析棋局:  15%|█▌        | 253/1686 [28:37<3:14:16,  8.13s/it]"
     ]
    },
    {
     "name": "stdout",
     "output_type": "stream",
     "text": [
      "\n",
      "—— Analyzing Game 255 ——\n",
      "White: Philofive (2227), Black: alturas_pacificas (2045)\n"
     ]
    },
    {
     "name": "stderr",
     "output_type": "stream",
     "text": [
      "分析棋局:  15%|█▌        | 254/1686 [28:47<3:25:47,  8.62s/it]"
     ]
    },
    {
     "name": "stdout",
     "output_type": "stream",
     "text": [
      "\n",
      "—— Analyzing Game 256 ——\n",
      "White: rhungaski (2422), Black: GulamaliRises (2428)\n"
     ]
    },
    {
     "name": "stderr",
     "output_type": "stream",
     "text": [
      "分析棋局:  15%|█▌        | 255/1686 [29:06<4:41:16, 11.79s/it]"
     ]
    },
    {
     "name": "stdout",
     "output_type": "stream",
     "text": [
      "\n",
      "—— Analyzing Game 257 ——\n",
      "White: thegormacle (2478), Black: liczner (2416)\n"
     ]
    },
    {
     "name": "stderr",
     "output_type": "stream",
     "text": [
      "分析棋局:  15%|█▌        | 256/1686 [29:25<5:29:26, 13.82s/it]"
     ]
    },
    {
     "name": "stdout",
     "output_type": "stream",
     "text": [
      "\n",
      "—— Analyzing Game 258 ——\n",
      "White: AlmirDzhumaev (2252), Black: esr44 (2062)\n"
     ]
    },
    {
     "name": "stderr",
     "output_type": "stream",
     "text": [
      "分析棋局:  15%|█▌        | 257/1686 [29:42<5:55:51, 14.94s/it]"
     ]
    },
    {
     "name": "stdout",
     "output_type": "stream",
     "text": [
      "\n",
      "—— Analyzing Game 259 ——\n",
      "White: pKiLz5Rn9b (2161), Black: minnesotachessmaster (1898)\n"
     ]
    },
    {
     "name": "stderr",
     "output_type": "stream",
     "text": [
      "分析棋局:  15%|█▌        | 258/1686 [29:49<4:56:19, 12.45s/it]"
     ]
    },
    {
     "name": "stdout",
     "output_type": "stream",
     "text": [
      "\n",
      "—— Analyzing Game 260 ——\n",
      "White: hitaman (2376), Black: IMLevAltounian (2203)\n"
     ]
    },
    {
     "name": "stderr",
     "output_type": "stream",
     "text": [
      "分析棋局:  15%|█▌        | 259/1686 [29:57<4:23:32, 11.08s/it]"
     ]
    },
    {
     "name": "stdout",
     "output_type": "stream",
     "text": [
      "\n",
      "—— Analyzing Game 261 ——\n",
      "White: promen1999 (2305), Black: Baggio95 (2365)\n"
     ]
    },
    {
     "name": "stderr",
     "output_type": "stream",
     "text": [
      "分析棋局:  15%|█▌        | 260/1686 [30:05<4:00:18, 10.11s/it]"
     ]
    },
    {
     "name": "stdout",
     "output_type": "stream",
     "text": [
      "\n",
      "—— Analyzing Game 262 ——\n",
      "White: Argente (2166), Black: Bab3s (2096)\n"
     ]
    },
    {
     "name": "stderr",
     "output_type": "stream",
     "text": [
      "分析棋局:  15%|█▌        | 261/1686 [30:12<3:37:38,  9.16s/it]"
     ]
    },
    {
     "name": "stdout",
     "output_type": "stream",
     "text": [
      "\n",
      "—— Analyzing Game 263 ——\n",
      "White: GulamaliRises (2418), Black: Dlugy (2589)\n"
     ]
    },
    {
     "name": "stderr",
     "output_type": "stream",
     "text": [
      "分析棋局:  16%|█▌        | 262/1686 [30:24<4:00:51, 10.15s/it]"
     ]
    },
    {
     "name": "stdout",
     "output_type": "stream",
     "text": [
      "\n",
      "—— Analyzing Game 264 ——\n",
      "White: jcibarra (2446), Black: JamesColeman (2278)\n"
     ]
    },
    {
     "name": "stderr",
     "output_type": "stream",
     "text": [
      "分析棋局:  16%|█▌        | 263/1686 [30:34<4:02:54, 10.24s/it]"
     ]
    },
    {
     "name": "stdout",
     "output_type": "stream",
     "text": [
      "\n",
      "—— Analyzing Game 265 ——\n",
      "White: Zhani-Z (1747), Black: Hafez_Bakr (1782)\n"
     ]
    },
    {
     "name": "stderr",
     "output_type": "stream",
     "text": [
      "分析棋局:  16%|█▌        | 264/1686 [30:46<4:08:48, 10.50s/it]"
     ]
    },
    {
     "name": "stdout",
     "output_type": "stream",
     "text": [
      "\n",
      "—— Analyzing Game 266 ——\n",
      "White: patzerplay (2085), Black: DragonB70 (2248)\n"
     ]
    },
    {
     "name": "stderr",
     "output_type": "stream",
     "text": [
      "分析棋局:  16%|█▌        | 265/1686 [30:55<3:58:33, 10.07s/it]"
     ]
    },
    {
     "name": "stdout",
     "output_type": "stream",
     "text": [
      "\n",
      "—— Analyzing Game 267 ——\n",
      "White: David_Klein (2366), Black: redchessman (2238)\n"
     ]
    },
    {
     "name": "stderr",
     "output_type": "stream",
     "text": [
      "分析棋局:  16%|█▌        | 266/1686 [31:05<3:57:18, 10.03s/it]"
     ]
    },
    {
     "name": "stdout",
     "output_type": "stream",
     "text": [
      "\n",
      "—— Analyzing Game 268 ——\n",
      "White: jup1978 (2123), Black: WanderingPuppet (2032)\n"
     ]
    },
    {
     "name": "stderr",
     "output_type": "stream",
     "text": [
      "分析棋局:  16%|█▌        | 267/1686 [31:17<4:13:09, 10.70s/it]"
     ]
    },
    {
     "name": "stdout",
     "output_type": "stream",
     "text": [
      "\n",
      "—— Analyzing Game 269 ——\n",
      "White: vovkcoach (2496), Black: Byniolus (2325)\n"
     ]
    },
    {
     "name": "stderr",
     "output_type": "stream",
     "text": [
      "分析棋局:  16%|█▌        | 268/1686 [31:28<4:15:40, 10.82s/it]"
     ]
    },
    {
     "name": "stdout",
     "output_type": "stream",
     "text": [
      "\n",
      "—— Analyzing Game 270 ——\n",
      "White: MoreChessJulia (1875), Black: Vandros57 (1794)\n"
     ]
    },
    {
     "name": "stderr",
     "output_type": "stream",
     "text": [
      "分析棋局:  16%|█▌        | 269/1686 [31:41<4:28:55, 11.39s/it]"
     ]
    },
    {
     "name": "stdout",
     "output_type": "stream",
     "text": [
      "\n",
      "—— Analyzing Game 271 ——\n",
      "White: gmjlh (2521), Black: rhungaski (2416)\n"
     ]
    },
    {
     "name": "stderr",
     "output_type": "stream",
     "text": [
      "分析棋局:  16%|█▌        | 270/1686 [31:59<5:18:36, 13.50s/it]"
     ]
    },
    {
     "name": "stdout",
     "output_type": "stream",
     "text": [
      "\n",
      "—— Analyzing Game 272 ——\n",
      "White: LePlusMortel (2394), Black: stepanosinovsky (2292)\n"
     ]
    },
    {
     "name": "stderr",
     "output_type": "stream",
     "text": [
      "分析棋局:  16%|█▌        | 271/1686 [32:11<5:09:09, 13.11s/it]"
     ]
    },
    {
     "name": "stdout",
     "output_type": "stream",
     "text": [
      "\n",
      "—— Analyzing Game 273 ——\n",
      "White: alturas_pacificas (2057), Black: juniortay (2198)\n"
     ]
    },
    {
     "name": "stderr",
     "output_type": "stream",
     "text": [
      "分析棋局:  16%|█▌        | 272/1686 [32:22<4:50:22, 12.32s/it]"
     ]
    },
    {
     "name": "stdout",
     "output_type": "stream",
     "text": [
      "\n",
      "—— Analyzing Game 274 ——\n",
      "White: VovAn1991 (2359), Black: oggy1984 (2231)\n"
     ]
    },
    {
     "name": "stderr",
     "output_type": "stream",
     "text": [
      "分析棋局:  16%|█▌        | 273/1686 [32:38<5:16:22, 13.43s/it]"
     ]
    },
    {
     "name": "stdout",
     "output_type": "stream",
     "text": [
      "\n",
      "—— Analyzing Game 275 ——\n",
      "White: Mvpag (1888), Black: bsmail (2089)\n"
     ]
    },
    {
     "name": "stderr",
     "output_type": "stream",
     "text": [
      "分析棋局:  16%|█▋        | 274/1686 [32:50<5:05:30, 12.98s/it]"
     ]
    },
    {
     "name": "stdout",
     "output_type": "stream",
     "text": [
      "\n",
      "—— Analyzing Game 276 ——\n",
      "White: RitvarsReimanis (2248), Black: ameet100 (2432)\n"
     ]
    },
    {
     "name": "stderr",
     "output_type": "stream",
     "text": [
      "分析棋局:  16%|█▋        | 275/1686 [33:04<5:13:18, 13.32s/it]"
     ]
    },
    {
     "name": "stdout",
     "output_type": "stream",
     "text": [
      "\n",
      "—— Analyzing Game 277 ——\n",
      "White: gumersindo (2047), Black: MattyDPerrine (2025)\n"
     ]
    },
    {
     "name": "stderr",
     "output_type": "stream",
     "text": [
      "分析棋局:  16%|█▋        | 276/1686 [33:18<5:21:17, 13.67s/it]"
     ]
    },
    {
     "name": "stdout",
     "output_type": "stream",
     "text": [
      "\n",
      "—— Analyzing Game 278 ——\n",
      "White: lorcho (2377), Black: Yaacovn (2594)\n"
     ]
    },
    {
     "name": "stderr",
     "output_type": "stream",
     "text": [
      "分析棋局:  16%|█▋        | 277/1686 [33:40<6:15:48, 16.00s/it]"
     ]
    },
    {
     "name": "stdout",
     "output_type": "stream",
     "text": [
      "\n",
      "—— Analyzing Game 279 ——\n",
      "White: esr44 (2056), Black: FrankieJay (2177)\n"
     ]
    },
    {
     "name": "stderr",
     "output_type": "stream",
     "text": [
      "分析棋局:  16%|█▋        | 278/1686 [33:55<6:13:10, 15.90s/it]"
     ]
    },
    {
     "name": "stdout",
     "output_type": "stream",
     "text": [
      "\n",
      "—— Analyzing Game 280 ——\n",
      "White: josiwales (1815), Black: Philofive (2212)\n"
     ]
    },
    {
     "name": "stderr",
     "output_type": "stream",
     "text": [
      "分析棋局:  17%|█▋        | 279/1686 [34:13<6:26:19, 16.47s/it]"
     ]
    },
    {
     "name": "stdout",
     "output_type": "stream",
     "text": [
      "\n",
      "—— Analyzing Game 281 ——\n",
      "White: GMHess (2450), Black: Sebastian (2518)\n"
     ]
    },
    {
     "name": "stderr",
     "output_type": "stream",
     "text": [
      "分析棋局:  17%|█▋        | 280/1686 [34:34<6:52:49, 17.62s/it]"
     ]
    },
    {
     "name": "stdout",
     "output_type": "stream",
     "text": [
      "\n",
      "—— Analyzing Game 282 ——\n",
      "White: thegormacle (2465), Black: AlmirDzhumaev (2265)\n"
     ]
    },
    {
     "name": "stderr",
     "output_type": "stream",
     "text": [
      "分析棋局:  17%|█▋        | 281/1686 [34:53<7:04:35, 18.13s/it]"
     ]
    },
    {
     "name": "stdout",
     "output_type": "stream",
     "text": [
      "\n",
      "—— Analyzing Game 283 ——\n",
      "White: pedromartinez91 (2057), Black: Quinten94 (2102)\n"
     ]
    },
    {
     "name": "stderr",
     "output_type": "stream",
     "text": [
      "分析棋局:  17%|█▋        | 282/1686 [35:07<6:38:18, 17.02s/it]"
     ]
    },
    {
     "name": "stdout",
     "output_type": "stream",
     "text": [
      "\n",
      "—— Analyzing Game 284 ——\n",
      "White: GMBenjaminBok (2635), Black: DanielRensch (2364)\n"
     ]
    },
    {
     "name": "stderr",
     "output_type": "stream",
     "text": [
      "分析棋局:  17%|█▋        | 283/1686 [35:29<7:09:46, 18.38s/it]"
     ]
    },
    {
     "name": "stdout",
     "output_type": "stream",
     "text": [
      "\n",
      "—— Analyzing Game 285 ——\n",
      "White: jlandaw (2273), Black: wonderfultime (2499)\n"
     ]
    },
    {
     "name": "stderr",
     "output_type": "stream",
     "text": [
      "分析棋局:  17%|█▋        | 284/1686 [35:49<7:23:50, 18.99s/it]"
     ]
    },
    {
     "name": "stdout",
     "output_type": "stream",
     "text": [
      "\n",
      "—— Analyzing Game 286 ——\n",
      "White: liczner (2413), Black: Nouki (2653)\n"
     ]
    },
    {
     "name": "stderr",
     "output_type": "stream",
     "text": [
      "分析棋局:  17%|█▋        | 285/1686 [36:11<7:43:57, 19.87s/it]"
     ]
    },
    {
     "name": "stdout",
     "output_type": "stream",
     "text": [
      "\n",
      "—— Analyzing Game 287 ——\n",
      "White: grandmastergauri (2336), Black: VSERGUEI (2373)\n"
     ]
    },
    {
     "name": "stderr",
     "output_type": "stream",
     "text": [
      "分析棋局:  17%|█▋        | 286/1686 [36:29<7:29:34, 19.27s/it]"
     ]
    },
    {
     "name": "stdout",
     "output_type": "stream",
     "text": [
      "\n",
      "—— Analyzing Game 288 ——\n",
      "White: GedoGluperd (2315), Black: IMRosen (1980)\n"
     ]
    },
    {
     "name": "stderr",
     "output_type": "stream",
     "text": [
      "分析棋局:  17%|█▋        | 287/1686 [36:51<7:48:15, 20.08s/it]"
     ]
    },
    {
     "name": "stdout",
     "output_type": "stream",
     "text": [
      "\n",
      "—— Analyzing Game 289 ——\n",
      "White: bugsbunny444 (2315), Black: 162a54f5d (2310)\n"
     ]
    },
    {
     "name": "stderr",
     "output_type": "stream",
     "text": [
      "分析棋局:  17%|█▋        | 288/1686 [37:08<7:28:35, 19.25s/it]"
     ]
    },
    {
     "name": "stdout",
     "output_type": "stream",
     "text": [
      "\n",
      "—— Analyzing Game 290 ——\n",
      "White: GeorgMeier (2574), Black: Chesseducation4u (2418)\n"
     ]
    },
    {
     "name": "stderr",
     "output_type": "stream",
     "text": [
      "分析棋局:  17%|█▋        | 289/1686 [37:24<7:03:58, 18.21s/it]"
     ]
    },
    {
     "name": "stdout",
     "output_type": "stream",
     "text": [
      "\n",
      "—— Analyzing Game 291 ——\n",
      "White: Hafez_Bakr (1776), Black: MoreChessJulia (1881)\n"
     ]
    },
    {
     "name": "stderr",
     "output_type": "stream",
     "text": [
      "分析棋局:  17%|█▋        | 290/1686 [37:30<5:38:01, 14.53s/it]"
     ]
    },
    {
     "name": "stdout",
     "output_type": "stream",
     "text": [
      "\n",
      "—— Analyzing Game 292 ——\n",
      "White: Chesseducation4u (2409), Black: hitaman (2401)\n"
     ]
    },
    {
     "name": "stderr",
     "output_type": "stream",
     "text": [
      "分析棋局:  17%|█▋        | 291/1686 [37:35<4:28:25, 11.55s/it]"
     ]
    },
    {
     "name": "stdout",
     "output_type": "stream",
     "text": [
      "\n",
      "—— Analyzing Game 293 ——\n",
      "White: grandmastergauri (2340), Black: Argente (2161)\n"
     ]
    },
    {
     "name": "stderr",
     "output_type": "stream",
     "text": [
      "分析棋局:  17%|█▋        | 292/1686 [37:46<4:29:38, 11.61s/it]"
     ]
    },
    {
     "name": "stdout",
     "output_type": "stream",
     "text": [
      "\n",
      "—— Analyzing Game 294 ——\n",
      "White: gmjlh (2532), Black: 162a54f5d (2294)\n"
     ]
    },
    {
     "name": "stderr",
     "output_type": "stream",
     "text": [
      "分析棋局:  17%|█▋        | 293/1686 [37:54<4:00:12, 10.35s/it]"
     ]
    },
    {
     "name": "stdout",
     "output_type": "stream",
     "text": [
      "\n",
      "—— Analyzing Game 295 ——\n",
      "White: patzerplay (2089), Black: Vandros57 (1791)\n"
     ]
    },
    {
     "name": "stderr",
     "output_type": "stream",
     "text": [
      "分析棋局:  17%|█▋        | 294/1686 [38:01<3:36:06,  9.32s/it]"
     ]
    },
    {
     "name": "stdout",
     "output_type": "stream",
     "text": [
      "\n",
      "—— Analyzing Game 296 ——\n",
      "White: rhungaski (2421), Black: jlandaw (2266)\n"
     ]
    },
    {
     "name": "stderr",
     "output_type": "stream",
     "text": [
      "分析棋局:  17%|█▋        | 295/1686 [38:12<3:52:00, 10.01s/it]"
     ]
    },
    {
     "name": "stdout",
     "output_type": "stream",
     "text": [
      "\n",
      "—— Analyzing Game 297 ——\n",
      "White: JamesColeman (2283), Black: jup1978 (2118)\n"
     ]
    },
    {
     "name": "stderr",
     "output_type": "stream",
     "text": [
      "分析棋局:  18%|█▊        | 296/1686 [38:28<4:33:44, 11.82s/it]"
     ]
    },
    {
     "name": "stdout",
     "output_type": "stream",
     "text": [
      "\n",
      "—— Analyzing Game 298 ——\n",
      "White: WanderingPuppet (2028), Black: josiwales (1823)\n"
     ]
    },
    {
     "name": "stderr",
     "output_type": "stream",
     "text": [
      "分析棋局:  18%|█▊        | 297/1686 [38:44<5:01:16, 13.01s/it]"
     ]
    },
    {
     "name": "stdout",
     "output_type": "stream",
     "text": [
      "\n",
      "—— Analyzing Game 299 ——\n",
      "White: GMBenjaminBok (2588), Black: GMHess (2462)\n"
     ]
    },
    {
     "name": "stderr",
     "output_type": "stream",
     "text": [
      "分析棋局:  18%|█▊        | 298/1686 [38:52<4:28:33, 11.61s/it]"
     ]
    },
    {
     "name": "stdout",
     "output_type": "stream",
     "text": [
      "\n",
      "—— Analyzing Game 300 ——\n",
      "White: stepanosinovsky (2281), Black: FrankieJay (2188)\n"
     ]
    },
    {
     "name": "stderr",
     "output_type": "stream",
     "text": [
      "分析棋局:  18%|█▊        | 299/1686 [39:02<4:16:28, 11.10s/it]"
     ]
    },
    {
     "name": "stdout",
     "output_type": "stream",
     "text": [
      "\n",
      "—— Analyzing Game 301 ——\n",
      "White: Mvpag (1878), Black: ChessWarrior7197 (1809)\n"
     ]
    },
    {
     "name": "stderr",
     "output_type": "stream",
     "text": [
      "分析棋局:  18%|█▊        | 300/1686 [39:14<4:22:15, 11.35s/it]"
     ]
    },
    {
     "name": "stdout",
     "output_type": "stream",
     "text": [
      "\n",
      "—— Analyzing Game 302 ——\n",
      "White: bsmail (2096), Black: esr44 (2049)\n"
     ]
    },
    {
     "name": "stderr",
     "output_type": "stream",
     "text": [
      "分析棋局:  18%|█▊        | 301/1686 [39:29<4:46:53, 12.43s/it]"
     ]
    },
    {
     "name": "stdout",
     "output_type": "stream",
     "text": [
      "\n",
      "—— Analyzing Game 303 ——\n",
      "White: Sebastian (2522), Black: Byniolus (2312)\n"
     ]
    },
    {
     "name": "stderr",
     "output_type": "stream",
     "text": [
      "分析棋局:  18%|█▊        | 302/1686 [39:42<4:49:43, 12.56s/it]"
     ]
    },
    {
     "name": "stdout",
     "output_type": "stream",
     "text": [
      "\n",
      "—— Analyzing Game 304 ——\n",
      "White: LePlusMortel (2371), Black: VovAn1991 (2376)\n"
     ]
    },
    {
     "name": "stderr",
     "output_type": "stream",
     "text": [
      "分析棋局:  18%|█▊        | 303/1686 [39:54<4:45:58, 12.41s/it]"
     ]
    },
    {
     "name": "stdout",
     "output_type": "stream",
     "text": [
      "\n",
      "—— Analyzing Game 305 ——\n",
      "White: Yaacovn (2597), Black: DanielRensch (2360)\n"
     ]
    },
    {
     "name": "stderr",
     "output_type": "stream",
     "text": [
      "分析棋局:  18%|█▊        | 304/1686 [40:06<4:40:39, 12.18s/it]"
     ]
    },
    {
     "name": "stdout",
     "output_type": "stream",
     "text": [
      "\n",
      "—— Analyzing Game 306 ——\n",
      "White: wonderfultime (2504), Black: lorcho (2361)\n"
     ]
    },
    {
     "name": "stderr",
     "output_type": "stream",
     "text": [
      "分析棋局:  18%|█▊        | 305/1686 [40:22<5:05:11, 13.26s/it]"
     ]
    },
    {
     "name": "stdout",
     "output_type": "stream",
     "text": [
      "\n",
      "—— Analyzing Game 307 ——\n",
      "White: alturas_pacificas (2056), Black: thegormacle (2466)\n"
     ]
    },
    {
     "name": "stderr",
     "output_type": "stream",
     "text": [
      "分析棋局:  18%|█▊        | 306/1686 [40:39<5:31:59, 14.43s/it]"
     ]
    },
    {
     "name": "stdout",
     "output_type": "stream",
     "text": [
      "\n",
      "—— Analyzing Game 308 ——\n",
      "White: Quinten94 (2053), Black: Zhani-Z (1774)\n"
     ]
    },
    {
     "name": "stderr",
     "output_type": "stream",
     "text": [
      "分析棋局:  18%|█▊        | 307/1686 [40:53<5:31:08, 14.41s/it]"
     ]
    },
    {
     "name": "stdout",
     "output_type": "stream",
     "text": [
      "\n",
      "—— Analyzing Game 309 ——\n",
      "White: GeorgMeier (2580), Black: GedoGluperd (2310)\n"
     ]
    },
    {
     "name": "stderr",
     "output_type": "stream",
     "text": [
      "分析棋局:  18%|█▊        | 308/1686 [41:13<6:06:10, 15.94s/it]"
     ]
    },
    {
     "name": "stdout",
     "output_type": "stream",
     "text": [
      "\n",
      "—— Analyzing Game 310 ——\n",
      "White: liczner (2420), Black: VSERGUEI (2301)\n"
     ]
    },
    {
     "name": "stderr",
     "output_type": "stream",
     "text": [
      "分析棋局:  18%|█▊        | 309/1686 [41:23<5:27:05, 14.25s/it]"
     ]
    },
    {
     "name": "stdout",
     "output_type": "stream",
     "text": [
      "\n",
      "—— Analyzing Game 311 ——\n",
      "White: AlmirDzhumaev (2277), Black: ameet100 (2420)\n"
     ]
    },
    {
     "name": "stderr",
     "output_type": "stream",
     "text": [
      "分析棋局:  18%|█▊        | 310/1686 [41:40<5:44:19, 15.01s/it]"
     ]
    },
    {
     "name": "stdout",
     "output_type": "stream",
     "text": [
      "\n",
      "—— Analyzing Game 312 ——\n",
      "White: Dlugy (2592), Black: bugsbunny444 (2312)\n"
     ]
    },
    {
     "name": "stderr",
     "output_type": "stream",
     "text": [
      "分析棋局:  18%|█▊        | 311/1686 [41:59<6:10:46, 16.18s/it]"
     ]
    },
    {
     "name": "stdout",
     "output_type": "stream",
     "text": [
      "\n",
      "—— Analyzing Game 313 ——\n",
      "White: Nouki (2658), Black: vovkcoach (2491)\n"
     ]
    },
    {
     "name": "stderr",
     "output_type": "stream",
     "text": [
      "分析棋局:  19%|█▊        | 312/1686 [42:16<6:21:03, 16.64s/it]"
     ]
    },
    {
     "name": "stdout",
     "output_type": "stream",
     "text": [
      "\n",
      "—— Analyzing Game 314 ——\n",
      "White: Bab3s (2075), Black: minnesotachessmaster (1931)\n"
     ]
    },
    {
     "name": "stderr",
     "output_type": "stream",
     "text": [
      "分析棋局:  19%|█▊        | 313/1686 [42:30<6:02:58, 15.86s/it]"
     ]
    },
    {
     "name": "stdout",
     "output_type": "stream",
     "text": [
      "\n",
      "—— Analyzing Game 315 ——\n",
      "White: DragonB70 (2247), Black: IMLevAltounian (2207)\n"
     ]
    },
    {
     "name": "stderr",
     "output_type": "stream",
     "text": [
      "分析棋局:  19%|█▊        | 314/1686 [42:46<6:01:50, 15.82s/it]"
     ]
    },
    {
     "name": "stdout",
     "output_type": "stream",
     "text": [
      "\n",
      "—— Analyzing Game 316 ——\n",
      "White: redchessman (2270), Black: pKiLz5Rn9b (2155)\n"
     ]
    },
    {
     "name": "stderr",
     "output_type": "stream",
     "text": [
      "分析棋局:  19%|█▊        | 315/1686 [43:03<6:07:01, 16.06s/it]"
     ]
    },
    {
     "name": "stdout",
     "output_type": "stream",
     "text": [
      "\n",
      "—— Analyzing Game 317 ——\n",
      "White: oggy1984 (2219), Black: MattyDPerrine (2037)\n"
     ]
    },
    {
     "name": "stderr",
     "output_type": "stream",
     "text": [
      "分析棋局:  19%|█▊        | 316/1686 [43:18<6:03:01, 15.90s/it]"
     ]
    },
    {
     "name": "stdout",
     "output_type": "stream",
     "text": [
      "\n",
      "—— Analyzing Game 318 ——\n",
      "White: Philofive (2212), Black: juniortay (2198)\n"
     ]
    },
    {
     "name": "stderr",
     "output_type": "stream",
     "text": [
      "分析棋局:  19%|█▉        | 317/1686 [43:34<6:02:40, 15.90s/it]"
     ]
    },
    {
     "name": "stdout",
     "output_type": "stream",
     "text": [
      "\n",
      "—— Analyzing Game 319 ——\n",
      "White: IMRosen (1982), Black: gumersindo (2045)\n"
     ]
    },
    {
     "name": "stderr",
     "output_type": "stream",
     "text": [
      "分析棋局:  19%|█▉        | 318/1686 [43:49<5:57:17, 15.67s/it]"
     ]
    },
    {
     "name": "stdout",
     "output_type": "stream",
     "text": [
      "\n",
      "—— Analyzing Game 320 ——\n",
      "White: Baggio95 (2366), Black: GulamaliRises (2416)\n"
     ]
    },
    {
     "name": "stderr",
     "output_type": "stream",
     "text": [
      "分析棋局:  19%|█▉        | 319/1686 [44:13<6:53:03, 18.13s/it]"
     ]
    },
    {
     "name": "stdout",
     "output_type": "stream",
     "text": [
      "\n",
      "—— Analyzing Game 321 ——\n",
      "White: David_Klein (2358), Black: jcibarra (2460)\n"
     ]
    },
    {
     "name": "stderr",
     "output_type": "stream",
     "text": [
      "分析棋局:  19%|█▉        | 320/1686 [44:33<7:04:05, 18.63s/it]"
     ]
    },
    {
     "name": "stdout",
     "output_type": "stream",
     "text": [
      "\n",
      "—— Analyzing Game 322 ——\n",
      "White: RitvarsReimanis (2244), Black: pedromartinez91 (2061)\n"
     ]
    },
    {
     "name": "stderr",
     "output_type": "stream",
     "text": [
      "分析棋局:  19%|█▉        | 321/1686 [44:58<7:48:51, 20.61s/it]"
     ]
    },
    {
     "name": "stdout",
     "output_type": "stream",
     "text": [
      "\n",
      "—— Analyzing Game 323 ——\n",
      "White: Philofive (2218), Black: jup1978 (2111)\n"
     ]
    },
    {
     "name": "stderr",
     "output_type": "stream",
     "text": [
      "分析棋局:  19%|█▉        | 322/1686 [45:07<6:30:44, 17.19s/it]"
     ]
    },
    {
     "name": "stdout",
     "output_type": "stream",
     "text": [
      "\n",
      "—— Analyzing Game 324 ——\n",
      "White: Zhani-Z (1845), Black: thegormacle (2450)\n"
     ]
    },
    {
     "name": "stderr",
     "output_type": "stream",
     "text": [
      "分析棋局:  19%|█▉        | 323/1686 [45:16<5:34:55, 14.74s/it]"
     ]
    },
    {
     "name": "stdout",
     "output_type": "stream",
     "text": [
      "\n",
      "—— Analyzing Game 325 ——\n",
      "White: DragonB70 (2229), Black: ChessWarrior7197 (1848)\n"
     ]
    },
    {
     "name": "stderr",
     "output_type": "stream",
     "text": [
      "分析棋局:  19%|█▉        | 324/1686 [45:26<4:57:15, 13.10s/it]"
     ]
    },
    {
     "name": "stdout",
     "output_type": "stream",
     "text": [
      "\n",
      "—— Analyzing Game 326 ——\n",
      "White: bugsbunny444 (2299), Black: Quinten94 (2150)\n"
     ]
    },
    {
     "name": "stderr",
     "output_type": "stream",
     "text": [
      "分析棋局:  19%|█▉        | 325/1686 [45:35<4:30:26, 11.92s/it]"
     ]
    },
    {
     "name": "stdout",
     "output_type": "stream",
     "text": [
      "\n",
      "—— Analyzing Game 327 ——\n",
      "White: minnesotachessmaster (1943), Black: Argente (2156)\n"
     ]
    },
    {
     "name": "stderr",
     "output_type": "stream",
     "text": [
      "分析棋局:  19%|█▉        | 326/1686 [45:47<4:29:41, 11.90s/it]"
     ]
    },
    {
     "name": "stdout",
     "output_type": "stream",
     "text": [
      "\n",
      "—— Analyzing Game 328 ——\n",
      "White: GedoGluperd (2329), Black: wonderfultime (2492)\n"
     ]
    },
    {
     "name": "stderr",
     "output_type": "stream",
     "text": [
      "分析棋局:  19%|█▉        | 327/1686 [45:54<3:56:08, 10.43s/it]"
     ]
    },
    {
     "name": "stdout",
     "output_type": "stream",
     "text": [
      "\n",
      "—— Analyzing Game 329 ——\n",
      "White: esr44 (2042), Black: patzerplay (2100)\n"
     ]
    },
    {
     "name": "stderr",
     "output_type": "stream",
     "text": [
      "分析棋局:  19%|█▉        | 328/1686 [46:06<4:08:12, 10.97s/it]"
     ]
    },
    {
     "name": "stdout",
     "output_type": "stream",
     "text": [
      "\n",
      "—— Analyzing Game 330 ——\n",
      "White: IMLevAltounian (2179), Black: jlandaw (2275)\n"
     ]
    },
    {
     "name": "stderr",
     "output_type": "stream",
     "text": [
      "分析棋局:  20%|█▉        | 329/1686 [46:18<4:18:01, 11.41s/it]"
     ]
    },
    {
     "name": "stdout",
     "output_type": "stream",
     "text": [
      "\n",
      "—— Analyzing Game 331 ——\n",
      "White: VovAn1991 (2367), Black: Sebastian (2527)\n"
     ]
    },
    {
     "name": "stderr",
     "output_type": "stream",
     "text": [
      "分析棋局:  20%|█▉        | 330/1686 [46:30<4:18:23, 11.43s/it]"
     ]
    },
    {
     "name": "stdout",
     "output_type": "stream",
     "text": [
      "\n",
      "—— Analyzing Game 332 ——\n",
      "White: pedromartinez91 (2073), Black: stepanosinovsky (2269)\n"
     ]
    },
    {
     "name": "stderr",
     "output_type": "stream",
     "text": [
      "分析棋局:  20%|█▉        | 331/1686 [46:41<4:18:22, 11.44s/it]"
     ]
    },
    {
     "name": "stdout",
     "output_type": "stream",
     "text": [
      "\n",
      "—— Analyzing Game 333 ——\n",
      "White: juniortay (2183), Black: Hafez_Bakr (1791)\n"
     ]
    },
    {
     "name": "stderr",
     "output_type": "stream",
     "text": [
      "分析棋局:  20%|█▉        | 332/1686 [46:56<4:37:49, 12.31s/it]"
     ]
    },
    {
     "name": "stdout",
     "output_type": "stream",
     "text": [
      "\n",
      "—— Analyzing Game 334 ——\n",
      "White: ameet100 (2425), Black: redchessman (2247)\n"
     ]
    },
    {
     "name": "stderr",
     "output_type": "stream",
     "text": [
      "分析棋局:  20%|█▉        | 333/1686 [47:13<5:13:01, 13.88s/it]"
     ]
    },
    {
     "name": "stdout",
     "output_type": "stream",
     "text": [
      "\n",
      "—— Analyzing Game 335 ——\n",
      "White: alturas_pacificas (2052), Black: RitvarsReimanis (2248)\n"
     ]
    },
    {
     "name": "stderr",
     "output_type": "stream",
     "text": [
      "分析棋局:  20%|█▉        | 334/1686 [47:28<5:16:43, 14.06s/it]"
     ]
    },
    {
     "name": "stdout",
     "output_type": "stream",
     "text": [
      "\n",
      "—— Analyzing Game 336 ——\n",
      "White: Vandros57 (1788), Black: Bab3s (2080)\n"
     ]
    },
    {
     "name": "stderr",
     "output_type": "stream",
     "text": [
      "分析棋局:  20%|█▉        | 335/1686 [47:40<5:06:18, 13.60s/it]"
     ]
    },
    {
     "name": "stdout",
     "output_type": "stream",
     "text": [
      "\n",
      "—— Analyzing Game 337 ——\n",
      "White: GulamaliRises (2427), Black: Byniolus (2294)\n"
     ]
    },
    {
     "name": "stderr",
     "output_type": "stream",
     "text": [
      "分析棋局:  20%|█▉        | 336/1686 [47:50<4:37:48, 12.35s/it]"
     ]
    },
    {
     "name": "stdout",
     "output_type": "stream",
     "text": [
      "\n",
      "—— Analyzing Game 338 ——\n",
      "White: pKiLz5Rn9b (2158), Black: Mvpag (1875)\n"
     ]
    },
    {
     "name": "stderr",
     "output_type": "stream",
     "text": [
      "分析棋局:  20%|█▉        | 337/1686 [48:02<4:36:40, 12.31s/it]"
     ]
    },
    {
     "name": "stdout",
     "output_type": "stream",
     "text": [
      "\n",
      "—— Analyzing Game 339 ——\n",
      "White: VSERGUEI (2331), Black: MattyDPerrine (2034)\n"
     ]
    },
    {
     "name": "stderr",
     "output_type": "stream",
     "text": [
      "分析棋局:  20%|██        | 338/1686 [48:10<4:09:36, 11.11s/it]"
     ]
    },
    {
     "name": "stdout",
     "output_type": "stream",
     "text": [
      "\n",
      "—— Analyzing Game 340 ——\n",
      "White: liczner (2416), Black: GMBenjaminBok (2605)\n"
     ]
    },
    {
     "name": "stderr",
     "output_type": "stream",
     "text": [
      "分析棋局:  20%|██        | 339/1686 [48:16<3:34:46,  9.57s/it]"
     ]
    },
    {
     "name": "stdout",
     "output_type": "stream",
     "text": [
      "\n",
      "—— Analyzing Game 341 ——\n",
      "White: rhungaski (2423), Black: WanderingPuppet (2026)\n"
     ]
    },
    {
     "name": "stderr",
     "output_type": "stream",
     "text": [
      "分析棋局:  20%|██        | 340/1686 [48:26<3:33:38,  9.52s/it]"
     ]
    },
    {
     "name": "stdout",
     "output_type": "stream",
     "text": [
      "\n",
      "—— Analyzing Game 342 ——\n",
      "White: oggy1984 (2208), Black: bsmail (2107)\n"
     ]
    },
    {
     "name": "stderr",
     "output_type": "stream",
     "text": [
      "分析棋局:  20%|██        | 341/1686 [48:33<3:17:16,  8.80s/it]"
     ]
    },
    {
     "name": "stdout",
     "output_type": "stream",
     "text": [
      "\n",
      "—— Analyzing Game 343 ——\n",
      "White: David_Klein (2366), Black: JamesColeman (2277)\n"
     ]
    },
    {
     "name": "stderr",
     "output_type": "stream",
     "text": [
      "分析棋局:  20%|██        | 342/1686 [48:40<3:10:01,  8.48s/it]"
     ]
    },
    {
     "name": "stdout",
     "output_type": "stream",
     "text": [
      "\n",
      "—— Analyzing Game 344 ——\n",
      "White: gmjlh (2512), Black: GeorgMeier (2593)\n"
     ]
    },
    {
     "name": "stderr",
     "output_type": "stream",
     "text": [
      "分析棋局:  20%|██        | 343/1686 [48:49<3:13:29,  8.64s/it]"
     ]
    },
    {
     "name": "stdout",
     "output_type": "stream",
     "text": [
      "\n",
      "—— Analyzing Game 345 ——\n",
      "White: vovkcoach (2482), Black: jcibarra (2478)\n"
     ]
    },
    {
     "name": "stderr",
     "output_type": "stream",
     "text": [
      "分析棋局:  20%|██        | 344/1686 [48:58<3:13:52,  8.67s/it]"
     ]
    },
    {
     "name": "stdout",
     "output_type": "stream",
     "text": [
      "\n",
      "—— Analyzing Game 346 ——\n",
      "White: FrankieJay (2182), Black: MoreChessJulia (1887)\n"
     ]
    },
    {
     "name": "stderr",
     "output_type": "stream",
     "text": [
      "分析棋局:  20%|██        | 345/1686 [49:09<3:28:45,  9.34s/it]"
     ]
    },
    {
     "name": "stdout",
     "output_type": "stream",
     "text": [
      "\n",
      "—— Analyzing Game 347 ——\n",
      "White: Yaacovn (2605), Black: Dlugy (2584)\n"
     ]
    },
    {
     "name": "stderr",
     "output_type": "stream",
     "text": [
      "分析棋局:  21%|██        | 346/1686 [49:18<3:22:21,  9.06s/it]"
     ]
    },
    {
     "name": "stdout",
     "output_type": "stream",
     "text": [
      "\n",
      "—— Analyzing Game 348 ——\n",
      "White: Baggio95 (2373), Black: grandmastergauri (2333)\n"
     ]
    },
    {
     "name": "stderr",
     "output_type": "stream",
     "text": [
      "分析棋局:  21%|██        | 347/1686 [49:30<3:44:22, 10.05s/it]"
     ]
    },
    {
     "name": "stdout",
     "output_type": "stream",
     "text": [
      "\n",
      "—— Analyzing Game 349 ——\n",
      "White: 162a54f5d (2275), Black: gumersindo (2050)\n"
     ]
    },
    {
     "name": "stderr",
     "output_type": "stream",
     "text": [
      "分析棋局:  21%|██        | 348/1686 [49:37<3:25:50,  9.23s/it]"
     ]
    },
    {
     "name": "stdout",
     "output_type": "stream",
     "text": [
      "\n",
      "—— Analyzing Game 350 ——\n",
      "White: DanielRensch (2360), Black: LePlusMortel (2370)\n"
     ]
    },
    {
     "name": "stderr",
     "output_type": "stream",
     "text": [
      "分析棋局:  21%|██        | 349/1686 [49:45<3:13:31,  8.68s/it]"
     ]
    },
    {
     "name": "stdout",
     "output_type": "stream",
     "text": [
      "\n",
      "—— Analyzing Game 351 ——\n",
      "White: IMRosen (1988), Black: josiwales (1815)\n"
     ]
    },
    {
     "name": "stderr",
     "output_type": "stream",
     "text": [
      "分析棋局:  21%|██        | 350/1686 [50:01<4:03:44, 10.95s/it]"
     ]
    },
    {
     "name": "stdout",
     "output_type": "stream",
     "text": [
      "\n",
      "—— Analyzing Game 352 ——\n",
      "White: Nouki (2654), Black: GMHess (2466)\n"
     ]
    },
    {
     "name": "stderr",
     "output_type": "stream",
     "text": [
      "分析棋局:  21%|██        | 351/1686 [50:11<3:59:13, 10.75s/it]"
     ]
    },
    {
     "name": "stdout",
     "output_type": "stream",
     "text": [
      "\n",
      "—— Analyzing Game 353 ——\n",
      "White: hitaman (2415), Black: AlmirDzhumaev (2272)\n"
     ]
    },
    {
     "name": "stderr",
     "output_type": "stream",
     "text": [
      "分析棋局:  21%|██        | 352/1686 [50:21<3:54:11, 10.53s/it]"
     ]
    },
    {
     "name": "stdout",
     "output_type": "stream",
     "text": [
      "\n",
      "—— Analyzing Game 354 ——\n",
      "White: Sebastian (2533), Black: hitaman (2401)\n"
     ]
    },
    {
     "name": "stderr",
     "output_type": "stream",
     "text": [
      "分析棋局:  21%|██        | 353/1686 [50:24<3:06:09,  8.38s/it]"
     ]
    },
    {
     "name": "stdout",
     "output_type": "stream",
     "text": [
      "\n",
      "—— Analyzing Game 355 ——\n",
      "White: minnesotachessmaster (1919), Black: Mvpag (1885)\n"
     ]
    },
    {
     "name": "stderr",
     "output_type": "stream",
     "text": [
      "分析棋局:  21%|██        | 354/1686 [50:29<2:41:35,  7.28s/it]"
     ]
    },
    {
     "name": "stdout",
     "output_type": "stream",
     "text": [
      "\n",
      "—— Analyzing Game 356 ——\n",
      "White: 162a54f5d (2316), Black: ameet100 (2414)\n"
     ]
    },
    {
     "name": "stderr",
     "output_type": "stream",
     "text": [
      "分析棋局:  21%|██        | 355/1686 [50:32<2:14:06,  6.05s/it]"
     ]
    },
    {
     "name": "stdout",
     "output_type": "stream",
     "text": [
      "\n",
      "—— Analyzing Game 357 ——\n",
      "White: patzerplay (2104), Black: Hafez_Bakr (1789)\n"
     ]
    },
    {
     "name": "stderr",
     "output_type": "stream",
     "text": [
      "分析棋局:  21%|██        | 356/1686 [50:37<2:01:41,  5.49s/it]"
     ]
    },
    {
     "name": "stdout",
     "output_type": "stream",
     "text": [
      "\n",
      "—— Analyzing Game 358 ——\n",
      "White: bugsbunny444 (2306), Black: RitvarsReimanis (2241)\n"
     ]
    },
    {
     "name": "stderr",
     "output_type": "stream",
     "text": [
      "分析棋局:  21%|██        | 357/1686 [50:40<1:49:54,  4.96s/it]"
     ]
    },
    {
     "name": "stdout",
     "output_type": "stream",
     "text": [
      "\n",
      "—— Analyzing Game 359 ——\n",
      "White: gumersindo (2049), Black: wonderfultime (2493)\n"
     ]
    },
    {
     "name": "stderr",
     "output_type": "stream",
     "text": [
      "分析棋局:  21%|██        | 358/1686 [50:46<1:53:28,  5.13s/it]"
     ]
    },
    {
     "name": "stdout",
     "output_type": "stream",
     "text": [
      "\n",
      "—— Analyzing Game 360 ——\n",
      "White: VSERGUEI (2342), Black: ChessWarrior7197 (1845)\n"
     ]
    },
    {
     "name": "stderr",
     "output_type": "stream",
     "text": [
      "分析棋局:  21%|██▏       | 359/1686 [50:52<2:01:19,  5.49s/it]"
     ]
    },
    {
     "name": "stdout",
     "output_type": "stream",
     "text": [
      "\n",
      "—— Analyzing Game 361 ——\n",
      "White: thegormacle (2453), Black: pKiLz5Rn9b (2155)\n"
     ]
    },
    {
     "name": "stderr",
     "output_type": "stream",
     "text": [
      "分析棋局:  21%|██▏       | 360/1686 [50:56<1:49:02,  4.93s/it]"
     ]
    },
    {
     "name": "stdout",
     "output_type": "stream",
     "text": [
      "\n",
      "—— Analyzing Game 362 ——\n",
      "White: juniortay (2177), Black: Vandros57 (1796)\n"
     ]
    },
    {
     "name": "stderr",
     "output_type": "stream",
     "text": [
      "分析棋局:  21%|██▏       | 361/1686 [51:01<1:50:32,  5.01s/it]"
     ]
    },
    {
     "name": "stdout",
     "output_type": "stream",
     "text": [
      "\n",
      "—— Analyzing Game 363 ——\n",
      "White: GedoGluperd (2324), Black: Dlugy (2587)\n"
     ]
    },
    {
     "name": "stderr",
     "output_type": "stream",
     "text": [
      "分析棋局:  21%|██▏       | 362/1686 [51:07<1:59:33,  5.42s/it]"
     ]
    },
    {
     "name": "stdout",
     "output_type": "stream",
     "text": [
      "\n",
      "—— Analyzing Game 364 ——\n",
      "White: redchessman (2278), Black: Philofive (2211)\n"
     ]
    },
    {
     "name": "stderr",
     "output_type": "stream",
     "text": [
      "分析棋局:  22%|██▏       | 363/1686 [51:13<2:01:17,  5.50s/it]"
     ]
    },
    {
     "name": "stdout",
     "output_type": "stream",
     "text": [
      "\n",
      "—— Analyzing Game 365 ——\n",
      "White: FrankieJay (2178), Black: LePlusMortel (2380)\n"
     ]
    },
    {
     "name": "stderr",
     "output_type": "stream",
     "text": [
      "分析棋局:  22%|██▏       | 364/1686 [51:18<1:58:45,  5.39s/it]"
     ]
    },
    {
     "name": "stdout",
     "output_type": "stream",
     "text": [
      "\n",
      "—— Analyzing Game 366 ——\n",
      "White: MattyDPerrine (2030), Black: DragonB70 (2234)\n"
     ]
    },
    {
     "name": "stderr",
     "output_type": "stream",
     "text": [
      "分析棋局:  22%|██▏       | 365/1686 [51:23<1:56:10,  5.28s/it]"
     ]
    },
    {
     "name": "stdout",
     "output_type": "stream",
     "text": [
      "\n",
      "—— Analyzing Game 367 ——\n",
      "White: MoreChessJulia (1893), Black: josiwales (1805)\n"
     ]
    },
    {
     "name": "stderr",
     "output_type": "stream",
     "text": [
      "分析棋局:  22%|██▏       | 366/1686 [51:29<1:58:27,  5.38s/it]"
     ]
    },
    {
     "name": "stdout",
     "output_type": "stream",
     "text": [
      "\n",
      "—— Analyzing Game 368 ——\n",
      "White: AlmirDzhumaev (2283), Black: GulamaliRises (2406)\n"
     ]
    },
    {
     "name": "stderr",
     "output_type": "stream",
     "text": [
      "分析棋局:  22%|██▏       | 367/1686 [51:42<2:47:58,  7.64s/it]"
     ]
    },
    {
     "name": "stdout",
     "output_type": "stream",
     "text": [
      "\n",
      "—— Analyzing Game 369 ——\n",
      "White: jlandaw (2279), Black: WanderingPuppet (2023)\n"
     ]
    },
    {
     "name": "stderr",
     "output_type": "stream",
     "text": [
      "分析棋局:  22%|██▏       | 368/1686 [51:47<2:32:37,  6.95s/it]"
     ]
    },
    {
     "name": "stdout",
     "output_type": "stream",
     "text": [
      "\n",
      "—— Analyzing Game 370 ——\n",
      "White: rhungaski (2424), Black: IMRosen (1986)\n"
     ]
    },
    {
     "name": "stderr",
     "output_type": "stream",
     "text": [
      "分析棋局:  22%|██▏       | 369/1686 [51:52<2:18:04,  6.29s/it]"
     ]
    },
    {
     "name": "stdout",
     "output_type": "stream",
     "text": [
      "\n",
      "—— Analyzing Game 371 ——\n",
      "White: Quinten94 (2135), Black: gmjlh (2517)\n"
     ]
    },
    {
     "name": "stderr",
     "output_type": "stream",
     "text": [
      "分析棋局:  22%|██▏       | 370/1686 [51:58<2:15:30,  6.18s/it]"
     ]
    },
    {
     "name": "stdout",
     "output_type": "stream",
     "text": [
      "\n",
      "—— Analyzing Game 372 ——\n",
      "White: Baggio95 (2365), Black: David_Klein (2376)\n"
     ]
    },
    {
     "name": "stderr",
     "output_type": "stream",
     "text": [
      "分析棋局:  22%|██▏       | 371/1686 [52:04<2:13:48,  6.11s/it]"
     ]
    },
    {
     "name": "stdout",
     "output_type": "stream",
     "text": [
      "\n",
      "—— Analyzing Game 373 ——\n",
      "White: Bab3s (2098), Black: oggy1984 (2197)\n"
     ]
    },
    {
     "name": "stderr",
     "output_type": "stream",
     "text": [
      "分析棋局:  22%|██▏       | 372/1686 [52:09<2:11:07,  5.99s/it]"
     ]
    },
    {
     "name": "stdout",
     "output_type": "stream",
     "text": [
      "\n",
      "—— Analyzing Game 374 ——\n",
      "White: Zhani-Z (1914), Black: vovkcoach (2466)\n"
     ]
    },
    {
     "name": "stderr",
     "output_type": "stream",
     "text": [
      "分析棋局:  22%|██▏       | 373/1686 [52:16<2:17:10,  6.27s/it]"
     ]
    },
    {
     "name": "stdout",
     "output_type": "stream",
     "text": [
      "\n",
      "—— Analyzing Game 375 ——\n",
      "White: bsmail (2104), Black: grandmastergauri (2336)\n"
     ]
    },
    {
     "name": "stderr",
     "output_type": "stream",
     "text": [
      "分析棋局:  22%|██▏       | 374/1686 [52:24<2:23:49,  6.58s/it]"
     ]
    },
    {
     "name": "stdout",
     "output_type": "stream",
     "text": [
      "\n",
      "—— Analyzing Game 376 ——\n",
      "White: GMHess (2461), Black: Yaacovn (2610)\n"
     ]
    },
    {
     "name": "stderr",
     "output_type": "stream",
     "text": [
      "分析棋局:  22%|██▏       | 375/1686 [52:32<2:34:22,  7.06s/it]"
     ]
    },
    {
     "name": "stdout",
     "output_type": "stream",
     "text": [
      "\n",
      "—— Analyzing Game 377 ——\n",
      "White: IMLevAltounian (2200), Black: alturas_pacificas (2047)\n"
     ]
    },
    {
     "name": "stderr",
     "output_type": "stream",
     "text": [
      "分析棋局:  22%|██▏       | 376/1686 [52:41<2:51:31,  7.86s/it]"
     ]
    },
    {
     "name": "stdout",
     "output_type": "stream",
     "text": [
      "\n",
      "—— Analyzing Game 378 ——\n",
      "White: Argente (2167), Black: stepanosinovsky (2258)\n"
     ]
    },
    {
     "name": "stderr",
     "output_type": "stream",
     "text": [
      "分析棋局:  22%|██▏       | 377/1686 [52:50<2:52:56,  7.93s/it]"
     ]
    },
    {
     "name": "stdout",
     "output_type": "stream",
     "text": [
      "\n",
      "—— Analyzing Game 379 ——\n",
      "White: DanielRensch (2363), Black: pedromartinez91 (2070)\n"
     ]
    },
    {
     "name": "stderr",
     "output_type": "stream",
     "text": [
      "分析棋局:  22%|██▏       | 378/1686 [53:01<3:18:18,  9.10s/it]"
     ]
    },
    {
     "name": "stdout",
     "output_type": "stream",
     "text": [
      "\n",
      "—— Analyzing Game 380 ——\n",
      "White: jcibarra (2483), Black: GMBenjaminBok (2596)\n"
     ]
    },
    {
     "name": "stderr",
     "output_type": "stream",
     "text": [
      "分析棋局:  22%|██▏       | 379/1686 [53:10<3:15:33,  8.98s/it]"
     ]
    },
    {
     "name": "stdout",
     "output_type": "stream",
     "text": [
      "\n",
      "—— Analyzing Game 381 ——\n",
      "White: GeorgMeier (2610), Black: Nouki (2645)\n"
     ]
    },
    {
     "name": "stderr",
     "output_type": "stream",
     "text": [
      "分析棋局:  23%|██▎       | 380/1686 [53:25<3:56:18, 10.86s/it]"
     ]
    },
    {
     "name": "stdout",
     "output_type": "stream",
     "text": [
      "\n",
      "—— Analyzing Game 382 ——\n",
      "White: WanderingPuppet (2024), Black: pedromartinez91 (2069)\n"
     ]
    },
    {
     "name": "stderr",
     "output_type": "stream",
     "text": [
      "分析棋局:  23%|██▎       | 381/1686 [53:29<3:07:09,  8.61s/it]"
     ]
    },
    {
     "name": "stdout",
     "output_type": "stream",
     "text": [
      "\n",
      "—— Analyzing Game 383 ——\n",
      "White: vovkcoach (2470), Black: redchessman (2261)\n"
     ]
    },
    {
     "name": "stderr",
     "output_type": "stream",
     "text": [
      "分析棋局:  23%|██▎       | 382/1686 [53:33<2:41:24,  7.43s/it]"
     ]
    },
    {
     "name": "stdout",
     "output_type": "stream",
     "text": [
      "\n",
      "—— Analyzing Game 384 ——\n",
      "White: GulamaliRises (2411), Black: patzerplay (2100)\n"
     ]
    },
    {
     "name": "stderr",
     "output_type": "stream",
     "text": [
      "分析棋局:  23%|██▎       | 383/1686 [53:39<2:26:54,  6.76s/it]"
     ]
    },
    {
     "name": "stdout",
     "output_type": "stream",
     "text": [
      "\n",
      "—— Analyzing Game 385 ——\n",
      "White: Hafez_Bakr (1787), Black: bsmail (2106)\n"
     ]
    },
    {
     "name": "stderr",
     "output_type": "stream",
     "text": [
      "分析棋局:  23%|██▎       | 384/1686 [53:44<2:19:31,  6.43s/it]"
     ]
    },
    {
     "name": "stdout",
     "output_type": "stream",
     "text": [
      "\n",
      "—— Analyzing Game 386 ——\n",
      "White: pKiLz5Rn9b (2144), Black: MattyDPerrine (2041)\n"
     ]
    },
    {
     "name": "stderr",
     "output_type": "stream",
     "text": [
      "分析棋局:  23%|██▎       | 385/1686 [53:49<2:11:08,  6.05s/it]"
     ]
    },
    {
     "name": "stdout",
     "output_type": "stream",
     "text": [
      "\n",
      "—— Analyzing Game 387 ——\n",
      "White: DragonB70 (2223), Black: Argente (2177)\n"
     ]
    },
    {
     "name": "stderr",
     "output_type": "stream",
     "text": [
      "分析棋局:  23%|██▎       | 386/1686 [53:55<2:11:16,  6.06s/it]"
     ]
    },
    {
     "name": "stdout",
     "output_type": "stream",
     "text": [
      "\n",
      "—— Analyzing Game 388 ——\n",
      "White: Dlugy (2593), Black: jcibarra (2472)\n"
     ]
    },
    {
     "name": "stderr",
     "output_type": "stream",
     "text": [
      "分析棋局:  23%|██▎       | 387/1686 [54:03<2:18:17,  6.39s/it]"
     ]
    },
    {
     "name": "stdout",
     "output_type": "stream",
     "text": [
      "\n",
      "—— Analyzing Game 389 ——\n",
      "White: Yaacovn (2602), Black: GeorgMeier (2624)\n"
     ]
    },
    {
     "name": "stderr",
     "output_type": "stream",
     "text": [
      "分析棋局:  23%|██▎       | 388/1686 [54:08<2:10:51,  6.05s/it]"
     ]
    },
    {
     "name": "stdout",
     "output_type": "stream",
     "text": [
      "\n",
      "—— Analyzing Game 390 ——\n",
      "White: Philofive (2208), Black: Bab3s (2102)\n"
     ]
    },
    {
     "name": "stderr",
     "output_type": "stream",
     "text": [
      "分析棋局:  23%|██▎       | 389/1686 [54:13<2:05:21,  5.80s/it]"
     ]
    },
    {
     "name": "stdout",
     "output_type": "stream",
     "text": [
      "\n",
      "—— Analyzing Game 391 ——\n",
      "White: Mvpag (1898), Black: juniortay (2164)\n"
     ]
    },
    {
     "name": "stderr",
     "output_type": "stream",
     "text": [
      "分析棋局:  23%|██▎       | 390/1686 [54:19<2:04:49,  5.78s/it]"
     ]
    },
    {
     "name": "stdout",
     "output_type": "stream",
     "text": [
      "\n",
      "—— Analyzing Game 392 ——\n",
      "White: alturas_pacificas (2052), Black: minnesotachessmaster (1906)\n"
     ]
    },
    {
     "name": "stderr",
     "output_type": "stream",
     "text": [
      "分析棋局:  23%|██▎       | 391/1686 [54:28<2:28:07,  6.86s/it]"
     ]
    },
    {
     "name": "stdout",
     "output_type": "stream",
     "text": [
      "\n",
      "—— Analyzing Game 393 ——\n",
      "White: ChessWarrior7197 (1855), Black: gumersindo (2045)\n"
     ]
    },
    {
     "name": "stderr",
     "output_type": "stream",
     "text": [
      "分析棋局:  23%|██▎       | 392/1686 [54:37<2:37:55,  7.32s/it]"
     ]
    },
    {
     "name": "stdout",
     "output_type": "stream",
     "text": [
      "\n",
      "—— Analyzing Game 394 ——\n",
      "White: thegormacle (2458), Black: grandmastergauri (2331)\n"
     ]
    },
    {
     "name": "stderr",
     "output_type": "stream",
     "text": [
      "分析棋局:  23%|██▎       | 393/1686 [54:44<2:39:33,  7.40s/it]"
     ]
    },
    {
     "name": "stdout",
     "output_type": "stream",
     "text": [
      "\n",
      "—— Analyzing Game 395 ——\n",
      "White: RitvarsReimanis (2232), Black: IMLevAltounian (2232)\n"
     ]
    },
    {
     "name": "stderr",
     "output_type": "stream",
     "text": [
      "分析棋局:  23%|██▎       | 394/1686 [54:52<2:43:38,  7.60s/it]"
     ]
    },
    {
     "name": "stdout",
     "output_type": "stream",
     "text": [
      "\n",
      "—— Analyzing Game 396 ——\n",
      "White: DanielRensch (2353), Black: bugsbunny444 (2315)\n"
     ]
    },
    {
     "name": "stderr",
     "output_type": "stream",
     "text": [
      "分析棋局:  23%|██▎       | 395/1686 [55:00<2:43:52,  7.62s/it]"
     ]
    },
    {
     "name": "stdout",
     "output_type": "stream",
     "text": [
      "\n",
      "—— Analyzing Game 397 ——\n",
      "White: ameet100 (2421), Black: Baggio95 (2358)\n"
     ]
    },
    {
     "name": "stderr",
     "output_type": "stream",
     "text": [
      "分析棋局:  23%|██▎       | 396/1686 [55:10<2:59:53,  8.37s/it]"
     ]
    },
    {
     "name": "stdout",
     "output_type": "stream",
     "text": [
      "\n",
      "—— Analyzing Game 398 ——\n",
      "White: Nouki (2635), Black: Sebastian (2543)\n"
     ]
    },
    {
     "name": "stderr",
     "output_type": "stream",
     "text": [
      "分析棋局:  24%|██▎       | 397/1686 [55:19<3:02:50,  8.51s/it]"
     ]
    },
    {
     "name": "stdout",
     "output_type": "stream",
     "text": [
      "\n",
      "—— Analyzing Game 399 ——\n",
      "White: GMHess (2446), Black: Zhani-Z (1981)\n"
     ]
    },
    {
     "name": "stderr",
     "output_type": "stream",
     "text": [
      "分析棋局:  24%|██▎       | 398/1686 [55:25<2:45:44,  7.72s/it]"
     ]
    },
    {
     "name": "stdout",
     "output_type": "stream",
     "text": [
      "\n",
      "—— Analyzing Game 400 ——\n",
      "White: LePlusMortel (2357), Black: jlandaw (2293)\n"
     ]
    },
    {
     "name": "stderr",
     "output_type": "stream",
     "text": [
      "分析棋局:  24%|██▎       | 399/1686 [55:33<2:49:27,  7.90s/it]"
     ]
    },
    {
     "name": "stdout",
     "output_type": "stream",
     "text": [
      "\n",
      "—— Analyzing Game 401 ——\n",
      "White: GMBenjaminBok (2564), Black: gmjlh (2542)\n"
     ]
    },
    {
     "name": "stderr",
     "output_type": "stream",
     "text": [
      "分析棋局:  24%|██▎       | 400/1686 [55:41<2:50:46,  7.97s/it]"
     ]
    },
    {
     "name": "stdout",
     "output_type": "stream",
     "text": [
      "\n",
      "—— Analyzing Game 402 ——\n",
      "White: 162a54f5d (2346), Black: VSERGUEI (2279)\n"
     ]
    },
    {
     "name": "stderr",
     "output_type": "stream",
     "text": [
      "分析棋局:  24%|██▍       | 401/1686 [55:50<2:54:19,  8.14s/it]"
     ]
    },
    {
     "name": "stdout",
     "output_type": "stream",
     "text": [
      "\n",
      "—— Analyzing Game 403 ——\n",
      "White: hitaman (2402), Black: rhungaski (2423)\n"
     ]
    },
    {
     "name": "stderr",
     "output_type": "stream",
     "text": [
      "分析棋局:  24%|██▍       | 402/1686 [55:58<2:56:44,  8.26s/it]"
     ]
    },
    {
     "name": "stdout",
     "output_type": "stream",
     "text": [
      "\n",
      "—— Analyzing Game 404 ——\n",
      "White: IMRosen (1993), Black: MoreChessJulia (1887)\n"
     ]
    },
    {
     "name": "stderr",
     "output_type": "stream",
     "text": [
      "分析棋局:  24%|██▍       | 403/1686 [56:09<3:14:02,  9.07s/it]"
     ]
    },
    {
     "name": "stdout",
     "output_type": "stream",
     "text": [
      "\n",
      "—— Analyzing Game 405 ——\n",
      "White: wonderfultime (2487), Black: Quinten94 (2175)\n"
     ]
    },
    {
     "name": "stderr",
     "output_type": "stream",
     "text": [
      "分析棋局:  24%|██▍       | 404/1686 [56:22<3:36:24, 10.13s/it]"
     ]
    },
    {
     "name": "stdout",
     "output_type": "stream",
     "text": [
      "\n",
      "—— Analyzing Game 406 ——\n",
      "White: AlmirDzhumaev (2276), Black: GedoGluperd (2335)\n"
     ]
    },
    {
     "name": "stderr",
     "output_type": "stream",
     "text": [
      "分析棋局:  24%|██▍       | 405/1686 [56:37<4:05:32, 11.50s/it]"
     ]
    },
    {
     "name": "stdout",
     "output_type": "stream",
     "text": [
      "\n",
      "—— Analyzing Game 407 ——\n",
      "White: stepanosinovsky (2257), Black: oggy1984 (2198)\n"
     ]
    },
    {
     "name": "stderr",
     "output_type": "stream",
     "text": [
      "分析棋局:  24%|██▍       | 406/1686 [56:49<4:10:15, 11.73s/it]"
     ]
    },
    {
     "name": "stdout",
     "output_type": "stream",
     "text": [
      "\n",
      "—— Analyzing Game 408 ——\n",
      "White: alturas_pacificas (2062), Black: pKiLz5Rn9b (2134)\n"
     ]
    },
    {
     "name": "stderr",
     "output_type": "stream",
     "text": [
      "分析棋局:  24%|██▍       | 407/1686 [56:52<3:15:40,  9.18s/it]"
     ]
    },
    {
     "name": "stdout",
     "output_type": "stream",
     "text": [
      "\n",
      "—— Analyzing Game 409 ——\n",
      "White: Quinten94 (2245), Black: DanielRensch (2340)\n"
     ]
    },
    {
     "name": "stderr",
     "output_type": "stream",
     "text": [
      "分析棋局:  24%|██▍       | 408/1686 [56:56<2:44:18,  7.71s/it]"
     ]
    },
    {
     "name": "stdout",
     "output_type": "stream",
     "text": [
      "\n",
      "—— Analyzing Game 410 ——\n",
      "White: vovkcoach (2474), Black: AlmirDzhumaev (2272)\n"
     ]
    },
    {
     "name": "stderr",
     "output_type": "stream",
     "text": [
      "分析棋局:  24%|██▍       | 409/1686 [57:01<2:22:49,  6.71s/it]"
     ]
    },
    {
     "name": "stdout",
     "output_type": "stream",
     "text": [
      "\n",
      "—— Analyzing Game 411 ——\n",
      "White: IMLevAltounian (2246), Black: gumersindo (2041)\n"
     ]
    },
    {
     "name": "stderr",
     "output_type": "stream",
     "text": [
      "分析棋局:  24%|██▍       | 410/1686 [57:07<2:19:38,  6.57s/it]"
     ]
    },
    {
     "name": "stdout",
     "output_type": "stream",
     "text": [
      "\n",
      "—— Analyzing Game 412 ——\n",
      "White: jcibarra (2450), Black: jlandaw (2308)\n"
     ]
    },
    {
     "name": "stderr",
     "output_type": "stream",
     "text": [
      "分析棋局:  24%|██▍       | 411/1686 [57:12<2:07:45,  6.01s/it]"
     ]
    },
    {
     "name": "stdout",
     "output_type": "stream",
     "text": [
      "\n",
      "—— Analyzing Game 413 ——\n",
      "White: Vandros57 (1794), Black: oggy1984 (2199)\n"
     ]
    },
    {
     "name": "stderr",
     "output_type": "stream",
     "text": [
      "分析棋局:  24%|██▍       | 412/1686 [57:16<1:58:21,  5.57s/it]"
     ]
    },
    {
     "name": "stdout",
     "output_type": "stream",
     "text": [
      "\n",
      "—— Analyzing Game 414 ——\n",
      "White: wonderfultime (2494), Black: ameet100 (2414)\n"
     ]
    },
    {
     "name": "stderr",
     "output_type": "stream",
     "text": [
      "分析棋局:  24%|██▍       | 413/1686 [57:23<2:05:39,  5.92s/it]"
     ]
    },
    {
     "name": "stdout",
     "output_type": "stream",
     "text": [
      "\n",
      "—— Analyzing Game 415 ——\n",
      "White: GMBenjaminBok (2574), Black: bugsbunny444 (2312)\n"
     ]
    },
    {
     "name": "stderr",
     "output_type": "stream",
     "text": [
      "分析棋局:  25%|██▍       | 414/1686 [57:28<1:58:56,  5.61s/it]"
     ]
    },
    {
     "name": "stdout",
     "output_type": "stream",
     "text": [
      "\n",
      "—— Analyzing Game 416 ——\n",
      "White: Argente (2180), Black: MoreChessJulia (1884)\n"
     ]
    },
    {
     "name": "stderr",
     "output_type": "stream",
     "text": [
      "分析棋局:  25%|██▍       | 415/1686 [57:32<1:48:12,  5.11s/it]"
     ]
    },
    {
     "name": "stdout",
     "output_type": "stream",
     "text": [
      "\n",
      "—— Analyzing Game 417 ——\n",
      "White: juniortay (2151), Black: minnesotachessmaster (1936)\n"
     ]
    },
    {
     "name": "stderr",
     "output_type": "stream",
     "text": [
      "分析棋局:  25%|██▍       | 416/1686 [57:38<1:54:40,  5.42s/it]"
     ]
    },
    {
     "name": "stdout",
     "output_type": "stream",
     "text": [
      "\n",
      "—— Analyzing Game 418 ——\n",
      "White: Zhani-Z (1979), Black: Dlugy (2593)\n"
     ]
    },
    {
     "name": "stderr",
     "output_type": "stream",
     "text": [
      "分析棋局:  25%|██▍       | 417/1686 [57:46<2:09:17,  6.11s/it]"
     ]
    },
    {
     "name": "stdout",
     "output_type": "stream",
     "text": [
      "\n",
      "—— Analyzing Game 419 ——\n",
      "White: thegormacle (2457), Black: GulamaliRises (2413)\n"
     ]
    },
    {
     "name": "stderr",
     "output_type": "stream",
     "text": [
      "分析棋局:  25%|██▍       | 418/1686 [57:56<2:36:59,  7.43s/it]"
     ]
    },
    {
     "name": "stdout",
     "output_type": "stream",
     "text": [
      "\n",
      "—— Analyzing Game 420 ——\n",
      "White: bsmail (2112), Black: WanderingPuppet (2018)\n"
     ]
    },
    {
     "name": "stderr",
     "output_type": "stream",
     "text": [
      "分析棋局:  25%|██▍       | 419/1686 [58:06<2:54:16,  8.25s/it]"
     ]
    },
    {
     "name": "stdout",
     "output_type": "stream",
     "text": [
      "\n",
      "—— Analyzing Game 421 ——\n",
      "White: Hafez_Bakr (1802), Black: stepanosinovsky (2242)\n"
     ]
    },
    {
     "name": "stderr",
     "output_type": "stream",
     "text": [
      "分析棋局:  25%|██▍       | 420/1686 [58:18<3:15:01,  9.24s/it]"
     ]
    },
    {
     "name": "stdout",
     "output_type": "stream",
     "text": [
      "\n",
      "—— Analyzing Game 422 ——\n",
      "White: Mvpag (1896), Black: DragonB70 (2226)\n"
     ]
    },
    {
     "name": "stderr",
     "output_type": "stream",
     "text": [
      "分析棋局:  25%|██▍       | 421/1686 [58:26<3:08:15,  8.93s/it]"
     ]
    },
    {
     "name": "stdout",
     "output_type": "stream",
     "text": [
      "\n",
      "—— Analyzing Game 423 ——\n",
      "White: GedoGluperd (2343), Black: Nouki (2629)\n"
     ]
    },
    {
     "name": "stderr",
     "output_type": "stream",
     "text": [
      "分析棋局:  25%|██▌       | 422/1686 [58:34<2:59:04,  8.50s/it]"
     ]
    },
    {
     "name": "stdout",
     "output_type": "stream",
     "text": [
      "\n",
      "—— Analyzing Game 424 ——\n",
      "White: RitvarsReimanis (2239), Black: Philofive (2201)\n"
     ]
    },
    {
     "name": "stderr",
     "output_type": "stream",
     "text": [
      "分析棋局:  25%|██▌       | 423/1686 [58:43<3:07:20,  8.90s/it]"
     ]
    },
    {
     "name": "stdout",
     "output_type": "stream",
     "text": [
      "\n",
      "—— Analyzing Game 425 ——\n",
      "White: redchessman (2275), Black: MattyDPerrine (2037)\n"
     ]
    },
    {
     "name": "stderr",
     "output_type": "stream",
     "text": [
      "分析棋局:  25%|██▌       | 424/1686 [58:52<3:05:31,  8.82s/it]"
     ]
    },
    {
     "name": "stdout",
     "output_type": "stream",
     "text": [
      "\n",
      "—— Analyzing Game 426 ——\n",
      "White: hitaman (2406), Black: IMRosen (1991)\n"
     ]
    },
    {
     "name": "stderr",
     "output_type": "stream",
     "text": [
      "分析棋局:  25%|██▌       | 425/1686 [59:03<3:16:08,  9.33s/it]"
     ]
    },
    {
     "name": "stdout",
     "output_type": "stream",
     "text": [
      "\n",
      "—— Analyzing Game 427 ——\n",
      "White: grandmastergauri (2332), Black: ChessWarrior7197 (1852)\n"
     ]
    },
    {
     "name": "stderr",
     "output_type": "stream",
     "text": [
      "分析棋局:  25%|██▌       | 426/1686 [59:09<3:00:38,  8.60s/it]"
     ]
    },
    {
     "name": "stdout",
     "output_type": "stream",
     "text": [
      "\n",
      "—— Analyzing Game 428 ——\n",
      "White: GeorgMeier (2634), Black: Sebastian (2537)\n"
     ]
    },
    {
     "name": "stderr",
     "output_type": "stream",
     "text": [
      "分析棋局:  25%|██▌       | 427/1686 [59:25<3:43:23, 10.65s/it]"
     ]
    },
    {
     "name": "stdout",
     "output_type": "stream",
     "text": [
      "\n",
      "—— Analyzing Game 429 ——\n",
      "White: gmjlh (2545), Black: Yaacovn (2601)\n"
     ]
    },
    {
     "name": "stderr",
     "output_type": "stream",
     "text": [
      "分析棋局:  25%|██▌       | 428/1686 [59:34<3:32:46, 10.15s/it]"
     ]
    },
    {
     "name": "stdout",
     "output_type": "stream",
     "text": [
      "\n",
      "—— Analyzing Game 430 ——\n",
      "White: rhungaski (2421), Black: 162a54f5d (2351)\n"
     ]
    },
    {
     "name": "stderr",
     "output_type": "stream",
     "text": [
      "分析棋局:  25%|██▌       | 429/1686 [59:43<3:26:15,  9.85s/it]"
     ]
    },
    {
     "name": "stdout",
     "output_type": "stream",
     "text": [
      "\n",
      "—— Analyzing Game 431 ——\n",
      "White: stepanosinovsky (2248), Black: pKiLz5Rn9b (2128)\n"
     ]
    },
    {
     "name": "stderr",
     "output_type": "stream",
     "text": [
      "分析棋局:  26%|██▌       | 430/1686 [59:46<2:44:06,  7.84s/it]"
     ]
    },
    {
     "name": "stdout",
     "output_type": "stream",
     "text": [
      "\n",
      "—— Analyzing Game 432 ——\n",
      "White: gumersindo (2053), Black: DragonB70 (2213)\n"
     ]
    },
    {
     "name": "stderr",
     "output_type": "stream",
     "text": [
      "分析棋局:  26%|██▌       | 431/1686 [59:48<2:07:50,  6.11s/it]"
     ]
    },
    {
     "name": "stdout",
     "output_type": "stream",
     "text": [
      "\n",
      "—— Analyzing Game 433 ——\n",
      "White: MattyDPerrine (2026), Black: Mvpag (1907)\n"
     ]
    },
    {
     "name": "stderr",
     "output_type": "stream",
     "text": [
      "分析棋局:  26%|██▌       | 432/1686 [59:53<1:56:19,  5.57s/it]"
     ]
    },
    {
     "name": "stdout",
     "output_type": "stream",
     "text": [
      "\n",
      "—— Analyzing Game 434 ——\n",
      "White: WanderingPuppet (2006), Black: Hafez_Bakr (1814)\n"
     ]
    },
    {
     "name": "stderr",
     "output_type": "stream",
     "text": [
      "分析棋局:  26%|██▌       | 433/1686 [59:59<2:00:09,  5.75s/it]"
     ]
    },
    {
     "name": "stdout",
     "output_type": "stream",
     "text": [
      "\n",
      "—— Analyzing Game 435 ——\n",
      "White: GulamaliRises (2402), Black: vovkcoach (2481)\n"
     ]
    },
    {
     "name": "stderr",
     "output_type": "stream",
     "text": [
      "分析棋局:  26%|██▌       | 434/1686 [1:00:03<1:49:54,  5.27s/it]"
     ]
    },
    {
     "name": "stdout",
     "output_type": "stream",
     "text": [
      "\n",
      "—— Analyzing Game 436 ——\n",
      "White: Dlugy (2594), Black: GeorgMeier (2633)\n"
     ]
    },
    {
     "name": "stderr",
     "output_type": "stream",
     "text": [
      "分析棋局:  26%|██▌       | 435/1686 [1:00:10<1:59:54,  5.75s/it]"
     ]
    },
    {
     "name": "stdout",
     "output_type": "stream",
     "text": [
      "\n",
      "—— Analyzing Game 437 ——\n",
      "White: Nouki (2631), Black: Quinten94 (2234)\n"
     ]
    },
    {
     "name": "stderr",
     "output_type": "stream",
     "text": [
      "分析棋局:  26%|██▌       | 436/1686 [1:00:14<1:48:15,  5.20s/it]"
     ]
    },
    {
     "name": "stdout",
     "output_type": "stream",
     "text": [
      "\n",
      "—— Analyzing Game 438 ——\n",
      "White: minnesotachessmaster (1929), Black: Vandros57 (1798)\n"
     ]
    },
    {
     "name": "stderr",
     "output_type": "stream",
     "text": [
      "分析棋局:  26%|██▌       | 437/1686 [1:00:18<1:44:51,  5.04s/it]"
     ]
    },
    {
     "name": "stdout",
     "output_type": "stream",
     "text": [
      "\n",
      "—— Analyzing Game 439 ——\n",
      "White: jlandaw (2301), Black: hitaman (2419)\n"
     ]
    },
    {
     "name": "stderr",
     "output_type": "stream",
     "text": [
      "分析棋局:  26%|██▌       | 438/1686 [1:00:23<1:45:30,  5.07s/it]"
     ]
    },
    {
     "name": "stdout",
     "output_type": "stream",
     "text": [
      "\n",
      "—— Analyzing Game 440 ——\n",
      "White: bugsbunny444 (2307), Black: thegormacle (2462)\n"
     ]
    },
    {
     "name": "stderr",
     "output_type": "stream",
     "text": [
      "分析棋局:  26%|██▌       | 439/1686 [1:00:29<1:45:47,  5.09s/it]"
     ]
    },
    {
     "name": "stdout",
     "output_type": "stream",
     "text": [
      "\n",
      "—— Analyzing Game 441 ——\n",
      "White: Sebastian (2545), Black: gmjlh (2526)\n"
     ]
    },
    {
     "name": "stderr",
     "output_type": "stream",
     "text": [
      "分析棋局:  26%|██▌       | 440/1686 [1:00:36<2:01:13,  5.84s/it]"
     ]
    },
    {
     "name": "stdout",
     "output_type": "stream",
     "text": [
      "\n",
      "—— Analyzing Game 442 ——\n",
      "White: ChessWarrior7197 (1843), Black: alturas_pacificas (2066)\n"
     ]
    },
    {
     "name": "stderr",
     "output_type": "stream",
     "text": [
      "分析棋局:  26%|██▌       | 441/1686 [1:00:41<1:57:40,  5.67s/it]"
     ]
    },
    {
     "name": "stdout",
     "output_type": "stream",
     "text": [
      "\n",
      "—— Analyzing Game 443 ——\n",
      "White: IMLevAltounian (2205), Black: IMRosen (2006)\n"
     ]
    },
    {
     "name": "stderr",
     "output_type": "stream",
     "text": [
      "分析棋局:  26%|██▌       | 442/1686 [1:00:47<1:58:01,  5.69s/it]"
     ]
    },
    {
     "name": "stdout",
     "output_type": "stream",
     "text": [
      "\n",
      "—— Analyzing Game 444 ——\n",
      "White: Argente (2177), Black: ameet100 (2417)\n"
     ]
    },
    {
     "name": "stderr",
     "output_type": "stream",
     "text": [
      "分析棋局:  26%|██▋       | 443/1686 [1:00:55<2:13:37,  6.45s/it]"
     ]
    },
    {
     "name": "stdout",
     "output_type": "stream",
     "text": [
      "\n",
      "—— Analyzing Game 445 ——\n",
      "White: bsmail (2109), Black: DanielRensch (2344)\n"
     ]
    },
    {
     "name": "stderr",
     "output_type": "stream",
     "text": [
      "分析棋局:  26%|██▋       | 444/1686 [1:01:03<2:21:48,  6.85s/it]"
     ]
    },
    {
     "name": "stdout",
     "output_type": "stream",
     "text": [
      "\n",
      "—— Analyzing Game 446 ——\n",
      "White: jcibarra (2437), Black: wonderfultime (2501)\n"
     ]
    },
    {
     "name": "stderr",
     "output_type": "stream",
     "text": [
      "分析棋局:  26%|██▋       | 445/1686 [1:01:10<2:20:42,  6.80s/it]"
     ]
    },
    {
     "name": "stdout",
     "output_type": "stream",
     "text": [
      "\n",
      "—— Analyzing Game 447 ——\n",
      "White: 162a54f5d (2340), Black: GMBenjaminBok (2585)\n"
     ]
    },
    {
     "name": "stderr",
     "output_type": "stream",
     "text": [
      "分析棋局:  26%|██▋       | 446/1686 [1:01:17<2:23:06,  6.92s/it]"
     ]
    },
    {
     "name": "stdout",
     "output_type": "stream",
     "text": [
      "\n",
      "—— Analyzing Game 448 ——\n",
      "White: MoreChessJulia (1882), Black: RitvarsReimanis (2241)\n"
     ]
    },
    {
     "name": "stderr",
     "output_type": "stream",
     "text": [
      "分析棋局:  27%|██▋       | 447/1686 [1:01:24<2:23:08,  6.93s/it]"
     ]
    },
    {
     "name": "stdout",
     "output_type": "stream",
     "text": [
      "\n",
      "—— Analyzing Game 449 ——\n",
      "White: Zhani-Z (2041), Black: rhungaski (2406)\n"
     ]
    },
    {
     "name": "stderr",
     "output_type": "stream",
     "text": [
      "分析棋局:  27%|██▋       | 448/1686 [1:01:36<2:51:28,  8.31s/it]"
     ]
    },
    {
     "name": "stdout",
     "output_type": "stream",
     "text": [
      "\n",
      "—— Analyzing Game 450 ——\n",
      "White: oggy1984 (2191), Black: Philofive (2209)\n"
     ]
    },
    {
     "name": "stderr",
     "output_type": "stream",
     "text": [
      "分析棋局:  27%|██▋       | 449/1686 [1:01:42<2:41:50,  7.85s/it]"
     ]
    },
    {
     "name": "stdout",
     "output_type": "stream",
     "text": [
      "\n",
      "—— Analyzing Game 451 ——\n",
      "White: grandmastergauri (2339), Black: AlmirDzhumaev (2265)\n"
     ]
    },
    {
     "name": "stderr",
     "output_type": "stream",
     "text": [
      "分析棋局:  27%|██▋       | 450/1686 [1:01:49<2:36:19,  7.59s/it]"
     ]
    },
    {
     "name": "stdout",
     "output_type": "stream",
     "text": [
      "\n",
      "—— Analyzing Game 452 ——\n",
      "White: Yaacovn (2604), Black: GedoGluperd (2339)\n"
     ]
    },
    {
     "name": "stderr",
     "output_type": "stream",
     "text": [
      "分析棋局:  27%|██▋       | 451/1686 [1:01:59<2:47:56,  8.16s/it]"
     ]
    },
    {
     "name": "stdout",
     "output_type": "stream",
     "text": [
      "\n",
      "—— Analyzing Game 453 ——\n",
      "White: Philofive (2274), Black: Carolina-moon (1899)\n"
     ]
    },
    {
     "name": "stderr",
     "output_type": "stream",
     "text": [
      "分析棋局:  27%|██▋       | 452/1686 [1:02:02<2:18:53,  6.75s/it]"
     ]
    },
    {
     "name": "stdout",
     "output_type": "stream",
     "text": [
      "\n",
      "—— Analyzing Game 454 ——\n",
      "White: WanderingPuppet (2059), Black: gmsakk (2368)\n"
     ]
    },
    {
     "name": "stderr",
     "output_type": "stream",
     "text": [
      "分析棋局:  27%|██▋       | 453/1686 [1:02:07<2:08:51,  6.27s/it]"
     ]
    },
    {
     "name": "stdout",
     "output_type": "stream",
     "text": [
      "\n",
      "—— Analyzing Game 455 ——\n",
      "White: jlandaw (2333), Black: alexsuper1987 (1989)\n"
     ]
    },
    {
     "name": "stderr",
     "output_type": "stream",
     "text": [
      "分析棋局:  27%|██▋       | 454/1686 [1:02:10<1:47:36,  5.24s/it]"
     ]
    },
    {
     "name": "stdout",
     "output_type": "stream",
     "text": [
      "\n",
      "—— Analyzing Game 456 ——\n",
      "White: Dr-Bassem (2374), Black: AlmirDzhumaev (2069)\n"
     ]
    },
    {
     "name": "stderr",
     "output_type": "stream",
     "text": [
      "分析棋局:  27%|██▋       | 455/1686 [1:02:15<1:43:16,  5.03s/it]"
     ]
    },
    {
     "name": "stdout",
     "output_type": "stream",
     "text": [
      "\n",
      "—— Analyzing Game 457 ——\n",
      "White: DanielNaroditsky (2406), Black: Imre91 (2535)\n"
     ]
    },
    {
     "name": "stderr",
     "output_type": "stream",
     "text": [
      "分析棋局:  27%|██▋       | 456/1686 [1:02:20<1:45:03,  5.12s/it]"
     ]
    },
    {
     "name": "stdout",
     "output_type": "stream",
     "text": [
      "\n",
      "—— Analyzing Game 458 ——\n",
      "White: A-Fier (2537), Black: ItalianMachine (2164)\n"
     ]
    },
    {
     "name": "stderr",
     "output_type": "stream",
     "text": [
      "分析棋局:  27%|██▋       | 457/1686 [1:02:26<1:46:16,  5.19s/it]"
     ]
    },
    {
     "name": "stdout",
     "output_type": "stream",
     "text": [
      "\n",
      "—— Analyzing Game 459 ——\n",
      "White: SL0M (2015), Black: 162a54f5d (2294)\n"
     ]
    },
    {
     "name": "stderr",
     "output_type": "stream",
     "text": [
      "分析棋局:  27%|██▋       | 458/1686 [1:02:31<1:45:03,  5.13s/it]"
     ]
    },
    {
     "name": "stdout",
     "output_type": "stream",
     "text": [
      "\n",
      "—— Analyzing Game 460 ——\n",
      "White: LittlePeasant (2396), Black: MbMaster (2103)\n"
     ]
    },
    {
     "name": "stderr",
     "output_type": "stream",
     "text": [
      "分析棋局:  27%|██▋       | 459/1686 [1:02:36<1:46:43,  5.22s/it]"
     ]
    },
    {
     "name": "stdout",
     "output_type": "stream",
     "text": [
      "\n",
      "—— Analyzing Game 461 ——\n",
      "White: PauloCesarCosta (2098), Black: rhungaski (2396)\n"
     ]
    },
    {
     "name": "stderr",
     "output_type": "stream",
     "text": [
      "分析棋局:  27%|██▋       | 460/1686 [1:02:42<1:51:18,  5.45s/it]"
     ]
    },
    {
     "name": "stdout",
     "output_type": "stream",
     "text": [
      "\n",
      "—— Analyzing Game 462 ——\n",
      "White: AUSSIE_PINOY (2305), Black: MattyDPerrine (1984)\n"
     ]
    },
    {
     "name": "stderr",
     "output_type": "stream",
     "text": [
      "分析棋局:  27%|██▋       | 461/1686 [1:02:46<1:41:31,  4.97s/it]"
     ]
    },
    {
     "name": "stdout",
     "output_type": "stream",
     "text": [
      "\n",
      "—— Analyzing Game 463 ——\n",
      "White: playerzr (1908), Black: RitvarsReimanis (2281)\n"
     ]
    },
    {
     "name": "stderr",
     "output_type": "stream",
     "text": [
      "分析棋局:  27%|██▋       | 462/1686 [1:02:53<1:53:05,  5.54s/it]"
     ]
    },
    {
     "name": "stdout",
     "output_type": "stream",
     "text": [
      "\n",
      "—— Analyzing Game 464 ——\n",
      "White: GM_Barcenilla (2656), Black: jasrom (2203)\n"
     ]
    },
    {
     "name": "stderr",
     "output_type": "stream",
     "text": [
      "分析棋局:  27%|██▋       | 463/1686 [1:02:58<1:53:46,  5.58s/it]"
     ]
    },
    {
     "name": "stdout",
     "output_type": "stream",
     "text": [
      "\n",
      "—— Analyzing Game 465 ——\n",
      "White: bugsbunny444 (2233), Black: SidArun (1828)\n"
     ]
    },
    {
     "name": "stderr",
     "output_type": "stream",
     "text": [
      "分析棋局:  28%|██▊       | 464/1686 [1:03:05<1:57:43,  5.78s/it]"
     ]
    },
    {
     "name": "stdout",
     "output_type": "stream",
     "text": [
      "\n",
      "—— Analyzing Game 466 ——\n",
      "White: AungTZ (2009), Black: DanielRensch (2346)\n"
     ]
    },
    {
     "name": "stderr",
     "output_type": "stream",
     "text": [
      "分析棋局:  28%|██▊       | 465/1686 [1:03:12<2:05:50,  6.18s/it]"
     ]
    },
    {
     "name": "stdout",
     "output_type": "stream",
     "text": [
      "\n",
      "—— Analyzing Game 467 ——\n",
      "White: chessmachined (2140), Black: Gevorg_Harutjunyan (2427)\n"
     ]
    },
    {
     "name": "stderr",
     "output_type": "stream",
     "text": [
      "分析棋局:  28%|██▊       | 466/1686 [1:03:18<2:06:23,  6.22s/it]"
     ]
    },
    {
     "name": "stdout",
     "output_type": "stream",
     "text": [
      "\n",
      "—— Analyzing Game 468 ——\n",
      "White: vinceyoung15 (1969), Black: Kacparov (2303)\n"
     ]
    },
    {
     "name": "stderr",
     "output_type": "stream",
     "text": [
      "分析棋局:  28%|██▊       | 467/1686 [1:03:25<2:10:03,  6.40s/it]"
     ]
    },
    {
     "name": "stdout",
     "output_type": "stream",
     "text": [
      "\n",
      "—— Analyzing Game 469 ——\n",
      "White: liczner (2407), Black: gumersindo (2102)\n"
     ]
    },
    {
     "name": "stderr",
     "output_type": "stream",
     "text": [
      "分析棋局:  28%|██▊       | 468/1686 [1:03:30<2:05:17,  6.17s/it]"
     ]
    },
    {
     "name": "stdout",
     "output_type": "stream",
     "text": [
      "\n",
      "—— Analyzing Game 470 ——\n",
      "White: Houdinovic (2259), Black: swayamsm (2337)\n"
     ]
    },
    {
     "name": "stderr",
     "output_type": "stream",
     "text": [
      "分析棋局:  28%|██▊       | 469/1686 [1:03:37<2:07:06,  6.27s/it]"
     ]
    },
    {
     "name": "stdout",
     "output_type": "stream",
     "text": [
      "\n",
      "—— Analyzing Game 471 ——\n",
      "White: FairChess_on_YouTube (2704), Black: DrHolmes13 (2206)\n"
     ]
    },
    {
     "name": "stderr",
     "output_type": "stream",
     "text": [
      "分析棋局:  28%|██▊       | 470/1686 [1:03:46<2:23:28,  7.08s/it]"
     ]
    },
    {
     "name": "stdout",
     "output_type": "stream",
     "text": [
      "\n",
      "—— Analyzing Game 472 ——\n",
      "White: LADIESGET2KNOWME (2221), Black: exoticprincess (2592)\n"
     ]
    },
    {
     "name": "stderr",
     "output_type": "stream",
     "text": [
      "分析棋局:  28%|██▊       | 471/1686 [1:03:52<2:18:09,  6.82s/it]"
     ]
    },
    {
     "name": "stdout",
     "output_type": "stream",
     "text": [
      "\n",
      "—— Analyzing Game 473 ——\n",
      "White: UnPolarizing (2213), Black: Hafez_Bakr (1760)\n"
     ]
    },
    {
     "name": "stderr",
     "output_type": "stream",
     "text": [
      "分析棋局:  28%|██▊       | 472/1686 [1:03:58<2:14:48,  6.66s/it]"
     ]
    },
    {
     "name": "stdout",
     "output_type": "stream",
     "text": [
      "\n",
      "—— Analyzing Game 474 ——\n",
      "White: davopetr (2550), Black: Squirlolz (2164)\n"
     ]
    },
    {
     "name": "stderr",
     "output_type": "stream",
     "text": [
      "分析棋局:  28%|██▊       | 473/1686 [1:04:04<2:09:51,  6.42s/it]"
     ]
    },
    {
     "name": "stdout",
     "output_type": "stream",
     "text": [
      "\n",
      "—— Analyzing Game 475 ——\n",
      "White: GedoGluperd (2321), Black: kharposh (2014)\n"
     ]
    },
    {
     "name": "stderr",
     "output_type": "stream",
     "text": [
      "分析棋局:  28%|██▊       | 474/1686 [1:04:13<2:22:28,  7.05s/it]"
     ]
    },
    {
     "name": "stdout",
     "output_type": "stream",
     "text": [
      "\n",
      "—— Analyzing Game 476 ——\n",
      "White: crisfoisor (2095), Black: VovAn1991 (2409)\n"
     ]
    },
    {
     "name": "stderr",
     "output_type": "stream",
     "text": [
      "分析棋局:  28%|██▊       | 475/1686 [1:04:22<2:35:43,  7.72s/it]"
     ]
    },
    {
     "name": "stdout",
     "output_type": "stream",
     "text": [
      "\n",
      "—— Analyzing Game 477 ——\n",
      "White: steinitz_attack (1791), Black: ViennaRocket (2220)\n"
     ]
    },
    {
     "name": "stderr",
     "output_type": "stream",
     "text": [
      "分析棋局:  28%|██▊       | 476/1686 [1:04:30<2:39:12,  7.89s/it]"
     ]
    },
    {
     "name": "stdout",
     "output_type": "stream",
     "text": [
      "\n",
      "—— Analyzing Game 478 ——\n",
      "White: AlexanderL (2468), Black: BeerLag (2151)\n"
     ]
    },
    {
     "name": "stderr",
     "output_type": "stream",
     "text": [
      "分析棋局:  28%|██▊       | 477/1686 [1:04:39<2:41:21,  8.01s/it]"
     ]
    },
    {
     "name": "stdout",
     "output_type": "stream",
     "text": [
      "\n",
      "—— Analyzing Game 479 ——\n",
      "White: HowToTameADragon (1895), Black: grandmastergauri (2257)\n"
     ]
    },
    {
     "name": "stderr",
     "output_type": "stream",
     "text": [
      "分析棋局:  28%|██▊       | 478/1686 [1:04:45<2:31:57,  7.55s/it]"
     ]
    },
    {
     "name": "stdout",
     "output_type": "stream",
     "text": [
      "\n",
      "—— Analyzing Game 480 ——\n",
      "White: IMRosen (2018), Black: David_Klein (2352)\n"
     ]
    },
    {
     "name": "stderr",
     "output_type": "stream",
     "text": [
      "分析棋局:  28%|██▊       | 479/1686 [1:04:55<2:47:17,  8.32s/it]"
     ]
    },
    {
     "name": "stdout",
     "output_type": "stream",
     "text": [
      "\n",
      "—— Analyzing Game 481 ——\n",
      "White: FlySooHigh (2363), Black: Zhani-Z (2030)\n"
     ]
    },
    {
     "name": "stderr",
     "output_type": "stream",
     "text": [
      "分析棋局:  28%|██▊       | 480/1686 [1:05:03<2:42:23,  8.08s/it]"
     ]
    },
    {
     "name": "stdout",
     "output_type": "stream",
     "text": [
      "\n",
      "—— Analyzing Game 482 ——\n",
      "White: KestutisLabeckas (2343), Black: AMatros (1997)\n"
     ]
    },
    {
     "name": "stderr",
     "output_type": "stream",
     "text": [
      "分析棋局:  29%|██▊       | 481/1686 [1:05:10<2:38:28,  7.89s/it]"
     ]
    },
    {
     "name": "stdout",
     "output_type": "stream",
     "text": [
      "\n",
      "—— Analyzing Game 483 ——\n",
      "White: DARIO555 (2209), Black: GeorgMeier (2630)\n"
     ]
    },
    {
     "name": "stderr",
     "output_type": "stream",
     "text": [
      "分析棋局:  29%|██▊       | 482/1686 [1:05:18<2:35:38,  7.76s/it]"
     ]
    },
    {
     "name": "stdout",
     "output_type": "stream",
     "text": [
      "\n",
      "—— Analyzing Game 484 ——\n",
      "White: Yaacovn (2607), Black: megarompa (2135)\n"
     ]
    },
    {
     "name": "stderr",
     "output_type": "stream",
     "text": [
      "分析棋局:  29%|██▊       | 483/1686 [1:05:30<3:04:58,  9.23s/it]"
     ]
    },
    {
     "name": "stdout",
     "output_type": "stream",
     "text": [
      "\n",
      "—— Analyzing Game 485 ——\n",
      "White: esr44 (1987), Black: MisaPap (2361)\n"
     ]
    },
    {
     "name": "stderr",
     "output_type": "stream",
     "text": [
      "分析棋局:  29%|██▊       | 484/1686 [1:05:38<2:53:54,  8.68s/it]"
     ]
    },
    {
     "name": "stdout",
     "output_type": "stream",
     "text": [
      "\n",
      "—— Analyzing Game 486 ——\n",
      "White: Tilicheev_Viacheslav (2385), Black: NMLuo (2050)\n"
     ]
    },
    {
     "name": "stderr",
     "output_type": "stream",
     "text": [
      "分析棋局:  29%|██▉       | 485/1686 [1:05:47<2:54:22,  8.71s/it]"
     ]
    },
    {
     "name": "stdout",
     "output_type": "stream",
     "text": [
      "\n",
      "—— Analyzing Game 487 ——\n",
      "White: oggy1984 (2152), Black: LuckyTiger (2492)\n"
     ]
    },
    {
     "name": "stderr",
     "output_type": "stream",
     "text": [
      "分析棋局:  29%|██▉       | 486/1686 [1:05:54<2:49:10,  8.46s/it]"
     ]
    },
    {
     "name": "stdout",
     "output_type": "stream",
     "text": [
      "\n",
      "—— Analyzing Game 488 ——\n",
      "White: VSERGUEI (2178), Black: Bigc08 (1973)\n"
     ]
    },
    {
     "name": "stderr",
     "output_type": "stream",
     "text": [
      "分析棋局:  29%|██▉       | 487/1686 [1:06:01<2:37:51,  7.90s/it]"
     ]
    },
    {
     "name": "stdout",
     "output_type": "stream",
     "text": [
      "\n",
      "—— Analyzing Game 489 ——\n",
      "White: Vandros57 (1843), Black: Quinten94 (2197)\n"
     ]
    },
    {
     "name": "stderr",
     "output_type": "stream",
     "text": [
      "分析棋局:  29%|██▉       | 488/1686 [1:06:12<2:58:17,  8.93s/it]"
     ]
    },
    {
     "name": "stdout",
     "output_type": "stream",
     "text": [
      "\n",
      "—— Analyzing Game 490 ——\n",
      "White: hitaman (2405), Black: zmaj23 (2118)\n"
     ]
    },
    {
     "name": "stderr",
     "output_type": "stream",
     "text": [
      "分析棋局:  29%|██▉       | 489/1686 [1:06:19<2:42:33,  8.15s/it]"
     ]
    },
    {
     "name": "stdout",
     "output_type": "stream",
     "text": [
      "\n",
      "—— Analyzing Game 491 ——\n",
      "White: matein28 (2355), Black: ecwinslow (2003)\n"
     ]
    },
    {
     "name": "stderr",
     "output_type": "stream",
     "text": [
      "分析棋局:  29%|██▉       | 490/1686 [1:06:32<3:13:00,  9.68s/it]"
     ]
    },
    {
     "name": "stdout",
     "output_type": "stream",
     "text": [
      "\n",
      "—— Analyzing Game 492 ——\n",
      "White: MartinZumsande (2212), Black: lexiel (1862)\n"
     ]
    },
    {
     "name": "stderr",
     "output_type": "stream",
     "text": [
      "分析棋局:  29%|██▉       | 491/1686 [1:06:39<3:00:18,  9.05s/it]"
     ]
    },
    {
     "name": "stdout",
     "output_type": "stream",
     "text": [
      "\n",
      "—— Analyzing Game 493 ——\n",
      "White: pKiLz5Rn9b (2151), Black: ameet100 (2392)\n"
     ]
    },
    {
     "name": "stderr",
     "output_type": "stream",
     "text": [
      "分析棋局:  29%|██▉       | 492/1686 [1:06:51<3:15:56,  9.85s/it]"
     ]
    },
    {
     "name": "stdout",
     "output_type": "stream",
     "text": [
      "\n",
      "—— Analyzing Game 494 ——\n",
      "White: bsmail (2165), Black: Sebastian (2547)\n"
     ]
    },
    {
     "name": "stderr",
     "output_type": "stream",
     "text": [
      "分析棋局:  29%|██▉       | 493/1686 [1:07:01<3:12:48,  9.70s/it]"
     ]
    },
    {
     "name": "stdout",
     "output_type": "stream",
     "text": [
      "\n",
      "—— Analyzing Game 495 ——\n",
      "White: ChessWarrior7197 (1984), Black: Irochka83 (2321)\n"
     ]
    },
    {
     "name": "stderr",
     "output_type": "stream",
     "text": [
      "分析棋局:  29%|██▉       | 494/1686 [1:07:09<3:06:45,  9.40s/it]"
     ]
    },
    {
     "name": "stdout",
     "output_type": "stream",
     "text": [
      "\n",
      "—— Analyzing Game 496 ——\n",
      "White: MikePerelshteyn (1759), Black: THORK (2208)\n"
     ]
    },
    {
     "name": "stderr",
     "output_type": "stream",
     "text": [
      "分析棋局:  29%|██▉       | 495/1686 [1:07:19<3:09:27,  9.54s/it]"
     ]
    },
    {
     "name": "stdout",
     "output_type": "stream",
     "text": [
      "\n",
      "—— Analyzing Game 497 ——\n",
      "White: zmaj23 (2113), Black: Houdinovic (2325)\n"
     ]
    },
    {
     "name": "stderr",
     "output_type": "stream",
     "text": [
      "分析棋局:  29%|██▉       | 496/1686 [1:07:22<2:28:03,  7.46s/it]"
     ]
    },
    {
     "name": "stdout",
     "output_type": "stream",
     "text": [
      "\n",
      "—— Analyzing Game 498 ——\n",
      "White: SidArun (1820), Black: vinceyoung15 (1975)\n"
     ]
    },
    {
     "name": "stderr",
     "output_type": "stream",
     "text": [
      "分析棋局:  29%|██▉       | 497/1686 [1:07:25<2:04:48,  6.30s/it]"
     ]
    },
    {
     "name": "stdout",
     "output_type": "stream",
     "text": [
      "\n",
      "—— Analyzing Game 499 ——\n",
      "White: alexsuper1987 (1979), Black: pKiLz5Rn9b (2156)\n"
     ]
    },
    {
     "name": "stderr",
     "output_type": "stream",
     "text": [
      "分析棋局:  30%|██▉       | 498/1686 [1:07:31<1:59:32,  6.04s/it]"
     ]
    },
    {
     "name": "stdout",
     "output_type": "stream",
     "text": [
      "\n",
      "—— Analyzing Game 500 ——\n",
      "White: GeorgMeier (2633), Black: bugsbunny444 (2232)\n"
     ]
    },
    {
     "name": "stderr",
     "output_type": "stream",
     "text": [
      "分析棋局:  30%|██▉       | 499/1686 [1:07:35<1:51:34,  5.64s/it]"
     ]
    },
    {
     "name": "stdout",
     "output_type": "stream",
     "text": [
      "\n",
      "—— Analyzing Game 501 ——\n",
      "White: grandmastergauri (2258), Black: steinitz_attack (1787)\n"
     ]
    },
    {
     "name": "stderr",
     "output_type": "stream",
     "text": [
      "分析棋局:  30%|██▉       | 500/1686 [1:07:38<1:34:54,  4.80s/it]"
     ]
    },
    {
     "name": "stdout",
     "output_type": "stream",
     "text": [
      "\n",
      "—— Analyzing Game 502 ——\n",
      "White: Hafez_Bakr (1771), Black: playerzr (1870)\n"
     ]
    },
    {
     "name": "stderr",
     "output_type": "stream",
     "text": [
      "分析棋局:  30%|██▉       | 501/1686 [1:07:44<1:37:46,  4.95s/it]"
     ]
    },
    {
     "name": "stdout",
     "output_type": "stream",
     "text": [
      "\n",
      "—— Analyzing Game 503 ——\n",
      "White: gumersindo (2106), Black: GedoGluperd (2313)\n"
     ]
    },
    {
     "name": "stderr",
     "output_type": "stream",
     "text": [
      "分析棋局:  30%|██▉       | 502/1686 [1:07:51<1:51:06,  5.63s/it]"
     ]
    },
    {
     "name": "stdout",
     "output_type": "stream",
     "text": [
      "\n",
      "—— Analyzing Game 504 ——\n",
      "White: AlmirDzhumaev (2079), Black: bsmail (2155)\n"
     ]
    },
    {
     "name": "stderr",
     "output_type": "stream",
     "text": [
      "分析棋局:  30%|██▉       | 503/1686 [1:07:58<1:57:27,  5.96s/it]"
     ]
    },
    {
     "name": "stdout",
     "output_type": "stream",
     "text": [
      "\n",
      "—— Analyzing Game 505 ——\n",
      "White: gmsakk (2363), Black: davopetr (2557)\n"
     ]
    },
    {
     "name": "stderr",
     "output_type": "stream",
     "text": [
      "分析棋局:  30%|██▉       | 504/1686 [1:08:03<1:55:25,  5.86s/it]"
     ]
    },
    {
     "name": "stdout",
     "output_type": "stream",
     "text": [
      "\n",
      "—— Analyzing Game 506 ——\n",
      "White: megarompa (2255), Black: WanderingPuppet (2053)\n"
     ]
    },
    {
     "name": "stderr",
     "output_type": "stream",
     "text": [
      "分析棋局:  30%|██▉       | 505/1686 [1:08:08<1:48:45,  5.53s/it]"
     ]
    },
    {
     "name": "stdout",
     "output_type": "stream",
     "text": [
      "\n",
      "—— Analyzing Game 507 ——\n",
      "White: Bigc08 (2024), Black: AUSSIE_PINOY (2291)\n"
     ]
    },
    {
     "name": "stderr",
     "output_type": "stream",
     "text": [
      "分析棋局:  30%|███       | 506/1686 [1:08:14<1:49:29,  5.57s/it]"
     ]
    },
    {
     "name": "stdout",
     "output_type": "stream",
     "text": [
      "\n",
      "—— Analyzing Game 508 ——\n",
      "White: Irochka83 (2306), Black: A-Fier (2558)\n"
     ]
    },
    {
     "name": "stderr",
     "output_type": "stream",
     "text": [
      "分析棋局:  30%|███       | 507/1686 [1:08:20<1:54:27,  5.83s/it]"
     ]
    },
    {
     "name": "stdout",
     "output_type": "stream",
     "text": [
      "\n",
      "—— Analyzing Game 509 ——\n",
      "White: RitvarsReimanis (2292), Black: liczner (2396)\n"
     ]
    },
    {
     "name": "stderr",
     "output_type": "stream",
     "text": [
      "分析棋局:  30%|███       | 508/1686 [1:08:25<1:51:32,  5.68s/it]"
     ]
    },
    {
     "name": "stdout",
     "output_type": "stream",
     "text": [
      "\n",
      "—— Analyzing Game 510 ——\n",
      "White: THORK (2204), Black: DanielNaroditsky (2466)\n"
     ]
    },
    {
     "name": "stderr",
     "output_type": "stream",
     "text": [
      "分析棋局:  30%|███       | 509/1686 [1:08:34<2:08:46,  6.56s/it]"
     ]
    },
    {
     "name": "stdout",
     "output_type": "stream",
     "text": [
      "\n",
      "—— Analyzing Game 511 ——\n",
      "White: MisaPap (2328), Black: Yaacovn (2610)\n"
     ]
    },
    {
     "name": "stderr",
     "output_type": "stream",
     "text": [
      "分析棋局:  30%|███       | 510/1686 [1:08:40<2:08:16,  6.54s/it]"
     ]
    },
    {
     "name": "stdout",
     "output_type": "stream",
     "text": [
      "\n",
      "—— Analyzing Game 512 ——\n",
      "White: LuckyTiger (2423), Black: KestutisLabeckas (2370)\n"
     ]
    },
    {
     "name": "stderr",
     "output_type": "stream",
     "text": [
      "分析棋局:  30%|███       | 511/1686 [1:08:47<2:05:10,  6.39s/it]"
     ]
    },
    {
     "name": "stdout",
     "output_type": "stream",
     "text": [
      "\n",
      "—— Analyzing Game 513 ——\n",
      "White: ecwinslow (1994), Black: chessmachined (2145)\n"
     ]
    },
    {
     "name": "stderr",
     "output_type": "stream",
     "text": [
      "分析棋局:  30%|███       | 512/1686 [1:08:53<2:05:54,  6.43s/it]"
     ]
    },
    {
     "name": "stdout",
     "output_type": "stream",
     "text": [
      "\n",
      "—— Analyzing Game 514 ——\n",
      "White: MattyDPerrine (1976), Black: esr44 (1995)\n"
     ]
    },
    {
     "name": "stderr",
     "output_type": "stream",
     "text": [
      "分析棋局:  30%|███       | 513/1686 [1:09:00<2:06:00,  6.45s/it]"
     ]
    },
    {
     "name": "stdout",
     "output_type": "stream",
     "text": [
      "\n",
      "—— Analyzing Game 515 ——\n",
      "White: David_Klein (2372), Black: GM_Barcenilla (2553)\n"
     ]
    },
    {
     "name": "stderr",
     "output_type": "stream",
     "text": [
      "分析棋局:  30%|███       | 514/1686 [1:09:07<2:09:21,  6.62s/it]"
     ]
    },
    {
     "name": "stdout",
     "output_type": "stream",
     "text": [
      "\n",
      "—— Analyzing Game 516 ——\n",
      "White: ameet100 (2399), Black: jlandaw (2326)\n"
     ]
    },
    {
     "name": "stderr",
     "output_type": "stream",
     "text": [
      "分析棋局:  31%|███       | 515/1686 [1:09:12<2:01:07,  6.21s/it]"
     ]
    },
    {
     "name": "stdout",
     "output_type": "stream",
     "text": [
      "\n",
      "—— Analyzing Game 517 ——\n",
      "White: ItalianMachine (2170), Black: crisfoisor (2067)\n"
     ]
    },
    {
     "name": "stderr",
     "output_type": "stream",
     "text": [
      "分析棋局:  31%|███       | 516/1686 [1:09:18<2:01:37,  6.24s/it]"
     ]
    },
    {
     "name": "stdout",
     "output_type": "stream",
     "text": [
      "\n",
      "—— Analyzing Game 518 ——\n",
      "White: swayamsm (2309), Black: DARIO555 (2220)\n"
     ]
    },
    {
     "name": "stderr",
     "output_type": "stream",
     "text": [
      "分析棋局:  31%|███       | 517/1686 [1:09:24<1:57:53,  6.05s/it]"
     ]
    },
    {
     "name": "stdout",
     "output_type": "stream",
     "text": [
      "\n",
      "—— Analyzing Game 519 ——\n",
      "White: lexiel (1836), Black: HowToTameADragon (1911)\n"
     ]
    },
    {
     "name": "stderr",
     "output_type": "stream",
     "text": [
      "分析棋局:  31%|███       | 518/1686 [1:09:31<2:03:57,  6.37s/it]"
     ]
    },
    {
     "name": "stdout",
     "output_type": "stream",
     "text": [
      "\n",
      "—— Analyzing Game 520 ——\n",
      "White: Carolina-moon (1909), Black: ChessWarrior7197 (1974)\n"
     ]
    },
    {
     "name": "stderr",
     "output_type": "stream",
     "text": [
      "分析棋局:  31%|███       | 519/1686 [1:09:37<2:03:37,  6.36s/it]"
     ]
    },
    {
     "name": "stdout",
     "output_type": "stream",
     "text": [
      "\n",
      "—— Analyzing Game 521 ——\n",
      "White: Squirlolz (2119), Black: IMRosen (2029)\n"
     ]
    },
    {
     "name": "stderr",
     "output_type": "stream",
     "text": [
      "分析棋局:  31%|███       | 520/1686 [1:09:44<2:05:57,  6.48s/it]"
     ]
    },
    {
     "name": "stdout",
     "output_type": "stream",
     "text": [
      "\n",
      "—— Analyzing Game 522 ——\n",
      "White: DanielRensch (2344), Black: FairChess_on_YouTube (2707)\n"
     ]
    },
    {
     "name": "stderr",
     "output_type": "stream",
     "text": [
      "分析棋局:  31%|███       | 521/1686 [1:09:51<2:08:38,  6.63s/it]"
     ]
    },
    {
     "name": "stdout",
     "output_type": "stream",
     "text": [
      "\n",
      "—— Analyzing Game 523 ——\n",
      "White: MbMaster (2118), Black: oggy1984 (2143)\n"
     ]
    },
    {
     "name": "stderr",
     "output_type": "stream",
     "text": [
      "分析棋局:  31%|███       | 522/1686 [1:09:57<2:06:59,  6.55s/it]"
     ]
    },
    {
     "name": "stdout",
     "output_type": "stream",
     "text": [
      "\n",
      "—— Analyzing Game 524 ——\n",
      "White: exoticprincess (2617), Black: hitaman (2395)\n"
     ]
    },
    {
     "name": "stderr",
     "output_type": "stream",
     "text": [
      "分析棋局:  31%|███       | 523/1686 [1:10:09<2:35:13,  8.01s/it]"
     ]
    },
    {
     "name": "stdout",
     "output_type": "stream",
     "text": [
      "\n",
      "—— Analyzing Game 525 ——\n",
      "White: kharposh (2012), Black: Tilicheev_Viacheslav (2387)\n"
     ]
    },
    {
     "name": "stderr",
     "output_type": "stream",
     "text": [
      "分析棋局:  31%|███       | 524/1686 [1:10:15<2:24:35,  7.47s/it]"
     ]
    },
    {
     "name": "stdout",
     "output_type": "stream",
     "text": [
      "\n",
      "—— Analyzing Game 526 ——\n",
      "White: VovAn1991 (2416), Black: Dr-Bassem (2366)\n"
     ]
    },
    {
     "name": "stderr",
     "output_type": "stream",
     "text": [
      "分析棋局:  31%|███       | 525/1686 [1:10:22<2:19:56,  7.23s/it]"
     ]
    },
    {
     "name": "stdout",
     "output_type": "stream",
     "text": [
      "\n",
      "—— Analyzing Game 527 ——\n",
      "White: Kacparov (2297), Black: LittlePeasant (2420)\n"
     ]
    },
    {
     "name": "stderr",
     "output_type": "stream",
     "text": [
      "分析棋局:  31%|███       | 526/1686 [1:10:32<2:36:24,  8.09s/it]"
     ]
    },
    {
     "name": "stdout",
     "output_type": "stream",
     "text": [
      "\n",
      "—— Analyzing Game 528 ——\n",
      "White: 162a54f5d (2298), Black: Vandros57 (1842)\n"
     ]
    },
    {
     "name": "stderr",
     "output_type": "stream",
     "text": [
      "分析棋局:  31%|███▏      | 527/1686 [1:10:40<2:40:36,  8.31s/it]"
     ]
    },
    {
     "name": "stdout",
     "output_type": "stream",
     "text": [
      "\n",
      "—— Analyzing Game 529 ——\n",
      "White: NMLuo (1985), Black: VSERGUEI (2213)\n"
     ]
    },
    {
     "name": "stderr",
     "output_type": "stream",
     "text": [
      "分析棋局:  31%|███▏      | 528/1686 [1:10:49<2:40:49,  8.33s/it]"
     ]
    },
    {
     "name": "stdout",
     "output_type": "stream",
     "text": [
      "\n",
      "—— Analyzing Game 530 ——\n",
      "White: Sebastian (2552), Black: matein28 (2331)\n"
     ]
    },
    {
     "name": "stderr",
     "output_type": "stream",
     "text": [
      "分析棋局:  31%|███▏      | 529/1686 [1:10:56<2:35:19,  8.06s/it]"
     ]
    },
    {
     "name": "stdout",
     "output_type": "stream",
     "text": [
      "\n",
      "—— Analyzing Game 531 ——\n",
      "White: Imre91 (2537), Black: MartinZumsande (2194)\n"
     ]
    },
    {
     "name": "stderr",
     "output_type": "stream",
     "text": [
      "分析棋局:  31%|███▏      | 530/1686 [1:11:05<2:41:03,  8.36s/it]"
     ]
    },
    {
     "name": "stdout",
     "output_type": "stream",
     "text": [
      "\n",
      "—— Analyzing Game 532 ——\n",
      "White: BeerLag (2156), Black: AungTZ (2004)\n"
     ]
    },
    {
     "name": "stderr",
     "output_type": "stream",
     "text": [
      "分析棋局:  31%|███▏      | 531/1686 [1:11:16<2:52:45,  8.97s/it]"
     ]
    },
    {
     "name": "stdout",
     "output_type": "stream",
     "text": [
      "\n",
      "—— Analyzing Game 533 ——\n",
      "White: ViennaRocket (2212), Black: LADIESGET2KNOWME (2229)\n"
     ]
    },
    {
     "name": "stderr",
     "output_type": "stream",
     "text": [
      "分析棋局:  32%|███▏      | 532/1686 [1:11:23<2:42:00,  8.42s/it]"
     ]
    },
    {
     "name": "stdout",
     "output_type": "stream",
     "text": [
      "\n",
      "—— Analyzing Game 534 ——\n",
      "White: Quinten94 (2156), Black: UnPolarizing (2222)\n"
     ]
    },
    {
     "name": "stderr",
     "output_type": "stream",
     "text": [
      "分析棋局:  32%|███▏      | 533/1686 [1:11:35<3:03:16,  9.54s/it]"
     ]
    },
    {
     "name": "stdout",
     "output_type": "stream",
     "text": [
      "\n",
      "—— Analyzing Game 535 ——\n",
      "White: rhungaski (2398), Black: AlexanderL (2464)\n"
     ]
    },
    {
     "name": "stderr",
     "output_type": "stream",
     "text": [
      "分析棋局:  32%|███▏      | 534/1686 [1:11:45<3:07:57,  9.79s/it]"
     ]
    },
    {
     "name": "stdout",
     "output_type": "stream",
     "text": [
      "\n",
      "—— Analyzing Game 536 ——\n",
      "White: jasrom (2209), Black: PauloCesarCosta (2089)\n"
     ]
    },
    {
     "name": "stderr",
     "output_type": "stream",
     "text": [
      "分析棋局:  32%|███▏      | 535/1686 [1:11:55<3:07:03,  9.75s/it]"
     ]
    },
    {
     "name": "stdout",
     "output_type": "stream",
     "text": [
      "\n",
      "—— Analyzing Game 537 ——\n",
      "White: DrHolmes13 (2170), Black: MikePerelshteyn (1964)\n"
     ]
    },
    {
     "name": "stderr",
     "output_type": "stream",
     "text": [
      "分析棋局:  32%|███▏      | 536/1686 [1:12:06<3:13:35, 10.10s/it]"
     ]
    },
    {
     "name": "stdout",
     "output_type": "stream",
     "text": [
      "\n",
      "—— Analyzing Game 538 ——\n",
      "White: Gevorg_Harutjunyan (2426), Black: FlySooHigh (2364)\n"
     ]
    },
    {
     "name": "stderr",
     "output_type": "stream",
     "text": [
      "分析棋局:  32%|███▏      | 537/1686 [1:12:18<3:26:47, 10.80s/it]"
     ]
    },
    {
     "name": "stdout",
     "output_type": "stream",
     "text": [
      "\n",
      "—— Analyzing Game 539 ——\n",
      "White: mortalbovine (1581), Black: Philofive (2274)\n"
     ]
    },
    {
     "name": "stderr",
     "output_type": "stream",
     "text": [
      "分析棋局:  32%|███▏      | 538/1686 [1:12:31<3:39:11, 11.46s/it]"
     ]
    },
    {
     "name": "stdout",
     "output_type": "stream",
     "text": [
      "\n",
      "—— Analyzing Game 540 ——\n",
      "White: MartinZumsande (2232), Black: gumersindo (2100)\n"
     ]
    },
    {
     "name": "stderr",
     "output_type": "stream",
     "text": [
      "分析棋局:  32%|███▏      | 539/1686 [1:12:35<2:56:24,  9.23s/it]"
     ]
    },
    {
     "name": "stdout",
     "output_type": "stream",
     "text": [
      "\n",
      "—— Analyzing Game 541 ——\n",
      "White: ChessWarrior7197 (1980), Black: playerzr (1851)\n"
     ]
    },
    {
     "name": "stderr",
     "output_type": "stream",
     "text": [
      "分析棋局:  32%|███▏      | 540/1686 [1:12:40<2:31:51,  7.95s/it]"
     ]
    },
    {
     "name": "stdout",
     "output_type": "stream",
     "text": [
      "\n",
      "—— Analyzing Game 542 ——\n",
      "White: matein28 (2287), Black: Kacparov (2306)\n"
     ]
    },
    {
     "name": "stderr",
     "output_type": "stream",
     "text": [
      "分析棋局:  32%|███▏      | 541/1686 [1:12:45<2:15:28,  7.10s/it]"
     ]
    },
    {
     "name": "stdout",
     "output_type": "stream",
     "text": [
      "\n",
      "—— Analyzing Game 543 ——\n",
      "White: HowToTameADragon (1909), Black: AlexanderL (2466)\n"
     ]
    },
    {
     "name": "stderr",
     "output_type": "stream",
     "text": [
      "分析棋局:  32%|███▏      | 542/1686 [1:12:50<1:59:44,  6.28s/it]"
     ]
    },
    {
     "name": "stdout",
     "output_type": "stream",
     "text": [
      "\n",
      "—— Analyzing Game 544 ——\n",
      "White: LuckyTiger (2450), Black: grandmastergauri (2254)\n"
     ]
    },
    {
     "name": "stderr",
     "output_type": "stream",
     "text": [
      "分析棋局:  32%|███▏      | 543/1686 [1:12:55<1:52:07,  5.89s/it]"
     ]
    },
    {
     "name": "stdout",
     "output_type": "stream",
     "text": [
      "\n",
      "—— Analyzing Game 545 ——\n",
      "White: Hafez_Bakr (1771), Black: hitaman (2396)\n"
     ]
    },
    {
     "name": "stderr",
     "output_type": "stream",
     "text": [
      "分析棋局:  32%|███▏      | 544/1686 [1:13:01<1:52:55,  5.93s/it]"
     ]
    },
    {
     "name": "stdout",
     "output_type": "stream",
     "text": [
      "\n",
      "—— Analyzing Game 546 ——\n",
      "White: Gevorg_Harutjunyan (2430), Black: DARIO555 (2216)\n"
     ]
    },
    {
     "name": "stderr",
     "output_type": "stream",
     "text": [
      "分析棋局:  32%|███▏      | 545/1686 [1:13:05<1:40:43,  5.30s/it]"
     ]
    },
    {
     "name": "stdout",
     "output_type": "stream",
     "text": [
      "\n",
      "—— Analyzing Game 547 ——\n",
      "White: Squirlolz (2080), Black: AungTZ (2015)\n"
     ]
    },
    {
     "name": "stderr",
     "output_type": "stream",
     "text": [
      "分析棋局:  32%|███▏      | 546/1686 [1:13:10<1:40:36,  5.29s/it]"
     ]
    },
    {
     "name": "stdout",
     "output_type": "stream",
     "text": [
      "\n",
      "—— Analyzing Game 548 ——\n",
      "White: FairChess_on_YouTube (2711), Black: David_Klein (2369)\n"
     ]
    },
    {
     "name": "stderr",
     "output_type": "stream",
     "text": [
      "分析棋局:  32%|███▏      | 547/1686 [1:13:14<1:35:28,  5.03s/it]"
     ]
    },
    {
     "name": "stdout",
     "output_type": "stream",
     "text": [
      "\n",
      "—— Analyzing Game 549 ——\n",
      "White: DanielRensch (2349), Black: ItalianMachine (2166)\n"
     ]
    },
    {
     "name": "stderr",
     "output_type": "stream",
     "text": [
      "分析棋局:  33%|███▎      | 548/1686 [1:13:18<1:27:31,  4.61s/it]"
     ]
    },
    {
     "name": "stdout",
     "output_type": "stream",
     "text": [
      "\n",
      "—— Analyzing Game 550 ——\n",
      "White: rhungaski (2405), Black: FlySooHigh (2357)\n"
     ]
    },
    {
     "name": "stderr",
     "output_type": "stream",
     "text": [
      "分析棋局:  33%|███▎      | 549/1686 [1:13:23<1:28:40,  4.68s/it]"
     ]
    },
    {
     "name": "stdout",
     "output_type": "stream",
     "text": [
      "\n",
      "—— Analyzing Game 551 ——\n",
      "White: ameet100 (2404), Black: Philofive (2269)\n"
     ]
    },
    {
     "name": "stderr",
     "output_type": "stream",
     "text": [
      "分析棋局:  33%|███▎      | 550/1686 [1:13:28<1:30:44,  4.79s/it]"
     ]
    },
    {
     "name": "stdout",
     "output_type": "stream",
     "text": [
      "\n",
      "—— Analyzing Game 552 ——\n",
      "White: Imre91 (2539), Black: jasrom (2207)\n"
     ]
    },
    {
     "name": "stderr",
     "output_type": "stream",
     "text": [
      "分析棋局:  33%|███▎      | 551/1686 [1:13:35<1:44:32,  5.53s/it]"
     ]
    },
    {
     "name": "stdout",
     "output_type": "stream",
     "text": [
      "\n",
      "—— Analyzing Game 553 ——\n",
      "White: crisfoisor (2100), Black: PauloCesarCosta (2077)\n"
     ]
    },
    {
     "name": "stderr",
     "output_type": "stream",
     "text": [
      "分析棋局:  33%|███▎      | 552/1686 [1:13:42<1:50:01,  5.82s/it]"
     ]
    },
    {
     "name": "stdout",
     "output_type": "stream",
     "text": [
      "\n",
      "—— Analyzing Game 554 ——\n",
      "White: DanielNaroditsky (2487), Black: Bigc08 (2019)\n"
     ]
    },
    {
     "name": "stderr",
     "output_type": "stream",
     "text": [
      "分析棋局:  33%|███▎      | 553/1686 [1:13:50<2:01:30,  6.43s/it]"
     ]
    },
    {
     "name": "stdout",
     "output_type": "stream",
     "text": [
      "\n",
      "—— Analyzing Game 555 ——\n",
      "White: GM_Barcenilla (2572), Black: bugsbunny444 (2230)\n"
     ]
    },
    {
     "name": "stderr",
     "output_type": "stream",
     "text": [
      "分析棋局:  33%|███▎      | 554/1686 [1:13:55<1:56:42,  6.19s/it]"
     ]
    },
    {
     "name": "stdout",
     "output_type": "stream",
     "text": [
      "\n",
      "—— Analyzing Game 556 ——\n",
      "White: Dr-Bassem (2354), Black: VSERGUEI (2278)\n"
     ]
    },
    {
     "name": "stderr",
     "output_type": "stream",
     "text": [
      "分析棋局:  33%|███▎      | 555/1686 [1:14:00<1:47:21,  5.70s/it]"
     ]
    },
    {
     "name": "stdout",
     "output_type": "stream",
     "text": [
      "\n",
      "—— Analyzing Game 557 ——\n",
      "White: 162a54f5d (2314), Black: BeerLag (2151)\n"
     ]
    },
    {
     "name": "stderr",
     "output_type": "stream",
     "text": [
      "分析棋局:  33%|███▎      | 556/1686 [1:14:06<1:51:03,  5.90s/it]"
     ]
    },
    {
     "name": "stdout",
     "output_type": "stream",
     "text": [
      "\n",
      "—— Analyzing Game 558 ——\n",
      "White: AlmirDzhumaev (2069), Black: vinceyoung15 (1987)\n"
     ]
    },
    {
     "name": "stderr",
     "output_type": "stream",
     "text": [
      "分析棋局:  33%|███▎      | 557/1686 [1:14:12<1:52:52,  6.00s/it]"
     ]
    },
    {
     "name": "stdout",
     "output_type": "stream",
     "text": [
      "\n",
      "—— Analyzing Game 559 ——\n",
      "White: davopetr (2564), Black: Tilicheev_Viacheslav (2383)\n"
     ]
    },
    {
     "name": "stderr",
     "output_type": "stream",
     "text": [
      "分析棋局:  33%|███▎      | 558/1686 [1:14:18<1:51:09,  5.91s/it]"
     ]
    },
    {
     "name": "stdout",
     "output_type": "stream",
     "text": [
      "\n",
      "—— Analyzing Game 560 ——\n",
      "White: liczner (2385), Black: megarompa (2408)\n"
     ]
    },
    {
     "name": "stderr",
     "output_type": "stream",
     "text": [
      "分析棋局:  33%|███▎      | 559/1686 [1:14:25<1:55:16,  6.14s/it]"
     ]
    },
    {
     "name": "stdout",
     "output_type": "stream",
     "text": [
      "\n",
      "—— Analyzing Game 561 ——\n",
      "White: LittlePeasant (2405), Black: UnPolarizing (2226)\n"
     ]
    },
    {
     "name": "stderr",
     "output_type": "stream",
     "text": [
      "分析棋局:  33%|███▎      | 560/1686 [1:14:31<1:53:45,  6.06s/it]"
     ]
    },
    {
     "name": "stdout",
     "output_type": "stream",
     "text": [
      "\n",
      "—— Analyzing Game 562 ——\n",
      "White: oggy1984 (2148), Black: ecwinslow (1986)\n"
     ]
    },
    {
     "name": "stderr",
     "output_type": "stream",
     "text": [
      "分析棋局:  33%|███▎      | 561/1686 [1:14:36<1:49:30,  5.84s/it]"
     ]
    },
    {
     "name": "stdout",
     "output_type": "stream",
     "text": [
      "\n",
      "—— Analyzing Game 563 ——\n",
      "White: lexiel (1859), Black: steinitz_attack (1762)\n"
     ]
    },
    {
     "name": "stderr",
     "output_type": "stream",
     "text": [
      "分析棋局:  33%|███▎      | 562/1686 [1:14:42<1:50:38,  5.91s/it]"
     ]
    },
    {
     "name": "stdout",
     "output_type": "stream",
     "text": [
      "\n",
      "—— Analyzing Game 564 ——\n",
      "White: MikePerelshteyn (1954), Black: exoticprincess (2620)\n"
     ]
    },
    {
     "name": "stderr",
     "output_type": "stream",
     "text": [
      "分析棋局:  33%|███▎      | 563/1686 [1:14:51<2:06:52,  6.78s/it]"
     ]
    },
    {
     "name": "stdout",
     "output_type": "stream",
     "text": [
      "\n",
      "—— Analyzing Game 565 ——\n",
      "White: IMRosen (2037), Black: kharposh (2004)\n"
     ]
    },
    {
     "name": "stderr",
     "output_type": "stream",
     "text": [
      "分析棋局:  33%|███▎      | 564/1686 [1:14:57<2:05:45,  6.72s/it]"
     ]
    },
    {
     "name": "stdout",
     "output_type": "stream",
     "text": [
      "\n",
      "—— Analyzing Game 566 ——\n",
      "White: MattyDPerrine (1981), Black: SidArun (1813)\n"
     ]
    },
    {
     "name": "stderr",
     "output_type": "stream",
     "text": [
      "分析棋局:  34%|███▎      | 565/1686 [1:15:05<2:09:01,  6.91s/it]"
     ]
    },
    {
     "name": "stdout",
     "output_type": "stream",
     "text": [
      "\n",
      "—— Analyzing Game 567 ——\n",
      "White: LADIESGET2KNOWME (2231), Black: Houdinovic (2306)\n"
     ]
    },
    {
     "name": "stderr",
     "output_type": "stream",
     "text": [
      "分析棋局:  34%|███▎      | 566/1686 [1:15:11<2:02:50,  6.58s/it]"
     ]
    },
    {
     "name": "stdout",
     "output_type": "stream",
     "text": [
      "\n",
      "—— Analyzing Game 568 ——\n",
      "White: jlandaw (2331), Black: chessmachined (2141)\n"
     ]
    },
    {
     "name": "stderr",
     "output_type": "stream",
     "text": [
      "分析棋局:  34%|███▎      | 567/1686 [1:15:20<2:17:40,  7.38s/it]"
     ]
    },
    {
     "name": "stdout",
     "output_type": "stream",
     "text": [
      "\n",
      "—— Analyzing Game 569 ——\n",
      "White: Sebastian (2536), Black: RitvarsReimanis (2305)\n"
     ]
    },
    {
     "name": "stderr",
     "output_type": "stream",
     "text": [
      "分析棋局:  34%|███▎      | 568/1686 [1:15:24<1:58:38,  6.37s/it]"
     ]
    },
    {
     "name": "stdout",
     "output_type": "stream",
     "text": [
      "\n",
      "—— Analyzing Game 570 ——\n",
      "White: bsmail (2143), Black: NMLuo (2096)\n"
     ]
    },
    {
     "name": "stderr",
     "output_type": "stream",
     "text": [
      "分析棋局:  34%|███▎      | 569/1686 [1:15:31<2:00:51,  6.49s/it]"
     ]
    },
    {
     "name": "stdout",
     "output_type": "stream",
     "text": [
      "\n",
      "—— Analyzing Game 571 ——\n",
      "White: MbMaster (2101), Black: esr44 (2006)\n"
     ]
    },
    {
     "name": "stderr",
     "output_type": "stream",
     "text": [
      "分析棋局:  34%|███▍      | 570/1686 [1:15:38<2:06:21,  6.79s/it]"
     ]
    },
    {
     "name": "stdout",
     "output_type": "stream",
     "text": [
      "\n",
      "—— Analyzing Game 572 ——\n",
      "White: Carolina-moon (1895), Black: mortalbovine (1639)\n"
     ]
    },
    {
     "name": "stderr",
     "output_type": "stream",
     "text": [
      "分析棋局:  34%|███▍      | 571/1686 [1:15:46<2:12:50,  7.15s/it]"
     ]
    },
    {
     "name": "stdout",
     "output_type": "stream",
     "text": [
      "\n",
      "—— Analyzing Game 573 ——\n",
      "White: A-Fier (2504), Black: VovAn1991 (2427)\n"
     ]
    },
    {
     "name": "stderr",
     "output_type": "stream",
     "text": [
      "分析棋局:  34%|███▍      | 572/1686 [1:15:55<2:23:58,  7.75s/it]"
     ]
    },
    {
     "name": "stdout",
     "output_type": "stream",
     "text": [
      "\n",
      "—— Analyzing Game 574 ——\n",
      "White: Yaacovn (2605), Black: KestutisLabeckas (2381)\n"
     ]
    },
    {
     "name": "stderr",
     "output_type": "stream",
     "text": [
      "分析棋局:  34%|███▍      | 573/1686 [1:16:04<2:29:45,  8.07s/it]"
     ]
    },
    {
     "name": "stdout",
     "output_type": "stream",
     "text": [
      "\n",
      "—— Analyzing Game 575 ——\n",
      "White: ViennaRocket (2212), Black: THORK (2204)\n"
     ]
    },
    {
     "name": "stderr",
     "output_type": "stream",
     "text": [
      "分析棋局:  34%|███▍      | 574/1686 [1:16:12<2:31:25,  8.17s/it]"
     ]
    },
    {
     "name": "stdout",
     "output_type": "stream",
     "text": [
      "\n",
      "—— Analyzing Game 576 ——\n",
      "White: GedoGluperd (2320), Black: zmaj23 (2109)\n"
     ]
    },
    {
     "name": "stderr",
     "output_type": "stream",
     "text": [
      "分析棋局:  34%|███▍      | 575/1686 [1:16:21<2:35:49,  8.42s/it]"
     ]
    },
    {
     "name": "stdout",
     "output_type": "stream",
     "text": [
      "\n",
      "—— Analyzing Game 577 ——\n",
      "White: Vandros57 (1841), Black: swayamsm (2312)\n"
     ]
    },
    {
     "name": "stderr",
     "output_type": "stream",
     "text": [
      "分析棋局:  34%|███▍      | 576/1686 [1:16:28<2:24:03,  7.79s/it]"
     ]
    },
    {
     "name": "stdout",
     "output_type": "stream",
     "text": [
      "\n",
      "—— Analyzing Game 578 ——\n",
      "White: DrHolmes13 (2183), Black: WanderingPuppet (2048)\n"
     ]
    },
    {
     "name": "stderr",
     "output_type": "stream",
     "text": [
      "分析棋局:  34%|███▍      | 577/1686 [1:16:37<2:29:49,  8.11s/it]"
     ]
    },
    {
     "name": "stdout",
     "output_type": "stream",
     "text": [
      "\n",
      "—— Analyzing Game 579 ——\n",
      "White: Irochka83 (2264), Black: pKiLz5Rn9b (2167)\n"
     ]
    },
    {
     "name": "stderr",
     "output_type": "stream",
     "text": [
      "分析棋局:  34%|███▍      | 578/1686 [1:16:47<2:40:21,  8.68s/it]"
     ]
    },
    {
     "name": "stdout",
     "output_type": "stream",
     "text": [
      "\n",
      "—— Analyzing Game 580 ——\n",
      "White: MisaPap (2384), Black: AUSSIE_PINOY (2284)\n"
     ]
    },
    {
     "name": "stderr",
     "output_type": "stream",
     "text": [
      "分析棋局:  34%|███▍      | 580/1686 [1:16:59<2:08:24,  6.97s/it]"
     ]
    },
    {
     "name": "stdout",
     "output_type": "stream",
     "text": [
      "\n",
      "—— Analyzing Game 581 ——\n",
      "White: BeerLag (2162), Black: matein28 (2237)\n",
      "\n",
      "—— Analyzing Game 582 ——\n",
      "White: PauloCesarCosta (2063), Black: MattyDPerrine (1991)\n"
     ]
    },
    {
     "name": "stderr",
     "output_type": "stream",
     "text": [
      "分析棋局:  34%|███▍      | 581/1686 [1:17:02<1:43:08,  5.60s/it]"
     ]
    },
    {
     "name": "stdout",
     "output_type": "stream",
     "text": [
      "\n",
      "—— Analyzing Game 583 ——\n",
      "White: kharposh (2000), Black: DrHolmes13 (2193)\n"
     ]
    },
    {
     "name": "stderr",
     "output_type": "stream",
     "text": [
      "分析棋局:  35%|███▍      | 582/1686 [1:17:07<1:38:17,  5.34s/it]"
     ]
    },
    {
     "name": "stdout",
     "output_type": "stream",
     "text": [
      "\n",
      "—— Analyzing Game 584 ——\n",
      "White: megarompa (2526), Black: A-Fier (2458)\n"
     ]
    },
    {
     "name": "stderr",
     "output_type": "stream",
     "text": [
      "分析棋局:  35%|███▍      | 583/1686 [1:17:14<1:49:07,  5.94s/it]"
     ]
    },
    {
     "name": "stdout",
     "output_type": "stream",
     "text": [
      "\n",
      "—— Analyzing Game 585 ——\n",
      "White: AungTZ (2018), Black: steinitz_attack (1751)\n"
     ]
    },
    {
     "name": "stderr",
     "output_type": "stream",
     "text": [
      "分析棋局:  35%|███▍      | 584/1686 [1:17:19<1:45:33,  5.75s/it]"
     ]
    },
    {
     "name": "stdout",
     "output_type": "stream",
     "text": [
      "\n",
      "—— Analyzing Game 586 ——\n",
      "White: AlmirDzhumaev (2071), Black: Hafez_Bakr (1769)\n"
     ]
    },
    {
     "name": "stderr",
     "output_type": "stream",
     "text": [
      "分析棋局:  35%|███▍      | 585/1686 [1:17:26<1:48:49,  5.93s/it]"
     ]
    },
    {
     "name": "stdout",
     "output_type": "stream",
     "text": [
      "\n",
      "—— Analyzing Game 587 ——\n",
      "White: Philofive (2266), Black: Sebastian (2540)\n"
     ]
    },
    {
     "name": "stderr",
     "output_type": "stream",
     "text": [
      "分析棋局:  35%|███▍      | 586/1686 [1:17:31<1:44:45,  5.71s/it]"
     ]
    },
    {
     "name": "stdout",
     "output_type": "stream",
     "text": [
      "\n",
      "—— Analyzing Game 588 ——\n",
      "White: Houdinovic (2257), Black: Gevorg_Harutjunyan (2435)\n"
     ]
    },
    {
     "name": "stderr",
     "output_type": "stream",
     "text": [
      "分析棋局:  35%|███▍      | 587/1686 [1:17:36<1:40:15,  5.47s/it]"
     ]
    },
    {
     "name": "stdout",
     "output_type": "stream",
     "text": [
      "\n",
      "—— Analyzing Game 589 ——\n",
      "White: ChessWarrior7197 (1991), Black: bsmail (2132)\n"
     ]
    },
    {
     "name": "stderr",
     "output_type": "stream",
     "text": [
      "分析棋局:  35%|███▍      | 588/1686 [1:17:43<1:51:40,  6.10s/it]"
     ]
    },
    {
     "name": "stdout",
     "output_type": "stream",
     "text": [
      "\n",
      "—— Analyzing Game 590 ——\n",
      "White: DARIO555 (2202), Black: HowToTameADragon (1938)\n"
     ]
    },
    {
     "name": "stderr",
     "output_type": "stream",
     "text": [
      "分析棋局:  35%|███▍      | 589/1686 [1:17:48<1:43:37,  5.67s/it]"
     ]
    },
    {
     "name": "stdout",
     "output_type": "stream",
     "text": [
      "\n",
      "—— Analyzing Game 591 ——\n",
      "White: gumersindo (2103), Black: Vandros57 (1838)\n"
     ]
    },
    {
     "name": "stderr",
     "output_type": "stream",
     "text": [
      "分析棋局:  35%|███▍      | 590/1686 [1:17:54<1:44:26,  5.72s/it]"
     ]
    },
    {
     "name": "stdout",
     "output_type": "stream",
     "text": [
      "\n",
      "—— Analyzing Game 592 ——\n",
      "White: VovAn1991 (2424), Black: FairChess_on_YouTube (2716)\n"
     ]
    },
    {
     "name": "stderr",
     "output_type": "stream",
     "text": [
      "分析棋局:  35%|███▌      | 591/1686 [1:17:59<1:39:16,  5.44s/it]"
     ]
    },
    {
     "name": "stdout",
     "output_type": "stream",
     "text": [
      "\n",
      "—— Analyzing Game 593 ——\n",
      "White: NMLuo (2047), Black: ViennaRocket (2217)\n"
     ]
    },
    {
     "name": "stderr",
     "output_type": "stream",
     "text": [
      "分析棋局:  35%|███▌      | 592/1686 [1:18:05<1:42:57,  5.65s/it]"
     ]
    },
    {
     "name": "stdout",
     "output_type": "stream",
     "text": [
      "\n",
      "—— Analyzing Game 594 ——\n",
      "White: esr44 (2004), Black: DanielRensch (2351)\n"
     ]
    },
    {
     "name": "stderr",
     "output_type": "stream",
     "text": [
      "分析棋局:  35%|███▌      | 593/1686 [1:18:10<1:43:46,  5.70s/it]"
     ]
    },
    {
     "name": "stdout",
     "output_type": "stream",
     "text": [
      "\n",
      "—— Analyzing Game 595 ——\n",
      "White: hitaman (2374), Black: jlandaw (2341)\n"
     ]
    },
    {
     "name": "stderr",
     "output_type": "stream",
     "text": [
      "分析棋局:  35%|███▌      | 594/1686 [1:18:15<1:37:00,  5.33s/it]"
     ]
    },
    {
     "name": "stdout",
     "output_type": "stream",
     "text": [
      "\n",
      "—— Analyzing Game 596 ——\n",
      "White: exoticprincess (2640), Black: LittlePeasant (2392)\n"
     ]
    },
    {
     "name": "stderr",
     "output_type": "stream",
     "text": [
      "分析棋局:  35%|███▌      | 595/1686 [1:18:20<1:35:54,  5.27s/it]"
     ]
    },
    {
     "name": "stdout",
     "output_type": "stream",
     "text": [
      "\n",
      "—— Analyzing Game 597 ——\n",
      "White: THORK (2210), Black: MbMaster (2092)\n"
     ]
    },
    {
     "name": "stderr",
     "output_type": "stream",
     "text": [
      "分析棋局:  35%|███▌      | 596/1686 [1:18:28<1:50:09,  6.06s/it]"
     ]
    },
    {
     "name": "stdout",
     "output_type": "stream",
     "text": [
      "\n",
      "—— Analyzing Game 598 ——\n",
      "White: grandmastergauri (2256), Black: lexiel (1854)\n"
     ]
    },
    {
     "name": "stderr",
     "output_type": "stream",
     "text": [
      "分析棋局:  35%|███▌      | 597/1686 [1:18:37<2:05:31,  6.92s/it]"
     ]
    },
    {
     "name": "stdout",
     "output_type": "stream",
     "text": [
      "\n",
      "—— Analyzing Game 599 ——\n",
      "White: vinceyoung15 (1984), Black: 162a54f5d (2321)\n"
     ]
    },
    {
     "name": "stderr",
     "output_type": "stream",
     "text": [
      "分析棋局:  35%|███▌      | 598/1686 [1:18:44<2:05:04,  6.90s/it]"
     ]
    },
    {
     "name": "stdout",
     "output_type": "stream",
     "text": [
      "\n",
      "—— Analyzing Game 600 ——\n",
      "White: RitvarsReimanis (2302), Black: davopetr (2569)\n"
     ]
    },
    {
     "name": "stderr",
     "output_type": "stream",
     "text": [
      "分析棋局:  36%|███▌      | 599/1686 [1:18:51<2:08:32,  7.09s/it]"
     ]
    },
    {
     "name": "stdout",
     "output_type": "stream",
     "text": [
      "\n",
      "—— Analyzing Game 601 ——\n",
      "White: UnPolarizing (2242), Black: Yaacovn (2591)\n"
     ]
    },
    {
     "name": "stderr",
     "output_type": "stream",
     "text": [
      "分析棋局:  36%|███▌      | 600/1686 [1:19:00<2:15:37,  7.49s/it]"
     ]
    },
    {
     "name": "stdout",
     "output_type": "stream",
     "text": [
      "\n",
      "—— Analyzing Game 602 ——\n",
      "White: zmaj23 (2101), Black: crisfoisor (2129)\n"
     ]
    },
    {
     "name": "stderr",
     "output_type": "stream",
     "text": [
      "分析棋局:  36%|███▌      | 601/1686 [1:19:11<2:35:42,  8.61s/it]"
     ]
    },
    {
     "name": "stdout",
     "output_type": "stream",
     "text": [
      "\n",
      "—— Analyzing Game 603 ——\n",
      "White: chessmachined (2136), Black: Irochka83 (2283)\n"
     ]
    },
    {
     "name": "stderr",
     "output_type": "stream",
     "text": [
      "分析棋局:  36%|███▌      | 602/1686 [1:19:18<2:27:59,  8.19s/it]"
     ]
    },
    {
     "name": "stdout",
     "output_type": "stream",
     "text": [
      "\n",
      "—— Analyzing Game 604 ——\n",
      "White: AUSSIE_PINOY (2275), Black: MartinZumsande (2282)\n"
     ]
    },
    {
     "name": "stderr",
     "output_type": "stream",
     "text": [
      "分析棋局:  36%|███▌      | 603/1686 [1:19:27<2:31:45,  8.41s/it]"
     ]
    },
    {
     "name": "stdout",
     "output_type": "stream",
     "text": [
      "\n",
      "—— Analyzing Game 605 ——\n",
      "White: ItalianMachine (2162), Black: Dr-Bassem (2358)\n"
     ]
    },
    {
     "name": "stderr",
     "output_type": "stream",
     "text": [
      "分析棋局:  36%|███▌      | 604/1686 [1:19:34<2:21:05,  7.82s/it]"
     ]
    },
    {
     "name": "stdout",
     "output_type": "stream",
     "text": [
      "\n",
      "—— Analyzing Game 606 ——\n",
      "White: Kacparov (2311), Black: GM_Barcenilla (2540)\n"
     ]
    },
    {
     "name": "stderr",
     "output_type": "stream",
     "text": [
      "分析棋局:  36%|███▌      | 605/1686 [1:19:40<2:11:13,  7.28s/it]"
     ]
    },
    {
     "name": "stdout",
     "output_type": "stream",
     "text": [
      "\n",
      "—— Analyzing Game 607 ——\n",
      "White: jasrom (2219), Black: liczner (2373)\n"
     ]
    },
    {
     "name": "stderr",
     "output_type": "stream",
     "text": [
      "分析棋局:  36%|███▌      | 606/1686 [1:19:48<2:14:57,  7.50s/it]"
     ]
    },
    {
     "name": "stdout",
     "output_type": "stream",
     "text": [
      "\n",
      "—— Analyzing Game 608 ——\n",
      "White: swayamsm (2332), Black: GedoGluperd (2307)\n"
     ]
    },
    {
     "name": "stderr",
     "output_type": "stream",
     "text": [
      "分析棋局:  36%|███▌      | 607/1686 [1:19:58<2:30:17,  8.36s/it]"
     ]
    },
    {
     "name": "stdout",
     "output_type": "stream",
     "text": [
      "\n",
      "—— Analyzing Game 609 ——\n",
      "White: WanderingPuppet (2058), Black: oggy1984 (2138)\n"
     ]
    },
    {
     "name": "stderr",
     "output_type": "stream",
     "text": [
      "分析棋局:  36%|███▌      | 608/1686 [1:20:06<2:30:00,  8.35s/it]"
     ]
    },
    {
     "name": "stdout",
     "output_type": "stream",
     "text": [
      "\n",
      "—— Analyzing Game 610 ——\n",
      "White: FlySooHigh (2359), Black: IMRosen (2035)\n"
     ]
    },
    {
     "name": "stderr",
     "output_type": "stream",
     "text": [
      "分析棋局:  36%|███▌      | 609/1686 [1:20:14<2:28:12,  8.26s/it]"
     ]
    },
    {
     "name": "stdout",
     "output_type": "stream",
     "text": [
      "\n",
      "—— Analyzing Game 611 ——\n",
      "White: bugsbunny444 (2225), Black: MikePerelshteyn (2009)\n"
     ]
    },
    {
     "name": "stderr",
     "output_type": "stream",
     "text": [
      "分析棋局:  36%|███▌      | 610/1686 [1:20:24<2:33:44,  8.57s/it]"
     ]
    },
    {
     "name": "stdout",
     "output_type": "stream",
     "text": [
      "\n",
      "—— Analyzing Game 612 ——\n",
      "White: David_Klein (2365), Black: LADIESGET2KNOWME (2234)\n"
     ]
    },
    {
     "name": "stderr",
     "output_type": "stream",
     "text": [
      "分析棋局:  36%|███▌      | 611/1686 [1:20:30<2:21:39,  7.91s/it]"
     ]
    },
    {
     "name": "stdout",
     "output_type": "stream",
     "text": [
      "\n",
      "—— Analyzing Game 613 ——\n",
      "White: AlexanderL (2445), Black: ameet100 (2413)\n"
     ]
    },
    {
     "name": "stderr",
     "output_type": "stream",
     "text": [
      "分析棋局:  36%|███▋      | 612/1686 [1:20:42<2:41:52,  9.04s/it]"
     ]
    },
    {
     "name": "stdout",
     "output_type": "stream",
     "text": [
      "\n",
      "—— Analyzing Game 614 ——\n",
      "White: pKiLz5Rn9b (2164), Black: LuckyTiger (2466)\n"
     ]
    },
    {
     "name": "stderr",
     "output_type": "stream",
     "text": [
      "分析棋局:  36%|███▋      | 613/1686 [1:20:52<2:51:05,  9.57s/it]"
     ]
    },
    {
     "name": "stdout",
     "output_type": "stream",
     "text": [
      "\n",
      "—— Analyzing Game 615 ——\n",
      "White: playerzr (1854), Black: Carolina-moon (1894)\n"
     ]
    },
    {
     "name": "stderr",
     "output_type": "stream",
     "text": [
      "分析棋局:  36%|███▋      | 614/1686 [1:21:04<2:59:35, 10.05s/it]"
     ]
    },
    {
     "name": "stdout",
     "output_type": "stream",
     "text": [
      "\n",
      "—— Analyzing Game 616 ——\n",
      "White: Bigc08 (2012), Black: MisaPap (2399)\n"
     ]
    },
    {
     "name": "stderr",
     "output_type": "stream",
     "text": [
      "分析棋局:  36%|███▋      | 615/1686 [1:21:12<2:51:36,  9.61s/it]"
     ]
    },
    {
     "name": "stdout",
     "output_type": "stream",
     "text": [
      "\n",
      "—— Analyzing Game 617 ——\n",
      "White: KestutisLabeckas (2404), Black: DanielNaroditsky (2385)\n"
     ]
    },
    {
     "name": "stderr",
     "output_type": "stream",
     "text": [
      "分析棋局:  37%|███▋      | 616/1686 [1:21:23<2:59:33, 10.07s/it]"
     ]
    },
    {
     "name": "stdout",
     "output_type": "stream",
     "text": [
      "\n",
      "—— Analyzing Game 618 ——\n",
      "White: Tilicheev_Viacheslav (2384), Black: rhungaski (2404)\n"
     ]
    },
    {
     "name": "stderr",
     "output_type": "stream",
     "text": [
      "分析棋局:  37%|███▋      | 617/1686 [1:21:34<3:02:18, 10.23s/it]"
     ]
    },
    {
     "name": "stdout",
     "output_type": "stream",
     "text": [
      "\n",
      "—— Analyzing Game 619 ——\n",
      "White: VSERGUEI (2304), Black: Imre91 (2534)\n"
     ]
    },
    {
     "name": "stderr",
     "output_type": "stream",
     "text": [
      "分析棋局:  37%|███▋      | 618/1686 [1:21:41<2:43:28,  9.18s/it]"
     ]
    },
    {
     "name": "stdout",
     "output_type": "stream",
     "text": [
      "\n",
      "—— Analyzing Game 620 ——\n",
      "White: davopetr (2565), Black: Gevorg_Harutjunyan (2438)\n"
     ]
    },
    {
     "name": "stderr",
     "output_type": "stream",
     "text": [
      "分析棋局:  37%|███▋      | 619/1686 [1:21:42<2:01:01,  6.81s/it]"
     ]
    },
    {
     "name": "stdout",
     "output_type": "stream",
     "text": [
      "\n",
      "—— Analyzing Game 621 ——\n",
      "White: AlexanderL (2425), Black: Tilicheev_Viacheslav (2393)\n"
     ]
    },
    {
     "name": "stderr",
     "output_type": "stream",
     "text": [
      "分析棋局:  37%|███▋      | 620/1686 [1:21:44<1:37:47,  5.50s/it]"
     ]
    },
    {
     "name": "stdout",
     "output_type": "stream",
     "text": [
      "\n",
      "—— Analyzing Game 622 ——\n",
      "White: exoticprincess (2652), Black: 162a54f5d (2314)\n"
     ]
    },
    {
     "name": "stderr",
     "output_type": "stream",
     "text": [
      "分析棋局:  37%|███▋      | 621/1686 [1:21:50<1:37:30,  5.49s/it]"
     ]
    },
    {
     "name": "stdout",
     "output_type": "stream",
     "text": [
      "\n",
      "—— Analyzing Game 623 ——\n",
      "White: grandmastergauri (2262), Black: BeerLag (2156)\n"
     ]
    },
    {
     "name": "stderr",
     "output_type": "stream",
     "text": [
      "分析棋局:  37%|███▋      | 622/1686 [1:21:53<1:27:05,  4.91s/it]"
     ]
    },
    {
     "name": "stdout",
     "output_type": "stream",
     "text": [
      "\n",
      "—— Analyzing Game 624 ——\n",
      "White: ItalianMachine (2168), Black: WanderingPuppet (2052)\n"
     ]
    },
    {
     "name": "stderr",
     "output_type": "stream",
     "text": [
      "分析棋局:  37%|███▋      | 623/1686 [1:21:58<1:22:32,  4.66s/it]"
     ]
    },
    {
     "name": "stdout",
     "output_type": "stream",
     "text": [
      "\n",
      "—— Analyzing Game 625 ——\n",
      "White: Kacparov (2318), Black: MartinZumsande (2245)\n"
     ]
    },
    {
     "name": "stderr",
     "output_type": "stream",
     "text": [
      "分析棋局:  37%|███▋      | 624/1686 [1:22:04<1:33:09,  5.26s/it]"
     ]
    },
    {
     "name": "stdout",
     "output_type": "stream",
     "text": [
      "\n",
      "—— Analyzing Game 626 ——\n",
      "White: swayamsm (2341), Black: crisfoisor (2115)\n"
     ]
    },
    {
     "name": "stderr",
     "output_type": "stream",
     "text": [
      "分析棋局:  37%|███▋      | 625/1686 [1:22:09<1:28:25,  5.00s/it]"
     ]
    },
    {
     "name": "stdout",
     "output_type": "stream",
     "text": [
      "\n",
      "—— Analyzing Game 627 ——\n",
      "White: Imre91 (2538), Black: David_Klein (2359)\n"
     ]
    },
    {
     "name": "stderr",
     "output_type": "stream",
     "text": [
      "分析棋局:  37%|███▋      | 626/1686 [1:22:15<1:33:08,  5.27s/it]"
     ]
    },
    {
     "name": "stdout",
     "output_type": "stream",
     "text": [
      "\n",
      "—— Analyzing Game 628 ——\n",
      "White: SidArun (1809), Black: zmaj23 (2104)\n"
     ]
    },
    {
     "name": "stderr",
     "output_type": "stream",
     "text": [
      "分析棋局:  37%|███▋      | 627/1686 [1:22:22<1:44:30,  5.92s/it]"
     ]
    },
    {
     "name": "stdout",
     "output_type": "stream",
     "text": [
      "\n",
      "—— Analyzing Game 629 ——\n",
      "White: FairChess_on_YouTube (2720), Black: ameet100 (2411)\n"
     ]
    },
    {
     "name": "stderr",
     "output_type": "stream",
     "text": [
      "分析棋局:  37%|███▋      | 628/1686 [1:22:29<1:50:36,  6.27s/it]"
     ]
    },
    {
     "name": "stdout",
     "output_type": "stream",
     "text": [
      "\n",
      "—— Analyzing Game 630 ——\n",
      "White: Sebastian (2546), Black: MisaPap (2365)\n"
     ]
    },
    {
     "name": "stderr",
     "output_type": "stream",
     "text": [
      "分析棋局:  37%|███▋      | 629/1686 [1:22:34<1:43:33,  5.88s/it]"
     ]
    },
    {
     "name": "stdout",
     "output_type": "stream",
     "text": [
      "\n",
      "—— Analyzing Game 631 ——\n",
      "White: KestutisLabeckas (2414), Black: UnPolarizing (2237)\n"
     ]
    },
    {
     "name": "stderr",
     "output_type": "stream",
     "text": [
      "分析棋局:  37%|███▋      | 630/1686 [1:22:41<1:51:56,  6.36s/it]"
     ]
    },
    {
     "name": "stdout",
     "output_type": "stream",
     "text": [
      "\n",
      "—— Analyzing Game 632 ——\n",
      "White: DanielNaroditsky (2482), Black: GM_Barcenilla (2473)\n"
     ]
    },
    {
     "name": "stderr",
     "output_type": "stream",
     "text": [
      "分析棋局:  37%|███▋      | 631/1686 [1:22:50<2:03:27,  7.02s/it]"
     ]
    },
    {
     "name": "stdout",
     "output_type": "stream",
     "text": [
      "\n",
      "—— Analyzing Game 633 ——\n",
      "White: oggy1984 (2146), Black: chessmachined (2128)\n"
     ]
    },
    {
     "name": "stderr",
     "output_type": "stream",
     "text": [
      "分析棋局:  37%|███▋      | 632/1686 [1:22:55<1:52:45,  6.42s/it]"
     ]
    },
    {
     "name": "stdout",
     "output_type": "stream",
     "text": [
      "\n",
      "—— Analyzing Game 634 ——\n",
      "White: gumersindo (2107), Black: Carolina-moon (1890)\n"
     ]
    },
    {
     "name": "stderr",
     "output_type": "stream",
     "text": [
      "分析棋局:  38%|███▊      | 633/1686 [1:23:03<2:00:52,  6.89s/it]"
     ]
    },
    {
     "name": "stdout",
     "output_type": "stream",
     "text": [
      "\n",
      "—— Analyzing Game 635 ——\n",
      "White: THORK (2214), Black: AungTZ (2014)\n"
     ]
    },
    {
     "name": "stderr",
     "output_type": "stream",
     "text": [
      "分析棋局:  38%|███▊      | 634/1686 [1:23:10<1:59:04,  6.79s/it]"
     ]
    },
    {
     "name": "stdout",
     "output_type": "stream",
     "text": [
      "\n",
      "—— Analyzing Game 636 ——\n",
      "White: esr44 (1996), Black: vinceyoung15 (1994)\n"
     ]
    },
    {
     "name": "stderr",
     "output_type": "stream",
     "text": [
      "分析棋局:  38%|███▊      | 635/1686 [1:23:17<2:01:59,  6.96s/it]"
     ]
    },
    {
     "name": "stdout",
     "output_type": "stream",
     "text": [
      "\n",
      "—— Analyzing Game 637 ——\n",
      "White: Dr-Bassem (2346), Black: pKiLz5Rn9b (2176)\n"
     ]
    },
    {
     "name": "stderr",
     "output_type": "stream",
     "text": [
      "分析棋局:  38%|███▊      | 636/1686 [1:23:24<2:04:21,  7.11s/it]"
     ]
    },
    {
     "name": "stdout",
     "output_type": "stream",
     "text": [
      "\n",
      "—— Analyzing Game 638 ——\n",
      "White: Houdinovic (2287), Black: A-Fier (2441)\n"
     ]
    },
    {
     "name": "stderr",
     "output_type": "stream",
     "text": [
      "分析棋局:  38%|███▊      | 637/1686 [1:23:35<2:23:16,  8.19s/it]"
     ]
    },
    {
     "name": "stdout",
     "output_type": "stream",
     "text": [
      "\n",
      "—— Analyzing Game 639 ——\n",
      "White: Bigc08 (1985), Black: ChessWarrior7197 (1999)\n"
     ]
    },
    {
     "name": "stderr",
     "output_type": "stream",
     "text": [
      "分析棋局:  38%|███▊      | 638/1686 [1:23:42<2:17:00,  7.84s/it]"
     ]
    },
    {
     "name": "stdout",
     "output_type": "stream",
     "text": [
      "\n",
      "—— Analyzing Game 640 ——\n",
      "White: hitaman (2384), Black: DARIO555 (2198)\n"
     ]
    },
    {
     "name": "stderr",
     "output_type": "stream",
     "text": [
      "分析棋局:  38%|███▊      | 639/1686 [1:23:50<2:18:06,  7.91s/it]"
     ]
    },
    {
     "name": "stdout",
     "output_type": "stream",
     "text": [
      "\n",
      "—— Analyzing Game 641 ——\n",
      "White: kharposh (2003), Black: Hafez_Bakr (1766)\n"
     ]
    },
    {
     "name": "stderr",
     "output_type": "stream",
     "text": [
      "分析棋局:  38%|███▊      | 640/1686 [1:23:59<2:24:51,  8.31s/it]"
     ]
    },
    {
     "name": "stdout",
     "output_type": "stream",
     "text": [
      "\n",
      "—— Analyzing Game 642 ——\n",
      "White: rhungaski (2408), Black: LADIESGET2KNOWME (2230)\n"
     ]
    },
    {
     "name": "stderr",
     "output_type": "stream",
     "text": [
      "分析棋局:  38%|███▊      | 641/1686 [1:24:06<2:13:05,  7.64s/it]"
     ]
    },
    {
     "name": "stdout",
     "output_type": "stream",
     "text": [
      "\n",
      "—— Analyzing Game 643 ——\n",
      "White: Vandros57 (1835), Black: bsmail (2134)\n"
     ]
    },
    {
     "name": "stderr",
     "output_type": "stream",
     "text": [
      "分析棋局:  38%|███▊      | 642/1686 [1:24:15<2:21:21,  8.12s/it]"
     ]
    },
    {
     "name": "stdout",
     "output_type": "stream",
     "text": [
      "\n",
      "—— Analyzing Game 644 ——\n",
      "White: VovAn1991 (2430), Black: jlandaw (2335)\n"
     ]
    },
    {
     "name": "stderr",
     "output_type": "stream",
     "text": [
      "分析棋局:  38%|███▊      | 643/1686 [1:24:22<2:16:23,  7.85s/it]"
     ]
    },
    {
     "name": "stdout",
     "output_type": "stream",
     "text": [
      "\n",
      "—— Analyzing Game 645 ——\n",
      "White: LuckyTiger (2494), Black: DanielRensch (2345)\n"
     ]
    },
    {
     "name": "stderr",
     "output_type": "stream",
     "text": [
      "分析棋局:  38%|███▊      | 644/1686 [1:24:28<2:05:32,  7.23s/it]"
     ]
    },
    {
     "name": "stdout",
     "output_type": "stream",
     "text": [
      "\n",
      "—— Analyzing Game 646 ——\n",
      "White: GedoGluperd (2292), Black: bugsbunny444 (2235)\n"
     ]
    },
    {
     "name": "stderr",
     "output_type": "stream",
     "text": [
      "分析棋局:  38%|███▊      | 645/1686 [1:24:35<2:06:51,  7.31s/it]"
     ]
    },
    {
     "name": "stdout",
     "output_type": "stream",
     "text": [
      "\n",
      "—— Analyzing Game 647 ——\n",
      "White: megarompa (2537), Black: HowToTameADragon (1937)\n"
     ]
    },
    {
     "name": "stderr",
     "output_type": "stream",
     "text": [
      "分析棋局:  38%|███▊      | 646/1686 [1:24:45<2:20:12,  8.09s/it]"
     ]
    },
    {
     "name": "stdout",
     "output_type": "stream",
     "text": [
      "\n",
      "—— Analyzing Game 648 ——\n",
      "White: LittlePeasant (2359), Black: VSERGUEI (2353)\n"
     ]
    },
    {
     "name": "stderr",
     "output_type": "stream",
     "text": [
      "分析棋局:  38%|███▊      | 647/1686 [1:24:54<2:25:35,  8.41s/it]"
     ]
    },
    {
     "name": "stdout",
     "output_type": "stream",
     "text": [
      "\n",
      "—— Analyzing Game 649 ——\n",
      "White: MattyDPerrine (1999), Black: MikePerelshteyn (1926)\n"
     ]
    },
    {
     "name": "stderr",
     "output_type": "stream",
     "text": [
      "分析棋局:  38%|███▊      | 648/1686 [1:25:04<2:29:20,  8.63s/it]"
     ]
    },
    {
     "name": "stdout",
     "output_type": "stream",
     "text": [
      "\n",
      "—— Analyzing Game 650 ——\n",
      "White: steinitz_attack (1733), Black: playerzr (1870)\n"
     ]
    },
    {
     "name": "stderr",
     "output_type": "stream",
     "text": [
      "分析棋局:  38%|███▊      | 649/1686 [1:25:11<2:24:17,  8.35s/it]"
     ]
    },
    {
     "name": "stdout",
     "output_type": "stream",
     "text": [
      "\n",
      "—— Analyzing Game 651 ——\n",
      "White: Irochka83 (2296), Black: AlmirDzhumaev (2067)\n"
     ]
    },
    {
     "name": "stderr",
     "output_type": "stream",
     "text": [
      "分析棋局:  39%|███▊      | 650/1686 [1:25:22<2:35:21,  9.00s/it]"
     ]
    },
    {
     "name": "stdout",
     "output_type": "stream",
     "text": [
      "\n",
      "—— Analyzing Game 652 ——\n",
      "White: DrHolmes13 (2211), Black: jasrom (2210)\n"
     ]
    },
    {
     "name": "stderr",
     "output_type": "stream",
     "text": [
      "分析棋局:  39%|███▊      | 651/1686 [1:25:30<2:33:16,  8.89s/it]"
     ]
    },
    {
     "name": "stdout",
     "output_type": "stream",
     "text": [
      "\n",
      "—— Analyzing Game 653 ——\n",
      "White: Philofive (2269), Black: IMRosen (2032)\n"
     ]
    },
    {
     "name": "stderr",
     "output_type": "stream",
     "text": [
      "分析棋局:  39%|███▊      | 652/1686 [1:25:41<2:41:00,  9.34s/it]"
     ]
    },
    {
     "name": "stdout",
     "output_type": "stream",
     "text": [
      "\n",
      "—— Analyzing Game 654 ——\n",
      "White: AUSSIE_PINOY (2262), Black: NMLuo (2141)\n"
     ]
    },
    {
     "name": "stderr",
     "output_type": "stream",
     "text": [
      "分析棋局:  39%|███▊      | 653/1686 [1:25:50<2:42:02,  9.41s/it]"
     ]
    },
    {
     "name": "stdout",
     "output_type": "stream",
     "text": [
      "\n",
      "—— Analyzing Game 655 ——\n",
      "White: Yaacovn (2586), Black: FlySooHigh (2364)\n"
     ]
    },
    {
     "name": "stderr",
     "output_type": "stream",
     "text": [
      "分析棋局:  39%|███▉      | 654/1686 [1:26:02<2:53:03, 10.06s/it]"
     ]
    },
    {
     "name": "stdout",
     "output_type": "stream",
     "text": [
      "\n",
      "—— Analyzing Game 656 ——\n",
      "White: pKiLz5Rn9b (2187), Black: Kacparov (2307)\n",
      "\n",
      "—— Analyzing Game 657 ——\n",
      "White: HowToTameADragon (1968), Black: swayamsm (2308)\n"
     ]
    },
    {
     "name": "stderr",
     "output_type": "stream",
     "text": [
      "分析棋局:  39%|███▉      | 656/1686 [1:26:03<1:38:04,  5.71s/it]"
     ]
    },
    {
     "name": "stdout",
     "output_type": "stream",
     "text": [
      "\n",
      "—— Analyzing Game 658 ——\n",
      "White: chessmachined (2137), Black: ItalianMachine (2159)\n"
     ]
    },
    {
     "name": "stderr",
     "output_type": "stream",
     "text": [
      "分析棋局:  39%|███▉      | 657/1686 [1:26:06<1:25:30,  4.99s/it]"
     ]
    },
    {
     "name": "stdout",
     "output_type": "stream",
     "text": [
      "\n",
      "—— Analyzing Game 659 ——\n",
      "White: VSERGUEI (2340), Black: exoticprincess (2665)\n"
     ]
    },
    {
     "name": "stderr",
     "output_type": "stream",
     "text": [
      "分析棋局:  39%|███▉      | 658/1686 [1:26:13<1:33:24,  5.45s/it]"
     ]
    },
    {
     "name": "stdout",
     "output_type": "stream",
     "text": [
      "\n",
      "—— Analyzing Game 660 ——\n",
      "White: vinceyoung15 (1993), Black: Yaacovn (2587)\n"
     ]
    },
    {
     "name": "stderr",
     "output_type": "stream",
     "text": [
      "分析棋局:  39%|███▉      | 659/1686 [1:26:20<1:43:57,  6.07s/it]"
     ]
    },
    {
     "name": "stdout",
     "output_type": "stream",
     "text": [
      "\n",
      "—— Analyzing Game 661 ——\n",
      "White: MisaPap (2385), Black: megarompa (2505)\n"
     ]
    },
    {
     "name": "stderr",
     "output_type": "stream",
     "text": [
      "分析棋局:  39%|███▉      | 660/1686 [1:26:25<1:37:15,  5.69s/it]"
     ]
    },
    {
     "name": "stdout",
     "output_type": "stream",
     "text": [
      "\n",
      "—— Analyzing Game 662 ——\n",
      "White: jlandaw (2330), Black: DanielNaroditsky (2522)\n"
     ]
    },
    {
     "name": "stderr",
     "output_type": "stream",
     "text": [
      "分析棋局:  39%|███▉      | 661/1686 [1:26:32<1:42:18,  5.99s/it]"
     ]
    },
    {
     "name": "stdout",
     "output_type": "stream",
     "text": [
      "\n",
      "—— Analyzing Game 663 ——\n",
      "White: bsmail (2125), Black: gumersindo (2116)\n"
     ]
    },
    {
     "name": "stderr",
     "output_type": "stream",
     "text": [
      "分析棋局:  39%|███▉      | 662/1686 [1:26:38<1:44:47,  6.14s/it]"
     ]
    },
    {
     "name": "stdout",
     "output_type": "stream",
     "text": [
      "\n",
      "—— Analyzing Game 664 ——\n",
      "White: Carolina-moon (1886), Black: AlmirDzhumaev (2071)\n"
     ]
    },
    {
     "name": "stderr",
     "output_type": "stream",
     "text": [
      "分析棋局:  39%|███▉      | 663/1686 [1:26:45<1:48:27,  6.36s/it]"
     ]
    },
    {
     "name": "stdout",
     "output_type": "stream",
     "text": [
      "\n",
      "—— Analyzing Game 665 ——\n",
      "White: playerzr (1868), Black: hitaman (2386)\n"
     ]
    },
    {
     "name": "stderr",
     "output_type": "stream",
     "text": [
      "分析棋局:  39%|███▉      | 664/1686 [1:26:51<1:46:33,  6.26s/it]"
     ]
    },
    {
     "name": "stdout",
     "output_type": "stream",
     "text": [
      "\n",
      "—— Analyzing Game 666 ——\n",
      "White: WanderingPuppet (2043), Black: kharposh (2012)\n"
     ]
    },
    {
     "name": "stderr",
     "output_type": "stream",
     "text": [
      "分析棋局:  39%|███▉      | 665/1686 [1:26:57<1:42:37,  6.03s/it]"
     ]
    },
    {
     "name": "stdout",
     "output_type": "stream",
     "text": [
      "\n",
      "—— Analyzing Game 667 ——\n",
      "White: 162a54f5d (2298), Black: rhungaski (2414)\n"
     ]
    },
    {
     "name": "stderr",
     "output_type": "stream",
     "text": [
      "分析棋局:  40%|███▉      | 666/1686 [1:27:03<1:44:13,  6.13s/it]"
     ]
    },
    {
     "name": "stdout",
     "output_type": "stream",
     "text": [
      "\n",
      "—— Analyzing Game 668 ——\n",
      "White: LADIESGET2KNOWME (2228), Black: Imre91 (2540)\n"
     ]
    },
    {
     "name": "stderr",
     "output_type": "stream",
     "text": [
      "分析棋局:  40%|███▉      | 667/1686 [1:27:12<1:57:52,  6.94s/it]"
     ]
    },
    {
     "name": "stdout",
     "output_type": "stream",
     "text": [
      "\n",
      "—— Analyzing Game 669 ——\n",
      "White: AungTZ (2006), Black: ChessWarrior7197 (2007)\n"
     ]
    },
    {
     "name": "stderr",
     "output_type": "stream",
     "text": [
      "分析棋局:  40%|███▉      | 668/1686 [1:27:19<1:58:24,  6.98s/it]"
     ]
    },
    {
     "name": "stdout",
     "output_type": "stream",
     "text": [
      "\n",
      "—— Analyzing Game 670 ——\n",
      "White: DARIO555 (2202), Black: MattyDPerrine (1995)\n"
     ]
    },
    {
     "name": "stderr",
     "output_type": "stream",
     "text": [
      "分析棋局:  40%|███▉      | 669/1686 [1:27:25<1:52:12,  6.62s/it]"
     ]
    },
    {
     "name": "stdout",
     "output_type": "stream",
     "text": [
      "\n",
      "—— Analyzing Game 671 ——\n",
      "White: Gevorg_Harutjunyan (2451), Black: FairChess_on_YouTube (2698)\n"
     ]
    },
    {
     "name": "stderr",
     "output_type": "stream",
     "text": [
      "分析棋局:  40%|███▉      | 670/1686 [1:27:32<1:54:18,  6.75s/it]"
     ]
    },
    {
     "name": "stdout",
     "output_type": "stream",
     "text": [
      "\n",
      "—— Analyzing Game 672 ——\n",
      "White: FlySooHigh (2359), Black: LuckyTiger (2518)\n"
     ]
    },
    {
     "name": "stderr",
     "output_type": "stream",
     "text": [
      "分析棋局:  40%|███▉      | 671/1686 [1:27:36<1:42:53,  6.08s/it]"
     ]
    },
    {
     "name": "stdout",
     "output_type": "stream",
     "text": [
      "\n",
      "—— Analyzing Game 673 ——\n",
      "White: ameet100 (2406), Black: davopetr (2572)\n"
     ]
    },
    {
     "name": "stderr",
     "output_type": "stream",
     "text": [
      "分析棋局:  40%|███▉      | 672/1686 [1:27:43<1:43:51,  6.15s/it]"
     ]
    },
    {
     "name": "stdout",
     "output_type": "stream",
     "text": [
      "\n",
      "—— Analyzing Game 674 ——\n",
      "White: MartinZumsande (2211), Black: Philofive (2276)\n"
     ]
    },
    {
     "name": "stderr",
     "output_type": "stream",
     "text": [
      "分析棋局:  40%|███▉      | 673/1686 [1:27:48<1:41:18,  6.00s/it]"
     ]
    },
    {
     "name": "stdout",
     "output_type": "stream",
     "text": [
      "\n",
      "—— Analyzing Game 675 ——\n",
      "White: MikePerelshteyn (2069), Black: AlexanderL (2393)\n"
     ]
    },
    {
     "name": "stderr",
     "output_type": "stream",
     "text": [
      "分析棋局:  40%|███▉      | 674/1686 [1:27:55<1:42:09,  6.06s/it]"
     ]
    },
    {
     "name": "stdout",
     "output_type": "stream",
     "text": [
      "\n",
      "—— Analyzing Game 676 ——\n",
      "White: Hafez_Bakr (1765), Black: AUSSIE_PINOY (2263)\n"
     ]
    },
    {
     "name": "stderr",
     "output_type": "stream",
     "text": [
      "分析棋局:  40%|████      | 675/1686 [1:28:01<1:46:08,  6.30s/it]"
     ]
    },
    {
     "name": "stdout",
     "output_type": "stream",
     "text": [
      "\n",
      "—— Analyzing Game 677 ——\n",
      "White: Bigc08 (1977), Black: GedoGluperd (2296)\n"
     ]
    },
    {
     "name": "stderr",
     "output_type": "stream",
     "text": [
      "分析棋局:  40%|████      | 676/1686 [1:28:10<1:55:04,  6.84s/it]"
     ]
    },
    {
     "name": "stdout",
     "output_type": "stream",
     "text": [
      "\n",
      "—— Analyzing Game 678 ——\n",
      "White: zmaj23 (2110), Black: esr44 (1990)\n"
     ]
    },
    {
     "name": "stderr",
     "output_type": "stream",
     "text": [
      "分析棋局:  40%|████      | 677/1686 [1:28:19<2:09:35,  7.71s/it]"
     ]
    },
    {
     "name": "stdout",
     "output_type": "stream",
     "text": [
      "\n",
      "—— Analyzing Game 679 ——\n",
      "White: DanielRensch (2338), Black: VovAn1991 (2436)\n"
     ]
    },
    {
     "name": "stderr",
     "output_type": "stream",
     "text": [
      "分析棋局:  40%|████      | 678/1686 [1:28:28<2:15:30,  8.07s/it]"
     ]
    },
    {
     "name": "stdout",
     "output_type": "stream",
     "text": [
      "\n",
      "—— Analyzing Game 680 ——\n",
      "White: BeerLag (2149), Black: DrHolmes13 (2225)\n"
     ]
    },
    {
     "name": "stderr",
     "output_type": "stream",
     "text": [
      "分析棋局:  40%|████      | 679/1686 [1:28:40<2:35:08,  9.24s/it]"
     ]
    },
    {
     "name": "stdout",
     "output_type": "stream",
     "text": [
      "\n",
      "—— Analyzing Game 681 ——\n",
      "White: Tilicheev_Viacheslav (2401), Black: KestutisLabeckas (2396)\n"
     ]
    },
    {
     "name": "stderr",
     "output_type": "stream",
     "text": [
      "分析棋局:  40%|████      | 680/1686 [1:28:50<2:36:41,  9.35s/it]"
     ]
    },
    {
     "name": "stdout",
     "output_type": "stream",
     "text": [
      "\n",
      "—— Analyzing Game 682 ——\n",
      "White: crisfoisor (2152), Black: Houdinovic (2208)\n"
     ]
    },
    {
     "name": "stderr",
     "output_type": "stream",
     "text": [
      "分析棋局:  40%|████      | 681/1686 [1:28:59<2:36:50,  9.36s/it]"
     ]
    },
    {
     "name": "stdout",
     "output_type": "stream",
     "text": [
      "\n",
      "—— Analyzing Game 683 ——\n",
      "White: jasrom (2202), Black: THORK (2222)\n"
     ]
    },
    {
     "name": "stderr",
     "output_type": "stream",
     "text": [
      "分析棋局:  40%|████      | 682/1686 [1:29:09<2:39:28,  9.53s/it]"
     ]
    },
    {
     "name": "stdout",
     "output_type": "stream",
     "text": [
      "\n",
      "—— Analyzing Game 684 ——\n",
      "White: bugsbunny444 (2244), Black: grandmastergauri (2253)\n"
     ]
    },
    {
     "name": "stderr",
     "output_type": "stream",
     "text": [
      "分析棋局:  41%|████      | 683/1686 [1:29:24<3:07:37, 11.22s/it]"
     ]
    },
    {
     "name": "stdout",
     "output_type": "stream",
     "text": [
      "\n",
      "—— Analyzing Game 685 ——\n",
      "White: PauloCesarCosta (2066), Black: oggy1984 (2144)\n"
     ]
    },
    {
     "name": "stderr",
     "output_type": "stream",
     "text": [
      "分析棋局:  41%|████      | 684/1686 [1:29:37<3:13:26, 11.58s/it]"
     ]
    },
    {
     "name": "stdout",
     "output_type": "stream",
     "text": [
      "\n",
      "—— Analyzing Game 686 ——\n",
      "White: UnPolarizing (2251), Black: Sebastian (2530)\n"
     ]
    },
    {
     "name": "stderr",
     "output_type": "stream",
     "text": [
      "分析棋局:  41%|████      | 685/1686 [1:29:47<3:05:11, 11.10s/it]"
     ]
    },
    {
     "name": "stdout",
     "output_type": "stream",
     "text": [
      "\n",
      "—— Analyzing Game 687 ——\n",
      "White: David_Klein (2368), Black: Irochka83 (2275)\n"
     ]
    },
    {
     "name": "stderr",
     "output_type": "stream",
     "text": [
      "分析棋局:  41%|████      | 686/1686 [1:29:59<3:10:27, 11.43s/it]"
     ]
    },
    {
     "name": "stdout",
     "output_type": "stream",
     "text": [
      "\n",
      "—— Analyzing Game 688 ——\n",
      "White: David_Klein (2357), Black: VSERGUEI (2377)\n"
     ]
    },
    {
     "name": "stderr",
     "output_type": "stream",
     "text": [
      "分析棋局:  41%|████      | 687/1686 [1:30:04<2:39:57,  9.61s/it]"
     ]
    },
    {
     "name": "stdout",
     "output_type": "stream",
     "text": [
      "\n",
      "—— Analyzing Game 689 ——\n",
      "White: playerzr (1896), Black: Bigc08 (1946)\n"
     ]
    },
    {
     "name": "stderr",
     "output_type": "stream",
     "text": [
      "分析棋局:  41%|████      | 688/1686 [1:30:08<2:12:26,  7.96s/it]"
     ]
    },
    {
     "name": "stdout",
     "output_type": "stream",
     "text": [
      "\n",
      "—— Analyzing Game 690 ——\n",
      "White: exoticprincess (2611), Black: VovAn1991 (2449)\n"
     ]
    },
    {
     "name": "stderr",
     "output_type": "stream",
     "text": [
      "分析棋局:  41%|████      | 689/1686 [1:30:12<1:51:09,  6.69s/it]"
     ]
    },
    {
     "name": "stdout",
     "output_type": "stream",
     "text": [
      "\n",
      "—— Analyzing Game 691 ——\n",
      "White: grandmastergauri (2256), Black: MattyDPerrine (1992)\n"
     ]
    },
    {
     "name": "stderr",
     "output_type": "stream",
     "text": [
      "分析棋局:  41%|████      | 690/1686 [1:30:14<1:28:06,  5.31s/it]"
     ]
    },
    {
     "name": "stdout",
     "output_type": "stream",
     "text": [
      "\n",
      "—— Analyzing Game 692 ——\n",
      "White: Yaacovn (2589), Black: THORK (2220)\n"
     ]
    },
    {
     "name": "stderr",
     "output_type": "stream",
     "text": [
      "分析棋局:  41%|████      | 691/1686 [1:30:21<1:35:40,  5.77s/it]"
     ]
    },
    {
     "name": "stdout",
     "output_type": "stream",
     "text": [
      "\n",
      "—— Analyzing Game 693 ——\n",
      "White: HowToTameADragon (1998), Black: hitaman (2354)\n"
     ]
    },
    {
     "name": "stderr",
     "output_type": "stream",
     "text": [
      "分析棋局:  41%|████      | 692/1686 [1:30:25<1:28:51,  5.36s/it]"
     ]
    },
    {
     "name": "stdout",
     "output_type": "stream",
     "text": [
      "\n",
      "—— Analyzing Game 694 ——\n",
      "White: Tilicheev_Viacheslav (2398), Black: UnPolarizing (2254)\n"
     ]
    },
    {
     "name": "stderr",
     "output_type": "stream",
     "text": [
      "分析棋局:  41%|████      | 693/1686 [1:30:30<1:23:52,  5.07s/it]"
     ]
    },
    {
     "name": "stdout",
     "output_type": "stream",
     "text": [
      "\n",
      "—— Analyzing Game 695 ——\n",
      "White: bsmail (2132), Black: PauloCesarCosta (2057)\n"
     ]
    },
    {
     "name": "stderr",
     "output_type": "stream",
     "text": [
      "分析棋局:  41%|████      | 694/1686 [1:30:35<1:25:42,  5.18s/it]"
     ]
    },
    {
     "name": "stdout",
     "output_type": "stream",
     "text": [
      "\n",
      "—— Analyzing Game 696 ——\n",
      "White: jasrom (2193), Black: chessmachined (2146)\n"
     ]
    },
    {
     "name": "stderr",
     "output_type": "stream",
     "text": [
      "分析棋局:  41%|████      | 695/1686 [1:30:41<1:28:38,  5.37s/it]"
     ]
    },
    {
     "name": "stdout",
     "output_type": "stream",
     "text": [
      "\n",
      "—— Analyzing Game 697 ——\n",
      "White: AlexanderL (2401), Black: DARIO555 (2198)\n"
     ]
    },
    {
     "name": "stderr",
     "output_type": "stream",
     "text": [
      "分析棋局:  41%|████▏     | 696/1686 [1:30:47<1:32:10,  5.59s/it]"
     ]
    },
    {
     "name": "stdout",
     "output_type": "stream",
     "text": [
      "\n",
      "—— Analyzing Game 698 ——\n",
      "White: Imre91 (2545), Black: KestutisLabeckas (2386)\n"
     ]
    },
    {
     "name": "stderr",
     "output_type": "stream",
     "text": [
      "分析棋局:  41%|████▏     | 697/1686 [1:30:56<1:49:47,  6.66s/it]"
     ]
    },
    {
     "name": "stdout",
     "output_type": "stream",
     "text": [
      "\n",
      "—— Analyzing Game 699 ——\n",
      "White: MartinZumsande (2235), Black: zmaj23 (2104)\n"
     ]
    },
    {
     "name": "stderr",
     "output_type": "stream",
     "text": [
      "分析棋局:  41%|████▏     | 698/1686 [1:31:01<1:39:46,  6.06s/it]"
     ]
    },
    {
     "name": "stdout",
     "output_type": "stream",
     "text": [
      "\n",
      "—— Analyzing Game 700 ——\n",
      "White: ItalianMachine (2164), Black: AungTZ (2001)\n"
     ]
    },
    {
     "name": "stderr",
     "output_type": "stream",
     "text": [
      "分析棋局:  41%|████▏     | 699/1686 [1:31:10<1:53:08,  6.88s/it]"
     ]
    },
    {
     "name": "stdout",
     "output_type": "stream",
     "text": [
      "\n",
      "—— Analyzing Game 701 ——\n",
      "White: GedoGluperd (2303), Black: oggy1984 (2139)\n"
     ]
    },
    {
     "name": "stderr",
     "output_type": "stream",
     "text": [
      "分析棋局:  42%|████▏     | 700/1686 [1:31:19<2:03:03,  7.49s/it]"
     ]
    },
    {
     "name": "stdout",
     "output_type": "stream",
     "text": [
      "\n",
      "—— Analyzing Game 702 ——\n",
      "White: gumersindo (2113), Black: FlySooHigh (2362)\n"
     ]
    },
    {
     "name": "stderr",
     "output_type": "stream",
     "text": [
      "分析棋局:  42%|████▏     | 701/1686 [1:31:26<2:02:54,  7.49s/it]"
     ]
    },
    {
     "name": "stdout",
     "output_type": "stream",
     "text": [
      "\n",
      "—— Analyzing Game 703 ——\n",
      "White: vinceyoung15 (1986), Black: MikePerelshteyn (2122)\n"
     ]
    },
    {
     "name": "stderr",
     "output_type": "stream",
     "text": [
      "分析棋局:  42%|████▏     | 702/1686 [1:31:32<1:57:09,  7.14s/it]"
     ]
    },
    {
     "name": "stdout",
     "output_type": "stream",
     "text": [
      "\n",
      "—— Analyzing Game 704 ——\n",
      "White: Irochka83 (2284), Black: kharposh (2009)\n"
     ]
    },
    {
     "name": "stderr",
     "output_type": "stream",
     "text": [
      "分析棋局:  42%|████▏     | 703/1686 [1:31:41<2:06:20,  7.71s/it]"
     ]
    },
    {
     "name": "stdout",
     "output_type": "stream",
     "text": [
      "\n",
      "—— Analyzing Game 705 ——\n",
      "White: DanielRensch (2343), Black: crisfoisor (2139)\n"
     ]
    },
    {
     "name": "stderr",
     "output_type": "stream",
     "text": [
      "分析棋局:  42%|████▏     | 704/1686 [1:31:49<2:03:52,  7.57s/it]"
     ]
    },
    {
     "name": "stdout",
     "output_type": "stream",
     "text": [
      "\n",
      "—— Analyzing Game 706 ——\n",
      "White: LuckyTiger (2542), Black: rhungaski (2408)\n"
     ]
    },
    {
     "name": "stderr",
     "output_type": "stream",
     "text": [
      "分析棋局:  42%|████▏     | 705/1686 [1:31:55<1:58:18,  7.24s/it]"
     ]
    },
    {
     "name": "stdout",
     "output_type": "stream",
     "text": [
      "\n",
      "—— Analyzing Game 707 ——\n",
      "White: jlandaw (2320), Black: LADIESGET2KNOWME (2238)\n"
     ]
    },
    {
     "name": "stderr",
     "output_type": "stream",
     "text": [
      "分析棋局:  42%|████▏     | 706/1686 [1:32:05<2:11:34,  8.06s/it]"
     ]
    },
    {
     "name": "stdout",
     "output_type": "stream",
     "text": [
      "\n",
      "—— Analyzing Game 708 ——\n",
      "White: Philofive (2282), Black: pKiLz5Rn9b (2181)\n"
     ]
    },
    {
     "name": "stderr",
     "output_type": "stream",
     "text": [
      "分析棋局:  42%|████▏     | 707/1686 [1:32:11<2:00:28,  7.38s/it]"
     ]
    },
    {
     "name": "stdout",
     "output_type": "stream",
     "text": [
      "\n",
      "—— Analyzing Game 709 ——\n",
      "White: AUSSIE_PINOY (2260), Black: BeerLag (2152)\n"
     ]
    },
    {
     "name": "stderr",
     "output_type": "stream",
     "text": [
      "分析棋局:  42%|████▏     | 708/1686 [1:32:19<2:01:10,  7.43s/it]"
     ]
    },
    {
     "name": "stdout",
     "output_type": "stream",
     "text": [
      "\n",
      "—— Analyzing Game 710 ——\n",
      "White: Gevorg_Harutjunyan (2445), Black: DanielNaroditsky (2567)\n"
     ]
    },
    {
     "name": "stderr",
     "output_type": "stream",
     "text": [
      "分析棋局:  42%|████▏     | 709/1686 [1:32:28<2:09:11,  7.93s/it]"
     ]
    },
    {
     "name": "stdout",
     "output_type": "stream",
     "text": [
      "\n",
      "—— Analyzing Game 711 ——\n",
      "White: davopetr (2576), Black: FairChess_on_YouTube (2694)\n"
     ]
    },
    {
     "name": "stderr",
     "output_type": "stream",
     "text": [
      "分析棋局:  42%|████▏     | 710/1686 [1:32:35<2:06:31,  7.78s/it]"
     ]
    },
    {
     "name": "stdout",
     "output_type": "stream",
     "text": [
      "\n",
      "—— Analyzing Game 712 ——\n",
      "White: Carolina-moon (1877), Black: Vandros57 (1845)\n"
     ]
    },
    {
     "name": "stderr",
     "output_type": "stream",
     "text": [
      "分析棋局:  42%|████▏     | 711/1686 [1:32:44<2:12:20,  8.14s/it]"
     ]
    },
    {
     "name": "stdout",
     "output_type": "stream",
     "text": [
      "\n",
      "—— Analyzing Game 713 ——\n",
      "White: 162a54f5d (2265), Black: AlmirDzhumaev (2084)\n"
     ]
    },
    {
     "name": "stderr",
     "output_type": "stream",
     "text": [
      "分析棋局:  42%|████▏     | 712/1686 [1:32:53<2:15:33,  8.35s/it]"
     ]
    },
    {
     "name": "stdout",
     "output_type": "stream",
     "text": [
      "\n",
      "—— Analyzing Game 714 ——\n",
      "White: Sebastian (2533), Black: DrHolmes13 (2220)\n"
     ]
    },
    {
     "name": "stderr",
     "output_type": "stream",
     "text": [
      "分析棋局:  42%|████▏     | 713/1686 [1:33:04<2:30:35,  9.29s/it]"
     ]
    },
    {
     "name": "stdout",
     "output_type": "stream",
     "text": [
      "\n",
      "—— Analyzing Game 715 ——\n",
      "White: ameet100 (2407), Black: ChessWarrior7197 (2006)\n"
     ]
    },
    {
     "name": "stderr",
     "output_type": "stream",
     "text": [
      "分析棋局:  42%|████▏     | 714/1686 [1:33:16<2:42:51, 10.05s/it]"
     ]
    },
    {
     "name": "stdout",
     "output_type": "stream",
     "text": [
      "\n",
      "—— Analyzing Game 716 ——\n",
      "White: MisaPap (2327), Black: bugsbunny444 (2255)\n"
     ]
    },
    {
     "name": "stderr",
     "output_type": "stream",
     "text": [
      "分析棋局:  42%|████▏     | 715/1686 [1:33:27<2:48:06, 10.39s/it]"
     ]
    },
    {
     "name": "stdout",
     "output_type": "stream",
     "text": [
      "\n",
      "—— Analyzing Game 717 ——\n",
      "White: VovAn1991 (2460), Black: davopetr (2561)\n"
     ]
    },
    {
     "name": "stderr",
     "output_type": "stream",
     "text": [
      "分析棋局:  42%|████▏     | 716/1686 [1:33:36<2:38:04,  9.78s/it]"
     ]
    },
    {
     "name": "stdout",
     "output_type": "stream",
     "text": [
      "\n",
      "—— Analyzing Game 718 ——\n",
      "White: THORK (2208), Black: HowToTameADragon (2023)\n"
     ]
    },
    {
     "name": "stderr",
     "output_type": "stream",
     "text": [
      "分析棋局:  43%|████▎     | 717/1686 [1:33:45<2:33:52,  9.53s/it]"
     ]
    },
    {
     "name": "stdout",
     "output_type": "stream",
     "text": [
      "\n",
      "—— Analyzing Game 719 ——\n",
      "White: DARIO555 (2202), Black: vinceyoung15 (1982)\n"
     ]
    },
    {
     "name": "stderr",
     "output_type": "stream",
     "text": [
      "分析棋局:  43%|████▎     | 718/1686 [1:33:54<2:30:52,  9.35s/it]"
     ]
    },
    {
     "name": "stdout",
     "output_type": "stream",
     "text": [
      "\n",
      "—— Analyzing Game 720 ——\n",
      "White: FairChess_on_YouTube (2701), Black: Imre91 (2540)\n"
     ]
    },
    {
     "name": "stderr",
     "output_type": "stream",
     "text": [
      "分析棋局:  43%|████▎     | 719/1686 [1:34:04<2:34:04,  9.56s/it]"
     ]
    },
    {
     "name": "stdout",
     "output_type": "stream",
     "text": [
      "\n",
      "—— Analyzing Game 721 ——\n",
      "White: KestutisLabeckas (2377), Black: Sebastian (2538)\n"
     ]
    },
    {
     "name": "stderr",
     "output_type": "stream",
     "text": [
      "分析棋局:  43%|████▎     | 720/1686 [1:34:14<2:36:28,  9.72s/it]"
     ]
    },
    {
     "name": "stdout",
     "output_type": "stream",
     "text": [
      "\n",
      "—— Analyzing Game 722 ——\n",
      "White: crisfoisor (2126), Black: jlandaw (2324)\n"
     ]
    },
    {
     "name": "stderr",
     "output_type": "stream",
     "text": [
      "分析棋局:  43%|████▎     | 721/1686 [1:34:22<2:29:41,  9.31s/it]"
     ]
    },
    {
     "name": "stdout",
     "output_type": "stream",
     "text": [
      "\n",
      "—— Analyzing Game 723 ——\n",
      "White: oggy1984 (2142), Black: playerzr (1888)\n"
     ]
    },
    {
     "name": "stderr",
     "output_type": "stream",
     "text": [
      "分析棋局:  43%|████▎     | 722/1686 [1:34:33<2:38:53,  9.89s/it]"
     ]
    },
    {
     "name": "stdout",
     "output_type": "stream",
     "text": [
      "\n",
      "—— Analyzing Game 724 ——\n",
      "White: MikePerelshteyn (2080), Black: MartinZumsande (2257)\n"
     ]
    },
    {
     "name": "stderr",
     "output_type": "stream",
     "text": [
      "分析棋局:  43%|████▎     | 723/1686 [1:34:45<2:47:04, 10.41s/it]"
     ]
    },
    {
     "name": "stdout",
     "output_type": "stream",
     "text": [
      "\n",
      "—— Analyzing Game 725 ——\n",
      "White: LADIESGET2KNOWME (2232), Black: DanielRensch (2349)\n"
     ]
    },
    {
     "name": "stderr",
     "output_type": "stream",
     "text": [
      "分析棋局:  43%|████▎     | 724/1686 [1:34:52<2:31:18,  9.44s/it]"
     ]
    },
    {
     "name": "stdout",
     "output_type": "stream",
     "text": [
      "\n",
      "—— Analyzing Game 726 ——\n",
      "White: FlySooHigh (2368), Black: Philofive (2276)\n"
     ]
    },
    {
     "name": "stderr",
     "output_type": "stream",
     "text": [
      "分析棋局:  43%|████▎     | 725/1686 [1:35:02<2:33:20,  9.57s/it]"
     ]
    },
    {
     "name": "stdout",
     "output_type": "stream",
     "text": [
      "\n",
      "—— Analyzing Game 727 ——\n",
      "White: VSERGUEI (2411), Black: ameet100 (2398)\n"
     ]
    },
    {
     "name": "stderr",
     "output_type": "stream",
     "text": [
      "分析棋局:  43%|████▎     | 726/1686 [1:35:14<2:47:06, 10.44s/it]"
     ]
    },
    {
     "name": "stdout",
     "output_type": "stream",
     "text": [
      "\n",
      "—— Analyzing Game 728 ——\n",
      "White: zmaj23 (2099), Black: AUSSIE_PINOY (2265)\n"
     ]
    },
    {
     "name": "stderr",
     "output_type": "stream",
     "text": [
      "分析棋局:  43%|████▎     | 727/1686 [1:35:29<3:07:05, 11.71s/it]"
     ]
    },
    {
     "name": "stdout",
     "output_type": "stream",
     "text": [
      "\n",
      "—— Analyzing Game 729 ——\n",
      "White: kharposh (2004), Black: ItalianMachine (2169)\n"
     ]
    },
    {
     "name": "stderr",
     "output_type": "stream",
     "text": [
      "分析棋局:  43%|████▎     | 728/1686 [1:35:45<3:26:00, 12.90s/it]"
     ]
    },
    {
     "name": "stdout",
     "output_type": "stream",
     "text": [
      "\n",
      "—— Analyzing Game 730 ——\n",
      "White: pKiLz5Rn9b (2177), Black: AlexanderL (2408)\n"
     ]
    },
    {
     "name": "stderr",
     "output_type": "stream",
     "text": [
      "分析棋局:  43%|████▎     | 729/1686 [1:36:06<4:07:34, 15.52s/it]"
     ]
    },
    {
     "name": "stdout",
     "output_type": "stream",
     "text": [
      "\n",
      "—— Analyzing Game 731 ——\n",
      "White: bugsbunny444 (2250), Black: Tilicheev_Viacheslav (2403)\n"
     ]
    },
    {
     "name": "stderr",
     "output_type": "stream",
     "text": [
      "分析棋局:  43%|████▎     | 730/1686 [1:36:19<3:51:54, 14.56s/it]"
     ]
    },
    {
     "name": "stdout",
     "output_type": "stream",
     "text": [
      "\n",
      "—— Analyzing Game 732 ——\n",
      "White: DrHolmes13 (2207), Black: Irochka83 (2303)\n"
     ]
    },
    {
     "name": "stderr",
     "output_type": "stream",
     "text": [
      "分析棋局:  43%|████▎     | 731/1686 [1:36:29<3:29:39, 13.17s/it]"
     ]
    },
    {
     "name": "stdout",
     "output_type": "stream",
     "text": [
      "\n",
      "—— Analyzing Game 733 ——\n",
      "White: ChessWarrior7197 (2020), Black: GedoGluperd (2283)\n"
     ]
    },
    {
     "name": "stderr",
     "output_type": "stream",
     "text": [
      "分析棋局:  43%|████▎     | 732/1686 [1:36:46<3:49:48, 14.45s/it]"
     ]
    },
    {
     "name": "stdout",
     "output_type": "stream",
     "text": [
      "\n",
      "—— Analyzing Game 734 ——\n",
      "White: AlmirDzhumaev (2097), Black: David_Klein (2340)\n"
     ]
    },
    {
     "name": "stderr",
     "output_type": "stream",
     "text": [
      "分析棋局:  43%|████▎     | 733/1686 [1:37:01<3:49:54, 14.48s/it]"
     ]
    },
    {
     "name": "stdout",
     "output_type": "stream",
     "text": [
      "\n",
      "—— Analyzing Game 735 ——\n",
      "White: BeerLag (2154), Black: Vandros57 (1842)\n"
     ]
    },
    {
     "name": "stderr",
     "output_type": "stream",
     "text": [
      "分析棋局:  44%|████▎     | 734/1686 [1:37:13<3:41:28, 13.96s/it]"
     ]
    },
    {
     "name": "stdout",
     "output_type": "stream",
     "text": [
      "\n",
      "—— Analyzing Game 736 ——\n",
      "White: DanielNaroditsky (2612), Black: LuckyTiger (2513)\n"
     ]
    },
    {
     "name": "stderr",
     "output_type": "stream",
     "text": [
      "分析棋局:  44%|████▎     | 735/1686 [1:37:26<3:36:52, 13.68s/it]"
     ]
    },
    {
     "name": "stdout",
     "output_type": "stream",
     "text": [
      "\n",
      "—— Analyzing Game 737 ——\n",
      "White: rhungaski (2420), Black: Yaacovn (2577)\n"
     ]
    },
    {
     "name": "stderr",
     "output_type": "stream",
     "text": [
      "分析棋局:  44%|████▎     | 736/1686 [1:37:43<3:51:12, 14.60s/it]"
     ]
    },
    {
     "name": "stdout",
     "output_type": "stream",
     "text": [
      "\n",
      "—— Analyzing Game 738 ——\n",
      "White: chessmachined (2137), Black: gumersindo (2122)\n"
     ]
    },
    {
     "name": "stderr",
     "output_type": "stream",
     "text": [
      "分析棋局:  44%|████▎     | 737/1686 [1:38:04<4:22:37, 16.60s/it]"
     ]
    },
    {
     "name": "stdout",
     "output_type": "stream",
     "text": [
      "\n",
      "—— Analyzing Game 739 ——\n",
      "White: Hafez_Bakr (1762), Black: PauloCesarCosta (2060)\n"
     ]
    },
    {
     "name": "stderr",
     "output_type": "stream",
     "text": [
      "分析棋局:  44%|████▍     | 738/1686 [1:38:37<5:35:39, 21.24s/it]"
     ]
    },
    {
     "name": "stdout",
     "output_type": "stream",
     "text": [
      "\n",
      "—— Analyzing Game 740 ——\n",
      "White: UnPolarizing (2258), Black: Gevorg_Harutjunyan (2441)\n"
     ]
    },
    {
     "name": "stderr",
     "output_type": "stream",
     "text": [
      "分析棋局:  44%|████▍     | 739/1686 [1:39:10<6:34:42, 25.01s/it]"
     ]
    },
    {
     "name": "stdout",
     "output_type": "stream",
     "text": [
      "\n",
      "—— Analyzing Game 741 ——\n",
      "White: gumersindo (2118), Black: jlandaw (2328)\n"
     ]
    },
    {
     "name": "stderr",
     "output_type": "stream",
     "text": [
      "分析棋局:  44%|████▍     | 740/1686 [1:39:19<5:14:32, 19.95s/it]"
     ]
    },
    {
     "name": "stdout",
     "output_type": "stream",
     "text": [
      "\n",
      "—— Analyzing Game 742 ——\n",
      "White: THORK (2215), Black: ItalianMachine (2162)\n"
     ]
    },
    {
     "name": "stderr",
     "output_type": "stream",
     "text": [
      "分析棋局:  44%|████▍     | 741/1686 [1:39:25<4:10:31, 15.91s/it]"
     ]
    },
    {
     "name": "stdout",
     "output_type": "stream",
     "text": [
      "\n",
      "—— Analyzing Game 743 ——\n",
      "White: Imre91 (2527), Black: UnPolarizing (2271)\n"
     ]
    },
    {
     "name": "stderr",
     "output_type": "stream",
     "text": [
      "分析棋局:  44%|████▍     | 742/1686 [1:39:37<3:53:57, 14.87s/it]"
     ]
    },
    {
     "name": "stdout",
     "output_type": "stream",
     "text": [
      "\n",
      "—— Analyzing Game 744 ——\n",
      "White: crisfoisor (2148), Black: bsmail (2124)\n"
     ]
    },
    {
     "name": "stderr",
     "output_type": "stream",
     "text": [
      "分析棋局:  44%|████▍     | 743/1686 [1:39:50<3:42:43, 14.17s/it]"
     ]
    },
    {
     "name": "stdout",
     "output_type": "stream",
     "text": [
      "\n",
      "—— Analyzing Game 745 ——\n",
      "White: PauloCesarCosta (2048), Black: vinceyoung15 (1993)\n"
     ]
    },
    {
     "name": "stderr",
     "output_type": "stream",
     "text": [
      "分析棋局:  44%|████▍     | 744/1686 [1:40:02<3:30:04, 13.38s/it]"
     ]
    },
    {
     "name": "stdout",
     "output_type": "stream",
     "text": [
      "\n",
      "—— Analyzing Game 746 ——\n",
      "White: LuckyTiger (2533), Black: Tilicheev_Viacheslav (2397)\n"
     ]
    },
    {
     "name": "stderr",
     "output_type": "stream",
     "text": [
      "分析棋局:  44%|████▍     | 745/1686 [1:40:08<2:58:58, 11.41s/it]"
     ]
    },
    {
     "name": "stdout",
     "output_type": "stream",
     "text": [
      "\n",
      "—— Analyzing Game 747 ——\n",
      "White: ameet100 (2388), Black: Irochka83 (2330)\n"
     ]
    },
    {
     "name": "stderr",
     "output_type": "stream",
     "text": [
      "分析棋局:  44%|████▍     | 746/1686 [1:40:17<2:47:46, 10.71s/it]"
     ]
    },
    {
     "name": "stdout",
     "output_type": "stream",
     "text": [
      "\n",
      "—— Analyzing Game 748 ——\n",
      "White: rhungaski (2405), Black: HowToTameADragon (2052)\n"
     ]
    },
    {
     "name": "stderr",
     "output_type": "stream",
     "text": [
      "分析棋局:  44%|████▍     | 747/1686 [1:40:29<2:52:49, 11.04s/it]"
     ]
    },
    {
     "name": "stdout",
     "output_type": "stream",
     "text": [
      "\n",
      "—— Analyzing Game 749 ——\n",
      "White: FairChess_on_YouTube (2708), Black: Sebastian (2533)\n"
     ]
    },
    {
     "name": "stderr",
     "output_type": "stream",
     "text": [
      "分析棋局:  44%|████▍     | 748/1686 [1:40:43<3:06:59, 11.96s/it]"
     ]
    },
    {
     "name": "stdout",
     "output_type": "stream",
     "text": [
      "\n",
      "—— Analyzing Game 750 ——\n",
      "White: chessmachined (2142), Black: kharposh (1999)\n"
     ]
    },
    {
     "name": "stderr",
     "output_type": "stream",
     "text": [
      "分析棋局:  44%|████▍     | 749/1686 [1:40:58<3:19:13, 12.76s/it]"
     ]
    },
    {
     "name": "stdout",
     "output_type": "stream",
     "text": [
      "\n",
      "—— Analyzing Game 751 ——\n",
      "White: Vandros57 (1849), Black: Hafez_Bakr (1756)\n"
     ]
    },
    {
     "name": "stderr",
     "output_type": "stream",
     "text": [
      "分析棋局:  44%|████▍     | 750/1686 [1:41:10<3:13:44, 12.42s/it]"
     ]
    },
    {
     "name": "stdout",
     "output_type": "stream",
     "text": [
      "\n",
      "—— Analyzing Game 752 ——\n",
      "White: MartinZumsande (2285), Black: bugsbunny444 (2242)\n"
     ]
    },
    {
     "name": "stderr",
     "output_type": "stream",
     "text": [
      "分析棋局:  45%|████▍     | 751/1686 [1:41:21<3:08:35, 12.10s/it]"
     ]
    },
    {
     "name": "stdout",
     "output_type": "stream",
     "text": [
      "\n",
      "—— Analyzing Game 753 ——\n",
      "White: oggy1984 (2150), Black: BeerLag (2146)\n"
     ]
    },
    {
     "name": "stderr",
     "output_type": "stream",
     "text": [
      "分析棋局:  45%|████▍     | 752/1686 [1:41:33<3:09:32, 12.18s/it]"
     ]
    },
    {
     "name": "stdout",
     "output_type": "stream",
     "text": [
      "\n",
      "—— Analyzing Game 754 ——\n",
      "White: GedoGluperd (2294), Black: AUSSIE_PINOY (2257)\n"
     ]
    },
    {
     "name": "stderr",
     "output_type": "stream",
     "text": [
      "分析棋局:  45%|████▍     | 753/1686 [1:41:44<3:02:36, 11.74s/it]"
     ]
    },
    {
     "name": "stdout",
     "output_type": "stream",
     "text": [
      "\n",
      "—— Analyzing Game 755 ——\n",
      "White: Gevorg_Harutjunyan (2432), Black: VSERGUEI (2443)\n"
     ]
    },
    {
     "name": "stderr",
     "output_type": "stream",
     "text": [
      "分析棋局:  45%|████▍     | 754/1686 [1:41:58<3:15:02, 12.56s/it]"
     ]
    },
    {
     "name": "stdout",
     "output_type": "stream",
     "text": [
      "\n",
      "—— Analyzing Game 756 ——\n",
      "White: FlySooHigh (2376), Black: DanielRensch (2341)\n"
     ]
    },
    {
     "name": "stderr",
     "output_type": "stream",
     "text": [
      "分析棋局:  45%|████▍     | 755/1686 [1:42:12<3:19:19, 12.85s/it]"
     ]
    },
    {
     "name": "stdout",
     "output_type": "stream",
     "text": [
      "\n",
      "—— Analyzing Game 757 ——\n",
      "White: AlmirDzhumaev (2095), Black: AlexanderL (2413)\n"
     ]
    },
    {
     "name": "stderr",
     "output_type": "stream",
     "text": [
      "分析棋局:  45%|████▍     | 756/1686 [1:42:30<3:41:56, 14.32s/it]"
     ]
    },
    {
     "name": "stdout",
     "output_type": "stream",
     "text": [
      "\n",
      "—— Analyzing Game 758 ——\n",
      "White: DrHolmes13 (2220), Black: pKiLz5Rn9b (2170)\n"
     ]
    },
    {
     "name": "stderr",
     "output_type": "stream",
     "text": [
      "分析棋局:  45%|████▍     | 757/1686 [1:42:50<4:11:02, 16.21s/it]"
     ]
    },
    {
     "name": "stdout",
     "output_type": "stream",
     "text": [
      "\n",
      "—— Analyzing Game 759 ——\n",
      "White: LADIESGET2KNOWME (2237), Black: MikePerelshteyn (2048)\n"
     ]
    },
    {
     "name": "stderr",
     "output_type": "stream",
     "text": [
      "分析棋局:  45%|████▍     | 758/1686 [1:43:12<4:36:46, 17.89s/it]"
     ]
    },
    {
     "name": "stdout",
     "output_type": "stream",
     "text": [
      "\n",
      "—— Analyzing Game 760 ——\n",
      "White: VovAn1991 (2455), Black: DanielNaroditsky (2639)\n"
     ]
    },
    {
     "name": "stderr",
     "output_type": "stream",
     "text": [
      "分析棋局:  45%|████▌     | 759/1686 [1:43:35<4:58:20, 19.31s/it]"
     ]
    },
    {
     "name": "stdout",
     "output_type": "stream",
     "text": [
      "\n",
      "—— Analyzing Game 761 ——\n",
      "White: Philofive (2271), Black: ChessWarrior7197 (2025)\n"
     ]
    },
    {
     "name": "stderr",
     "output_type": "stream",
     "text": [
      "分析棋局:  45%|████▌     | 760/1686 [1:43:51<4:43:18, 18.36s/it]"
     ]
    },
    {
     "name": "stdout",
     "output_type": "stream",
     "text": [
      "\n",
      "—— Analyzing Game 762 ——\n",
      "White: David_Klein (2346), Black: DARIO555 (2197)\n"
     ]
    },
    {
     "name": "stderr",
     "output_type": "stream",
     "text": [
      "分析棋局:  45%|████▌     | 761/1686 [1:44:15<5:11:37, 20.21s/it]"
     ]
    },
    {
     "name": "stdout",
     "output_type": "stream",
     "text": [
      "\n",
      "—— Analyzing Game 763 ——\n",
      "White: DanielRensch (2322), Black: silverback96 (2019)\n",
      "\n",
      "—— Analyzing Game 764 ——\n",
      "White: Rogue_King (2015), Black: GulamaliRises (2344)\n"
     ]
    },
    {
     "name": "stderr",
     "output_type": "stream",
     "text": [
      "分析棋局:  45%|████▌     | 762/1686 [1:44:24<4:19:15, 16.83s/it]"
     ]
    },
    {
     "name": "stdout",
     "output_type": "stream",
     "text": [
      "\n",
      "—— Analyzing Game 765 ——\n",
      "White: lestri (2218), Black: vovkcoach (2465)\n"
     ]
    },
    {
     "name": "stderr",
     "output_type": "stream",
     "text": [
      "分析棋局:  45%|████▌     | 763/1686 [1:44:30<3:26:24, 13.42s/it]"
     ]
    },
    {
     "name": "stdout",
     "output_type": "stream",
     "text": [
      "\n",
      "—— Analyzing Game 766 ——\n",
      "White: alturas_pacificas (2126), Black: petrpalachev (2412)\n"
     ]
    },
    {
     "name": "stderr",
     "output_type": "stream",
     "text": [
      "分析棋局:  45%|████▌     | 764/1686 [1:44:42<3:18:47, 12.94s/it]"
     ]
    },
    {
     "name": "stdout",
     "output_type": "stream",
     "text": [
      "\n",
      "—— Analyzing Game 767 ——\n",
      "White: lorcho (2406), Black: andryusha (2044)\n"
     ]
    },
    {
     "name": "stderr",
     "output_type": "stream",
     "text": [
      "分析棋局:  45%|████▌     | 765/1686 [1:44:49<2:51:56, 11.20s/it]"
     ]
    },
    {
     "name": "stdout",
     "output_type": "stream",
     "text": [
      "\n",
      "—— Analyzing Game 768 ——\n",
      "White: FairChess_on_YouTube (2710), Black: pKiLz5Rn9b (2270)\n"
     ]
    },
    {
     "name": "stderr",
     "output_type": "stream",
     "text": [
      "分析棋局:  45%|████▌     | 766/1686 [1:45:00<2:49:38, 11.06s/it]"
     ]
    },
    {
     "name": "stdout",
     "output_type": "stream",
     "text": [
      "\n",
      "—— Analyzing Game 769 ——\n",
      "White: stepanosinovsky (2247), Black: exoticprincess (2620)\n"
     ]
    },
    {
     "name": "stderr",
     "output_type": "stream",
     "text": [
      "分析棋局:  45%|████▌     | 767/1686 [1:45:06<2:28:31,  9.70s/it]"
     ]
    },
    {
     "name": "stdout",
     "output_type": "stream",
     "text": [
      "\n",
      "—— Analyzing Game 770 ——\n",
      "White: Beca95 (2486), Black: oggy1984 (2183)\n"
     ]
    },
    {
     "name": "stderr",
     "output_type": "stream",
     "text": [
      "分析棋局:  46%|████▌     | 768/1686 [1:45:19<2:43:33, 10.69s/it]"
     ]
    },
    {
     "name": "stdout",
     "output_type": "stream",
     "text": [
      "\n",
      "—— Analyzing Game 771 ——\n",
      "White: ChessWarrior7197 (2144), Black: MinhGTrAn (2449)\n"
     ]
    },
    {
     "name": "stderr",
     "output_type": "stream",
     "text": [
      "分析棋局:  46%|████▌     | 769/1686 [1:45:30<2:42:20, 10.62s/it]"
     ]
    },
    {
     "name": "stdout",
     "output_type": "stream",
     "text": [
      "\n",
      "—— Analyzing Game 772 ——\n",
      "White: GasconJR (1971), Black: jbj (2259)\n"
     ]
    },
    {
     "name": "stderr",
     "output_type": "stream",
     "text": [
      "分析棋局:  46%|████▌     | 770/1686 [1:45:38<2:30:40,  9.87s/it]"
     ]
    },
    {
     "name": "stdout",
     "output_type": "stream",
     "text": [
      "\n",
      "—— Analyzing Game 773 ——\n",
      "White: jcibarra (2424), Black: kleber2007 (2140)\n"
     ]
    },
    {
     "name": "stderr",
     "output_type": "stream",
     "text": [
      "分析棋局:  46%|████▌     | 771/1686 [1:45:54<2:58:33, 11.71s/it]"
     ]
    },
    {
     "name": "stdout",
     "output_type": "stream",
     "text": [
      "\n",
      "—— Analyzing Game 774 ——\n",
      "White: Danirod (2324), Black: Malev212 (1923)\n"
     ]
    },
    {
     "name": "stderr",
     "output_type": "stream",
     "text": [
      "分析棋局:  46%|████▌     | 772/1686 [1:46:06<3:00:16, 11.83s/it]"
     ]
    },
    {
     "name": "stdout",
     "output_type": "stream",
     "text": [
      "\n",
      "—— Analyzing Game 775 ——\n",
      "White: Rijeka1999 (2279), Black: HansCoolNiemann (1709)\n"
     ]
    },
    {
     "name": "stderr",
     "output_type": "stream",
     "text": [
      "分析棋局:  46%|████▌     | 773/1686 [1:46:19<3:08:27, 12.39s/it]"
     ]
    },
    {
     "name": "stdout",
     "output_type": "stream",
     "text": [
      "\n",
      "—— Analyzing Game 776 ——\n",
      "White: Carolina-moon (2000), Black: rhungaski (2372)\n"
     ]
    },
    {
     "name": "stderr",
     "output_type": "stream",
     "text": [
      "分析棋局:  46%|████▌     | 774/1686 [1:46:35<3:21:18, 13.24s/it]"
     ]
    },
    {
     "name": "stdout",
     "output_type": "stream",
     "text": [
      "\n",
      "—— Analyzing Game 777 ——\n",
      "White: PauloCesarCosta (2052), Black: guillead1 (2400)\n"
     ]
    },
    {
     "name": "stderr",
     "output_type": "stream",
     "text": [
      "分析棋局:  46%|████▌     | 775/1686 [1:46:50<3:28:40, 13.74s/it]"
     ]
    },
    {
     "name": "stdout",
     "output_type": "stream",
     "text": [
      "\n",
      "—— Analyzing Game 778 ——\n",
      "White: Imre91 (2506), Black: zmaj23 (2186)\n"
     ]
    },
    {
     "name": "stderr",
     "output_type": "stream",
     "text": [
      "分析棋局:  46%|████▌     | 776/1686 [1:47:06<3:40:29, 14.54s/it]"
     ]
    },
    {
     "name": "stdout",
     "output_type": "stream",
     "text": [
      "\n",
      "—— Analyzing Game 779 ——\n",
      "White: chorejason (1956), Black: diokletian (2291)\n"
     ]
    },
    {
     "name": "stderr",
     "output_type": "stream",
     "text": [
      "分析棋局:  46%|████▌     | 777/1686 [1:47:17<3:23:35, 13.44s/it]"
     ]
    },
    {
     "name": "stdout",
     "output_type": "stream",
     "text": [
      "\n",
      "—— Analyzing Game 780 ——\n",
      "White: TooOldTooSlow70 (2320), Black: FytNob (1858)\n"
     ]
    },
    {
     "name": "stderr",
     "output_type": "stream",
     "text": [
      "分析棋局:  46%|████▌     | 778/1686 [1:47:28<3:14:34, 12.86s/it]"
     ]
    },
    {
     "name": "stdout",
     "output_type": "stream",
     "text": [
      "\n",
      "—— Analyzing Game 781 ——\n",
      "White: Dlugy (2577), Black: Konavets (2292)\n"
     ]
    },
    {
     "name": "stderr",
     "output_type": "stream",
     "text": [
      "分析棋局:  46%|████▌     | 779/1686 [1:47:41<3:14:00, 12.83s/it]"
     ]
    },
    {
     "name": "stdout",
     "output_type": "stream",
     "text": [
      "\n",
      "—— Analyzing Game 782 ——\n",
      "White: gumersindo (2099), Black: iFrancisco (2420)\n"
     ]
    },
    {
     "name": "stderr",
     "output_type": "stream",
     "text": [
      "分析棋局:  46%|████▋     | 780/1686 [1:47:56<3:24:52, 13.57s/it]"
     ]
    },
    {
     "name": "stdout",
     "output_type": "stream",
     "text": [
      "\n",
      "—— Analyzing Game 783 ——\n",
      "White: Gevorg_Harutjunyan (2521), Black: quitforever (2221)\n"
     ]
    },
    {
     "name": "stderr",
     "output_type": "stream",
     "text": [
      "分析棋局:  46%|████▋     | 781/1686 [1:48:11<3:27:28, 13.76s/it]"
     ]
    },
    {
     "name": "stdout",
     "output_type": "stream",
     "text": [
      "\n",
      "—— Analyzing Game 784 ——\n",
      "White: Kacparov (2371), Black: AungTZ (2000)\n"
     ]
    },
    {
     "name": "stderr",
     "output_type": "stream",
     "text": [
      "分析棋局:  46%|████▋     | 782/1686 [1:48:29<3:49:44, 15.25s/it]"
     ]
    },
    {
     "name": "stdout",
     "output_type": "stream",
     "text": [
      "\n",
      "—— Analyzing Game 785 ——\n",
      "White: FlySooHigh (2387), Black: MikePerelshteyn (2033)\n"
     ]
    },
    {
     "name": "stderr",
     "output_type": "stream",
     "text": [
      "分析棋局:  46%|████▋     | 783/1686 [1:48:44<3:48:24, 15.18s/it]"
     ]
    },
    {
     "name": "stdout",
     "output_type": "stream",
     "text": [
      "\n",
      "—— Analyzing Game 786 ——\n",
      "White: 162a54f5d (2262), Black: GeorgMeier (2663)\n"
     ]
    },
    {
     "name": "stderr",
     "output_type": "stream",
     "text": [
      "分析棋局:  47%|████▋     | 784/1686 [1:49:04<4:06:26, 16.39s/it]"
     ]
    },
    {
     "name": "stdout",
     "output_type": "stream",
     "text": [
      "\n",
      "—— Analyzing Game 787 ——\n",
      "White: chesstatour (1879), Black: LADIESGET2KNOWME (2308)\n"
     ]
    },
    {
     "name": "stderr",
     "output_type": "stream",
     "text": [
      "分析棋局:  47%|████▋     | 785/1686 [1:49:17<3:53:05, 15.52s/it]"
     ]
    },
    {
     "name": "stdout",
     "output_type": "stream",
     "text": [
      "\n",
      "—— Analyzing Game 788 ——\n",
      "White: VovAn1991 (2450), Black: tac49 (2184)\n"
     ]
    },
    {
     "name": "stderr",
     "output_type": "stream",
     "text": [
      "分析棋局:  47%|████▋     | 786/1686 [1:49:37<4:14:01, 16.94s/it]"
     ]
    },
    {
     "name": "stdout",
     "output_type": "stream",
     "text": [
      "\n",
      "—— Analyzing Game 789 ——\n",
      "White: Max_Schachmann (2408), Black: WanderingPuppet (2108)\n"
     ]
    },
    {
     "name": "stderr",
     "output_type": "stream",
     "text": [
      "分析棋局:  47%|████▋     | 787/1686 [1:49:56<4:23:03, 17.56s/it]"
     ]
    },
    {
     "name": "stdout",
     "output_type": "stream",
     "text": [
      "\n",
      "—— Analyzing Game 790 ——\n",
      "White: megarompa (2643), Black: bugsbunny444 (2261)\n"
     ]
    },
    {
     "name": "stderr",
     "output_type": "stream",
     "text": [
      "分析棋局:  47%|████▋     | 788/1686 [1:50:10<4:06:22, 16.46s/it]"
     ]
    },
    {
     "name": "stdout",
     "output_type": "stream",
     "text": [
      "\n",
      "—— Analyzing Game 791 ——\n",
      "White: BeerLag (2199), Black: Tilicheev_Viacheslav (2505)\n"
     ]
    },
    {
     "name": "stderr",
     "output_type": "stream",
     "text": [
      "分析棋局:  47%|████▋     | 789/1686 [1:50:28<4:12:32, 16.89s/it]"
     ]
    },
    {
     "name": "stdout",
     "output_type": "stream",
     "text": [
      "\n",
      "—— Analyzing Game 792 ——\n",
      "White: AkshatChandra (1927), Black: KingOfConvenience (2368)\n"
     ]
    },
    {
     "name": "stderr",
     "output_type": "stream",
     "text": [
      "分析棋局:  47%|████▋     | 790/1686 [1:50:44<4:07:54, 16.60s/it]"
     ]
    },
    {
     "name": "stdout",
     "output_type": "stream",
     "text": [
      "\n",
      "—— Analyzing Game 793 ——\n",
      "White: samhawkins (2346), Black: EltajSafarli (2298)\n"
     ]
    },
    {
     "name": "stderr",
     "output_type": "stream",
     "text": [
      "分析棋局:  47%|████▋     | 791/1686 [1:50:59<3:58:04, 15.96s/it]"
     ]
    },
    {
     "name": "stdout",
     "output_type": "stream",
     "text": [
      "\n",
      "—— Analyzing Game 794 ——\n",
      "White: AUSSIE_PINOY (2213), Black: AnthonyWirig (2521)\n"
     ]
    },
    {
     "name": "stderr",
     "output_type": "stream",
     "text": [
      "分析棋局:  47%|████▋     | 792/1686 [1:51:16<4:05:53, 16.50s/it]"
     ]
    },
    {
     "name": "stdout",
     "output_type": "stream",
     "text": [
      "\n",
      "—— Analyzing Game 795 ——\n",
      "White: SidArun (1807), Black: Tomsel (2301)\n"
     ]
    },
    {
     "name": "stderr",
     "output_type": "stream",
     "text": [
      "分析棋局:  47%|████▋     | 793/1686 [1:51:36<4:20:07, 17.48s/it]"
     ]
    },
    {
     "name": "stdout",
     "output_type": "stream",
     "text": [
      "\n",
      "—— Analyzing Game 796 ——\n",
      "White: TomsKantans (2250), Black: wonderfultime (2542)\n"
     ]
    },
    {
     "name": "stderr",
     "output_type": "stream",
     "text": [
      "分析棋局:  47%|████▋     | 794/1686 [1:52:02<4:56:33, 19.95s/it]"
     ]
    },
    {
     "name": "stdout",
     "output_type": "stream",
     "text": [
      "\n",
      "—— Analyzing Game 797 ——\n",
      "White: pKiLz5Rn9b (2275), Black: alturas_pacificas (2121)\n"
     ]
    },
    {
     "name": "stderr",
     "output_type": "stream",
     "text": [
      "分析棋局:  47%|████▋     | 795/1686 [1:52:16<4:28:45, 18.10s/it]"
     ]
    },
    {
     "name": "stdout",
     "output_type": "stream",
     "text": [
      "\n",
      "—— Analyzing Game 798 ——\n",
      "White: GulamaliRises (2326), Black: lestri (2242)\n"
     ]
    },
    {
     "name": "stderr",
     "output_type": "stream",
     "text": [
      "分析棋局:  47%|████▋     | 796/1686 [1:52:31<4:16:43, 17.31s/it]"
     ]
    },
    {
     "name": "stdout",
     "output_type": "stream",
     "text": [
      "\n",
      "—— Analyzing Game 799 ——\n",
      "White: andryusha (2033), Black: AkshatChandra (2102)\n"
     ]
    },
    {
     "name": "stderr",
     "output_type": "stream",
     "text": [
      "分析棋局:  47%|████▋     | 797/1686 [1:52:39<3:36:21, 14.60s/it]"
     ]
    },
    {
     "name": "stdout",
     "output_type": "stream",
     "text": [
      "\n",
      "—— Analyzing Game 800 ——\n",
      "White: diokletian (2327), Black: TomsKantans (2231)\n"
     ]
    },
    {
     "name": "stderr",
     "output_type": "stream",
     "text": [
      "分析棋局:  47%|████▋     | 798/1686 [1:52:47<3:04:08, 12.44s/it]"
     ]
    },
    {
     "name": "stdout",
     "output_type": "stream",
     "text": [
      "\n",
      "—— Analyzing Game 801 ——\n",
      "White: silverback96 (2030), Black: GasconJR (1964)\n"
     ]
    },
    {
     "name": "stderr",
     "output_type": "stream",
     "text": [
      "分析棋局:  47%|████▋     | 799/1686 [1:52:58<2:57:49, 12.03s/it]"
     ]
    },
    {
     "name": "stdout",
     "output_type": "stream",
     "text": [
      "\n",
      "—— Analyzing Game 802 ——\n",
      "White: wonderfultime (2543), Black: chorejason (1955)\n"
     ]
    },
    {
     "name": "stderr",
     "output_type": "stream",
     "text": [
      "分析棋局:  47%|████▋     | 800/1686 [1:53:06<2:41:29, 10.94s/it]"
     ]
    },
    {
     "name": "stdout",
     "output_type": "stream",
     "text": [
      "\n",
      "—— Analyzing Game 803 ——\n",
      "White: MinhGTrAn (2446), Black: Danirod (2327)\n"
     ]
    },
    {
     "name": "stderr",
     "output_type": "stream",
     "text": [
      "分析棋局:  48%|████▊     | 801/1686 [1:53:14<2:27:06,  9.97s/it]"
     ]
    },
    {
     "name": "stdout",
     "output_type": "stream",
     "text": [
      "\n",
      "—— Analyzing Game 804 ——\n",
      "White: iFrancisco (2398), Black: megarompa (2661)\n"
     ]
    },
    {
     "name": "stderr",
     "output_type": "stream",
     "text": [
      "分析棋局:  48%|████▊     | 802/1686 [1:53:25<2:34:01, 10.45s/it]"
     ]
    },
    {
     "name": "stdout",
     "output_type": "stream",
     "text": [
      "\n",
      "—— Analyzing Game 805 ——\n",
      "White: WanderingPuppet (2119), Black: stepanosinovsky (2236)\n"
     ]
    },
    {
     "name": "stderr",
     "output_type": "stream",
     "text": [
      "分析棋局:  48%|████▊     | 803/1686 [1:53:36<2:33:07, 10.40s/it]"
     ]
    },
    {
     "name": "stdout",
     "output_type": "stream",
     "text": [
      "\n",
      "—— Analyzing Game 806 ——\n",
      "White: Malev212 (1946), Black: PauloCesarCosta (2036)\n"
     ]
    },
    {
     "name": "stderr",
     "output_type": "stream",
     "text": [
      "分析棋局:  48%|████▊     | 804/1686 [1:53:46<2:33:18, 10.43s/it]"
     ]
    },
    {
     "name": "stdout",
     "output_type": "stream",
     "text": [
      "\n",
      "—— Analyzing Game 807 ——\n",
      "White: zmaj23 (2180), Black: 162a54f5d (2274)\n"
     ]
    },
    {
     "name": "stderr",
     "output_type": "stream",
     "text": [
      "分析棋局:  48%|████▊     | 805/1686 [1:53:59<2:41:42, 11.01s/it]"
     ]
    },
    {
     "name": "stdout",
     "output_type": "stream",
     "text": [
      "\n",
      "—— Analyzing Game 808 ——\n",
      "White: LADIESGET2KNOWME (2296), Black: ChessWarrior7197 (2155)\n"
     ]
    },
    {
     "name": "stderr",
     "output_type": "stream",
     "text": [
      "分析棋局:  48%|████▊     | 806/1686 [1:54:12<2:51:57, 11.72s/it]"
     ]
    },
    {
     "name": "stdout",
     "output_type": "stream",
     "text": [
      "\n",
      "—— Analyzing Game 809 ——\n",
      "White: Tilicheev_Viacheslav (2510), Black: Kacparov (2366)\n"
     ]
    },
    {
     "name": "stderr",
     "output_type": "stream",
     "text": [
      "分析棋局:  48%|████▊     | 807/1686 [1:54:26<3:02:48, 12.48s/it]"
     ]
    },
    {
     "name": "stdout",
     "output_type": "stream",
     "text": [
      "\n",
      "—— Analyzing Game 810 ——\n",
      "White: vovkcoach (2454), Black: jcibarra (2443)\n"
     ]
    },
    {
     "name": "stderr",
     "output_type": "stream",
     "text": [
      "分析棋局:  48%|████▊     | 808/1686 [1:54:39<3:03:20, 12.53s/it]"
     ]
    },
    {
     "name": "stdout",
     "output_type": "stream",
     "text": [
      "\n",
      "—— Analyzing Game 811 ——\n",
      "White: jbj (2239), Black: BeerLag (2208)\n"
     ]
    },
    {
     "name": "stderr",
     "output_type": "stream",
     "text": [
      "分析棋局:  48%|████▊     | 809/1686 [1:54:54<3:14:36, 13.31s/it]"
     ]
    },
    {
     "name": "stdout",
     "output_type": "stream",
     "text": [
      "\n",
      "—— Analyzing Game 812 ——\n",
      "White: Tomsel (2304), Black: Rogue_King (2012)\n"
     ]
    },
    {
     "name": "stderr",
     "output_type": "stream",
     "text": [
      "分析棋局:  48%|████▊     | 810/1686 [1:55:04<2:58:30, 12.23s/it]"
     ]
    },
    {
     "name": "stdout",
     "output_type": "stream",
     "text": [
      "\n",
      "—— Analyzing Game 813 ——\n",
      "White: oggy1984 (2194), Black: samhawkins (2323)\n"
     ]
    },
    {
     "name": "stderr",
     "output_type": "stream",
     "text": [
      "分析棋局:  48%|████▊     | 811/1686 [1:55:21<3:21:26, 13.81s/it]"
     ]
    },
    {
     "name": "stdout",
     "output_type": "stream",
     "text": [
      "\n",
      "—— Analyzing Game 814 ——\n",
      "White: exoticprincess (2635), Black: FlySooHigh (2384)\n"
     ]
    },
    {
     "name": "stderr",
     "output_type": "stream",
     "text": [
      "分析棋局:  48%|████▊     | 812/1686 [1:55:42<3:50:59, 15.86s/it]"
     ]
    },
    {
     "name": "stdout",
     "output_type": "stream",
     "text": [
      "\n",
      "—— Analyzing Game 815 ——\n",
      "White: tac49 (2182), Black: Dlugy (2579)\n"
     ]
    },
    {
     "name": "stderr",
     "output_type": "stream",
     "text": [
      "分析棋局:  48%|████▊     | 813/1686 [1:55:59<3:55:44, 16.20s/it]"
     ]
    },
    {
     "name": "stdout",
     "output_type": "stream",
     "text": [
      "\n",
      "—— Analyzing Game 816 ——\n",
      "White: bugsbunny444 (2268), Black: AUSSIE_PINOY (2206)\n"
     ]
    },
    {
     "name": "stderr",
     "output_type": "stream",
     "text": [
      "分析棋局:  48%|████▊     | 814/1686 [1:56:15<3:57:08, 16.32s/it]"
     ]
    },
    {
     "name": "stdout",
     "output_type": "stream",
     "text": [
      "\n",
      "—— Analyzing Game 817 ——\n",
      "White: rhungaski (2367), Black: Gevorg_Harutjunyan (2526)\n"
     ]
    },
    {
     "name": "stderr",
     "output_type": "stream",
     "text": [
      "分析棋局:  48%|████▊     | 815/1686 [1:56:38<4:25:22, 18.28s/it]"
     ]
    },
    {
     "name": "stdout",
     "output_type": "stream",
     "text": [
      "\n",
      "—— Analyzing Game 818 ——\n",
      "White: quitforever (2210), Black: gumersindo (2110)\n"
     ]
    },
    {
     "name": "stderr",
     "output_type": "stream",
     "text": [
      "分析棋局:  48%|████▊     | 816/1686 [1:56:52<4:06:52, 17.03s/it]"
     ]
    },
    {
     "name": "stdout",
     "output_type": "stream",
     "text": [
      "\n",
      "—— Analyzing Game 819 ——\n",
      "White: guillead1 (2398), Black: FairChess_on_YouTube (2714)\n"
     ]
    },
    {
     "name": "stderr",
     "output_type": "stream",
     "text": [
      "分析棋局:  48%|████▊     | 817/1686 [1:57:14<4:24:51, 18.29s/it]"
     ]
    },
    {
     "name": "stdout",
     "output_type": "stream",
     "text": [
      "\n",
      "—— Analyzing Game 820 ——\n",
      "White: MikePerelshteyn (2029), Black: Carolina-moon (2001)\n"
     ]
    },
    {
     "name": "stderr",
     "output_type": "stream",
     "text": [
      "分析棋局:  49%|████▊     | 818/1686 [1:57:31<4:21:28, 18.07s/it]"
     ]
    },
    {
     "name": "stdout",
     "output_type": "stream",
     "text": [
      "\n",
      "—— Analyzing Game 821 ——\n",
      "White: Konavets (2297), Black: chesstatour (1878)\n"
     ]
    },
    {
     "name": "stderr",
     "output_type": "stream",
     "text": [
      "分析棋局:  49%|████▊     | 819/1686 [1:57:49<4:19:09, 17.93s/it]"
     ]
    },
    {
     "name": "stdout",
     "output_type": "stream",
     "text": [
      "\n",
      "—— Analyzing Game 822 ——\n",
      "White: FytNob (1857), Black: SidArun (1809)\n"
     ]
    },
    {
     "name": "stderr",
     "output_type": "stream",
     "text": [
      "分析棋局:  49%|████▊     | 820/1686 [1:58:06<4:17:41, 17.85s/it]"
     ]
    },
    {
     "name": "stdout",
     "output_type": "stream",
     "text": [
      "\n",
      "—— Analyzing Game 823 ——\n",
      "White: kleber2007 (2143), Black: Rijeka1999 (2276)\n"
     ]
    },
    {
     "name": "stderr",
     "output_type": "stream",
     "text": [
      "分析棋局:  49%|████▊     | 821/1686 [1:58:25<4:22:18, 18.19s/it]"
     ]
    },
    {
     "name": "stdout",
     "output_type": "stream",
     "text": [
      "\n",
      "—— Analyzing Game 824 ——\n",
      "White: KingOfConvenience (2345), Black: Beca95 (2491)\n"
     ]
    },
    {
     "name": "stderr",
     "output_type": "stream",
     "text": [
      "分析棋局:  49%|████▉     | 822/1686 [1:58:45<4:26:30, 18.51s/it]"
     ]
    },
    {
     "name": "stdout",
     "output_type": "stream",
     "text": [
      "\n",
      "—— Analyzing Game 825 ——\n",
      "White: AnthonyWirig (2533), Black: Max_Schachmann (2402)\n"
     ]
    },
    {
     "name": "stderr",
     "output_type": "stream",
     "text": [
      "分析棋局:  49%|████▉     | 823/1686 [1:59:07<4:41:30, 19.57s/it]"
     ]
    },
    {
     "name": "stdout",
     "output_type": "stream",
     "text": [
      "\n",
      "—— Analyzing Game 826 ——\n",
      "White: HansCoolNiemann (1708), Black: VovAn1991 (2450)\n"
     ]
    },
    {
     "name": "stderr",
     "output_type": "stream",
     "text": [
      "分析棋局:  49%|████▉     | 824/1686 [1:59:30<4:55:17, 20.55s/it]"
     ]
    },
    {
     "name": "stdout",
     "output_type": "stream",
     "text": [
      "\n",
      "—— Analyzing Game 827 ——\n",
      "White: EltajSafarli (2304), Black: TooOldTooSlow70 (2319)\n"
     ]
    },
    {
     "name": "stderr",
     "output_type": "stream",
     "text": [
      "分析棋局:  49%|████▉     | 825/1686 [1:59:49<4:49:07, 20.15s/it]"
     ]
    },
    {
     "name": "stdout",
     "output_type": "stream",
     "text": [
      "\n",
      "—— Analyzing Game 828 ——\n",
      "White: GeorgMeier (2666), Black: lorcho (2398)\n"
     ]
    },
    {
     "name": "stderr",
     "output_type": "stream",
     "text": [
      "分析棋局:  49%|████▉     | 826/1686 [2:00:12<5:00:16, 20.95s/it]"
     ]
    },
    {
     "name": "stdout",
     "output_type": "stream",
     "text": [
      "\n",
      "—— Analyzing Game 829 ——\n",
      "White: petrpalachev (2414), Black: Imre91 (2504)\n"
     ]
    },
    {
     "name": "stderr",
     "output_type": "stream",
     "text": [
      "分析棋局:  49%|████▉     | 827/1686 [2:00:42<5:40:14, 23.77s/it]"
     ]
    },
    {
     "name": "stdout",
     "output_type": "stream",
     "text": [
      "\n",
      "—— Analyzing Game 830 ——\n",
      "White: exoticprincess (2652), Black: jcibarra (2434)\n"
     ]
    },
    {
     "name": "stderr",
     "output_type": "stream",
     "text": [
      "分析棋局:  49%|████▉     | 828/1686 [2:00:51<4:35:10, 19.24s/it]"
     ]
    },
    {
     "name": "stdout",
     "output_type": "stream",
     "text": [
      "\n",
      "—— Analyzing Game 831 ——\n",
      "White: Konavets (2306), Black: silverback96 (2025)\n"
     ]
    },
    {
     "name": "stderr",
     "output_type": "stream",
     "text": [
      "分析棋局:  49%|████▉     | 829/1686 [2:01:00<3:51:17, 16.19s/it]"
     ]
    },
    {
     "name": "stdout",
     "output_type": "stream",
     "text": [
      "\n",
      "—— Analyzing Game 832 ——\n",
      "White: Gevorg_Harutjunyan (2530), Black: Tomsel (2300)\n"
     ]
    },
    {
     "name": "stderr",
     "output_type": "stream",
     "text": [
      "分析棋局:  49%|████▉     | 830/1686 [2:01:08<3:16:59, 13.81s/it]"
     ]
    },
    {
     "name": "stdout",
     "output_type": "stream",
     "text": [
      "\n",
      "—— Analyzing Game 833 ——\n",
      "White: tac49 (2189), Black: kleber2007 (2136)\n"
     ]
    },
    {
     "name": "stderr",
     "output_type": "stream",
     "text": [
      "分析棋局:  49%|████▉     | 831/1686 [2:01:15<2:46:50, 11.71s/it]"
     ]
    },
    {
     "name": "stdout",
     "output_type": "stream",
     "text": [
      "\n",
      "—— Analyzing Game 834 ——\n",
      "White: wonderfultime (2548), Black: petrpalachev (2409)\n"
     ]
    },
    {
     "name": "stderr",
     "output_type": "stream",
     "text": [
      "分析棋局:  49%|████▉     | 832/1686 [2:01:22<2:28:13, 10.41s/it]"
     ]
    },
    {
     "name": "stdout",
     "output_type": "stream",
     "text": [
      "\n",
      "—— Analyzing Game 835 ——\n",
      "White: Danirod (2318), Black: EltajSafarli (2423)\n"
     ]
    },
    {
     "name": "stderr",
     "output_type": "stream",
     "text": [
      "分析棋局:  49%|████▉     | 833/1686 [2:01:35<2:36:08, 10.98s/it]"
     ]
    },
    {
     "name": "stdout",
     "output_type": "stream",
     "text": [
      "\n",
      "—— Analyzing Game 836 ——\n",
      "White: lorcho (2409), Black: lestri (2232)\n"
     ]
    },
    {
     "name": "stderr",
     "output_type": "stream",
     "text": [
      "分析棋局:  49%|████▉     | 834/1686 [2:01:48<2:47:30, 11.80s/it]"
     ]
    },
    {
     "name": "stdout",
     "output_type": "stream",
     "text": [
      "\n",
      "—— Analyzing Game 837 ——\n",
      "White: FytNob (1856), Black: GulamaliRises (2328)\n"
     ]
    },
    {
     "name": "stderr",
     "output_type": "stream",
     "text": [
      "分析棋局:  50%|████▉     | 835/1686 [2:02:01<2:50:24, 12.01s/it]"
     ]
    },
    {
     "name": "stdout",
     "output_type": "stream",
     "text": [
      "\n",
      "—— Analyzing Game 838 ——\n",
      "White: KingOfConvenience (2359), Black: gumersindo (2107)\n"
     ]
    },
    {
     "name": "stderr",
     "output_type": "stream",
     "text": [
      "分析棋局:  50%|████▉     | 836/1686 [2:02:18<3:12:58, 13.62s/it]"
     ]
    },
    {
     "name": "stdout",
     "output_type": "stream",
     "text": [
      "\n",
      "—— Analyzing Game 839 ——\n",
      "White: andryusha (2041), Black: PauloCesarCosta (2024)\n"
     ]
    },
    {
     "name": "stderr",
     "output_type": "stream",
     "text": [
      "分析棋局:  50%|████▉     | 837/1686 [2:02:27<2:51:28, 12.12s/it]"
     ]
    },
    {
     "name": "stdout",
     "output_type": "stream",
     "text": [
      "\n",
      "—— Analyzing Game 840 ——\n",
      "White: TooOldTooSlow70 (2332), Black: Dlugy (2560)\n"
     ]
    },
    {
     "name": "stderr",
     "output_type": "stream",
     "text": [
      "分析棋局:  50%|████▉     | 838/1686 [2:02:35<2:37:04, 11.11s/it]"
     ]
    },
    {
     "name": "stdout",
     "output_type": "stream",
     "text": [
      "\n",
      "—— Analyzing Game 841 ——\n",
      "White: vovkcoach (2458), Black: BeerLag (2205)\n"
     ]
    },
    {
     "name": "stderr",
     "output_type": "stream",
     "text": [
      "分析棋局:  50%|████▉     | 839/1686 [2:02:43<2:23:11, 10.14s/it]"
     ]
    },
    {
     "name": "stdout",
     "output_type": "stream",
     "text": [
      "\n",
      "—— Analyzing Game 842 ——\n",
      "White: VovAn1991 (2458), Black: MinhGTrAn (2438)\n"
     ]
    },
    {
     "name": "stderr",
     "output_type": "stream",
     "text": [
      "分析棋局:  50%|████▉     | 840/1686 [2:02:58<2:41:13, 11.43s/it]"
     ]
    },
    {
     "name": "stdout",
     "output_type": "stream",
     "text": [
      "\n",
      "—— Analyzing Game 843 ——\n",
      "White: Rogue_King (2001), Black: chesstatour (1889)\n"
     ]
    },
    {
     "name": "stderr",
     "output_type": "stream",
     "text": [
      "分析棋局:  50%|████▉     | 841/1686 [2:03:07<2:30:24, 10.68s/it]"
     ]
    },
    {
     "name": "stdout",
     "output_type": "stream",
     "text": [
      "\n",
      "—— Analyzing Game 844 ——\n",
      "White: stepanosinovsky (2241), Black: alturas_pacificas (2116)\n"
     ]
    },
    {
     "name": "stderr",
     "output_type": "stream",
     "text": [
      "分析棋局:  50%|████▉     | 842/1686 [2:03:20<2:42:03, 11.52s/it]"
     ]
    },
    {
     "name": "stdout",
     "output_type": "stream",
     "text": [
      "\n",
      "—— Analyzing Game 845 ——\n",
      "White: FairChess_on_YouTube (2721), Black: Tilicheev_Viacheslav (2506)\n"
     ]
    },
    {
     "name": "stderr",
     "output_type": "stream",
     "text": [
      "分析棋局:  50%|█████     | 843/1686 [2:03:38<3:09:19, 13.48s/it]"
     ]
    },
    {
     "name": "stdout",
     "output_type": "stream",
     "text": [
      "\n",
      "—— Analyzing Game 846 ——\n",
      "White: jbj (2221), Black: quitforever (2219)\n"
     ]
    },
    {
     "name": "stderr",
     "output_type": "stream",
     "text": [
      "分析棋局:  50%|█████     | 844/1686 [2:03:49<2:57:51, 12.67s/it]"
     ]
    },
    {
     "name": "stdout",
     "output_type": "stream",
     "text": [
      "\n",
      "—— Analyzing Game 847 ——\n",
      "White: Max_Schachmann (2406), Black: oggy1984 (2190)\n"
     ]
    },
    {
     "name": "stderr",
     "output_type": "stream",
     "text": [
      "分析棋局:  50%|█████     | 845/1686 [2:04:03<3:05:06, 13.21s/it]"
     ]
    },
    {
     "name": "stdout",
     "output_type": "stream",
     "text": [
      "\n",
      "—— Analyzing Game 848 ——\n",
      "White: Malev212 (1963), Black: GasconJR (1956)\n"
     ]
    },
    {
     "name": "stderr",
     "output_type": "stream",
     "text": [
      "分析棋局:  50%|█████     | 846/1686 [2:04:18<3:11:58, 13.71s/it]"
     ]
    },
    {
     "name": "stdout",
     "output_type": "stream",
     "text": [
      "\n",
      "—— Analyzing Game 849 ——\n",
      "White: LADIESGET2KNOWME (2301), Black: zmaj23 (2175)\n"
     ]
    },
    {
     "name": "stderr",
     "output_type": "stream",
     "text": [
      "分析棋局:  50%|█████     | 847/1686 [2:04:34<3:19:22, 14.26s/it]"
     ]
    },
    {
     "name": "stdout",
     "output_type": "stream",
     "text": [
      "\n",
      "—— Analyzing Game 850 ——\n",
      "White: chorejason (1944), Black: SidArun (1828)\n"
     ]
    },
    {
     "name": "stderr",
     "output_type": "stream",
     "text": [
      "分析棋局:  50%|█████     | 848/1686 [2:04:49<3:23:04, 14.54s/it]"
     ]
    },
    {
     "name": "stdout",
     "output_type": "stream",
     "text": [
      "\n",
      "—— Analyzing Game 851 ——\n",
      "White: Kacparov (2369), Black: WanderingPuppet (2116)\n"
     ]
    },
    {
     "name": "stderr",
     "output_type": "stream",
     "text": [
      "分析棋局:  50%|█████     | 849/1686 [2:05:08<3:40:14, 15.79s/it]"
     ]
    },
    {
     "name": "stdout",
     "output_type": "stream",
     "text": [
      "\n",
      "—— Analyzing Game 852 ——\n",
      "White: TomsKantans (2240), Black: Carolina-moon (1998)\n"
     ]
    },
    {
     "name": "stderr",
     "output_type": "stream",
     "text": [
      "分析棋局:  50%|█████     | 850/1686 [2:05:25<3:47:19, 16.32s/it]"
     ]
    },
    {
     "name": "stdout",
     "output_type": "stream",
     "text": [
      "\n",
      "—— Analyzing Game 853 ——\n",
      "White: iFrancisco (2426), Black: bugsbunny444 (2263)\n"
     ]
    },
    {
     "name": "stderr",
     "output_type": "stream",
     "text": [
      "分析棋局:  50%|█████     | 851/1686 [2:05:39<3:35:54, 15.51s/it]"
     ]
    },
    {
     "name": "stdout",
     "output_type": "stream",
     "text": [
      "\n",
      "—— Analyzing Game 854 ——\n",
      "White: rhungaski (2365), Black: pKiLz5Rn9b (2277)\n"
     ]
    },
    {
     "name": "stderr",
     "output_type": "stream",
     "text": [
      "分析棋局:  51%|█████     | 852/1686 [2:05:54<3:33:59, 15.40s/it]"
     ]
    },
    {
     "name": "stdout",
     "output_type": "stream",
     "text": [
      "\n",
      "—— Analyzing Game 855 ——\n",
      "White: guillead1 (2387), Black: 162a54f5d (2293)\n"
     ]
    },
    {
     "name": "stderr",
     "output_type": "stream",
     "text": [
      "分析棋局:  51%|█████     | 853/1686 [2:06:18<4:08:49, 17.92s/it]"
     ]
    },
    {
     "name": "stdout",
     "output_type": "stream",
     "text": [
      "\n",
      "—— Analyzing Game 856 ——\n",
      "White: AkshatChandra (2141), Black: HansCoolNiemann (1705)\n"
     ]
    },
    {
     "name": "stderr",
     "output_type": "stream",
     "text": [
      "分析棋局:  51%|█████     | 854/1686 [2:06:36<4:09:38, 18.00s/it]"
     ]
    },
    {
     "name": "stdout",
     "output_type": "stream",
     "text": [
      "\n",
      "—— Analyzing Game 857 ——\n",
      "White: megarompa (2614), Black: AnthonyWirig (2556)\n"
     ]
    },
    {
     "name": "stderr",
     "output_type": "stream",
     "text": [
      "分析棋局:  51%|█████     | 855/1686 [2:07:02<4:41:04, 20.29s/it]"
     ]
    },
    {
     "name": "stdout",
     "output_type": "stream",
     "text": [
      "\n",
      "—— Analyzing Game 858 ——\n",
      "White: Rijeka1999 (2263), Black: MikePerelshteyn (2096)\n"
     ]
    },
    {
     "name": "stderr",
     "output_type": "stream",
     "text": [
      "分析棋局:  51%|█████     | 856/1686 [2:07:20<4:30:23, 19.55s/it]"
     ]
    },
    {
     "name": "stdout",
     "output_type": "stream",
     "text": [
      "\n",
      "—— Analyzing Game 859 ——\n",
      "White: Imre91 (2500), Black: diokletian (2344)\n"
     ]
    },
    {
     "name": "stderr",
     "output_type": "stream",
     "text": [
      "分析棋局:  51%|█████     | 857/1686 [2:07:38<4:26:01, 19.25s/it]"
     ]
    },
    {
     "name": "stdout",
     "output_type": "stream",
     "text": [
      "\n",
      "—— Analyzing Game 860 ——\n",
      "White: FlySooHigh (2387), Black: ChessWarrior7197 (2152)\n"
     ]
    },
    {
     "name": "stderr",
     "output_type": "stream",
     "text": [
      "分析棋局:  51%|█████     | 858/1686 [2:07:59<4:33:28, 19.82s/it]"
     ]
    },
    {
     "name": "stdout",
     "output_type": "stream",
     "text": [
      "\n",
      "—— Analyzing Game 861 ——\n",
      "White: GeorgMeier (2670), Black: Beca95 (2487)\n"
     ]
    },
    {
     "name": "stderr",
     "output_type": "stream",
     "text": [
      "分析棋局:  51%|█████     | 859/1686 [2:08:31<5:20:51, 23.28s/it]"
     ]
    },
    {
     "name": "stdout",
     "output_type": "stream",
     "text": [
      "\n",
      "—— Analyzing Game 862 ——\n",
      "White: samhawkins (2333), Black: AUSSIE_PINOY (2201)\n"
     ]
    },
    {
     "name": "stderr",
     "output_type": "stream",
     "text": [
      "分析棋局:  51%|█████     | 860/1686 [2:08:50<5:03:07, 22.02s/it]"
     ]
    },
    {
     "name": "stdout",
     "output_type": "stream",
     "text": [
      "\n",
      "—— Analyzing Game 863 ——\n",
      "White: gumersindo (2120), Black: samhawkins (2310)\n"
     ]
    },
    {
     "name": "stderr",
     "output_type": "stream",
     "text": [
      "分析棋局:  51%|█████     | 861/1686 [2:08:55<3:53:35, 16.99s/it]"
     ]
    },
    {
     "name": "stdout",
     "output_type": "stream",
     "text": [
      "\n",
      "—— Analyzing Game 864 ——\n",
      "White: petrpalachev (2417), Black: Max_Schachmann (2398)\n"
     ]
    },
    {
     "name": "stderr",
     "output_type": "stream",
     "text": [
      "分析棋局:  51%|█████     | 862/1686 [2:09:02<3:12:01, 13.98s/it]"
     ]
    },
    {
     "name": "stdout",
     "output_type": "stream",
     "text": [
      "\n",
      "—— Analyzing Game 865 ——\n",
      "White: alturas_pacificas (2110), Black: jbj (2232)\n"
     ]
    },
    {
     "name": "stderr",
     "output_type": "stream",
     "text": [
      "分析棋局:  51%|█████     | 863/1686 [2:09:14<3:05:34, 13.53s/it]"
     ]
    },
    {
     "name": "stdout",
     "output_type": "stream",
     "text": [
      "\n",
      "—— Analyzing Game 866 ——\n",
      "White: Dlugy (2543), Black: Kacparov (2381)\n"
     ]
    },
    {
     "name": "stderr",
     "output_type": "stream",
     "text": [
      "分析棋局:  51%|█████     | 864/1686 [2:09:24<2:47:32, 12.23s/it]"
     ]
    },
    {
     "name": "stdout",
     "output_type": "stream",
     "text": [
      "\n",
      "—— Analyzing Game 867 ——\n",
      "White: GulamaliRises (2342), Black: KingOfConvenience (2327)\n"
     ]
    },
    {
     "name": "stderr",
     "output_type": "stream",
     "text": [
      "分析棋局:  51%|█████▏    | 865/1686 [2:09:37<2:52:16, 12.59s/it]"
     ]
    },
    {
     "name": "stdout",
     "output_type": "stream",
     "text": [
      "\n",
      "—— Analyzing Game 868 ——\n",
      "White: chesstatour (1889), Black: Imre91 (2500)\n"
     ]
    },
    {
     "name": "stderr",
     "output_type": "stream",
     "text": [
      "分析棋局:  51%|█████▏    | 866/1686 [2:09:47<2:42:43, 11.91s/it]"
     ]
    },
    {
     "name": "stdout",
     "output_type": "stream",
     "text": [
      "\n",
      "—— Analyzing Game 869 ——\n",
      "White: Tomsel (2295), Black: VovAn1991 (2463)\n"
     ]
    },
    {
     "name": "stderr",
     "output_type": "stream",
     "text": [
      "分析棋局:  51%|█████▏    | 867/1686 [2:09:57<2:32:24, 11.17s/it]"
     ]
    },
    {
     "name": "stdout",
     "output_type": "stream",
     "text": [
      "\n",
      "—— Analyzing Game 870 ——\n",
      "White: lestri (2249), Black: TomsKantans (2220)\n"
     ]
    },
    {
     "name": "stderr",
     "output_type": "stream",
     "text": [
      "分析棋局:  51%|█████▏    | 868/1686 [2:10:06<2:22:34, 10.46s/it]"
     ]
    },
    {
     "name": "stdout",
     "output_type": "stream",
     "text": [
      "\n",
      "—— Analyzing Game 871 ——\n",
      "White: quitforever (2222), Black: Malev212 (1957)\n"
     ]
    },
    {
     "name": "stderr",
     "output_type": "stream",
     "text": [
      "分析棋局:  52%|█████▏    | 869/1686 [2:10:15<2:18:32, 10.17s/it]"
     ]
    },
    {
     "name": "stdout",
     "output_type": "stream",
     "text": [
      "\n",
      "—— Analyzing Game 872 ——\n",
      "White: jcibarra (2445), Black: Konavets (2290)\n"
     ]
    },
    {
     "name": "stderr",
     "output_type": "stream",
     "text": [
      "分析棋局:  52%|█████▏    | 870/1686 [2:10:25<2:16:48, 10.06s/it]"
     ]
    },
    {
     "name": "stdout",
     "output_type": "stream",
     "text": [
      "\n",
      "—— Analyzing Game 873 ——\n",
      "White: ChessWarrior7197 (2145), Black: tac49 (2196)\n"
     ]
    },
    {
     "name": "stderr",
     "output_type": "stream",
     "text": [
      "分析棋局:  52%|█████▏    | 871/1686 [2:10:34<2:12:39,  9.77s/it]"
     ]
    },
    {
     "name": "stdout",
     "output_type": "stream",
     "text": [
      "\n",
      "—— Analyzing Game 874 ——\n",
      "White: AUSSIE_PINOY (2194), Black: Rijeka1999 (2270)\n"
     ]
    },
    {
     "name": "stderr",
     "output_type": "stream",
     "text": [
      "分析棋局:  52%|█████▏    | 872/1686 [2:10:47<2:25:08, 10.70s/it]"
     ]
    },
    {
     "name": "stdout",
     "output_type": "stream",
     "text": [
      "\n",
      "—— Analyzing Game 875 ——\n",
      "White: silverback96 (2024), Black: megarompa (2617)\n"
     ]
    },
    {
     "name": "stderr",
     "output_type": "stream",
     "text": [
      "分析棋局:  52%|█████▏    | 873/1686 [2:10:59<2:32:25, 11.25s/it]"
     ]
    },
    {
     "name": "stdout",
     "output_type": "stream",
     "text": [
      "\n",
      "—— Analyzing Game 876 ——\n",
      "White: oggy1984 (2185), Black: Danirod (2323)\n"
     ]
    },
    {
     "name": "stderr",
     "output_type": "stream",
     "text": [
      "分析棋局:  52%|█████▏    | 874/1686 [2:11:13<2:40:54, 11.89s/it]"
     ]
    },
    {
     "name": "stdout",
     "output_type": "stream",
     "text": [
      "\n",
      "—— Analyzing Game 877 ——\n",
      "White: kleber2007 (2142), Black: andryusha (2035)\n"
     ]
    },
    {
     "name": "stderr",
     "output_type": "stream",
     "text": [
      "分析棋局:  52%|█████▏    | 875/1686 [2:11:28<2:53:58, 12.87s/it]"
     ]
    },
    {
     "name": "stdout",
     "output_type": "stream",
     "text": [
      "\n",
      "—— Analyzing Game 878 ——\n",
      "White: Carolina-moon (1998), Black: Rogue_King (2001)\n"
     ]
    },
    {
     "name": "stderr",
     "output_type": "stream",
     "text": [
      "分析棋局:  52%|█████▏    | 876/1686 [2:11:37<2:38:23, 11.73s/it]"
     ]
    },
    {
     "name": "stdout",
     "output_type": "stream",
     "text": [
      "\n",
      "—— Analyzing Game 879 ——\n",
      "White: diokletian (2326), Black: wonderfultime (2552)\n"
     ]
    },
    {
     "name": "stderr",
     "output_type": "stream",
     "text": [
      "分析棋局:  52%|█████▏    | 877/1686 [2:11:52<2:53:03, 12.84s/it]"
     ]
    },
    {
     "name": "stdout",
     "output_type": "stream",
     "text": [
      "\n",
      "—— Analyzing Game 880 ——\n",
      "White: Tilicheev_Viacheslav (2501), Black: exoticprincess (2670)\n"
     ]
    },
    {
     "name": "stderr",
     "output_type": "stream",
     "text": [
      "分析棋局:  52%|█████▏    | 878/1686 [2:12:06<2:56:55, 13.14s/it]"
     ]
    },
    {
     "name": "stdout",
     "output_type": "stream",
     "text": [
      "\n",
      "—— Analyzing Game 881 ——\n",
      "White: zmaj23 (2177), Black: FytNob (1854)\n"
     ]
    },
    {
     "name": "stderr",
     "output_type": "stream",
     "text": [
      "分析棋局:  52%|█████▏    | 879/1686 [2:12:17<2:47:41, 12.47s/it]"
     ]
    },
    {
     "name": "stdout",
     "output_type": "stream",
     "text": [
      "\n",
      "—— Analyzing Game 882 ——\n",
      "White: AnthonyWirig (2563), Black: FairChess_on_YouTube (2715)\n"
     ]
    },
    {
     "name": "stderr",
     "output_type": "stream",
     "text": [
      "分析棋局:  52%|█████▏    | 880/1686 [2:12:30<2:47:05, 12.44s/it]"
     ]
    },
    {
     "name": "stdout",
     "output_type": "stream",
     "text": [
      "\n",
      "—— Analyzing Game 883 ——\n",
      "White: SidArun (1841), Black: FlySooHigh (2380)\n"
     ]
    },
    {
     "name": "stderr",
     "output_type": "stream",
     "text": [
      "分析棋局:  52%|█████▏    | 881/1686 [2:12:45<2:59:38, 13.39s/it]"
     ]
    },
    {
     "name": "stdout",
     "output_type": "stream",
     "text": [
      "\n",
      "—— Analyzing Game 884 ——\n",
      "White: MikePerelshteyn (2164), Black: lorcho (2377)\n"
     ]
    },
    {
     "name": "stderr",
     "output_type": "stream",
     "text": [
      "分析棋局:  52%|█████▏    | 882/1686 [2:12:59<2:59:46, 13.42s/it]"
     ]
    },
    {
     "name": "stdout",
     "output_type": "stream",
     "text": [
      "\n",
      "—— Analyzing Game 885 ——\n",
      "White: 162a54f5d (2294), Black: TooOldTooSlow70 (2331)\n"
     ]
    },
    {
     "name": "stderr",
     "output_type": "stream",
     "text": [
      "分析棋局:  52%|█████▏    | 883/1686 [2:13:17<3:17:47, 14.78s/it]"
     ]
    },
    {
     "name": "stdout",
     "output_type": "stream",
     "text": [
      "\n",
      "—— Analyzing Game 886 ——\n",
      "White: EltajSafarli (2574), Black: GeorgMeier (2657)\n"
     ]
    },
    {
     "name": "stderr",
     "output_type": "stream",
     "text": [
      "分析棋局:  52%|█████▏    | 884/1686 [2:13:34<3:28:32, 15.60s/it]"
     ]
    },
    {
     "name": "stdout",
     "output_type": "stream",
     "text": [
      "\n",
      "—— Analyzing Game 887 ——\n",
      "White: BeerLag (2200), Black: rhungaski (2370)\n"
     ]
    },
    {
     "name": "stderr",
     "output_type": "stream",
     "text": [
      "分析棋局:  52%|█████▏    | 885/1686 [2:13:51<3:34:36, 16.08s/it]"
     ]
    },
    {
     "name": "stdout",
     "output_type": "stream",
     "text": [
      "\n",
      "—— Analyzing Game 888 ——\n",
      "White: WanderingPuppet (2113), Black: guillead1 (2390)\n"
     ]
    },
    {
     "name": "stderr",
     "output_type": "stream",
     "text": [
      "分析棋局:  53%|█████▎    | 886/1686 [2:14:09<3:40:49, 16.56s/it]"
     ]
    },
    {
     "name": "stdout",
     "output_type": "stream",
     "text": [
      "\n",
      "—— Analyzing Game 889 ——\n",
      "White: pKiLz5Rn9b (2288), Black: iFrancisco (2372)\n"
     ]
    },
    {
     "name": "stderr",
     "output_type": "stream",
     "text": [
      "分析棋局:  53%|█████▎    | 887/1686 [2:14:26<3:43:45, 16.80s/it]"
     ]
    },
    {
     "name": "stdout",
     "output_type": "stream",
     "text": [
      "\n",
      "—— Analyzing Game 890 ——\n",
      "White: GasconJR (1969), Black: stepanosinovsky (2228)\n"
     ]
    },
    {
     "name": "stderr",
     "output_type": "stream",
     "text": [
      "分析棋局:  53%|█████▎    | 888/1686 [2:14:45<3:50:41, 17.34s/it]"
     ]
    },
    {
     "name": "stdout",
     "output_type": "stream",
     "text": [
      "\n",
      "—— Analyzing Game 891 ——\n",
      "White: MinhGTrAn (2446), Black: vovkcoach (2448)\n"
     ]
    },
    {
     "name": "stderr",
     "output_type": "stream",
     "text": [
      "分析棋局:  53%|█████▎    | 889/1686 [2:15:01<3:43:24, 16.82s/it]"
     ]
    },
    {
     "name": "stdout",
     "output_type": "stream",
     "text": [
      "\n",
      "—— Analyzing Game 892 ——\n",
      "White: HansCoolNiemann (1704), Black: LADIESGET2KNOWME (2302)\n"
     ]
    },
    {
     "name": "stderr",
     "output_type": "stream",
     "text": [
      "分析棋局:  53%|█████▎    | 890/1686 [2:15:17<3:42:55, 16.80s/it]"
     ]
    },
    {
     "name": "stdout",
     "output_type": "stream",
     "text": [
      "\n",
      "—— Analyzing Game 893 ——\n",
      "White: Beca95 (2488), Black: Gevorg_Harutjunyan (2529)\n"
     ]
    },
    {
     "name": "stderr",
     "output_type": "stream",
     "text": [
      "分析棋局:  53%|█████▎    | 891/1686 [2:15:34<3:41:09, 16.69s/it]"
     ]
    },
    {
     "name": "stdout",
     "output_type": "stream",
     "text": [
      "\n",
      "—— Analyzing Game 894 ——\n",
      "White: bugsbunny444 (2252), Black: AkshatChandra (2274)\n"
     ]
    },
    {
     "name": "stderr",
     "output_type": "stream",
     "text": [
      "分析棋局:  53%|█████▎    | 892/1686 [2:15:55<3:58:35, 18.03s/it]"
     ]
    },
    {
     "name": "stdout",
     "output_type": "stream",
     "text": [
      "\n",
      "—— Analyzing Game 895 ——\n",
      "White: Carolina-moon (2003), Black: FytNob (1849)\n",
      "\n",
      "—— Analyzing Game 896 ——\n",
      "White: PauloCesarCosta (2004), Black: HansCoolNiemann (1731)\n",
      "\n",
      "—— Analyzing Game 897 ——\n",
      "White: KingOfConvenience (2336), Black: silverback96 (2020)\n",
      "\n",
      "—— Analyzing Game 898 ——\n",
      "White: stepanosinovsky (2232), Black: andryusha (2031)\n",
      "\n",
      "—— Analyzing Game 899 ——\n",
      "White: jbj (2245), Black: zmaj23 (2170)\n",
      "\n",
      "—— Analyzing Game 900 ——\n",
      "White: GulamaliRises (2322), Black: gumersindo (2132)\n",
      "\n",
      "—— Analyzing Game 901 ——\n",
      "White: GeorgMeier (2645), Black: jcibarra (2469)\n",
      "\n",
      "—— Analyzing Game 902 ——\n",
      "White: vovkcoach (2435), Black: Tomsel (2306)\n",
      "\n",
      "—— Analyzing Game 903 ——\n",
      "White: samhawkins (2289), Black: ChessWarrior7197 (2157)\n",
      "\n",
      "—— Analyzing Game 904 ——\n",
      "White: TooOldTooSlow70 (2322), Black: AkshatChandra (2373)\n",
      "\n",
      "—— Analyzing Game 905 ——\n",
      "White: wonderfultime (2544), Black: AnthonyWirig (2578)\n",
      "\n",
      "—— Analyzing Game 906 ——\n",
      "White: MinhGTrAn (2435), Black: pKiLz5Rn9b (2299)\n",
      "\n",
      "—— Analyzing Game 907 ——\n",
      "White: Rijeka1999 (2257), Black: Rogue_King (2014)\n",
      "\n",
      "—— Analyzing Game 908 ——\n",
      "White: EltajSafarli (2665), Black: megarompa (2581)\n",
      "\n",
      "—— Analyzing Game 909 ——\n",
      "White: FlySooHigh (2388), Black: rhungaski (2362)\n",
      "\n",
      "—— Analyzing Game 910 ——\n",
      "White: iFrancisco (2330), Black: LADIESGET2KNOWME (2312)\n",
      "\n",
      "—— Analyzing Game 911 ——\n",
      "White: Max_Schachmann (2386), Black: quitforever (2234)\n",
      "\n",
      "—— Analyzing Game 912 ——\n",
      "White: Malev212 (1967), Black: SidArun (1832)\n",
      "\n",
      "—— Analyzing Game 913 ——\n",
      "White: Dlugy (2546), Black: oggy1984 (2183)\n",
      "\n",
      "—— Analyzing Game 914 ——\n",
      "White: exoticprincess (2701), Black: FairChess_on_YouTube (2701)\n",
      "\n",
      "—— Analyzing Game 915 ——\n",
      "White: Imre91 (2505), Black: Kacparov (2376)\n",
      "\n",
      "—— Analyzing Game 916 ——\n",
      "White: lorcho (2357), Black: diokletian (2363)\n",
      "\n",
      "—— Analyzing Game 917 ——\n",
      "White: bugsbunny444 (2257), Black: WanderingPuppet (2108)\n",
      "\n",
      "—— Analyzing Game 918 ——\n",
      "White: guillead1 (2379), Black: lestri (2271)\n",
      "\n",
      "—— Analyzing Game 919 ——\n",
      "White: chesstatour (1899), Black: GasconJR (1959)\n",
      "\n",
      "—— Analyzing Game 920 ——\n",
      "White: tac49 (2202), Black: Tilicheev_Viacheslav (2495)\n",
      "\n",
      "—— Analyzing Game 921 ——\n",
      "White: petrpalachev (2407), Black: Danirod (2333)\n",
      "\n",
      "—— Analyzing Game 922 ——\n",
      "White: Gevorg_Harutjunyan (2520), Black: VovAn1991 (2472)\n",
      "\n",
      "—— Analyzing Game 923 ——\n",
      "White: TomsKantans (2191), Black: kleber2007 (2152)\n",
      "\n",
      "—— Analyzing Game 924 ——\n",
      "White: AUSSIE_PINOY (2197), Black: alturas_pacificas (2101)\n",
      "\n",
      "—— Analyzing Game 925 ——\n",
      "White: Konavets (2339), Black: Beca95 (2463)\n",
      "\n",
      "—— Analyzing Game 926 ——\n",
      "White: 162a54f5d (2274), Black: MikePerelshteyn (2197)\n",
      "\n",
      "—— Analyzing Game 927 ——\n",
      "White: GulamaliRises (2330), Black: HansCoolNiemann (1839)\n"
     ]
    },
    {
     "name": "stderr",
     "output_type": "stream",
     "text": [
      "分析棋局:  53%|█████▎    | 893/1686 [2:15:55<2:47:40, 12.69s/it]"
     ]
    },
    {
     "name": "stdout",
     "output_type": "stream",
     "text": [
      "\n",
      "—— Analyzing Game 928 ——\n",
      "White: RitvarsReimanis (2258), Black: DanielNaroditsky (2621)\n",
      "\n",
      "—— Analyzing Game 929 ——\n",
      "White: Konavets (2357), Black: 190l (1968)\n"
     ]
    },
    {
     "name": "stderr",
     "output_type": "stream",
     "text": [
      "分析棋局:  53%|█████▎    | 894/1686 [2:16:01<2:20:16, 10.63s/it]"
     ]
    },
    {
     "name": "stdout",
     "output_type": "stream",
     "text": [
      "\n",
      "—— Analyzing Game 930 ——\n",
      "White: monika84 (2050), Black: 9ShMat2 (2434)\n"
     ]
    },
    {
     "name": "stderr",
     "output_type": "stream",
     "text": [
      "分析棋局:  53%|█████▎    | 895/1686 [2:16:08<2:06:01,  9.56s/it]"
     ]
    },
    {
     "name": "stdout",
     "output_type": "stream",
     "text": [
      "\n",
      "—— Analyzing Game 931 ——\n",
      "White: AndreyOstrovskiy (2341), Black: ilmago (1877)\n"
     ]
    },
    {
     "name": "stderr",
     "output_type": "stream",
     "text": [
      "分析棋局:  53%|█████▎    | 896/1686 [2:16:17<2:02:34,  9.31s/it]"
     ]
    },
    {
     "name": "stdout",
     "output_type": "stream",
     "text": [
      "\n",
      "—— Analyzing Game 932 ——\n",
      "White: DoctorMove (1750), Black: 1stSecond (2345)\n"
     ]
    },
    {
     "name": "stderr",
     "output_type": "stream",
     "text": [
      "分析棋局:  53%|█████▎    | 897/1686 [2:16:26<2:01:45,  9.26s/it]"
     ]
    },
    {
     "name": "stdout",
     "output_type": "stream",
     "text": [
      "\n",
      "—— Analyzing Game 933 ——\n",
      "White: zmaj23 (2311), Black: megarompa (2665)\n"
     ]
    },
    {
     "name": "stderr",
     "output_type": "stream",
     "text": [
      "分析棋局:  53%|█████▎    | 898/1686 [2:16:33<1:53:05,  8.61s/it]"
     ]
    },
    {
     "name": "stdout",
     "output_type": "stream",
     "text": [
      "\n",
      "—— Analyzing Game 934 ——\n",
      "White: Tomsel (2302), Black: exoticprincess (2770)\n"
     ]
    },
    {
     "name": "stderr",
     "output_type": "stream",
     "text": [
      "分析棋局:  53%|█████▎    | 899/1686 [2:16:42<1:56:04,  8.85s/it]"
     ]
    },
    {
     "name": "stdout",
     "output_type": "stream",
     "text": [
      "\n",
      "—— Analyzing Game 935 ——\n",
      "White: destroyer305 (2128), Black: Inopov (2463)\n"
     ]
    },
    {
     "name": "stderr",
     "output_type": "stream",
     "text": [
      "分析棋局:  53%|█████▎    | 900/1686 [2:16:51<1:55:32,  8.82s/it]"
     ]
    },
    {
     "name": "stdout",
     "output_type": "stream",
     "text": [
      "\n",
      "—— Analyzing Game 936 ——\n",
      "White: facu57 (2065), Black: VSERGUEI (2451)\n"
     ]
    },
    {
     "name": "stderr",
     "output_type": "stream",
     "text": [
      "分析棋局:  53%|█████▎    | 901/1686 [2:16:57<1:45:17,  8.05s/it]"
     ]
    },
    {
     "name": "stdout",
     "output_type": "stream",
     "text": [
      "\n",
      "—— Analyzing Game 937 ——\n",
      "White: GeorgMeier (2660), Black: raskolnnikov (2273)\n"
     ]
    },
    {
     "name": "stderr",
     "output_type": "stream",
     "text": [
      "分析棋局:  53%|█████▎    | 902/1686 [2:17:10<2:04:51,  9.56s/it]"
     ]
    },
    {
     "name": "stdout",
     "output_type": "stream",
     "text": [
      "\n",
      "—— Analyzing Game 938 ——\n",
      "White: LuckyTiger (2543), Black: ViennaRocket (2210)\n"
     ]
    },
    {
     "name": "stderr",
     "output_type": "stream",
     "text": [
      "分析棋局:  54%|█████▎    | 903/1686 [2:17:21<2:07:29,  9.77s/it]"
     ]
    },
    {
     "name": "stdout",
     "output_type": "stream",
     "text": [
      "\n",
      "—— Analyzing Game 939 ——\n",
      "White: MinhGTrAn (2464), Black: lukas_111111 (2122)\n"
     ]
    },
    {
     "name": "stderr",
     "output_type": "stream",
     "text": [
      "分析棋局:  54%|█████▎    | 904/1686 [2:17:32<2:13:30, 10.24s/it]"
     ]
    },
    {
     "name": "stdout",
     "output_type": "stream",
     "text": [
      "\n",
      "—— Analyzing Game 940 ——\n",
      "White: EltajSafarli (2621), Black: GasconJR (2266)\n"
     ]
    },
    {
     "name": "stderr",
     "output_type": "stream",
     "text": [
      "分析棋局:  54%|█████▎    | 905/1686 [2:17:43<2:16:31, 10.49s/it]"
     ]
    },
    {
     "name": "stdout",
     "output_type": "stream",
     "text": [
      "\n",
      "—— Analyzing Game 941 ——\n",
      "White: igorkovalenko (2450), Black: Cantinflitas (2070)\n"
     ]
    },
    {
     "name": "stderr",
     "output_type": "stream",
     "text": [
      "分析棋局:  54%|█████▎    | 906/1686 [2:17:58<2:32:58, 11.77s/it]"
     ]
    },
    {
     "name": "stdout",
     "output_type": "stream",
     "text": [
      "\n",
      "—— Analyzing Game 942 ——\n",
      "White: chito89 (2548), Black: bsmail (2105)\n"
     ]
    },
    {
     "name": "stderr",
     "output_type": "stream",
     "text": [
      "分析棋局:  54%|█████▍    | 907/1686 [2:18:10<2:35:18, 11.96s/it]"
     ]
    },
    {
     "name": "stdout",
     "output_type": "stream",
     "text": [
      "\n",
      "—— Analyzing Game 943 ——\n",
      "White: Zvonokchess (2498), Black: AkshatChandra (2238)\n"
     ]
    },
    {
     "name": "stderr",
     "output_type": "stream",
     "text": [
      "分析棋局:  54%|█████▍    | 908/1686 [2:18:21<2:29:51, 11.56s/it]"
     ]
    },
    {
     "name": "stdout",
     "output_type": "stream",
     "text": [
      "\n",
      "—— Analyzing Game 944 ——\n",
      "White: Carolina-moon (1943), Black: SuPeR_Fm (2354)\n"
     ]
    },
    {
     "name": "stderr",
     "output_type": "stream",
     "text": [
      "分析棋局:  54%|█████▍    | 909/1686 [2:18:30<2:19:51, 10.80s/it]"
     ]
    },
    {
     "name": "stdout",
     "output_type": "stream",
     "text": [
      "\n",
      "—— Analyzing Game 945 ——\n",
      "White: CraiggoryC (1982), Black: lorcho (2367)\n"
     ]
    },
    {
     "name": "stderr",
     "output_type": "stream",
     "text": [
      "分析棋局:  54%|█████▍    | 910/1686 [2:18:46<2:41:29, 12.49s/it]"
     ]
    },
    {
     "name": "stdout",
     "output_type": "stream",
     "text": [
      "\n",
      "—— Analyzing Game 946 ——\n",
      "White: pedromartinez91 (2114), Black: Ar4uha (2443)\n"
     ]
    },
    {
     "name": "stderr",
     "output_type": "stream",
     "text": [
      "分析棋局:  54%|█████▍    | 911/1686 [2:18:57<2:34:50, 11.99s/it]"
     ]
    },
    {
     "name": "stdout",
     "output_type": "stream",
     "text": [
      "\n",
      "—— Analyzing Game 947 ——\n",
      "White: petrpalachev (2393), Black: PauloCesarCosta (2038)\n"
     ]
    },
    {
     "name": "stderr",
     "output_type": "stream",
     "text": [
      "分析棋局:  54%|█████▍    | 912/1686 [2:19:10<2:38:54, 12.32s/it]"
     ]
    },
    {
     "name": "stdout",
     "output_type": "stream",
     "text": [
      "\n",
      "—— Analyzing Game 948 ——\n",
      "White: VovAn1991 (2453), Black: gumersindo (2111)\n"
     ]
    },
    {
     "name": "stderr",
     "output_type": "stream",
     "text": [
      "分析棋局:  54%|█████▍    | 913/1686 [2:19:22<2:37:31, 12.23s/it]"
     ]
    },
    {
     "name": "stdout",
     "output_type": "stream",
     "text": [
      "\n",
      "—— Analyzing Game 949 ——\n",
      "White: Hikaru (2851), Black: LADIESGET2KNOWME (2302)\n"
     ]
    },
    {
     "name": "stderr",
     "output_type": "stream",
     "text": [
      "分析棋局:  54%|█████▍    | 914/1686 [2:19:34<2:36:49, 12.19s/it]"
     ]
    },
    {
     "name": "stdout",
     "output_type": "stream",
     "text": [
      "\n",
      "—— Analyzing Game 950 ——\n",
      "White: GMHess (2488), Black: xtremeungar (2169)\n"
     ]
    },
    {
     "name": "stderr",
     "output_type": "stream",
     "text": [
      "分析棋局:  54%|█████▍    | 915/1686 [2:19:46<2:36:08, 12.15s/it]"
     ]
    },
    {
     "name": "stdout",
     "output_type": "stream",
     "text": [
      "\n",
      "—— Analyzing Game 951 ——\n",
      "White: rhungaski (2433), Black: gawk (2048)\n"
     ]
    },
    {
     "name": "stderr",
     "output_type": "stream",
     "text": [
      "分析棋局:  54%|█████▍    | 916/1686 [2:19:55<2:23:11, 11.16s/it]"
     ]
    },
    {
     "name": "stdout",
     "output_type": "stream",
     "text": [
      "\n",
      "—— Analyzing Game 952 ——\n",
      "White: juniortay (2223), Black: Zlatan56 (2603)\n"
     ]
    },
    {
     "name": "stderr",
     "output_type": "stream",
     "text": [
      "分析棋局:  54%|█████▍    | 917/1686 [2:20:06<2:20:55, 10.99s/it]"
     ]
    },
    {
     "name": "stdout",
     "output_type": "stream",
     "text": [
      "\n",
      "—— Analyzing Game 953 ——\n",
      "White: Tilicheev_Viacheslav (2551), Black: kesarev (2243)\n"
     ]
    },
    {
     "name": "stderr",
     "output_type": "stream",
     "text": [
      "分析棋局:  54%|█████▍    | 918/1686 [2:20:17<2:21:51, 11.08s/it]"
     ]
    },
    {
     "name": "stdout",
     "output_type": "stream",
     "text": [
      "\n",
      "—— Analyzing Game 954 ——\n",
      "White: manitodeplomo (2328), Black: Room_for_Squares64 (1951)\n"
     ]
    },
    {
     "name": "stderr",
     "output_type": "stream",
     "text": [
      "分析棋局:  55%|█████▍    | 919/1686 [2:20:28<2:19:14, 10.89s/it]"
     ]
    },
    {
     "name": "stdout",
     "output_type": "stream",
     "text": [
      "\n",
      "—— Analyzing Game 955 ——\n",
      "White: FrankieJay (2221), Black: ChessTrener (2495)\n"
     ]
    },
    {
     "name": "stderr",
     "output_type": "stream",
     "text": [
      "分析棋局:  55%|█████▍    | 920/1686 [2:20:36<2:09:50, 10.17s/it]"
     ]
    },
    {
     "name": "stdout",
     "output_type": "stream",
     "text": [
      "\n",
      "—— Analyzing Game 956 ——\n",
      "White: LyonBeast (2754), Black: iFrancisco (2296)\n"
     ]
    },
    {
     "name": "stderr",
     "output_type": "stream",
     "text": [
      "分析棋局:  55%|█████▍    | 921/1686 [2:20:54<2:37:52, 12.38s/it]"
     ]
    },
    {
     "name": "stdout",
     "output_type": "stream",
     "text": [
      "\n",
      "—— Analyzing Game 957 ——\n",
      "White: alturas_pacificas (2077), Black: tigrangharamian (2458)\n"
     ]
    },
    {
     "name": "stderr",
     "output_type": "stream",
     "text": [
      "分析棋局:  55%|█████▍    | 922/1686 [2:21:11<2:54:39, 13.72s/it]"
     ]
    },
    {
     "name": "stdout",
     "output_type": "stream",
     "text": [
      "\n",
      "—— Analyzing Game 958 ——\n",
      "White: MattyDPerrine (2036), Black: BeerLag (2393)\n"
     ]
    },
    {
     "name": "stderr",
     "output_type": "stream",
     "text": [
      "分析棋局:  55%|█████▍    | 923/1686 [2:21:26<3:01:41, 14.29s/it]"
     ]
    },
    {
     "name": "stdout",
     "output_type": "stream",
     "text": [
      "\n",
      "—— Analyzing Game 959 ——\n",
      "White: Enozen (2477), Black: jup1978 (2123)\n"
     ]
    },
    {
     "name": "stderr",
     "output_type": "stream",
     "text": [
      "分析棋局:  55%|█████▍    | 924/1686 [2:21:42<3:07:35, 14.77s/it]"
     ]
    },
    {
     "name": "stdout",
     "output_type": "stream",
     "text": [
      "\n",
      "—— Analyzing Game 960 ——\n",
      "White: IMRosen (2025), Black: Danirod (2368)\n"
     ]
    },
    {
     "name": "stderr",
     "output_type": "stream",
     "text": [
      "分析棋局:  55%|█████▍    | 925/1686 [2:21:55<3:01:46, 14.33s/it]"
     ]
    },
    {
     "name": "stdout",
     "output_type": "stream",
     "text": [
      "\n",
      "—— Analyzing Game 961 ——\n",
      "White: AUSSIE_PINOY (2354), Black: 1random (2016)\n"
     ]
    },
    {
     "name": "stderr",
     "output_type": "stream",
     "text": [
      "分析棋局:  55%|█████▍    | 926/1686 [2:22:08<2:56:10, 13.91s/it]"
     ]
    },
    {
     "name": "stdout",
     "output_type": "stream",
     "text": [
      "\n",
      "—— Analyzing Game 962 ——\n",
      "White: FytNob (1863), Black: FlySooHigh (2348)\n"
     ]
    },
    {
     "name": "stderr",
     "output_type": "stream",
     "text": [
      "分析棋局:  55%|█████▍    | 927/1686 [2:22:19<2:42:19, 12.83s/it]"
     ]
    },
    {
     "name": "stdout",
     "output_type": "stream",
     "text": [
      "\n",
      "—— Analyzing Game 963 ——\n",
      "White: Schemato (2052), Black: mokerslag (2390)\n"
     ]
    },
    {
     "name": "stderr",
     "output_type": "stream",
     "text": [
      "分析棋局:  55%|█████▌    | 928/1686 [2:22:31<2:40:11, 12.68s/it]"
     ]
    },
    {
     "name": "stdout",
     "output_type": "stream",
     "text": [
      "\n",
      "—— Analyzing Game 964 ——\n",
      "White: Alexander_Donchenko (2395), Black: Aragon (2023)\n"
     ]
    },
    {
     "name": "stderr",
     "output_type": "stream",
     "text": [
      "分析棋局:  55%|█████▌    | 929/1686 [2:22:45<2:43:31, 12.96s/it]"
     ]
    },
    {
     "name": "stdout",
     "output_type": "stream",
     "text": [
      "\n",
      "—— Analyzing Game 965 ——\n",
      "White: tac49 (2385), Black: Rogue_King (2006)\n"
     ]
    },
    {
     "name": "stderr",
     "output_type": "stream",
     "text": [
      "分析棋局:  55%|█████▌    | 930/1686 [2:22:56<2:36:53, 12.45s/it]"
     ]
    },
    {
     "name": "stdout",
     "output_type": "stream",
     "text": [
      "\n",
      "—— Analyzing Game 966 ——\n",
      "White: VerdeNotte (2495), Black: guillead1 (2264)\n"
     ]
    },
    {
     "name": "stderr",
     "output_type": "stream",
     "text": [
      "分析棋局:  55%|█████▌    | 931/1686 [2:23:09<2:39:14, 12.66s/it]"
     ]
    },
    {
     "name": "stdout",
     "output_type": "stream",
     "text": [
      "\n",
      "—— Analyzing Game 967 ——\n",
      "White: cassoulet (2163), Black: jcibarra (2471)\n"
     ]
    },
    {
     "name": "stderr",
     "output_type": "stream",
     "text": [
      "分析棋局:  55%|█████▌    | 932/1686 [2:23:25<2:53:11, 13.78s/it]"
     ]
    },
    {
     "name": "stdout",
     "output_type": "stream",
     "text": [
      "\n",
      "—— Analyzing Game 968 ——\n",
      "White: BjarkeSahl (2128), Black: gmjlh (2477)\n"
     ]
    },
    {
     "name": "stderr",
     "output_type": "stream",
     "text": [
      "分析棋局:  55%|█████▌    | 933/1686 [2:23:44<3:12:51, 15.37s/it]"
     ]
    },
    {
     "name": "stdout",
     "output_type": "stream",
     "text": [
      "\n",
      "—— Analyzing Game 969 ——\n",
      "White: FabianEnglert (2236), Black: AnthonyWirig (2562)\n"
     ]
    },
    {
     "name": "stderr",
     "output_type": "stream",
     "text": [
      "分析棋局:  55%|█████▌    | 934/1686 [2:23:59<3:09:49, 15.15s/it]"
     ]
    },
    {
     "name": "stdout",
     "output_type": "stream",
     "text": [
      "\n",
      "—— Analyzing Game 970 ——\n",
      "White: Kacparov (2444), Black: ruifeng (2059)\n"
     ]
    },
    {
     "name": "stderr",
     "output_type": "stream",
     "text": [
      "分析棋局:  55%|█████▌    | 935/1686 [2:24:13<3:04:25, 14.74s/it]"
     ]
    },
    {
     "name": "stdout",
     "output_type": "stream",
     "text": [
      "\n",
      "—— Analyzing Game 971 ——\n",
      "White: Argente (2205), Black: GMNeiksans (2486)\n"
     ]
    },
    {
     "name": "stderr",
     "output_type": "stream",
     "text": [
      "分析棋局:  56%|█████▌    | 936/1686 [2:24:24<2:52:28, 13.80s/it]"
     ]
    },
    {
     "name": "stdout",
     "output_type": "stream",
     "text": [
      "\n",
      "—— Analyzing Game 972 ——\n",
      "White: Colombiano07 (2021), Black: Cryptochess (2382)\n"
     ]
    },
    {
     "name": "stderr",
     "output_type": "stream",
     "text": [
      "分析棋局:  56%|█████▌    | 937/1686 [2:24:42<3:07:38, 15.03s/it]"
     ]
    },
    {
     "name": "stdout",
     "output_type": "stream",
     "text": [
      "\n",
      "—— Analyzing Game 973 ——\n",
      "White: wonderfultime (2574), Black: stepanosinovsky (2239)\n"
     ]
    },
    {
     "name": "stderr",
     "output_type": "stream",
     "text": [
      "分析棋局:  56%|█████▌    | 938/1686 [2:24:53<2:51:31, 13.76s/it]"
     ]
    },
    {
     "name": "stdout",
     "output_type": "stream",
     "text": [
      "\n",
      "—— Analyzing Game 974 ——\n",
      "White: Hafez_Bakr (1839), Black: bugsbunny444 (2333)\n"
     ]
    },
    {
     "name": "stderr",
     "output_type": "stream",
     "text": [
      "分析棋局:  56%|█████▌    | 939/1686 [2:25:19<3:35:13, 17.29s/it]"
     ]
    },
    {
     "name": "stdout",
     "output_type": "stream",
     "text": [
      "\n",
      "—— Analyzing Game 975 ——\n",
      "White: Chesseducation4u (2221), Black: AlexanderL (2514)\n"
     ]
    },
    {
     "name": "stderr",
     "output_type": "stream",
     "text": [
      "分析棋局:  56%|█████▌    | 940/1686 [2:25:35<3:30:17, 16.91s/it]"
     ]
    },
    {
     "name": "stdout",
     "output_type": "stream",
     "text": [
      "\n",
      "—— Analyzing Game 976 ——\n",
      "White: Gevorg_Harutjunyan (2514), Black: oggy1984 (2202)\n"
     ]
    },
    {
     "name": "stderr",
     "output_type": "stream",
     "text": [
      "分析棋局:  56%|█████▌    | 941/1686 [2:25:54<3:37:49, 17.54s/it]"
     ]
    },
    {
     "name": "stdout",
     "output_type": "stream",
     "text": [
      "\n",
      "—— Analyzing Game 977 ——\n",
      "White: Rijeka1999 (2273), Black: Nouki (2639)\n"
     ]
    },
    {
     "name": "stderr",
     "output_type": "stream",
     "text": [
      "分析棋局:  56%|█████▌    | 942/1686 [2:26:14<3:47:48, 18.37s/it]"
     ]
    },
    {
     "name": "stdout",
     "output_type": "stream",
     "text": [
      "\n",
      "—— Analyzing Game 978 ——\n",
      "White: pKiLz5Rn9b (2249), Black: Imre91 (2569)\n"
     ]
    },
    {
     "name": "stderr",
     "output_type": "stream",
     "text": [
      "分析棋局:  56%|█████▌    | 943/1686 [2:26:30<3:39:42, 17.74s/it]"
     ]
    },
    {
     "name": "stdout",
     "output_type": "stream",
     "text": [
      "\n",
      "—— Analyzing Game 979 ——\n",
      "White: GasconJR (2254), Black: facu57 (2099)\n"
     ]
    },
    {
     "name": "stderr",
     "output_type": "stream",
     "text": [
      "分析棋局:  56%|█████▌    | 944/1686 [2:26:37<2:59:44, 14.53s/it]"
     ]
    },
    {
     "name": "stdout",
     "output_type": "stream",
     "text": [
      "\n",
      "—— Analyzing Game 980 ——\n",
      "White: xtremeungar (2156), Black: VerdeNotte (2513)\n"
     ]
    },
    {
     "name": "stderr",
     "output_type": "stream",
     "text": [
      "分析棋局:  56%|█████▌    | 945/1686 [2:26:44<2:32:11, 12.32s/it]"
     ]
    },
    {
     "name": "stdout",
     "output_type": "stream",
     "text": [
      "\n",
      "—— Analyzing Game 981 ——\n",
      "White: AkshatChandra (2325), Black: VovAn1991 (2438)\n"
     ]
    },
    {
     "name": "stderr",
     "output_type": "stream",
     "text": [
      "分析棋局:  56%|█████▌    | 946/1686 [2:26:50<2:07:51, 10.37s/it]"
     ]
    },
    {
     "name": "stdout",
     "output_type": "stream",
     "text": [
      "\n",
      "—— Analyzing Game 982 ——\n",
      "White: jup1978 (2137), Black: Rijeka1999 (2262)\n"
     ]
    },
    {
     "name": "stderr",
     "output_type": "stream",
     "text": [
      "分析棋局:  56%|█████▌    | 947/1686 [2:26:59<2:01:06,  9.83s/it]"
     ]
    },
    {
     "name": "stdout",
     "output_type": "stream",
     "text": [
      "\n",
      "—— Analyzing Game 983 ——\n",
      "White: GMNeiksans (2493), Black: FrankieJay (2217)\n"
     ]
    },
    {
     "name": "stderr",
     "output_type": "stream",
     "text": [
      "分析棋局:  56%|█████▌    | 948/1686 [2:27:04<1:42:20,  8.32s/it]"
     ]
    },
    {
     "name": "stdout",
     "output_type": "stream",
     "text": [
      "\n",
      "—— Analyzing Game 984 ——\n",
      "White: Nouki (2645), Black: rhungaski (2429)\n"
     ]
    },
    {
     "name": "stderr",
     "output_type": "stream",
     "text": [
      "分析棋局:  56%|█████▋    | 949/1686 [2:27:12<1:43:12,  8.40s/it]"
     ]
    },
    {
     "name": "stdout",
     "output_type": "stream",
     "text": [
      "\n",
      "—— Analyzing Game 985 ——\n",
      "White: iFrancisco (2284), Black: alturas_pacificas (2089)\n"
     ]
    },
    {
     "name": "stderr",
     "output_type": "stream",
     "text": [
      "分析棋局:  56%|█████▋    | 950/1686 [2:27:23<1:51:45,  9.11s/it]"
     ]
    },
    {
     "name": "stdout",
     "output_type": "stream",
     "text": [
      "\n",
      "—— Analyzing Game 986 ——\n",
      "White: kinetix (1389), Black: AndreyOstrovskiy (2341)\n"
     ]
    },
    {
     "name": "stderr",
     "output_type": "stream",
     "text": [
      "分析棋局:  56%|█████▋    | 951/1686 [2:27:32<1:52:25,  9.18s/it]"
     ]
    },
    {
     "name": "stdout",
     "output_type": "stream",
     "text": [
      "\n",
      "—— Analyzing Game 987 ——\n",
      "White: jcibarra (2474), Black: pedromartinez91 (2112)\n"
     ]
    },
    {
     "name": "stderr",
     "output_type": "stream",
     "text": [
      "分析棋局:  56%|█████▋    | 952/1686 [2:27:44<2:00:22,  9.84s/it]"
     ]
    },
    {
     "name": "stdout",
     "output_type": "stream",
     "text": [
      "\n",
      "—— Analyzing Game 988 ——\n",
      "White: Danirod (2370), Black: Colombiano07 (2019)\n"
     ]
    },
    {
     "name": "stderr",
     "output_type": "stream",
     "text": [
      "分析棋局:  57%|█████▋    | 953/1686 [2:27:52<1:54:16,  9.35s/it]"
     ]
    },
    {
     "name": "stdout",
     "output_type": "stream",
     "text": [
      "\n",
      "—— Analyzing Game 989 ——\n",
      "White: 190l (1973), Black: Hafez_Bakr (1834)\n"
     ]
    },
    {
     "name": "stderr",
     "output_type": "stream",
     "text": [
      "分析棋局:  57%|█████▋    | 954/1686 [2:28:07<2:15:04, 11.07s/it]"
     ]
    },
    {
     "name": "stdout",
     "output_type": "stream",
     "text": [
      "\n",
      "—— Analyzing Game 990 ——\n",
      "White: Inopov (2473), Black: wonderfultime (2564)\n"
     ]
    },
    {
     "name": "stderr",
     "output_type": "stream",
     "text": [
      "分析棋局:  57%|█████▋    | 955/1686 [2:28:18<2:14:02, 11.00s/it]"
     ]
    },
    {
     "name": "stdout",
     "output_type": "stream",
     "text": [
      "\n",
      "—— Analyzing Game 991 ——\n",
      "White: gumersindo (2107), Black: manitodeplomo (2336)\n"
     ]
    },
    {
     "name": "stderr",
     "output_type": "stream",
     "text": [
      "分析棋局:  57%|█████▋    | 956/1686 [2:28:24<1:57:54,  9.69s/it]"
     ]
    },
    {
     "name": "stdout",
     "output_type": "stream",
     "text": [
      "\n",
      "—— Analyzing Game 992 ——\n",
      "White: AlexanderL (2517), Black: pKiLz5Rn9b (2246)\n"
     ]
    },
    {
     "name": "stderr",
     "output_type": "stream",
     "text": [
      "分析棋局:  57%|█████▋    | 957/1686 [2:28:39<2:14:10, 11.04s/it]"
     ]
    },
    {
     "name": "stdout",
     "output_type": "stream",
     "text": [
      "\n",
      "—— Analyzing Game 993 ——\n",
      "White: Room_for_Squares64 (1949), Black: zmaj23 (2313)\n"
     ]
    },
    {
     "name": "stderr",
     "output_type": "stream",
     "text": [
      "分析棋局:  57%|█████▋    | 958/1686 [2:28:47<2:05:18, 10.33s/it]"
     ]
    },
    {
     "name": "stdout",
     "output_type": "stream",
     "text": [
      "\n",
      "—— Analyzing Game 994 ——\n",
      "White: mokerslag (2369), Black: IMRosen (2045)\n"
     ]
    },
    {
     "name": "stderr",
     "output_type": "stream",
     "text": [
      "分析棋局:  57%|█████▋    | 959/1686 [2:28:56<2:00:26,  9.94s/it]"
     ]
    },
    {
     "name": "stdout",
     "output_type": "stream",
     "text": [
      "\n",
      "—— Analyzing Game 995 ——\n",
      "White: DanielNaroditsky (2564), Black: igorkovalenko (2483)\n"
     ]
    },
    {
     "name": "stderr",
     "output_type": "stream",
     "text": [
      "分析棋局:  57%|█████▋    | 960/1686 [2:29:13<2:25:17, 12.01s/it]"
     ]
    },
    {
     "name": "stdout",
     "output_type": "stream",
     "text": [
      "\n",
      "—— Analyzing Game 996 ——\n",
      "White: bsmail (2102), Black: AUSSIE_PINOY (2357)\n"
     ]
    },
    {
     "name": "stderr",
     "output_type": "stream",
     "text": [
      "分析棋局:  57%|█████▋    | 961/1686 [2:29:25<2:24:58, 12.00s/it]"
     ]
    },
    {
     "name": "stdout",
     "output_type": "stream",
     "text": [
      "\n",
      "—— Analyzing Game 997 ——\n",
      "White: ilmago (1864), Black: CraiggoryC (1988)\n"
     ]
    },
    {
     "name": "stderr",
     "output_type": "stream",
     "text": [
      "分析棋局:  57%|█████▋    | 962/1686 [2:29:37<2:25:31, 12.06s/it]"
     ]
    },
    {
     "name": "stdout",
     "output_type": "stream",
     "text": [
      "\n",
      "—— Analyzing Game 998 ——\n",
      "White: PauloCesarCosta (2050), Black: juniortay (2209)\n"
     ]
    },
    {
     "name": "stderr",
     "output_type": "stream",
     "text": [
      "分析棋局:  57%|█████▋    | 963/1686 [2:29:48<2:19:30, 11.58s/it]"
     ]
    },
    {
     "name": "stdout",
     "output_type": "stream",
     "text": [
      "\n",
      "—— Analyzing Game 999 ——\n",
      "White: guillead1 (2259), Black: tac49 (2390)\n"
     ]
    },
    {
     "name": "stderr",
     "output_type": "stream",
     "text": [
      "分析棋局:  57%|█████▋    | 964/1686 [2:30:00<2:20:39, 11.69s/it]"
     ]
    },
    {
     "name": "stdout",
     "output_type": "stream",
     "text": [
      "\n",
      "—— Analyzing Game 1000 ——\n",
      "White: gmjlh (2479), Black: Gevorg_Harutjunyan (2513)\n"
     ]
    },
    {
     "name": "stderr",
     "output_type": "stream",
     "text": [
      "分析棋局:  57%|█████▋    | 965/1686 [2:30:09<2:11:45, 10.96s/it]"
     ]
    },
    {
     "name": "stdout",
     "output_type": "stream",
     "text": [
      "\n",
      "—— Analyzing Game 1001 ——\n",
      "White: ViennaRocket (2198), Black: MattyDPerrine (2048)\n"
     ]
    },
    {
     "name": "stderr",
     "output_type": "stream",
     "text": [
      "分析棋局:  57%|█████▋    | 966/1686 [2:30:19<2:08:47, 10.73s/it]"
     ]
    },
    {
     "name": "stdout",
     "output_type": "stream",
     "text": [
      "\n",
      "—— Analyzing Game 1002 ——\n",
      "White: HansCoolNiemann (1837), Black: DoctorMove (1752)\n"
     ]
    },
    {
     "name": "stderr",
     "output_type": "stream",
     "text": [
      "分析棋局:  57%|█████▋    | 967/1686 [2:30:35<2:25:52, 12.17s/it]"
     ]
    },
    {
     "name": "stdout",
     "output_type": "stream",
     "text": [
      "\n",
      "—— Analyzing Game 1003 ——\n",
      "White: 1random (2014), Black: Konavets (2362)\n"
     ]
    },
    {
     "name": "stderr",
     "output_type": "stream",
     "text": [
      "分析棋局:  57%|█████▋    | 968/1686 [2:30:48<2:29:45, 12.51s/it]"
     ]
    },
    {
     "name": "stdout",
     "output_type": "stream",
     "text": [
      "\n",
      "—— Analyzing Game 1004 ——\n",
      "White: ChessTrener (2498), Black: Argente (2201)\n"
     ]
    },
    {
     "name": "stderr",
     "output_type": "stream",
     "text": [
      "分析棋局:  57%|█████▋    | 969/1686 [2:31:00<2:27:09, 12.31s/it]"
     ]
    },
    {
     "name": "stdout",
     "output_type": "stream",
     "text": [
      "\n",
      "—— Analyzing Game 1005 ——\n",
      "White: bugsbunny444 (2328), Black: MinhGTrAn (2469)\n"
     ]
    },
    {
     "name": "stderr",
     "output_type": "stream",
     "text": [
      "分析棋局:  58%|█████▊    | 970/1686 [2:31:14<2:34:15, 12.93s/it]"
     ]
    },
    {
     "name": "stdout",
     "output_type": "stream",
     "text": [
      "\n",
      "—— Analyzing Game 1006 ——\n",
      "White: raskolnnikov (2278), Black: BjarkeSahl (2123)\n"
     ]
    },
    {
     "name": "stderr",
     "output_type": "stream",
     "text": [
      "分析棋局:  58%|█████▊    | 971/1686 [2:31:33<2:53:06, 14.53s/it]"
     ]
    },
    {
     "name": "stdout",
     "output_type": "stream",
     "text": [
      "\n",
      "—— Analyzing Game 1007 ——\n",
      "White: Aragon (2028), Black: FytNob (1858)\n"
     ]
    },
    {
     "name": "stderr",
     "output_type": "stream",
     "text": [
      "分析棋局:  58%|█████▊    | 972/1686 [2:31:51<3:05:51, 15.62s/it]"
     ]
    },
    {
     "name": "stdout",
     "output_type": "stream",
     "text": [
      "\n",
      "—— Analyzing Game 1008 ——\n",
      "White: stepanosinovsky (2243), Black: monika84 (2046)\n"
     ]
    },
    {
     "name": "stderr",
     "output_type": "stream",
     "text": [
      "分析棋局:  58%|█████▊    | 973/1686 [2:32:00<2:42:11, 13.65s/it]"
     ]
    },
    {
     "name": "stdout",
     "output_type": "stream",
     "text": [
      "\n",
      "—— Analyzing Game 1009 ——\n",
      "White: Cryptochess (2394), Black: Tilicheev_Viacheslav (2539)\n"
     ]
    },
    {
     "name": "stderr",
     "output_type": "stream",
     "text": [
      "分析棋局:  58%|█████▊    | 974/1686 [2:32:10<2:30:52, 12.71s/it]"
     ]
    },
    {
     "name": "stdout",
     "output_type": "stream",
     "text": [
      "\n",
      "—— Analyzing Game 1010 ——\n",
      "White: megarompa (2670), Black: GulamaliRises (2328)\n"
     ]
    },
    {
     "name": "stderr",
     "output_type": "stream",
     "text": [
      "分析棋局:  58%|█████▊    | 975/1686 [2:32:26<2:40:12, 13.52s/it]"
     ]
    },
    {
     "name": "stdout",
     "output_type": "stream",
     "text": [
      "\n",
      "—— Analyzing Game 1011 ——\n",
      "White: kesarev (2248), Black: Zvonokchess (2493)\n"
     ]
    },
    {
     "name": "stderr",
     "output_type": "stream",
     "text": [
      "分析棋局:  58%|█████▊    | 976/1686 [2:32:40<2:42:08, 13.70s/it]"
     ]
    },
    {
     "name": "stdout",
     "output_type": "stream",
     "text": [
      "\n",
      "—— Analyzing Game 1012 ——\n",
      "White: VSERGUEI (2441), Black: LyonBeast (2758)\n"
     ]
    },
    {
     "name": "stderr",
     "output_type": "stream",
     "text": [
      "分析棋局:  58%|█████▊    | 977/1686 [2:32:55<2:45:34, 14.01s/it]"
     ]
    },
    {
     "name": "stdout",
     "output_type": "stream",
     "text": [
      "\n",
      "—— Analyzing Game 1013 ——\n",
      "White: Ar4uha (2445), Black: Schemato (2050)\n"
     ]
    },
    {
     "name": "stderr",
     "output_type": "stream",
     "text": [
      "分析棋局:  58%|█████▊    | 978/1686 [2:33:08<2:43:05, 13.82s/it]"
     ]
    },
    {
     "name": "stdout",
     "output_type": "stream",
     "text": [
      "\n",
      "—— Analyzing Game 1014 ——\n",
      "White: lukas_111111 (2134), Black: Tomsel (2290)\n"
     ]
    },
    {
     "name": "stderr",
     "output_type": "stream",
     "text": [
      "分析棋局:  58%|█████▊    | 979/1686 [2:33:21<2:40:15, 13.60s/it]"
     ]
    },
    {
     "name": "stdout",
     "output_type": "stream",
     "text": [
      "\n",
      "—— Analyzing Game 1015 ——\n",
      "White: oggy1984 (2195), Black: GedoGluperd (2233)\n"
     ]
    },
    {
     "name": "stderr",
     "output_type": "stream",
     "text": [
      "分析棋局:  58%|█████▊    | 980/1686 [2:33:39<2:55:12, 14.89s/it]"
     ]
    },
    {
     "name": "stdout",
     "output_type": "stream",
     "text": [
      "\n",
      "—— Analyzing Game 1016 ——\n",
      "White: tigrangharamian (2472), Black: GeorgMeier (2656)\n"
     ]
    },
    {
     "name": "stderr",
     "output_type": "stream",
     "text": [
      "分析棋局:  58%|█████▊    | 981/1686 [2:33:57<3:04:48, 15.73s/it]"
     ]
    },
    {
     "name": "stdout",
     "output_type": "stream",
     "text": [
      "\n",
      "—— Analyzing Game 1017 ——\n",
      "White: Zlatan56 (2490), Black: chito89 (2577)\n"
     ]
    },
    {
     "name": "stderr",
     "output_type": "stream",
     "text": [
      "分析棋局:  58%|█████▊    | 982/1686 [2:34:13<3:05:44, 15.83s/it]"
     ]
    },
    {
     "name": "stdout",
     "output_type": "stream",
     "text": [
      "\n",
      "—— Analyzing Game 1018 ——\n",
      "White: LADIESGET2KNOWME (2290), Black: destroyer305 (2140)\n"
     ]
    },
    {
     "name": "stderr",
     "output_type": "stream",
     "text": [
      "分析棋局:  58%|█████▊    | 983/1686 [2:34:26<2:56:57, 15.10s/it]"
     ]
    },
    {
     "name": "stdout",
     "output_type": "stream",
     "text": [
      "\n",
      "—— Analyzing Game 1019 ——\n",
      "White: FlySooHigh (2351), Black: Enozen (2474)\n"
     ]
    },
    {
     "name": "stderr",
     "output_type": "stream",
     "text": [
      "分析棋局:  58%|█████▊    | 984/1686 [2:34:43<3:04:23, 15.76s/it]"
     ]
    },
    {
     "name": "stdout",
     "output_type": "stream",
     "text": [
      "\n",
      "—— Analyzing Game 1020 ——\n",
      "White: SuPeR_Fm (2343), Black: GMHess (2493)\n"
     ]
    },
    {
     "name": "stderr",
     "output_type": "stream",
     "text": [
      "分析棋局:  58%|█████▊    | 985/1686 [2:35:01<3:11:23, 16.38s/it]"
     ]
    },
    {
     "name": "stdout",
     "output_type": "stream",
     "text": [
      "\n",
      "—— Analyzing Game 1021 ——\n",
      "White: gawk (2052), Black: FabianEnglert (2232)\n"
     ]
    },
    {
     "name": "stderr",
     "output_type": "stream",
     "text": [
      "分析棋局:  58%|█████▊    | 986/1686 [2:35:16<3:04:29, 15.81s/it]"
     ]
    },
    {
     "name": "stdout",
     "output_type": "stream",
     "text": [
      "\n",
      "—— Analyzing Game 1022 ——\n",
      "White: AnthonyWirig (2544), Black: petrpalachev (2405)\n"
     ]
    },
    {
     "name": "stderr",
     "output_type": "stream",
     "text": [
      "分析棋局:  59%|█████▊    | 987/1686 [2:35:32<3:04:11, 15.81s/it]"
     ]
    },
    {
     "name": "stdout",
     "output_type": "stream",
     "text": [
      "\n",
      "—— Analyzing Game 1023 ——\n",
      "White: 9ShMat2 (2433), Black: Hikaru (2852)\n"
     ]
    },
    {
     "name": "stderr",
     "output_type": "stream",
     "text": [
      "分析棋局:  59%|█████▊    | 988/1686 [2:35:54<3:26:41, 17.77s/it]"
     ]
    },
    {
     "name": "stdout",
     "output_type": "stream",
     "text": [
      "\n",
      "—— Analyzing Game 1024 ——\n",
      "White: Rogue_King (2013), Black: Carolina-moon (1936)\n"
     ]
    },
    {
     "name": "stderr",
     "output_type": "stream",
     "text": [
      "分析棋局:  59%|█████▊    | 989/1686 [2:36:14<3:34:47, 18.49s/it]"
     ]
    },
    {
     "name": "stdout",
     "output_type": "stream",
     "text": [
      "\n",
      "—— Analyzing Game 1025 ——\n",
      "White: lorcho (2375), Black: LuckyTiger (2530)\n"
     ]
    },
    {
     "name": "stderr",
     "output_type": "stream",
     "text": [
      "分析棋局:  59%|█████▊    | 990/1686 [2:36:29<3:20:37, 17.29s/it]"
     ]
    },
    {
     "name": "stdout",
     "output_type": "stream",
     "text": [
      "\n",
      "—— Analyzing Game 1026 ——\n",
      "White: BeerLag (2406), Black: EltajSafarli (2595)\n"
     ]
    },
    {
     "name": "stderr",
     "output_type": "stream",
     "text": [
      "分析棋局:  59%|█████▉    | 991/1686 [2:36:44<3:15:00, 16.83s/it]"
     ]
    },
    {
     "name": "stdout",
     "output_type": "stream",
     "text": [
      "\n",
      "—— Analyzing Game 1027 ——\n",
      "White: 1stSecond (2347), Black: Alexander_Donchenko (2392)\n"
     ]
    },
    {
     "name": "stderr",
     "output_type": "stream",
     "text": [
      "分析棋局:  59%|█████▉    | 992/1686 [2:37:07<3:34:23, 18.54s/it]"
     ]
    },
    {
     "name": "stdout",
     "output_type": "stream",
     "text": [
      "\n",
      "—— Analyzing Game 1028 ——\n",
      "White: Imre91 (2571), Black: Chesseducation4u (2219)\n"
     ]
    },
    {
     "name": "stderr",
     "output_type": "stream",
     "text": [
      "分析棋局:  59%|█████▉    | 993/1686 [2:37:22<3:22:19, 17.52s/it]"
     ]
    },
    {
     "name": "stdout",
     "output_type": "stream",
     "text": [
      "\n",
      "—— Analyzing Game 1029 ——\n",
      "White: exoticprincess (2776), Black: Kacparov (2442)\n"
     ]
    },
    {
     "name": "stderr",
     "output_type": "stream",
     "text": [
      "分析棋局:  59%|█████▉    | 994/1686 [2:37:57<4:22:14, 22.74s/it]"
     ]
    },
    {
     "name": "stdout",
     "output_type": "stream",
     "text": [
      "\n",
      "—— Analyzing Game 1030 ——\n",
      "White: VSERGUEI (2405), Black: AUSSIE_PINOY (2367)\n",
      "\n",
      "—— Analyzing Game 1031 ——\n",
      "White: pKiLz5Rn9b (2250), Black: Schemato (2046)\n"
     ]
    },
    {
     "name": "stderr",
     "output_type": "stream",
     "text": [
      "分析棋局:  59%|█████▉    | 995/1686 [2:38:03<3:25:54, 17.88s/it]"
     ]
    },
    {
     "name": "stdout",
     "output_type": "stream",
     "text": [
      "\n",
      "—— Analyzing Game 1032 ——\n",
      "White: GMNeiksans (2511), Black: Enozen (2466)\n"
     ]
    },
    {
     "name": "stderr",
     "output_type": "stream",
     "text": [
      "分析棋局:  59%|█████▉    | 996/1686 [2:38:08<2:40:17, 13.94s/it]"
     ]
    },
    {
     "name": "stdout",
     "output_type": "stream",
     "text": [
      "\n",
      "—— Analyzing Game 1033 ——\n",
      "White: BeerLag (2397), Black: Konavets (2383)\n"
     ]
    },
    {
     "name": "stderr",
     "output_type": "stream",
     "text": [
      "分析棋局:  59%|█████▉    | 997/1686 [2:38:17<2:22:45, 12.43s/it]"
     ]
    },
    {
     "name": "stdout",
     "output_type": "stream",
     "text": [
      "\n",
      "—— Analyzing Game 1034 ——\n",
      "White: VerdeNotte (2536), Black: raskolnnikov (2275)\n"
     ]
    },
    {
     "name": "stderr",
     "output_type": "stream",
     "text": [
      "分析棋局:  59%|█████▉    | 998/1686 [2:38:27<2:13:01, 11.60s/it]"
     ]
    },
    {
     "name": "stdout",
     "output_type": "stream",
     "text": [
      "\n",
      "—— Analyzing Game 1035 ——\n",
      "White: FabianEnglert (2236), Black: Colombiano07 (2015)\n"
     ]
    },
    {
     "name": "stderr",
     "output_type": "stream",
     "text": [
      "分析棋局:  59%|█████▉    | 999/1686 [2:38:36<2:06:08, 11.02s/it]"
     ]
    },
    {
     "name": "stdout",
     "output_type": "stream",
     "text": [
      "\n",
      "—— Analyzing Game 1036 ——\n",
      "White: GedoGluperd (2230), Black: Zlatan56 (2530)\n"
     ]
    },
    {
     "name": "stderr",
     "output_type": "stream",
     "text": [
      "分析棋局:  59%|█████▉    | 1000/1686 [2:38:50<2:13:59, 11.72s/it]"
     ]
    },
    {
     "name": "stdout",
     "output_type": "stream",
     "text": [
      "\n",
      "—— Analyzing Game 1037 ——\n",
      "White: GasconJR (2259), Black: bsmail (2097)\n"
     ]
    },
    {
     "name": "stderr",
     "output_type": "stream",
     "text": [
      "分析棋局:  59%|█████▉    | 1001/1686 [2:39:01<2:12:48, 11.63s/it]"
     ]
    },
    {
     "name": "stdout",
     "output_type": "stream",
     "text": [
      "\n",
      "—— Analyzing Game 1038 ——\n",
      "White: facu57 (2072), Black: 1random (2025)\n"
     ]
    },
    {
     "name": "stderr",
     "output_type": "stream",
     "text": [
      "分析棋局:  59%|█████▉    | 1002/1686 [2:39:14<2:17:34, 12.07s/it]"
     ]
    },
    {
     "name": "stdout",
     "output_type": "stream",
     "text": [
      "\n",
      "—— Analyzing Game 1039 ——\n",
      "White: tac49 (2397), Black: AndreyOstrovskiy (2334)\n"
     ]
    },
    {
     "name": "stderr",
     "output_type": "stream",
     "text": [
      "分析棋局:  59%|█████▉    | 1003/1686 [2:39:22<2:01:35, 10.68s/it]"
     ]
    },
    {
     "name": "stdout",
     "output_type": "stream",
     "text": [
      "\n",
      "—— Analyzing Game 1040 ——\n",
      "White: mokerslag (2372), Black: gawk (2050)\n"
     ]
    },
    {
     "name": "stderr",
     "output_type": "stream",
     "text": [
      "分析棋局:  60%|█████▉    | 1004/1686 [2:39:30<1:54:50, 10.10s/it]"
     ]
    },
    {
     "name": "stdout",
     "output_type": "stream",
     "text": [
      "\n",
      "—— Analyzing Game 1041 ——\n",
      "White: Kacparov (2428), Black: jup1978 (2153)\n"
     ]
    },
    {
     "name": "stderr",
     "output_type": "stream",
     "text": [
      "分析棋局:  60%|█████▉    | 1005/1686 [2:39:42<1:58:51, 10.47s/it]"
     ]
    },
    {
     "name": "stdout",
     "output_type": "stream",
     "text": [
      "\n",
      "—— Analyzing Game 1042 ——\n",
      "White: manitodeplomo (2336), Black: 1stSecond (2347)\n"
     ]
    },
    {
     "name": "stderr",
     "output_type": "stream",
     "text": [
      "分析棋局:  60%|█████▉    | 1006/1686 [2:39:53<2:00:28, 10.63s/it]"
     ]
    },
    {
     "name": "stdout",
     "output_type": "stream",
     "text": [
      "\n",
      "—— Analyzing Game 1043 ——\n",
      "White: EltajSafarli (2599), Black: guillead1 (2257)\n"
     ]
    },
    {
     "name": "stderr",
     "output_type": "stream",
     "text": [
      "分析棋局:  60%|█████▉    | 1007/1686 [2:40:03<1:58:51, 10.50s/it]"
     ]
    },
    {
     "name": "stdout",
     "output_type": "stream",
     "text": [
      "\n",
      "—— Analyzing Game 1044 ——\n",
      "White: pedromartinez91 (2118), Black: Rogue_King (2007)\n"
     ]
    },
    {
     "name": "stderr",
     "output_type": "stream",
     "text": [
      "分析棋局:  60%|█████▉    | 1008/1686 [2:40:16<2:06:47, 11.22s/it]"
     ]
    },
    {
     "name": "stdout",
     "output_type": "stream",
     "text": [
      "\n",
      "—— Analyzing Game 1045 ——\n",
      "White: 9ShMat2 (2440), Black: Danirod (2363)\n"
     ]
    },
    {
     "name": "stderr",
     "output_type": "stream",
     "text": [
      "分析棋局:  60%|█████▉    | 1009/1686 [2:40:30<2:16:14, 12.07s/it]"
     ]
    },
    {
     "name": "stdout",
     "output_type": "stream",
     "text": [
      "\n",
      "—— Analyzing Game 1046 ——\n",
      "White: PauloCesarCosta (2057), Black: CraiggoryC (1981)\n"
     ]
    },
    {
     "name": "stderr",
     "output_type": "stream",
     "text": [
      "分析棋局:  60%|█████▉    | 1010/1686 [2:40:40<2:07:47, 11.34s/it]"
     ]
    },
    {
     "name": "stdout",
     "output_type": "stream",
     "text": [
      "\n",
      "—— Analyzing Game 1047 ——\n",
      "White: Carolina-moon (1926), Black: ilmago (1884)\n"
     ]
    },
    {
     "name": "stderr",
     "output_type": "stream",
     "text": [
      "分析棋局:  60%|█████▉    | 1011/1686 [2:40:52<2:11:22, 11.68s/it]"
     ]
    },
    {
     "name": "stdout",
     "output_type": "stream",
     "text": [
      "\n",
      "—— Analyzing Game 1048 ——\n",
      "White: exoticprincess (2783), Black: igorkovalenko (2476)\n"
     ]
    },
    {
     "name": "stderr",
     "output_type": "stream",
     "text": [
      "分析棋局:  60%|██████    | 1012/1686 [2:41:07<2:21:33, 12.60s/it]"
     ]
    },
    {
     "name": "stdout",
     "output_type": "stream",
     "text": [
      "\n",
      "—— Analyzing Game 1049 ——\n",
      "White: Ar4uha (2448), Black: FrankieJay (2213)\n"
     ]
    },
    {
     "name": "stderr",
     "output_type": "stream",
     "text": [
      "分析棋局:  60%|██████    | 1013/1686 [2:41:25<2:41:18, 14.38s/it]"
     ]
    },
    {
     "name": "stdout",
     "output_type": "stream",
     "text": [
      "\n",
      "—— Analyzing Game 1050 ——\n",
      "White: Rijeka1999 (2252), Black: oggy1984 (2205)\n"
     ]
    },
    {
     "name": "stderr",
     "output_type": "stream",
     "text": [
      "分析棋局:  60%|██████    | 1014/1686 [2:41:36<2:29:25, 13.34s/it]"
     ]
    },
    {
     "name": "stdout",
     "output_type": "stream",
     "text": [
      "\n",
      "—— Analyzing Game 1051 ——\n",
      "White: destroyer305 (2130), Black: Aragon (2038)\n"
     ]
    },
    {
     "name": "stderr",
     "output_type": "stream",
     "text": [
      "分析棋局:  60%|██████    | 1015/1686 [2:41:53<2:39:00, 14.22s/it]"
     ]
    },
    {
     "name": "stdout",
     "output_type": "stream",
     "text": [
      "\n",
      "—— Analyzing Game 1052 ——\n",
      "White: DoctorMove (1751), Black: LADIESGET2KNOWME (2291)\n"
     ]
    },
    {
     "name": "stderr",
     "output_type": "stream",
     "text": [
      "分析棋局:  60%|██████    | 1016/1686 [2:42:04<2:29:45, 13.41s/it]"
     ]
    },
    {
     "name": "stdout",
     "output_type": "stream",
     "text": [
      "\n",
      "—— Analyzing Game 1053 ——\n",
      "White: Hikaru (2847), Black: chito89 (2593)\n"
     ]
    },
    {
     "name": "stderr",
     "output_type": "stream",
     "text": [
      "分析棋局:  60%|██████    | 1017/1686 [2:42:19<2:33:49, 13.80s/it]"
     ]
    },
    {
     "name": "stdout",
     "output_type": "stream",
     "text": [
      "\n",
      "—— Analyzing Game 1054 ——\n",
      "White: ChessTrener (2485), Black: Chesseducation4u (2232)\n"
     ]
    },
    {
     "name": "stderr",
     "output_type": "stream",
     "text": [
      "分析棋局:  60%|██████    | 1018/1686 [2:42:31<2:28:33, 13.34s/it]"
     ]
    },
    {
     "name": "stdout",
     "output_type": "stream",
     "text": [
      "\n",
      "—— Analyzing Game 1055 ——\n",
      "White: FlySooHigh (2342), Black: AkshatChandra (2380)\n"
     ]
    },
    {
     "name": "stderr",
     "output_type": "stream",
     "text": [
      "分析棋局:  60%|██████    | 1019/1686 [2:42:42<2:21:16, 12.71s/it]"
     ]
    },
    {
     "name": "stdout",
     "output_type": "stream",
     "text": [
      "\n",
      "—— Analyzing Game 1056 ——\n",
      "White: 190l (1974), Black: kinetix (1364)\n"
     ]
    },
    {
     "name": "stderr",
     "output_type": "stream",
     "text": [
      "分析棋局:  60%|██████    | 1020/1686 [2:42:57<2:26:24, 13.19s/it]"
     ]
    },
    {
     "name": "stdout",
     "output_type": "stream",
     "text": [
      "\n",
      "—— Analyzing Game 1057 ——\n",
      "White: GMHess (2500), Black: MinhGTrAn (2462)\n"
     ]
    },
    {
     "name": "stderr",
     "output_type": "stream",
     "text": [
      "分析棋局:  61%|██████    | 1021/1686 [2:43:07<2:16:25, 12.31s/it]"
     ]
    },
    {
     "name": "stdout",
     "output_type": "stream",
     "text": [
      "\n",
      "—— Analyzing Game 1058 ——\n",
      "White: iFrancisco (2281), Black: BjarkeSahl (2126)\n"
     ]
    },
    {
     "name": "stderr",
     "output_type": "stream",
     "text": [
      "分析棋局:  61%|██████    | 1022/1686 [2:43:19<2:15:55, 12.28s/it]"
     ]
    },
    {
     "name": "stdout",
     "output_type": "stream",
     "text": [
      "\n",
      "—— Analyzing Game 1059 ——\n",
      "White: monika84 (2050), Black: FytNob (1854)\n"
     ]
    },
    {
     "name": "stderr",
     "output_type": "stream",
     "text": [
      "分析棋局:  61%|██████    | 1023/1686 [2:43:32<2:17:27, 12.44s/it]"
     ]
    },
    {
     "name": "stdout",
     "output_type": "stream",
     "text": [
      "\n",
      "—— Analyzing Game 1060 ——\n",
      "White: LyonBeast (2762), Black: Inopov (2470)\n"
     ]
    },
    {
     "name": "stderr",
     "output_type": "stream",
     "text": [
      "分析棋局:  61%|██████    | 1024/1686 [2:43:51<2:39:09, 14.43s/it]"
     ]
    },
    {
     "name": "stdout",
     "output_type": "stream",
     "text": [
      "\n",
      "—— Analyzing Game 1061 ——\n",
      "White: GeorgMeier (2659), Black: Alexander_Donchenko (2385)\n"
     ]
    },
    {
     "name": "stderr",
     "output_type": "stream",
     "text": [
      "分析棋局:  61%|██████    | 1025/1686 [2:44:01<2:25:52, 13.24s/it]"
     ]
    },
    {
     "name": "stdout",
     "output_type": "stream",
     "text": [
      "\n",
      "—— Analyzing Game 1062 ——\n",
      "White: DanielNaroditsky (2576), Black: stepanosinovsky (2241)\n"
     ]
    },
    {
     "name": "stderr",
     "output_type": "stream",
     "text": [
      "分析棋局:  61%|██████    | 1026/1686 [2:44:16<2:28:42, 13.52s/it]"
     ]
    },
    {
     "name": "stdout",
     "output_type": "stream",
     "text": [
      "\n",
      "—— Analyzing Game 1063 ——\n",
      "White: Tilicheev_Viacheslav (2540), Black: gumersindo (2106)\n"
     ]
    },
    {
     "name": "stderr",
     "output_type": "stream",
     "text": [
      "分析棋局:  61%|██████    | 1027/1686 [2:44:36<2:50:04, 15.48s/it]"
     ]
    },
    {
     "name": "stdout",
     "output_type": "stream",
     "text": [
      "\n",
      "—— Analyzing Game 1064 ——\n",
      "White: Nouki (2650), Black: petrpalachev (2402)\n"
     ]
    },
    {
     "name": "stderr",
     "output_type": "stream",
     "text": [
      "分析棋局:  61%|██████    | 1028/1686 [2:44:49<2:43:26, 14.90s/it]"
     ]
    },
    {
     "name": "stdout",
     "output_type": "stream",
     "text": [
      "\n",
      "—— Analyzing Game 1065 ——\n",
      "White: juniortay (2218), Black: ViennaRocket (2190)\n"
     ]
    },
    {
     "name": "stderr",
     "output_type": "stream",
     "text": [
      "分析棋局:  61%|██████    | 1029/1686 [2:45:01<2:32:13, 13.90s/it]"
     ]
    },
    {
     "name": "stdout",
     "output_type": "stream",
     "text": [
      "\n",
      "—— Analyzing Game 1066 ——\n",
      "White: rhungaski (2431), Black: lukas_111111 (2131)\n"
     ]
    },
    {
     "name": "stderr",
     "output_type": "stream",
     "text": [
      "分析棋局:  61%|██████    | 1030/1686 [2:45:18<2:43:04, 14.91s/it]"
     ]
    },
    {
     "name": "stdout",
     "output_type": "stream",
     "text": [
      "\n",
      "—— Analyzing Game 1067 ——\n",
      "White: Zvonokchess (2498), Black: SuPeR_Fm (2333)\n"
     ]
    },
    {
     "name": "stderr",
     "output_type": "stream",
     "text": [
      "分析棋局:  61%|██████    | 1031/1686 [2:45:29<2:28:23, 13.59s/it]"
     ]
    },
    {
     "name": "stdout",
     "output_type": "stream",
     "text": [
      "\n",
      "—— Analyzing Game 1068 ——\n",
      "White: IMRosen (2056), Black: megarompa (2651)\n"
     ]
    },
    {
     "name": "stderr",
     "output_type": "stream",
     "text": [
      "分析棋局:  61%|██████    | 1032/1686 [2:45:39<2:18:37, 12.72s/it]"
     ]
    },
    {
     "name": "stdout",
     "output_type": "stream",
     "text": [
      "\n",
      "—— Analyzing Game 1069 ——\n",
      "White: Tomsel (2279), Black: xtremeungar (2208)\n"
     ]
    },
    {
     "name": "stderr",
     "output_type": "stream",
     "text": [
      "分析棋局:  61%|██████▏   | 1033/1686 [2:45:56<2:32:30, 14.01s/it]"
     ]
    },
    {
     "name": "stdout",
     "output_type": "stream",
     "text": [
      "\n",
      "—— Analyzing Game 1070 ——\n",
      "White: wonderfultime (2550), Black: kesarev (2262)\n"
     ]
    },
    {
     "name": "stderr",
     "output_type": "stream",
     "text": [
      "分析棋局:  61%|██████▏   | 1034/1686 [2:46:13<2:41:45, 14.89s/it]"
     ]
    },
    {
     "name": "stdout",
     "output_type": "stream",
     "text": [
      "\n",
      "—— Analyzing Game 1071 ——\n",
      "White: alturas_pacificas (2080), Black: MattyDPerrine (2057)\n"
     ]
    },
    {
     "name": "stderr",
     "output_type": "stream",
     "text": [
      "分析棋局:  61%|██████▏   | 1035/1686 [2:46:29<2:46:14, 15.32s/it]"
     ]
    },
    {
     "name": "stdout",
     "output_type": "stream",
     "text": [
      "\n",
      "—— Analyzing Game 1072 ——\n",
      "White: Gevorg_Harutjunyan (2518), Black: Cryptochess (2389)\n"
     ]
    },
    {
     "name": "stderr",
     "output_type": "stream",
     "text": [
      "分析棋局:  61%|██████▏   | 1036/1686 [2:46:44<2:42:37, 15.01s/it]"
     ]
    },
    {
     "name": "stdout",
     "output_type": "stream",
     "text": [
      "\n",
      "—— Analyzing Game 1073 ——\n",
      "White: jcibarra (2470), Black: lorcho (2379)\n"
     ]
    },
    {
     "name": "stderr",
     "output_type": "stream",
     "text": [
      "分析棋局:  62%|██████▏   | 1037/1686 [2:46:57<2:35:25, 14.37s/it]"
     ]
    },
    {
     "name": "stdout",
     "output_type": "stream",
     "text": [
      "\n",
      "—— Analyzing Game 1074 ——\n",
      "White: AlexanderL (2504), Black: bugsbunny444 (2340)\n"
     ]
    },
    {
     "name": "stderr",
     "output_type": "stream",
     "text": [
      "分析棋局:  62%|██████▏   | 1038/1686 [2:47:09<2:29:06, 13.81s/it]"
     ]
    },
    {
     "name": "stdout",
     "output_type": "stream",
     "text": [
      "\n",
      "—— Analyzing Game 1075 ——\n",
      "White: Argente (2191), Black: HansCoolNiemann (1844)\n"
     ]
    },
    {
     "name": "stderr",
     "output_type": "stream",
     "text": [
      "分析棋局:  62%|██████▏   | 1039/1686 [2:47:24<2:33:33, 14.24s/it]"
     ]
    },
    {
     "name": "stdout",
     "output_type": "stream",
     "text": [
      "\n",
      "—— Analyzing Game 1076 ——\n",
      "White: AnthonyWirig (2550), Black: GulamaliRises (2324)\n"
     ]
    },
    {
     "name": "stderr",
     "output_type": "stream",
     "text": [
      "分析棋局:  62%|██████▏   | 1040/1686 [2:47:50<3:08:39, 17.52s/it]"
     ]
    },
    {
     "name": "stdout",
     "output_type": "stream",
     "text": [
      "\n",
      "—— Analyzing Game 1077 ——\n",
      "White: LuckyTiger (2498), Black: gmjlh (2500)\n"
     ]
    },
    {
     "name": "stderr",
     "output_type": "stream",
     "text": [
      "分析棋局:  62%|██████▏   | 1041/1686 [2:48:06<3:04:50, 17.19s/it]"
     ]
    },
    {
     "name": "stdout",
     "output_type": "stream",
     "text": [
      "\n",
      "—— Analyzing Game 1078 ——\n",
      "White: Imre91 (2561), Black: tigrangharamian (2505)\n"
     ]
    },
    {
     "name": "stderr",
     "output_type": "stream",
     "text": [
      "分析棋局:  62%|██████▏   | 1042/1686 [2:48:28<3:20:52, 18.72s/it]"
     ]
    },
    {
     "name": "stdout",
     "output_type": "stream",
     "text": [
      "\n",
      "—— Analyzing Game 1079 ——\n",
      "White: BjarkeSahl (2133), Black: facu57 (2055)\n"
     ]
    },
    {
     "name": "stderr",
     "output_type": "stream",
     "text": [
      "分析棋局:  62%|██████▏   | 1043/1686 [2:48:35<2:42:22, 15.15s/it]"
     ]
    },
    {
     "name": "stdout",
     "output_type": "stream",
     "text": [
      "\n",
      "—— Analyzing Game 1080 ——\n",
      "White: lukas_111111 (2129), Black: Kacparov (2430)\n"
     ]
    },
    {
     "name": "stderr",
     "output_type": "stream",
     "text": [
      "分析棋局:  62%|██████▏   | 1044/1686 [2:48:44<2:21:55, 13.26s/it]"
     ]
    },
    {
     "name": "stdout",
     "output_type": "stream",
     "text": [
      "\n",
      "—— Analyzing Game 1081 ——\n",
      "White: Zlatan56 (2478), Black: GeorgMeier (2664)\n"
     ]
    },
    {
     "name": "stderr",
     "output_type": "stream",
     "text": [
      "分析棋局:  62%|██████▏   | 1045/1686 [2:48:50<1:59:22, 11.17s/it]"
     ]
    },
    {
     "name": "stdout",
     "output_type": "stream",
     "text": [
      "\n",
      "—— Analyzing Game 1082 ——\n",
      "White: GedoGluperd (2238), Black: FabianEnglert (2228)\n"
     ]
    },
    {
     "name": "stderr",
     "output_type": "stream",
     "text": [
      "分析棋局:  62%|██████▏   | 1046/1686 [2:49:00<1:53:02, 10.60s/it]"
     ]
    },
    {
     "name": "stdout",
     "output_type": "stream",
     "text": [
      "\n",
      "—— Analyzing Game 1083 ——\n",
      "White: FrankieJay (2210), Black: AlexanderL (2507)\n"
     ]
    },
    {
     "name": "stderr",
     "output_type": "stream",
     "text": [
      "分析棋局:  62%|██████▏   | 1047/1686 [2:49:07<1:44:19,  9.80s/it]"
     ]
    },
    {
     "name": "stdout",
     "output_type": "stream",
     "text": [
      "\n",
      "—— Analyzing Game 1084 ——\n",
      "White: HansCoolNiemann (1841), Black: destroyer305 (2133)\n"
     ]
    },
    {
     "name": "stderr",
     "output_type": "stream",
     "text": [
      "分析棋局:  62%|██████▏   | 1048/1686 [2:49:21<1:55:07, 10.83s/it]"
     ]
    },
    {
     "name": "stdout",
     "output_type": "stream",
     "text": [
      "\n",
      "—— Analyzing Game 1085 ——\n",
      "White: SuPeR_Fm (2326), Black: Imre91 (2564)\n"
     ]
    },
    {
     "name": "stderr",
     "output_type": "stream",
     "text": [
      "分析棋局:  62%|██████▏   | 1049/1686 [2:49:31<1:52:31, 10.60s/it]"
     ]
    },
    {
     "name": "stdout",
     "output_type": "stream",
     "text": [
      "\n",
      "—— Analyzing Game 1086 ——\n",
      "White: Konavets (2379), Black: exoticprincess (2787)\n"
     ]
    },
    {
     "name": "stderr",
     "output_type": "stream",
     "text": [
      "分析棋局:  62%|██████▏   | 1050/1686 [2:49:43<1:56:34, 11.00s/it]"
     ]
    },
    {
     "name": "stdout",
     "output_type": "stream",
     "text": [
      "\n",
      "—— Analyzing Game 1087 ——\n",
      "White: CraiggoryC (1978), Black: GasconJR (2262)\n"
     ]
    },
    {
     "name": "stderr",
     "output_type": "stream",
     "text": [
      "分析棋局:  62%|██████▏   | 1051/1686 [2:49:52<1:50:09, 10.41s/it]"
     ]
    },
    {
     "name": "stdout",
     "output_type": "stream",
     "text": [
      "\n",
      "—— Analyzing Game 1088 ——\n",
      "White: 1random (2019), Black: pedromartinez91 (2124)\n"
     ]
    },
    {
     "name": "stderr",
     "output_type": "stream",
     "text": [
      "分析棋局:  62%|██████▏   | 1052/1686 [2:50:04<1:55:37, 10.94s/it]"
     ]
    },
    {
     "name": "stdout",
     "output_type": "stream",
     "text": [
      "\n",
      "—— Analyzing Game 1089 ——\n",
      "White: ViennaRocket (2193), Black: Carolina-moon (1923)\n"
     ]
    },
    {
     "name": "stderr",
     "output_type": "stream",
     "text": [
      "分析棋局:  62%|██████▏   | 1053/1686 [2:50:11<1:43:46,  9.84s/it]"
     ]
    },
    {
     "name": "stdout",
     "output_type": "stream",
     "text": [
      "\n",
      "—— Analyzing Game 1090 ——\n",
      "White: xtremeungar (2268), Black: ChessTrener (2472)\n"
     ]
    },
    {
     "name": "stderr",
     "output_type": "stream",
     "text": [
      "分析棋局:  63%|██████▎   | 1054/1686 [2:50:24<1:53:57, 10.82s/it]"
     ]
    },
    {
     "name": "stdout",
     "output_type": "stream",
     "text": [
      "\n",
      "—— Analyzing Game 1091 ——\n",
      "White: raskolnnikov (2285), Black: mokerslag (2358)\n"
     ]
    },
    {
     "name": "stderr",
     "output_type": "stream",
     "text": [
      "分析棋局:  63%|██████▎   | 1055/1686 [2:50:33<1:45:44, 10.05s/it]"
     ]
    },
    {
     "name": "stdout",
     "output_type": "stream",
     "text": [
      "\n",
      "—— Analyzing Game 1092 ——\n",
      "White: oggy1984 (2203), Black: wonderfultime (2552)\n"
     ]
    },
    {
     "name": "stderr",
     "output_type": "stream",
     "text": [
      "分析棋局:  63%|██████▎   | 1056/1686 [2:50:43<1:45:40, 10.06s/it]"
     ]
    },
    {
     "name": "stdout",
     "output_type": "stream",
     "text": [
      "\n",
      "—— Analyzing Game 1093 ——\n",
      "White: Chesseducation4u (2228), Black: 9ShMat2 (2444)\n"
     ]
    },
    {
     "name": "stderr",
     "output_type": "stream",
     "text": [
      "分析棋局:  63%|██████▎   | 1057/1686 [2:50:54<1:49:54, 10.48s/it]"
     ]
    },
    {
     "name": "stdout",
     "output_type": "stream",
     "text": [
      "\n",
      "—— Analyzing Game 1094 ——\n",
      "White: gumersindo (2113), Black: monika84 (2043)\n"
     ]
    },
    {
     "name": "stderr",
     "output_type": "stream",
     "text": [
      "分析棋局:  63%|██████▎   | 1058/1686 [2:51:05<1:49:50, 10.49s/it]"
     ]
    },
    {
     "name": "stdout",
     "output_type": "stream",
     "text": [
      "\n",
      "—— Analyzing Game 1095 ——\n",
      "White: Colombiano07 (2012), Black: Tomsel (2282)\n"
     ]
    },
    {
     "name": "stderr",
     "output_type": "stream",
     "text": [
      "分析棋局:  63%|██████▎   | 1059/1686 [2:51:17<1:56:48, 11.18s/it]"
     ]
    },
    {
     "name": "stdout",
     "output_type": "stream",
     "text": [
      "\n",
      "—— Analyzing Game 1096 ——\n",
      "White: jup1978 (2150), Black: rhungaski (2434)\n"
     ]
    },
    {
     "name": "stderr",
     "output_type": "stream",
     "text": [
      "分析棋局:  63%|██████▎   | 1060/1686 [2:51:29<1:58:06, 11.32s/it]"
     ]
    },
    {
     "name": "stdout",
     "output_type": "stream",
     "text": [
      "\n",
      "—— Analyzing Game 1097 ——\n",
      "White: AUSSIE_PINOY (2363), Black: DanielNaroditsky (2593)\n"
     ]
    },
    {
     "name": "stderr",
     "output_type": "stream",
     "text": [
      "分析棋局:  63%|██████▎   | 1061/1686 [2:51:38<1:51:05, 10.67s/it]"
     ]
    },
    {
     "name": "stdout",
     "output_type": "stream",
     "text": [
      "\n",
      "—— Analyzing Game 1098 ——\n",
      "White: gmjlh (2493), Black: LyonBeast (2766)\n"
     ]
    },
    {
     "name": "stderr",
     "output_type": "stream",
     "text": [
      "分析棋局:  63%|██████▎   | 1062/1686 [2:51:48<1:47:47, 10.36s/it]"
     ]
    },
    {
     "name": "stdout",
     "output_type": "stream",
     "text": [
      "\n",
      "—— Analyzing Game 1099 ——\n",
      "White: GulamaliRises (2320), Black: Tilicheev_Viacheslav (2544)\n"
     ]
    },
    {
     "name": "stderr",
     "output_type": "stream",
     "text": [
      "分析棋局:  63%|██████▎   | 1063/1686 [2:52:01<1:55:59, 11.17s/it]"
     ]
    },
    {
     "name": "stdout",
     "output_type": "stream",
     "text": [
      "\n",
      "—— Analyzing Game 1100 ——\n",
      "White: Schemato (2040), Black: DoctorMove (1757)\n"
     ]
    },
    {
     "name": "stderr",
     "output_type": "stream",
     "text": [
      "分析棋局:  63%|██████▎   | 1064/1686 [2:52:14<2:00:33, 11.63s/it]"
     ]
    },
    {
     "name": "stdout",
     "output_type": "stream",
     "text": [
      "\n",
      "—— Analyzing Game 1101 ——\n",
      "White: ilmago (1913), Black: juniortay (2202)\n"
     ]
    },
    {
     "name": "stderr",
     "output_type": "stream",
     "text": [
      "分析棋局:  63%|██████▎   | 1065/1686 [2:52:25<2:00:21, 11.63s/it]"
     ]
    },
    {
     "name": "stdout",
     "output_type": "stream",
     "text": [
      "\n",
      "—— Analyzing Game 1102 ——\n",
      "White: kinetix (1351), Black: alturas_pacificas (2080)\n"
     ]
    },
    {
     "name": "stderr",
     "output_type": "stream",
     "text": [
      "分析棋局:  63%|██████▎   | 1066/1686 [2:52:37<1:59:45, 11.59s/it]"
     ]
    },
    {
     "name": "stdout",
     "output_type": "stream",
     "text": [
      "\n",
      "—— Analyzing Game 1103 ——\n",
      "White: lorcho (2370), Black: VerdeNotte (2564)\n"
     ]
    },
    {
     "name": "stderr",
     "output_type": "stream",
     "text": [
      "分析棋局:  63%|██████▎   | 1067/1686 [2:52:48<1:57:08, 11.35s/it]"
     ]
    },
    {
     "name": "stdout",
     "output_type": "stream",
     "text": [
      "\n",
      "—— Analyzing Game 1104 ——\n",
      "White: petrpalachev (2398), Black: EltajSafarli (2607)\n"
     ]
    },
    {
     "name": "stderr",
     "output_type": "stream",
     "text": [
      "分析棋局:  63%|██████▎   | 1068/1686 [2:52:59<1:56:26, 11.31s/it]"
     ]
    },
    {
     "name": "stdout",
     "output_type": "stream",
     "text": [
      "\n",
      "—— Analyzing Game 1105 ——\n",
      "White: stepanosinovsky (2241), Black: pKiLz5Rn9b (2250)\n"
     ]
    },
    {
     "name": "stderr",
     "output_type": "stream",
     "text": [
      "分析棋局:  63%|██████▎   | 1069/1686 [2:53:13<2:06:39, 12.32s/it]"
     ]
    },
    {
     "name": "stdout",
     "output_type": "stream",
     "text": [
      "\n",
      "—— Analyzing Game 1106 ——\n",
      "White: chito89 (2597), Black: Nouki (2648)\n"
     ]
    },
    {
     "name": "stderr",
     "output_type": "stream",
     "text": [
      "分析棋局:  63%|██████▎   | 1070/1686 [2:53:26<2:08:44, 12.54s/it]"
     ]
    },
    {
     "name": "stdout",
     "output_type": "stream",
     "text": [
      "\n",
      "—— Analyzing Game 1107 ——\n",
      "White: Danirod (2357), Black: 190l (1980)\n"
     ]
    },
    {
     "name": "stderr",
     "output_type": "stream",
     "text": [
      "分析棋局:  64%|██████▎   | 1071/1686 [2:53:37<2:02:42, 11.97s/it]"
     ]
    },
    {
     "name": "stdout",
     "output_type": "stream",
     "text": [
      "\n",
      "—— Analyzing Game 1108 ——\n",
      "White: MinhGTrAn (2455), Black: Gevorg_Harutjunyan (2525)\n"
     ]
    },
    {
     "name": "stderr",
     "output_type": "stream",
     "text": [
      "分析棋局:  64%|██████▎   | 1072/1686 [2:53:53<2:13:32, 13.05s/it]"
     ]
    },
    {
     "name": "stdout",
     "output_type": "stream",
     "text": [
      "\n",
      "—— Analyzing Game 1109 ——\n",
      "White: Aragon (2036), Black: BeerLag (2399)\n"
     ]
    },
    {
     "name": "stderr",
     "output_type": "stream",
     "text": [
      "分析棋局:  64%|██████▎   | 1073/1686 [2:54:06<2:13:04, 13.02s/it]"
     ]
    },
    {
     "name": "stdout",
     "output_type": "stream",
     "text": [
      "\n",
      "—— Analyzing Game 1110 ——\n",
      "White: Inopov (2463), Black: GMNeiksans (2527)\n"
     ]
    },
    {
     "name": "stderr",
     "output_type": "stream",
     "text": [
      "分析棋局:  64%|██████▎   | 1074/1686 [2:54:19<2:13:06, 13.05s/it]"
     ]
    },
    {
     "name": "stdout",
     "output_type": "stream",
     "text": [
      "\n",
      "—— Analyzing Game 1111 ——\n",
      "White: bsmail (2092), Black: Rijeka1999 (2257)\n"
     ]
    },
    {
     "name": "stderr",
     "output_type": "stream",
     "text": [
      "分析棋局:  64%|██████▍   | 1075/1686 [2:54:34<2:18:18, 13.58s/it]"
     ]
    },
    {
     "name": "stdout",
     "output_type": "stream",
     "text": [
      "\n",
      "—— Analyzing Game 1112 ——\n",
      "White: Hafez_Bakr (1832), Black: Argente (2194)\n"
     ]
    },
    {
     "name": "stderr",
     "output_type": "stream",
     "text": [
      "分析棋局:  64%|██████▍   | 1076/1686 [2:54:48<2:19:27, 13.72s/it]"
     ]
    },
    {
     "name": "stdout",
     "output_type": "stream",
     "text": [
      "\n",
      "—— Analyzing Game 1113 ——\n",
      "White: bugsbunny444 (2351), Black: Zvonokchess (2487)\n"
     ]
    },
    {
     "name": "stderr",
     "output_type": "stream",
     "text": [
      "分析棋局:  64%|██████▍   | 1077/1686 [2:55:03<2:25:50, 14.37s/it]"
     ]
    },
    {
     "name": "stdout",
     "output_type": "stream",
     "text": [
      "\n",
      "—— Analyzing Game 1114 ——\n",
      "White: guillead1 (2259), Black: FlySooHigh (2340)\n"
     ]
    },
    {
     "name": "stderr",
     "output_type": "stream",
     "text": [
      "分析棋局:  64%|██████▍   | 1078/1686 [2:55:20<2:31:26, 14.95s/it]"
     ]
    },
    {
     "name": "stdout",
     "output_type": "stream",
     "text": [
      "\n",
      "—— Analyzing Game 1115 ——\n",
      "White: AkshatChandra (2428), Black: tac49 (2389)\n"
     ]
    },
    {
     "name": "stderr",
     "output_type": "stream",
     "text": [
      "分析棋局:  64%|██████▍   | 1079/1686 [2:55:36<2:34:17, 15.25s/it]"
     ]
    },
    {
     "name": "stdout",
     "output_type": "stream",
     "text": [
      "\n",
      "—— Analyzing Game 1116 ——\n",
      "White: MattyDPerrine (2054), Black: manitodeplomo (2341)\n"
     ]
    },
    {
     "name": "stderr",
     "output_type": "stream",
     "text": [
      "分析棋局:  64%|██████▍   | 1080/1686 [2:55:52<2:36:28, 15.49s/it]"
     ]
    },
    {
     "name": "stdout",
     "output_type": "stream",
     "text": [
      "\n",
      "—— Analyzing Game 1117 ——\n",
      "White: 1stSecond (2337), Black: jcibarra (2479)\n"
     ]
    },
    {
     "name": "stderr",
     "output_type": "stream",
     "text": [
      "分析棋局:  64%|██████▍   | 1081/1686 [2:56:08<2:38:32, 15.72s/it]"
     ]
    },
    {
     "name": "stdout",
     "output_type": "stream",
     "text": [
      "\n",
      "—— Analyzing Game 1118 ——\n",
      "White: kesarev (2258), Black: Ar4uha (2452)\n"
     ]
    },
    {
     "name": "stderr",
     "output_type": "stream",
     "text": [
      "分析棋局:  64%|██████▍   | 1082/1686 [2:56:25<2:42:36, 16.15s/it]"
     ]
    },
    {
     "name": "stdout",
     "output_type": "stream",
     "text": [
      "\n",
      "—— Analyzing Game 1119 ——\n",
      "White: LADIESGET2KNOWME (2303), Black: LuckyTiger (2458)\n"
     ]
    },
    {
     "name": "stderr",
     "output_type": "stream",
     "text": [
      "分析棋局:  64%|██████▍   | 1083/1686 [2:56:41<2:40:08, 15.93s/it]"
     ]
    },
    {
     "name": "stdout",
     "output_type": "stream",
     "text": [
      "\n",
      "—— Analyzing Game 1120 ——\n",
      "White: igorkovalenko (2436), Black: IMRosen (2076)\n"
     ]
    },
    {
     "name": "stderr",
     "output_type": "stream",
     "text": [
      "分析棋局:  64%|██████▍   | 1084/1686 [2:57:02<2:57:09, 17.66s/it]"
     ]
    },
    {
     "name": "stdout",
     "output_type": "stream",
     "text": [
      "\n",
      "—— Analyzing Game 1121 ——\n",
      "White: AndreyOstrovskiy (2338), Black: AnthonyWirig (2543)\n"
     ]
    },
    {
     "name": "stderr",
     "output_type": "stream",
     "text": [
      "分析棋局:  64%|██████▍   | 1085/1686 [2:57:21<3:00:03, 17.98s/it]"
     ]
    },
    {
     "name": "stdout",
     "output_type": "stream",
     "text": [
      "\n",
      "—— Analyzing Game 1122 ——\n",
      "White: tigrangharamian (2505), Black: GMHess (2500)\n"
     ]
    },
    {
     "name": "stderr",
     "output_type": "stream",
     "text": [
      "分析棋局:  64%|██████▍   | 1086/1686 [2:57:33<2:40:25, 16.04s/it]"
     ]
    },
    {
     "name": "stdout",
     "output_type": "stream",
     "text": [
      "\n",
      "—— Analyzing Game 1123 ——\n",
      "White: Cryptochess (2391), Black: PauloCesarCosta (2055)\n"
     ]
    },
    {
     "name": "stderr",
     "output_type": "stream",
     "text": [
      "分析棋局:  64%|██████▍   | 1087/1686 [2:57:48<2:39:47, 16.01s/it]"
     ]
    },
    {
     "name": "stdout",
     "output_type": "stream",
     "text": [
      "\n",
      "—— Analyzing Game 1124 ——\n",
      "White: megarompa (2641), Black: Hikaru (2851)\n"
     ]
    },
    {
     "name": "stderr",
     "output_type": "stream",
     "text": [
      "分析棋局:  65%|██████▍   | 1088/1686 [2:58:12<3:01:18, 18.19s/it]"
     ]
    },
    {
     "name": "stdout",
     "output_type": "stream",
     "text": [
      "\n",
      "—— Analyzing Game 1125 ——\n",
      "White: gawk (2047), Black: iFrancisco (2284)\n"
     ]
    },
    {
     "name": "stderr",
     "output_type": "stream",
     "text": [
      "分析棋局:  65%|██████▍   | 1089/1686 [2:58:53<4:09:56, 25.12s/it]"
     ]
    },
    {
     "name": "stdout",
     "output_type": "stream",
     "text": [
      "\n",
      "—— Analyzing Game 1126 ——\n",
      "White: ViennaRocket (2184), Black: lukas_111111 (2138)\n"
     ]
    },
    {
     "name": "stderr",
     "output_type": "stream",
     "text": [
      "分析棋局:  65%|██████▍   | 1090/1686 [2:58:59<3:13:39, 19.49s/it]"
     ]
    },
    {
     "name": "stdout",
     "output_type": "stream",
     "text": [
      "\n",
      "—— Analyzing Game 1127 ——\n",
      "White: pedromartinez91 (2139), Black: Imre91 (2549)\n"
     ]
    },
    {
     "name": "stderr",
     "output_type": "stream",
     "text": [
      "分析棋局:  65%|██████▍   | 1091/1686 [2:59:05<2:32:41, 15.40s/it]"
     ]
    },
    {
     "name": "stdout",
     "output_type": "stream",
     "text": [
      "\n",
      "—— Analyzing Game 1128 ——\n",
      "White: Inopov (2452), Black: 1stSecond (2356)\n"
     ]
    },
    {
     "name": "stderr",
     "output_type": "stream",
     "text": [
      "分析棋局:  65%|██████▍   | 1092/1686 [2:59:13<2:10:13, 13.15s/it]"
     ]
    },
    {
     "name": "stdout",
     "output_type": "stream",
     "text": [
      "\n",
      "—— Analyzing Game 1129 ——\n",
      "White: 1random (2025), Black: ilmago (1902)\n"
     ]
    },
    {
     "name": "stderr",
     "output_type": "stream",
     "text": [
      "分析棋局:  65%|██████▍   | 1093/1686 [2:59:23<2:00:32, 12.20s/it]"
     ]
    },
    {
     "name": "stdout",
     "output_type": "stream",
     "text": [
      "\n",
      "—— Analyzing Game 1130 ——\n",
      "White: Zvonokchess (2491), Black: LADIESGET2KNOWME (2299)\n"
     ]
    },
    {
     "name": "stderr",
     "output_type": "stream",
     "text": [
      "分析棋局:  65%|██████▍   | 1094/1686 [2:59:29<1:40:15, 10.16s/it]"
     ]
    },
    {
     "name": "stdout",
     "output_type": "stream",
     "text": [
      "\n",
      "—— Analyzing Game 1131 ——\n",
      "White: Zlatan56 (2515), Black: raskolnnikov (2281)\n"
     ]
    },
    {
     "name": "stderr",
     "output_type": "stream",
     "text": [
      "分析棋局:  65%|██████▍   | 1095/1686 [2:59:36<1:31:18,  9.27s/it]"
     ]
    },
    {
     "name": "stdout",
     "output_type": "stream",
     "text": [
      "\n",
      "—— Analyzing Game 1132 ——\n",
      "White: gawk (2054), Black: Colombiano07 (2005)\n"
     ]
    },
    {
     "name": "stderr",
     "output_type": "stream",
     "text": [
      "分析棋局:  65%|██████▌   | 1096/1686 [2:59:47<1:37:12,  9.89s/it]"
     ]
    },
    {
     "name": "stdout",
     "output_type": "stream",
     "text": [
      "\n",
      "—— Analyzing Game 1133 ——\n",
      "White: exoticprincess (2806), Black: LyonBeast (2755)\n"
     ]
    },
    {
     "name": "stderr",
     "output_type": "stream",
     "text": [
      "分析棋局:  65%|██████▌   | 1097/1686 [2:59:58<1:39:20, 10.12s/it]"
     ]
    },
    {
     "name": "stdout",
     "output_type": "stream",
     "text": [
      "\n",
      "—— Analyzing Game 1134 ——\n",
      "White: Ar4uha (2447), Black: chito89 (2610)\n"
     ]
    },
    {
     "name": "stderr",
     "output_type": "stream",
     "text": [
      "分析棋局:  65%|██████▌   | 1098/1686 [3:00:07<1:35:52,  9.78s/it]"
     ]
    },
    {
     "name": "stdout",
     "output_type": "stream",
     "text": [
      "\n",
      "—— Analyzing Game 1135 ——\n",
      "White: Rijeka1999 (2261), Black: facu57 (2045)\n"
     ]
    },
    {
     "name": "stderr",
     "output_type": "stream",
     "text": [
      "分析棋局:  65%|██████▌   | 1099/1686 [3:00:22<1:51:11, 11.37s/it]"
     ]
    },
    {
     "name": "stdout",
     "output_type": "stream",
     "text": [
      "\n",
      "—— Analyzing Game 1136 ——\n",
      "White: petrpalachev (2402), Black: Argente (2188)\n"
     ]
    },
    {
     "name": "stderr",
     "output_type": "stream",
     "text": [
      "分析棋局:  65%|██████▌   | 1100/1686 [3:00:38<2:04:20, 12.73s/it]"
     ]
    },
    {
     "name": "stdout",
     "output_type": "stream",
     "text": [
      "\n",
      "—— Analyzing Game 1137 ——\n",
      "White: Kacparov (2436), Black: FlySooHigh (2334)\n"
     ]
    },
    {
     "name": "stderr",
     "output_type": "stream",
     "text": [
      "分析棋局:  65%|██████▌   | 1101/1686 [3:00:50<2:04:09, 12.73s/it]"
     ]
    },
    {
     "name": "stdout",
     "output_type": "stream",
     "text": [
      "\n",
      "—— Analyzing Game 1138 ——\n",
      "White: megarompa (2645), Black: GasconJR (2260)\n"
     ]
    },
    {
     "name": "stderr",
     "output_type": "stream",
     "text": [
      "分析棋局:  65%|██████▌   | 1102/1686 [3:01:06<2:12:50, 13.65s/it]"
     ]
    },
    {
     "name": "stdout",
     "output_type": "stream",
     "text": [
      "\n",
      "—— Analyzing Game 1139 ——\n",
      "White: AlexanderL (2510), Black: kesarev (2255)\n"
     ]
    },
    {
     "name": "stderr",
     "output_type": "stream",
     "text": [
      "分析棋局:  65%|██████▌   | 1103/1686 [3:01:16<2:00:21, 12.39s/it]"
     ]
    },
    {
     "name": "stdout",
     "output_type": "stream",
     "text": [
      "\n",
      "—— Analyzing Game 1140 ——\n",
      "White: GulamaliRises (2323), Black: monika84 (2040)\n"
     ]
    },
    {
     "name": "stderr",
     "output_type": "stream",
     "text": [
      "分析棋局:  65%|██████▌   | 1104/1686 [3:01:28<2:01:02, 12.48s/it]"
     ]
    },
    {
     "name": "stdout",
     "output_type": "stream",
     "text": [
      "\n",
      "—— Analyzing Game 1141 ——\n",
      "White: BjarkeSahl (2131), Black: ChessTrener (2474)\n"
     ]
    },
    {
     "name": "stderr",
     "output_type": "stream",
     "text": [
      "分析棋局:  66%|██████▌   | 1105/1686 [3:01:39<1:55:37, 11.94s/it]"
     ]
    },
    {
     "name": "stdout",
     "output_type": "stream",
     "text": [
      "\n",
      "—— Analyzing Game 1142 ——\n",
      "White: tac49 (2396), Black: manitodeplomo (2328)\n"
     ]
    },
    {
     "name": "stderr",
     "output_type": "stream",
     "text": [
      "分析棋局:  66%|██████▌   | 1106/1686 [3:01:48<1:46:41, 11.04s/it]"
     ]
    },
    {
     "name": "stdout",
     "output_type": "stream",
     "text": [
      "\n",
      "—— Analyzing Game 1143 ——\n",
      "White: Konavets (2378), Black: bugsbunny444 (2352)\n"
     ]
    },
    {
     "name": "stderr",
     "output_type": "stream",
     "text": [
      "分析棋局:  66%|██████▌   | 1107/1686 [3:02:01<1:51:54, 11.60s/it]"
     ]
    },
    {
     "name": "stdout",
     "output_type": "stream",
     "text": [
      "\n",
      "—— Analyzing Game 1144 ——\n",
      "White: LuckyTiger (2471), Black: guillead1 (2255)\n"
     ]
    },
    {
     "name": "stderr",
     "output_type": "stream",
     "text": [
      "分析棋局:  66%|██████▌   | 1108/1686 [3:02:17<2:04:51, 12.96s/it]"
     ]
    },
    {
     "name": "stdout",
     "output_type": "stream",
     "text": [
      "\n",
      "—— Analyzing Game 1145 ——\n",
      "White: Danirod (2362), Black: stepanosinovsky (2236)\n"
     ]
    },
    {
     "name": "stderr",
     "output_type": "stream",
     "text": [
      "分析棋局:  66%|██████▌   | 1109/1686 [3:02:28<1:57:34, 12.23s/it]"
     ]
    },
    {
     "name": "stdout",
     "output_type": "stream",
     "text": [
      "\n",
      "—— Analyzing Game 1146 ——\n",
      "White: destroyer305 (2123), Black: PauloCesarCosta (2065)\n"
     ]
    },
    {
     "name": "stderr",
     "output_type": "stream",
     "text": [
      "分析棋局:  66%|██████▌   | 1110/1686 [3:02:40<1:57:09, 12.20s/it]"
     ]
    },
    {
     "name": "stdout",
     "output_type": "stream",
     "text": [
      "\n",
      "—— Analyzing Game 1147 ——\n",
      "White: alturas_pacificas (2071), Black: Aragon (2045)\n"
     ]
    },
    {
     "name": "stderr",
     "output_type": "stream",
     "text": [
      "分析棋局:  66%|██████▌   | 1111/1686 [3:02:55<2:06:38, 13.21s/it]"
     ]
    },
    {
     "name": "stdout",
     "output_type": "stream",
     "text": [
      "\n",
      "—— Analyzing Game 1148 ——\n",
      "White: HansCoolNiemann (1824), Black: kinetix (1599)\n"
     ]
    },
    {
     "name": "stderr",
     "output_type": "stream",
     "text": [
      "分析棋局:  66%|██████▌   | 1112/1686 [3:03:06<2:00:07, 12.56s/it]"
     ]
    },
    {
     "name": "stdout",
     "output_type": "stream",
     "text": [
      "\n",
      "—— Analyzing Game 1149 ——\n",
      "White: AnthonyWirig (2550), Black: Cryptochess (2386)\n"
     ]
    },
    {
     "name": "stderr",
     "output_type": "stream",
     "text": [
      "分析棋局:  66%|██████▌   | 1113/1686 [3:03:15<1:49:11, 11.43s/it]"
     ]
    },
    {
     "name": "stdout",
     "output_type": "stream",
     "text": [
      "\n",
      "—— Analyzing Game 1150 ——\n",
      "White: wonderfultime (2554), Black: pKiLz5Rn9b (2248)\n"
     ]
    },
    {
     "name": "stderr",
     "output_type": "stream",
     "text": [
      "分析棋局:  66%|██████▌   | 1114/1686 [3:03:30<1:59:30, 12.54s/it]"
     ]
    },
    {
     "name": "stdout",
     "output_type": "stream",
     "text": [
      "\n",
      "—— Analyzing Game 1151 ——\n",
      "White: GeorgMeier (2668), Black: GMHess (2496)\n"
     ]
    },
    {
     "name": "stderr",
     "output_type": "stream",
     "text": [
      "分析棋局:  66%|██████▌   | 1115/1686 [3:03:41<1:53:26, 11.92s/it]"
     ]
    },
    {
     "name": "stdout",
     "output_type": "stream",
     "text": [
      "\n",
      "—— Analyzing Game 1152 ——\n",
      "White: DoctorMove (1767), Black: Hafez_Bakr (1822)\n"
     ]
    },
    {
     "name": "stderr",
     "output_type": "stream",
     "text": [
      "分析棋局:  66%|██████▌   | 1116/1686 [3:03:54<1:58:24, 12.46s/it]"
     ]
    },
    {
     "name": "stdout",
     "output_type": "stream",
     "text": [
      "\n",
      "—— Analyzing Game 1153 ——\n",
      "White: Nouki (2655), Black: Gevorg_Harutjunyan (2520)\n"
     ]
    },
    {
     "name": "stderr",
     "output_type": "stream",
     "text": [
      "分析棋局:  66%|██████▋   | 1117/1686 [3:04:07<1:57:43, 12.41s/it]"
     ]
    },
    {
     "name": "stdout",
     "output_type": "stream",
     "text": [
      "\n",
      "—— Analyzing Game 1154 ——\n",
      "White: AkshatChandra (2440), Black: IMRosen (2073)\n"
     ]
    },
    {
     "name": "stderr",
     "output_type": "stream",
     "text": [
      "分析棋局:  66%|██████▋   | 1118/1686 [3:04:15<1:47:09, 11.32s/it]"
     ]
    },
    {
     "name": "stdout",
     "output_type": "stream",
     "text": [
      "\n",
      "—— Analyzing Game 1155 ——\n",
      "White: igorkovalenko (2446), Black: Chesseducation4u (2224)\n"
     ]
    },
    {
     "name": "stderr",
     "output_type": "stream",
     "text": [
      "分析棋局:  66%|██████▋   | 1119/1686 [3:04:27<1:47:52, 11.42s/it]"
     ]
    },
    {
     "name": "stdout",
     "output_type": "stream",
     "text": [
      "\n",
      "—— Analyzing Game 1156 ——\n",
      "White: MinhGTrAn (2459), Black: GedoGluperd (2234)\n"
     ]
    },
    {
     "name": "stderr",
     "output_type": "stream",
     "text": [
      "分析棋局:  66%|██████▋   | 1120/1686 [3:04:39<1:47:47, 11.43s/it]"
     ]
    },
    {
     "name": "stdout",
     "output_type": "stream",
     "text": [
      "\n",
      "—— Analyzing Game 1157 ——\n",
      "White: jup1978 (2148), Black: MattyDPerrine (2056)\n"
     ]
    },
    {
     "name": "stderr",
     "output_type": "stream",
     "text": [
      "分析棋局:  66%|██████▋   | 1121/1686 [3:04:50<1:47:05, 11.37s/it]"
     ]
    },
    {
     "name": "stdout",
     "output_type": "stream",
     "text": [
      "\n",
      "—— Analyzing Game 1158 ——\n",
      "White: VerdeNotte (2516), Black: tigrangharamian (2532)\n"
     ]
    },
    {
     "name": "stderr",
     "output_type": "stream",
     "text": [
      "分析棋局:  67%|██████▋   | 1122/1686 [3:05:03<1:51:41, 11.88s/it]"
     ]
    },
    {
     "name": "stdout",
     "output_type": "stream",
     "text": [
      "\n",
      "—— Analyzing Game 1159 ——\n",
      "White: Tilicheev_Viacheslav (2548), Black: AndreyOstrovskiy (2334)\n"
     ]
    },
    {
     "name": "stderr",
     "output_type": "stream",
     "text": [
      "分析棋局:  67%|██████▋   | 1123/1686 [3:05:16<1:54:06, 12.16s/it]"
     ]
    },
    {
     "name": "stdout",
     "output_type": "stream",
     "text": [
      "\n",
      "—— Analyzing Game 1160 ——\n",
      "White: gmjlh (2495), Black: 190l (1979)\n"
     ]
    },
    {
     "name": "stderr",
     "output_type": "stream",
     "text": [
      "分析棋局:  67%|██████▋   | 1124/1686 [3:05:33<2:09:32, 13.83s/it]"
     ]
    },
    {
     "name": "stdout",
     "output_type": "stream",
     "text": [
      "\n",
      "—— Analyzing Game 1161 ——\n",
      "White: jcibarra (2489), Black: BeerLag (2393)\n"
     ]
    },
    {
     "name": "stderr",
     "output_type": "stream",
     "text": [
      "分析棋局:  67%|██████▋   | 1125/1686 [3:05:53<2:25:56, 15.61s/it]"
     ]
    },
    {
     "name": "stdout",
     "output_type": "stream",
     "text": [
      "\n",
      "—— Analyzing Game 1162 ——\n",
      "White: juniortay (2206), Black: CraiggoryC (1975)\n"
     ]
    },
    {
     "name": "stderr",
     "output_type": "stream",
     "text": [
      "分析棋局:  67%|██████▋   | 1126/1686 [3:06:13<2:38:53, 17.02s/it]"
     ]
    },
    {
     "name": "stdout",
     "output_type": "stream",
     "text": [
      "\n",
      "—— Analyzing Game 1163 ——\n",
      "White: FytNob (1852), Black: oggy1984 (2205)\n"
     ]
    },
    {
     "name": "stderr",
     "output_type": "stream",
     "text": [
      "分析棋局:  67%|██████▋   | 1127/1686 [3:06:32<2:43:14, 17.52s/it]"
     ]
    },
    {
     "name": "stdout",
     "output_type": "stream",
     "text": [
      "\n",
      "—— Analyzing Game 1164 ——\n",
      "White: bsmail (2096), Black: Carolina-moon (1919)\n"
     ]
    },
    {
     "name": "stderr",
     "output_type": "stream",
     "text": [
      "分析棋局:  67%|██████▋   | 1128/1686 [3:06:49<2:40:36, 17.27s/it]"
     ]
    },
    {
     "name": "stdout",
     "output_type": "stream",
     "text": [
      "\n",
      "—— Analyzing Game 1165 ——\n",
      "White: AUSSIE_PINOY (2361), Black: xtremeungar (2276)\n"
     ]
    },
    {
     "name": "stderr",
     "output_type": "stream",
     "text": [
      "分析棋局:  67%|██████▋   | 1129/1686 [3:07:08<2:46:42, 17.96s/it]"
     ]
    },
    {
     "name": "stdout",
     "output_type": "stream",
     "text": [
      "\n",
      "—— Analyzing Game 1166 ——\n",
      "White: DanielNaroditsky (2547), Black: rhungaski (2445)\n"
     ]
    },
    {
     "name": "stderr",
     "output_type": "stream",
     "text": [
      "分析棋局:  67%|██████▋   | 1130/1686 [3:07:29<2:54:49, 18.87s/it]"
     ]
    },
    {
     "name": "stdout",
     "output_type": "stream",
     "text": [
      "\n",
      "—— Analyzing Game 1167 ——\n",
      "White: Hikaru (2853), Black: GMNeiksans (2522)\n"
     ]
    },
    {
     "name": "stderr",
     "output_type": "stream",
     "text": [
      "分析棋局:  67%|██████▋   | 1131/1686 [3:07:48<2:53:03, 18.71s/it]"
     ]
    },
    {
     "name": "stdout",
     "output_type": "stream",
     "text": [
      "\n",
      "—— Analyzing Game 1168 ——\n",
      "White: Tomsel (2269), Black: Schemato (2053)\n"
     ]
    },
    {
     "name": "stderr",
     "output_type": "stream",
     "text": [
      "分析棋局:  67%|██████▋   | 1132/1686 [3:08:08<2:57:40, 19.24s/it]"
     ]
    },
    {
     "name": "stdout",
     "output_type": "stream",
     "text": [
      "\n",
      "—— Analyzing Game 1169 ——\n",
      "White: EltajSafarli (2616), Black: 9ShMat2 (2439)\n"
     ]
    },
    {
     "name": "stderr",
     "output_type": "stream",
     "text": [
      "分析棋局:  67%|██████▋   | 1133/1686 [3:08:38<3:25:24, 22.29s/it]"
     ]
    },
    {
     "name": "stdout",
     "output_type": "stream",
     "text": [
      "\n",
      "—— Analyzing Game 1170 ——\n",
      "White: iFrancisco (2283), Black: FabianEnglert (2229)\n"
     ]
    },
    {
     "name": "stderr",
     "output_type": "stream",
     "text": [
      "分析棋局:  67%|██████▋   | 1134/1686 [3:09:08<3:46:03, 24.57s/it]"
     ]
    },
    {
     "name": "stdout",
     "output_type": "stream",
     "text": [
      "\n",
      "—— Analyzing Game 1171 ——\n",
      "White: gumersindo (2117), Black: SuPeR_Fm (2318)\n"
     ]
    },
    {
     "name": "stderr",
     "output_type": "stream",
     "text": [
      "分析棋局:  67%|██████▋   | 1135/1686 [3:09:34<3:50:24, 25.09s/it]"
     ]
    },
    {
     "name": "stdout",
     "output_type": "stream",
     "text": [
      "\n",
      "—— Analyzing Game 1172 ——\n",
      "White: ilmago (1895), Black: destroyer305 (2127)\n"
     ]
    },
    {
     "name": "stderr",
     "output_type": "stream",
     "text": [
      "分析棋局:  67%|██████▋   | 1136/1686 [3:09:39<2:54:00, 18.98s/it]"
     ]
    },
    {
     "name": "stdout",
     "output_type": "stream",
     "text": [
      "\n",
      "—— Analyzing Game 1173 ——\n",
      "White: LyonBeast (2769), Black: Hikaru (2843)\n"
     ]
    },
    {
     "name": "stderr",
     "output_type": "stream",
     "text": [
      "分析棋局:  67%|██████▋   | 1137/1686 [3:09:43<2:13:42, 14.61s/it]"
     ]
    },
    {
     "name": "stdout",
     "output_type": "stream",
     "text": [
      "\n",
      "—— Analyzing Game 1174 ——\n",
      "White: 1stSecond (2371), Black: Konavets (2360)\n"
     ]
    },
    {
     "name": "stderr",
     "output_type": "stream",
     "text": [
      "分析棋局:  67%|██████▋   | 1138/1686 [3:09:48<1:46:47, 11.69s/it]"
     ]
    },
    {
     "name": "stdout",
     "output_type": "stream",
     "text": [
      "\n",
      "—— Analyzing Game 1175 ——\n",
      "White: raskolnnikov (2276), Black: Kacparov (2441)\n"
     ]
    },
    {
     "name": "stderr",
     "output_type": "stream",
     "text": [
      "分析棋局:  68%|██████▊   | 1139/1686 [3:09:56<1:36:33, 10.59s/it]"
     ]
    },
    {
     "name": "stdout",
     "output_type": "stream",
     "text": [
      "\n",
      "—— Analyzing Game 1176 ——\n",
      "White: Argente (2203), Black: iFrancisco (2273)\n"
     ]
    },
    {
     "name": "stderr",
     "output_type": "stream",
     "text": [
      "分析棋局:  68%|██████▊   | 1140/1686 [3:10:04<1:28:34,  9.73s/it]"
     ]
    },
    {
     "name": "stdout",
     "output_type": "stream",
     "text": [
      "\n",
      "—— Analyzing Game 1177 ——\n",
      "White: lukas_111111 (2149), Black: Rijeka1999 (2250)\n"
     ]
    },
    {
     "name": "stderr",
     "output_type": "stream",
     "text": [
      "分析棋局:  68%|██████▊   | 1141/1686 [3:10:15<1:34:04, 10.36s/it]"
     ]
    },
    {
     "name": "stdout",
     "output_type": "stream",
     "text": [
      "\n",
      "—— Analyzing Game 1178 ——\n",
      "White: stepanosinovsky (2240), Black: gawk (2050)\n"
     ]
    },
    {
     "name": "stderr",
     "output_type": "stream",
     "text": [
      "分析棋局:  68%|██████▊   | 1142/1686 [3:10:24<1:27:56,  9.70s/it]"
     ]
    },
    {
     "name": "stdout",
     "output_type": "stream",
     "text": [
      "\n",
      "—— Analyzing Game 1179 ——\n",
      "White: PauloCesarCosta (2064), Black: megarompa (2646)\n"
     ]
    },
    {
     "name": "stderr",
     "output_type": "stream",
     "text": [
      "分析棋局:  68%|██████▊   | 1143/1686 [3:10:34<1:30:05,  9.96s/it]"
     ]
    },
    {
     "name": "stdout",
     "output_type": "stream",
     "text": [
      "\n",
      "—— Analyzing Game 1180 ——\n",
      "White: guillead1 (2256), Black: DoctorMove (1766)\n"
     ]
    },
    {
     "name": "stderr",
     "output_type": "stream",
     "text": [
      "分析棋局:  68%|██████▊   | 1144/1686 [3:10:41<1:21:43,  9.05s/it]"
     ]
    },
    {
     "name": "stdout",
     "output_type": "stream",
     "text": [
      "\n",
      "—— Analyzing Game 1181 ——\n",
      "White: Colombiano07 (2009), Black: Hafez_Bakr (1818)\n"
     ]
    },
    {
     "name": "stderr",
     "output_type": "stream",
     "text": [
      "分析棋局:  68%|██████▊   | 1145/1686 [3:10:48<1:15:30,  8.37s/it]"
     ]
    },
    {
     "name": "stdout",
     "output_type": "stream",
     "text": [
      "\n",
      "—— Analyzing Game 1182 ——\n",
      "White: pKiLz5Rn9b (2245), Black: LuckyTiger (2482)\n"
     ]
    },
    {
     "name": "stderr",
     "output_type": "stream",
     "text": [
      "分析棋局:  68%|██████▊   | 1146/1686 [3:10:59<1:21:34,  9.06s/it]"
     ]
    },
    {
     "name": "stdout",
     "output_type": "stream",
     "text": [
      "\n",
      "—— Analyzing Game 1183 ——\n",
      "White: Aragon (2044), Black: DanielNaroditsky (2551)\n"
     ]
    },
    {
     "name": "stderr",
     "output_type": "stream",
     "text": [
      "分析棋局:  68%|██████▊   | 1147/1686 [3:11:10<1:26:31,  9.63s/it]"
     ]
    },
    {
     "name": "stdout",
     "output_type": "stream",
     "text": [
      "\n",
      "—— Analyzing Game 1184 ——\n",
      "White: Schemato (2064), Black: juniortay (2194)\n"
     ]
    },
    {
     "name": "stderr",
     "output_type": "stream",
     "text": [
      "分析棋局:  68%|██████▊   | 1148/1686 [3:11:20<1:27:38,  9.77s/it]"
     ]
    },
    {
     "name": "stdout",
     "output_type": "stream",
     "text": [
      "\n",
      "—— Analyzing Game 1185 ——\n",
      "White: Cryptochess (2381), Black: VerdeNotte (2542)\n"
     ]
    },
    {
     "name": "stderr",
     "output_type": "stream",
     "text": [
      "分析棋局:  68%|██████▊   | 1149/1686 [3:11:31<1:31:09, 10.19s/it]"
     ]
    },
    {
     "name": "stdout",
     "output_type": "stream",
     "text": [
      "\n",
      "—— Analyzing Game 1186 ——\n",
      "White: bugsbunny444 (2353), Black: tac49 (2395)\n"
     ]
    },
    {
     "name": "stderr",
     "output_type": "stream",
     "text": [
      "分析棋局:  68%|██████▊   | 1150/1686 [3:11:39<1:26:17,  9.66s/it]"
     ]
    },
    {
     "name": "stdout",
     "output_type": "stream",
     "text": [
      "\n",
      "—— Analyzing Game 1187 ——\n",
      "White: chito89 (2599), Black: exoticprincess (2816)\n"
     ]
    },
    {
     "name": "stderr",
     "output_type": "stream",
     "text": [
      "分析棋局:  68%|██████▊   | 1151/1686 [3:11:54<1:40:59, 11.33s/it]"
     ]
    },
    {
     "name": "stdout",
     "output_type": "stream",
     "text": [
      "\n",
      "—— Analyzing Game 1188 ——\n",
      "White: Chesseducation4u (2221), Black: Inopov (2455)\n"
     ]
    },
    {
     "name": "stderr",
     "output_type": "stream",
     "text": [
      "分析棋局:  68%|██████▊   | 1152/1686 [3:12:03<1:33:12, 10.47s/it]"
     ]
    },
    {
     "name": "stdout",
     "output_type": "stream",
     "text": [
      "\n",
      "—— Analyzing Game 1189 ——\n",
      "White: tigrangharamian (2539), Black: Nouki (2651)\n"
     ]
    },
    {
     "name": "stderr",
     "output_type": "stream",
     "text": [
      "分析棋局:  68%|██████▊   | 1153/1686 [3:12:10<1:24:03,  9.46s/it]"
     ]
    },
    {
     "name": "stdout",
     "output_type": "stream",
     "text": [
      "\n",
      "—— Analyzing Game 1190 ——\n",
      "White: oggy1984 (2200), Black: GulamaliRises (2328)\n"
     ]
    },
    {
     "name": "stderr",
     "output_type": "stream",
     "text": [
      "分析棋局:  68%|██████▊   | 1154/1686 [3:12:20<1:25:26,  9.64s/it]"
     ]
    },
    {
     "name": "stdout",
     "output_type": "stream",
     "text": [
      "\n",
      "—— Analyzing Game 1191 ——\n",
      "White: LADIESGET2KNOWME (2294), Black: igorkovalenko (2458)\n"
     ]
    },
    {
     "name": "stderr",
     "output_type": "stream",
     "text": [
      "分析棋局:  69%|██████▊   | 1155/1686 [3:12:34<1:35:47, 10.82s/it]"
     ]
    },
    {
     "name": "stdout",
     "output_type": "stream",
     "text": [
      "\n",
      "—— Analyzing Game 1192 ——\n",
      "White: CraiggoryC (1970), Black: bsmail (2101)\n"
     ]
    },
    {
     "name": "stderr",
     "output_type": "stream",
     "text": [
      "分析棋局:  69%|██████▊   | 1156/1686 [3:12:43<1:31:22, 10.35s/it]"
     ]
    },
    {
     "name": "stdout",
     "output_type": "stream",
     "text": [
      "\n",
      "—— Analyzing Game 1193 ——\n",
      "White: GasconJR (2271), Black: petrpalachev (2391)\n"
     ]
    },
    {
     "name": "stderr",
     "output_type": "stream",
     "text": [
      "分析棋局:  69%|██████▊   | 1157/1686 [3:12:55<1:34:55, 10.77s/it]"
     ]
    },
    {
     "name": "stdout",
     "output_type": "stream",
     "text": [
      "\n",
      "—— Analyzing Game 1194 ——\n",
      "White: facu57 (2017), Black: FytNob (1864)\n"
     ]
    },
    {
     "name": "stderr",
     "output_type": "stream",
     "text": [
      "分析棋局:  69%|██████▊   | 1158/1686 [3:13:12<1:53:20, 12.88s/it]"
     ]
    },
    {
     "name": "stdout",
     "output_type": "stream",
     "text": [
      "\n",
      "—— Analyzing Game 1195 ——\n",
      "White: AndreyOstrovskiy (2330), Black: wonderfultime (2558)\n"
     ]
    },
    {
     "name": "stderr",
     "output_type": "stream",
     "text": [
      "分析棋局:  69%|██████▊   | 1159/1686 [3:13:29<2:03:10, 14.02s/it]"
     ]
    },
    {
     "name": "stdout",
     "output_type": "stream",
     "text": [
      "\n",
      "—— Analyzing Game 1196 ——\n",
      "White: 9ShMat2 (2449), Black: AnthonyWirig (2535)\n"
     ]
    },
    {
     "name": "stderr",
     "output_type": "stream",
     "text": [
      "分析棋局:  69%|██████▉   | 1160/1686 [3:13:43<2:03:00, 14.03s/it]"
     ]
    },
    {
     "name": "stdout",
     "output_type": "stream",
     "text": [
      "\n",
      "—— Analyzing Game 1197 ——\n",
      "White: 190l (1994), Black: Zvonokchess (2476)\n"
     ]
    },
    {
     "name": "stderr",
     "output_type": "stream",
     "text": [
      "分析棋局:  69%|██████▉   | 1161/1686 [3:13:53<1:51:32, 12.75s/it]"
     ]
    },
    {
     "name": "stdout",
     "output_type": "stream",
     "text": [
      "\n",
      "—— Analyzing Game 1198 ——\n",
      "White: FlySooHigh (2328), Black: Ar4uha (2453)\n"
     ]
    },
    {
     "name": "stderr",
     "output_type": "stream",
     "text": [
      "分析棋局:  69%|██████▉   | 1162/1686 [3:14:14<2:12:36, 15.18s/it]"
     ]
    },
    {
     "name": "stdout",
     "output_type": "stream",
     "text": [
      "\n",
      "—— Analyzing Game 1199 ——\n",
      "White: FabianEnglert (2240), Black: Danirod (2351)\n"
     ]
    },
    {
     "name": "stderr",
     "output_type": "stream",
     "text": [
      "分析棋局:  69%|██████▉   | 1163/1686 [3:14:28<2:10:23, 14.96s/it]"
     ]
    },
    {
     "name": "stdout",
     "output_type": "stream",
     "text": [
      "\n",
      "—— Analyzing Game 1200 ——\n",
      "White: BeerLag (2404), Black: Tilicheev_Viacheslav (2537)\n"
     ]
    },
    {
     "name": "stderr",
     "output_type": "stream",
     "text": [
      "分析棋局:  69%|██████▉   | 1164/1686 [3:14:42<2:08:19, 14.75s/it]"
     ]
    },
    {
     "name": "stdout",
     "output_type": "stream",
     "text": [
      "\n",
      "—— Analyzing Game 1201 ——\n",
      "White: GedoGluperd (2224), Black: jup1978 (2159)\n"
     ]
    },
    {
     "name": "stderr",
     "output_type": "stream",
     "text": [
      "分析棋局:  69%|██████▉   | 1165/1686 [3:15:06<2:31:47, 17.48s/it]"
     ]
    },
    {
     "name": "stdout",
     "output_type": "stream",
     "text": [
      "\n",
      "—— Analyzing Game 1202 ——\n",
      "White: GMNeiksans (2510), Black: EltajSafarli (2627)\n"
     ]
    },
    {
     "name": "stderr",
     "output_type": "stream",
     "text": [
      "分析棋局:  69%|██████▉   | 1166/1686 [3:15:22<2:26:46, 16.94s/it]"
     ]
    },
    {
     "name": "stdout",
     "output_type": "stream",
     "text": [
      "\n",
      "—— Analyzing Game 1203 ——\n",
      "White: xtremeungar (2262), Black: Zlatan56 (2543)\n"
     ]
    },
    {
     "name": "stderr",
     "output_type": "stream",
     "text": [
      "分析棋局:  69%|██████▉   | 1167/1686 [3:15:39<2:27:40, 17.07s/it]"
     ]
    },
    {
     "name": "stdout",
     "output_type": "stream",
     "text": [
      "\n",
      "—— Analyzing Game 1204 ——\n",
      "White: kinetix (1576), Black: gumersindo (2118)\n"
     ]
    },
    {
     "name": "stderr",
     "output_type": "stream",
     "text": [
      "分析棋局:  69%|██████▉   | 1168/1686 [3:15:52<2:15:05, 15.65s/it]"
     ]
    },
    {
     "name": "stdout",
     "output_type": "stream",
     "text": [
      "\n",
      "—— Analyzing Game 1205 ——\n",
      "White: monika84 (2034), Black: BjarkeSahl (2137)\n"
     ]
    },
    {
     "name": "stderr",
     "output_type": "stream",
     "text": [
      "分析棋局:  69%|██████▉   | 1169/1686 [3:16:05<2:08:34, 14.92s/it]"
     ]
    },
    {
     "name": "stdout",
     "output_type": "stream",
     "text": [
      "\n",
      "—— Analyzing Game 1206 ——\n",
      "White: GMHess (2488), Black: jcibarra (2501)\n"
     ]
    },
    {
     "name": "stderr",
     "output_type": "stream",
     "text": [
      "分析棋局:  69%|██████▉   | 1170/1686 [3:16:21<2:11:34, 15.30s/it]"
     ]
    },
    {
     "name": "stdout",
     "output_type": "stream",
     "text": [
      "\n",
      "—— Analyzing Game 1207 ——\n",
      "White: rhungaski (2442), Black: GeorgMeier (2671)\n"
     ]
    },
    {
     "name": "stderr",
     "output_type": "stream",
     "text": [
      "分析棋局:  69%|██████▉   | 1171/1686 [3:16:36<2:11:28, 15.32s/it]"
     ]
    },
    {
     "name": "stdout",
     "output_type": "stream",
     "text": [
      "\n",
      "—— Analyzing Game 1208 ——\n",
      "White: SuPeR_Fm (2324), Black: alturas_pacificas (2068)\n"
     ]
    },
    {
     "name": "stderr",
     "output_type": "stream",
     "text": [
      "分析棋局:  70%|██████▉   | 1172/1686 [3:16:56<2:22:44, 16.66s/it]"
     ]
    },
    {
     "name": "stdout",
     "output_type": "stream",
     "text": [
      "\n",
      "—— Analyzing Game 1209 ——\n",
      "White: kesarev (2257), Black: AUSSIE_PINOY (2359)\n"
     ]
    },
    {
     "name": "stderr",
     "output_type": "stream",
     "text": [
      "分析棋局:  70%|██████▉   | 1173/1686 [3:17:17<2:32:49, 17.88s/it]"
     ]
    },
    {
     "name": "stdout",
     "output_type": "stream",
     "text": [
      "\n",
      "—— Analyzing Game 1210 ——\n",
      "White: manitodeplomo (2334), Black: gmjlh (2488)\n"
     ]
    },
    {
     "name": "stderr",
     "output_type": "stream",
     "text": [
      "分析棋局:  70%|██████▉   | 1174/1686 [3:17:31<2:21:24, 16.57s/it]"
     ]
    },
    {
     "name": "stdout",
     "output_type": "stream",
     "text": [
      "\n",
      "—— Analyzing Game 1211 ——\n",
      "White: ChessTrener (2474), Black: MinhGTrAn (2459)\n"
     ]
    },
    {
     "name": "stderr",
     "output_type": "stream",
     "text": [
      "分析棋局:  70%|██████▉   | 1175/1686 [3:17:48<2:23:15, 16.82s/it]"
     ]
    },
    {
     "name": "stdout",
     "output_type": "stream",
     "text": [
      "\n",
      "—— Analyzing Game 1212 ——\n",
      "White: IMRosen (2064), Black: pedromartinez91 (2146)\n"
     ]
    },
    {
     "name": "stderr",
     "output_type": "stream",
     "text": [
      "分析棋局:  70%|██████▉   | 1176/1686 [3:18:08<2:30:09, 17.67s/it]"
     ]
    },
    {
     "name": "stdout",
     "output_type": "stream",
     "text": [
      "\n",
      "—— Analyzing Game 1213 ——\n",
      "White: Gevorg_Harutjunyan (2510), Black: AkshatChandra (2488)\n"
     ]
    },
    {
     "name": "stderr",
     "output_type": "stream",
     "text": [
      "分析棋局:  70%|██████▉   | 1177/1686 [3:18:30<2:41:02, 18.98s/it]"
     ]
    },
    {
     "name": "stdout",
     "output_type": "stream",
     "text": [
      "\n",
      "—— Analyzing Game 1214 ——\n",
      "White: MattyDPerrine (2055), Black: AlexanderL (2511)\n"
     ]
    },
    {
     "name": "stderr",
     "output_type": "stream",
     "text": [
      "分析棋局:  70%|██████▉   | 1179/1686 [3:18:51<1:57:10, 13.87s/it]"
     ]
    },
    {
     "name": "stdout",
     "output_type": "stream",
     "text": [
      "\n",
      "—— Analyzing Game 1215 ——\n",
      "White: iFrancisco (2279), Black: oggy1984 (2194)\n",
      "\n",
      "—— Analyzing Game 1216 ——\n",
      "White: Rijeka1999 (2241), Black: GedoGluperd (2233)\n",
      "\n",
      "—— Analyzing Game 1217 ——\n",
      "White: Hafez_Bakr (1814), Black: facu57 (2026)\n"
     ]
    },
    {
     "name": "stderr",
     "output_type": "stream",
     "text": [
      "分析棋局:  70%|██████▉   | 1180/1686 [3:18:59<1:41:25, 12.03s/it]"
     ]
    },
    {
     "name": "stdout",
     "output_type": "stream",
     "text": [
      "\n",
      "—— Analyzing Game 1218 ——\n",
      "White: AndreyOstrovskiy (2336), Black: guillead1 (2250)\n"
     ]
    },
    {
     "name": "stderr",
     "output_type": "stream",
     "text": [
      "分析棋局:  70%|███████   | 1181/1686 [3:19:10<1:39:28, 11.82s/it]"
     ]
    },
    {
     "name": "stdout",
     "output_type": "stream",
     "text": [
      "\n",
      "—— Analyzing Game 1219 ——\n",
      "White: Danirod (2349), Black: kesarev (2259)\n"
     ]
    },
    {
     "name": "stderr",
     "output_type": "stream",
     "text": [
      "分析棋局:  70%|███████   | 1182/1686 [3:19:21<1:37:22, 11.59s/it]"
     ]
    },
    {
     "name": "stdout",
     "output_type": "stream",
     "text": [
      "\n",
      "—— Analyzing Game 1220 ——\n",
      "White: Hikaru (2844), Black: tac49 (2394)\n"
     ]
    },
    {
     "name": "stderr",
     "output_type": "stream",
     "text": [
      "分析棋局:  70%|███████   | 1183/1686 [3:19:28<1:23:50, 10.00s/it]"
     ]
    },
    {
     "name": "stdout",
     "output_type": "stream",
     "text": [
      "\n",
      "—— Analyzing Game 1221 ——\n",
      "White: SuPeR_Fm (2306), Black: stepanosinovsky (2250)\n"
     ]
    },
    {
     "name": "stderr",
     "output_type": "stream",
     "text": [
      "分析棋局:  70%|███████   | 1184/1686 [3:19:37<1:22:24,  9.85s/it]"
     ]
    },
    {
     "name": "stdout",
     "output_type": "stream",
     "text": [
      "\n",
      "—— Analyzing Game 1222 ——\n",
      "White: GulamaliRises (2332), Black: destroyer305 (2123)\n"
     ]
    },
    {
     "name": "stderr",
     "output_type": "stream",
     "text": [
      "分析棋局:  70%|███████   | 1185/1686 [3:19:47<1:22:49,  9.92s/it]"
     ]
    },
    {
     "name": "stdout",
     "output_type": "stream",
     "text": [
      "\n",
      "—— Analyzing Game 1223 ——\n",
      "White: PauloCesarCosta (2063), Black: ChessTrener (2475)\n"
     ]
    },
    {
     "name": "stderr",
     "output_type": "stream",
     "text": [
      "分析棋局:  70%|███████   | 1186/1686 [3:20:00<1:30:48, 10.90s/it]"
     ]
    },
    {
     "name": "stdout",
     "output_type": "stream",
     "text": [
      "\n",
      "—— Analyzing Game 1224 ——\n",
      "White: exoticprincess (2827), Black: GeorgMeier (2666)\n"
     ]
    },
    {
     "name": "stderr",
     "output_type": "stream",
     "text": [
      "分析棋局:  70%|███████   | 1187/1686 [3:20:13<1:35:07, 11.44s/it]"
     ]
    },
    {
     "name": "stdout",
     "output_type": "stream",
     "text": [
      "\n",
      "—— Analyzing Game 1225 ——\n",
      "White: 9ShMat2 (2456), Black: BeerLag (2397)\n"
     ]
    },
    {
     "name": "stderr",
     "output_type": "stream",
     "text": [
      "分析棋局:  70%|███████   | 1188/1686 [3:20:26<1:38:26, 11.86s/it]"
     ]
    },
    {
     "name": "stdout",
     "output_type": "stream",
     "text": [
      "\n",
      "—— Analyzing Game 1226 ——\n",
      "White: LuckyTiger (2496), Black: manitodeplomo (2325)\n"
     ]
    },
    {
     "name": "stderr",
     "output_type": "stream",
     "text": [
      "分析棋局:  71%|███████   | 1189/1686 [3:20:37<1:35:29, 11.53s/it]"
     ]
    },
    {
     "name": "stdout",
     "output_type": "stream",
     "text": [
      "\n",
      "—— Analyzing Game 1227 ——\n",
      "White: FytNob (1870), Black: DoctorMove (1760)\n"
     ]
    },
    {
     "name": "stderr",
     "output_type": "stream",
     "text": [
      "分析棋局:  71%|███████   | 1190/1686 [3:20:47<1:31:59, 11.13s/it]"
     ]
    },
    {
     "name": "stdout",
     "output_type": "stream",
     "text": [
      "\n",
      "—— Analyzing Game 1228 ——\n",
      "White: EltajSafarli (2629), Black: pedromartinez91 (2145)\n"
     ]
    },
    {
     "name": "stderr",
     "output_type": "stream",
     "text": [
      "分析棋局:  71%|███████   | 1191/1686 [3:20:58<1:31:40, 11.11s/it]"
     ]
    },
    {
     "name": "stdout",
     "output_type": "stream",
     "text": [
      "\n",
      "—— Analyzing Game 1229 ——\n",
      "White: Tilicheev_Viacheslav (2543), Black: MinhGTrAn (2453)\n"
     ]
    },
    {
     "name": "stderr",
     "output_type": "stream",
     "text": [
      "分析棋局:  71%|███████   | 1192/1686 [3:21:07<1:25:16, 10.36s/it]"
     ]
    },
    {
     "name": "stdout",
     "output_type": "stream",
     "text": [
      "\n",
      "—— Analyzing Game 1230 ——\n",
      "White: Carolina-moon (1913), Black: Colombiano07 (2015)\n"
     ]
    },
    {
     "name": "stderr",
     "output_type": "stream",
     "text": [
      "分析棋局:  71%|███████   | 1193/1686 [3:21:16<1:22:29, 10.04s/it]"
     ]
    },
    {
     "name": "stdout",
     "output_type": "stream",
     "text": [
      "\n",
      "—— Analyzing Game 1231 ——\n",
      "White: alturas_pacificas (2072), Black: ilmago (1887)\n"
     ]
    },
    {
     "name": "stderr",
     "output_type": "stream",
     "text": [
      "分析棋局:  71%|███████   | 1194/1686 [3:21:29<1:30:19, 11.02s/it]"
     ]
    },
    {
     "name": "stdout",
     "output_type": "stream",
     "text": [
      "\n",
      "—— Analyzing Game 1232 ——\n",
      "White: AkshatChandra (2475), Black: LyonBeast (2773)\n"
     ]
    },
    {
     "name": "stderr",
     "output_type": "stream",
     "text": [
      "分析棋局:  71%|███████   | 1195/1686 [3:21:40<1:29:44, 10.97s/it]"
     ]
    },
    {
     "name": "stdout",
     "output_type": "stream",
     "text": [
      "\n",
      "—— Analyzing Game 1233 ——\n",
      "White: rhungaski (2432), Black: bugsbunny444 (2363)\n"
     ]
    },
    {
     "name": "stderr",
     "output_type": "stream",
     "text": [
      "分析棋局:  71%|███████   | 1196/1686 [3:21:52<1:31:49, 11.24s/it]"
     ]
    },
    {
     "name": "stdout",
     "output_type": "stream",
     "text": [
      "\n",
      "—— Analyzing Game 1234 ——\n",
      "White: xtremeungar (2277), Black: MattyDPerrine (2051)\n"
     ]
    },
    {
     "name": "stderr",
     "output_type": "stream",
     "text": [
      "分析棋局:  71%|███████   | 1197/1686 [3:22:01<1:27:10, 10.70s/it]"
     ]
    },
    {
     "name": "stdout",
     "output_type": "stream",
     "text": [
      "\n",
      "—— Analyzing Game 1235 ——\n",
      "White: LADIESGET2KNOWME (2292), Black: Chesseducation4u (2223)\n"
     ]
    },
    {
     "name": "stderr",
     "output_type": "stream",
     "text": [
      "分析棋局:  71%|███████   | 1198/1686 [3:22:18<1:40:40, 12.38s/it]"
     ]
    },
    {
     "name": "stdout",
     "output_type": "stream",
     "text": [
      "\n",
      "—— Analyzing Game 1236 ——\n",
      "White: pKiLz5Rn9b (2234), Black: bsmail (2112)\n"
     ]
    },
    {
     "name": "stderr",
     "output_type": "stream",
     "text": [
      "分析棋局:  71%|███████   | 1199/1686 [3:22:34<1:49:57, 13.55s/it]"
     ]
    },
    {
     "name": "stdout",
     "output_type": "stream",
     "text": [
      "\n",
      "—— Analyzing Game 1237 ——\n",
      "White: Inopov (2458), Black: Argente (2199)\n"
     ]
    },
    {
     "name": "stderr",
     "output_type": "stream",
     "text": [
      "分析棋局:  71%|███████   | 1200/1686 [3:22:46<1:45:02, 12.97s/it]"
     ]
    },
    {
     "name": "stdout",
     "output_type": "stream",
     "text": [
      "\n",
      "—— Analyzing Game 1238 ——\n",
      "White: AlexanderL (2502), Black: gmjlh (2505)\n"
     ]
    },
    {
     "name": "stderr",
     "output_type": "stream",
     "text": [
      "分析棋局:  71%|███████   | 1201/1686 [3:23:01<1:51:39, 13.81s/it]"
     ]
    },
    {
     "name": "stdout",
     "output_type": "stream",
     "text": [
      "\n",
      "—— Analyzing Game 1239 ——\n",
      "White: DanielNaroditsky (2585), Black: chito89 (2577)\n"
     ]
    },
    {
     "name": "stderr",
     "output_type": "stream",
     "text": [
      "分析棋局:  71%|███████▏  | 1202/1686 [3:23:18<1:59:16, 14.79s/it]"
     ]
    },
    {
     "name": "stdout",
     "output_type": "stream",
     "text": [
      "\n",
      "—— Analyzing Game 1240 ——\n",
      "White: Schemato (2072), Black: Aragon (2036)\n"
     ]
    },
    {
     "name": "stderr",
     "output_type": "stream",
     "text": [
      "分析棋局:  71%|███████▏  | 1203/1686 [3:23:31<1:53:07, 14.05s/it]"
     ]
    },
    {
     "name": "stdout",
     "output_type": "stream",
     "text": [
      "\n",
      "—— Analyzing Game 1241 ——\n",
      "White: VerdeNotte (2499), Black: igorkovalenko (2481)\n"
     ]
    },
    {
     "name": "stderr",
     "output_type": "stream",
     "text": [
      "分析棋局:  71%|███████▏  | 1204/1686 [3:23:49<2:02:56, 15.30s/it]"
     ]
    },
    {
     "name": "stdout",
     "output_type": "stream",
     "text": [
      "\n",
      "—— Analyzing Game 1242 ——\n",
      "White: tigrangharamian (2524), Black: megarompa (2659)\n"
     ]
    },
    {
     "name": "stderr",
     "output_type": "stream",
     "text": [
      "分析棋局:  71%|███████▏  | 1205/1686 [3:24:03<1:58:37, 14.80s/it]"
     ]
    },
    {
     "name": "stdout",
     "output_type": "stream",
     "text": [
      "\n",
      "—— Analyzing Game 1243 ——\n",
      "White: Zlatan56 (2476), Black: Kacparov (2451)\n"
     ]
    },
    {
     "name": "stderr",
     "output_type": "stream",
     "text": [
      "分析棋局:  72%|███████▏  | 1206/1686 [3:24:15<1:53:51, 14.23s/it]"
     ]
    },
    {
     "name": "stdout",
     "output_type": "stream",
     "text": [
      "\n",
      "—— Analyzing Game 1244 ——\n",
      "White: Gevorg_Harutjunyan (2518), Black: GMNeiksans (2494)\n"
     ]
    },
    {
     "name": "stderr",
     "output_type": "stream",
     "text": [
      "分析棋局:  72%|███████▏  | 1207/1686 [3:24:30<1:53:38, 14.23s/it]"
     ]
    },
    {
     "name": "stdout",
     "output_type": "stream",
     "text": [
      "\n",
      "—— Analyzing Game 1245 ——\n",
      "White: Nouki (2636), Black: jcibarra (2517)\n"
     ]
    },
    {
     "name": "stderr",
     "output_type": "stream",
     "text": [
      "分析棋局:  72%|███████▏  | 1208/1686 [3:24:45<1:56:45, 14.66s/it]"
     ]
    },
    {
     "name": "stdout",
     "output_type": "stream",
     "text": [
      "\n",
      "—— Analyzing Game 1246 ——\n",
      "White: 1stSecond (2390), Black: AnthonyWirig (2519)\n"
     ]
    },
    {
     "name": "stderr",
     "output_type": "stream",
     "text": [
      "分析棋局:  72%|███████▏  | 1209/1686 [3:25:05<2:08:42, 16.19s/it]"
     ]
    },
    {
     "name": "stdout",
     "output_type": "stream",
     "text": [
      "\n",
      "—— Analyzing Game 1247 ——\n",
      "White: raskolnnikov (2274), Black: juniortay (2196)\n"
     ]
    },
    {
     "name": "stderr",
     "output_type": "stream",
     "text": [
      "分析棋局:  72%|███████▏  | 1210/1686 [3:25:23<2:13:29, 16.83s/it]"
     ]
    },
    {
     "name": "stdout",
     "output_type": "stream",
     "text": [
      "\n",
      "—— Analyzing Game 1248 ——\n",
      "White: GasconJR (2276), Black: gumersindo (2113)\n"
     ]
    },
    {
     "name": "stderr",
     "output_type": "stream",
     "text": [
      "分析棋局:  72%|███████▏  | 1211/1686 [3:25:42<2:17:50, 17.41s/it]"
     ]
    },
    {
     "name": "stdout",
     "output_type": "stream",
     "text": [
      "\n",
      "—— Analyzing Game 1249 ——\n",
      "White: wonderfultime (2548), Black: Ar4uha (2463)\n"
     ]
    },
    {
     "name": "stderr",
     "output_type": "stream",
     "text": [
      "分析棋局:  72%|███████▏  | 1212/1686 [3:26:03<2:25:55, 18.47s/it]"
     ]
    },
    {
     "name": "stdout",
     "output_type": "stream",
     "text": [
      "\n",
      "—— Analyzing Game 1250 ——\n",
      "White: gawk (2051), Black: kinetix (1552)\n"
     ]
    },
    {
     "name": "stderr",
     "output_type": "stream",
     "text": [
      "分析棋局:  72%|███████▏  | 1213/1686 [3:26:23<2:28:17, 18.81s/it]"
     ]
    },
    {
     "name": "stdout",
     "output_type": "stream",
     "text": [
      "\n",
      "—— Analyzing Game 1251 ——\n",
      "White: jup1978 (2164), Black: 190l (1990)\n"
     ]
    },
    {
     "name": "stderr",
     "output_type": "stream",
     "text": [
      "分析棋局:  72%|███████▏  | 1214/1686 [3:26:38<2:20:26, 17.85s/it]"
     ]
    },
    {
     "name": "stdout",
     "output_type": "stream",
     "text": [
      "\n",
      "—— Analyzing Game 1252 ——\n",
      "White: AUSSIE_PINOY (2348), Black: FabianEnglert (2251)\n"
     ]
    },
    {
     "name": "stderr",
     "output_type": "stream",
     "text": [
      "分析棋局:  72%|███████▏  | 1215/1686 [3:26:58<2:24:11, 18.37s/it]"
     ]
    },
    {
     "name": "stdout",
     "output_type": "stream",
     "text": [
      "\n",
      "—— Analyzing Game 1253 ——\n",
      "White: IMRosen (2062), Black: Zvonokchess (2477)\n"
     ]
    },
    {
     "name": "stderr",
     "output_type": "stream",
     "text": [
      "分析棋局:  72%|███████▏  | 1216/1686 [3:27:23<2:40:10, 20.45s/it]"
     ]
    },
    {
     "name": "stdout",
     "output_type": "stream",
     "text": [
      "\n",
      "—— Analyzing Game 1254 ——\n",
      "White: BjarkeSahl (2133), Black: FlySooHigh (2332)\n"
     ]
    },
    {
     "name": "stderr",
     "output_type": "stream",
     "text": [
      "分析棋局:  72%|███████▏  | 1217/1686 [3:27:40<2:31:10, 19.34s/it]"
     ]
    },
    {
     "name": "stdout",
     "output_type": "stream",
     "text": [
      "\n",
      "—— Analyzing Game 1255 ——\n",
      "White: petrpalachev (2378), Black: lukas_111111 (2162)\n"
     ]
    },
    {
     "name": "stderr",
     "output_type": "stream",
     "text": [
      "分析棋局:  72%|███████▏  | 1218/1686 [3:28:02<2:37:47, 20.23s/it]"
     ]
    },
    {
     "name": "stdout",
     "output_type": "stream",
     "text": [
      "\n",
      "—— Analyzing Game 1256 ——\n",
      "White: juniortay (2201), Black: gawk (2046)\n"
     ]
    },
    {
     "name": "stderr",
     "output_type": "stream",
     "text": [
      "分析棋局:  72%|███████▏  | 1219/1686 [3:28:05<1:55:53, 14.89s/it]"
     ]
    },
    {
     "name": "stdout",
     "output_type": "stream",
     "text": [
      "\n",
      "—— Analyzing Game 1257 ——\n",
      "White: 190l (1988), Black: AndreyOstrovskiy (2338)\n"
     ]
    },
    {
     "name": "stderr",
     "output_type": "stream",
     "text": [
      "分析棋局:  72%|███████▏  | 1220/1686 [3:28:09<1:31:27, 11.78s/it]"
     ]
    },
    {
     "name": "stdout",
     "output_type": "stream",
     "text": [
      "\n",
      "—— Analyzing Game 1258 ——\n",
      "White: Argente (2195), Black: PauloCesarCosta (2066)\n"
     ]
    },
    {
     "name": "stderr",
     "output_type": "stream",
     "text": [
      "分析棋局:  72%|███████▏  | 1221/1686 [3:28:16<1:18:29, 10.13s/it]"
     ]
    },
    {
     "name": "stdout",
     "output_type": "stream",
     "text": [
      "\n",
      "—— Analyzing Game 1259 ——\n",
      "White: gumersindo (2110), Black: AUSSIE_PINOY (2351)\n"
     ]
    },
    {
     "name": "stderr",
     "output_type": "stream",
     "text": [
      "分析棋局:  72%|███████▏  | 1222/1686 [3:28:23<1:12:23,  9.36s/it]"
     ]
    },
    {
     "name": "stdout",
     "output_type": "stream",
     "text": [
      "\n",
      "—— Analyzing Game 1260 ——\n",
      "White: Aragon (2033), Black: SuPeR_Fm (2311)\n"
     ]
    },
    {
     "name": "stderr",
     "output_type": "stream",
     "text": [
      "分析棋局:  73%|███████▎  | 1223/1686 [3:28:31<1:07:50,  8.79s/it]"
     ]
    },
    {
     "name": "stdout",
     "output_type": "stream",
     "text": [
      "\n",
      "—— Analyzing Game 1261 ——\n",
      "White: chito89 (2581), Black: jup1978 (2162)\n"
     ]
    },
    {
     "name": "stderr",
     "output_type": "stream",
     "text": [
      "分析棋局:  73%|███████▎  | 1224/1686 [3:28:41<1:12:31,  9.42s/it]"
     ]
    },
    {
     "name": "stdout",
     "output_type": "stream",
     "text": [
      "\n",
      "—— Analyzing Game 1262 ——\n",
      "White: GeorgMeier (2678), Black: Hikaru (2832)\n"
     ]
    },
    {
     "name": "stderr",
     "output_type": "stream",
     "text": [
      "分析棋局:  73%|███████▎  | 1225/1686 [3:28:48<1:05:33,  8.53s/it]"
     ]
    },
    {
     "name": "stdout",
     "output_type": "stream",
     "text": [
      "\n",
      "—— Analyzing Game 1263 ——\n",
      "White: facu57 (2038), Black: Carolina-moon (1908)\n"
     ]
    },
    {
     "name": "stderr",
     "output_type": "stream",
     "text": [
      "分析棋局:  73%|███████▎  | 1226/1686 [3:29:01<1:15:12,  9.81s/it]"
     ]
    },
    {
     "name": "stdout",
     "output_type": "stream",
     "text": [
      "\n",
      "—— Analyzing Game 1264 ——\n",
      "White: Chesseducation4u (2232), Black: raskolnnikov (2265)\n"
     ]
    },
    {
     "name": "stderr",
     "output_type": "stream",
     "text": [
      "分析棋局:  73%|███████▎  | 1227/1686 [3:29:09<1:11:35,  9.36s/it]"
     ]
    },
    {
     "name": "stdout",
     "output_type": "stream",
     "text": [
      "\n",
      "—— Analyzing Game 1265 ——\n",
      "White: bsmail (2124), Black: iFrancisco (2267)\n"
     ]
    },
    {
     "name": "stderr",
     "output_type": "stream",
     "text": [
      "分析棋局:  73%|███████▎  | 1228/1686 [3:29:21<1:16:55, 10.08s/it]"
     ]
    },
    {
     "name": "stdout",
     "output_type": "stream",
     "text": [
      "\n",
      "—— Analyzing Game 1266 ——\n",
      "White: FabianEnglert (2249), Black: wonderfultime (2550)\n"
     ]
    },
    {
     "name": "stderr",
     "output_type": "stream",
     "text": [
      "分析棋局:  73%|███████▎  | 1229/1686 [3:29:36<1:29:37, 11.77s/it]"
     ]
    },
    {
     "name": "stdout",
     "output_type": "stream",
     "text": [
      "\n",
      "—— Analyzing Game 1267 ——\n",
      "White: bugsbunny444 (2360), Black: DanielNaroditsky (2598)\n"
     ]
    },
    {
     "name": "stderr",
     "output_type": "stream",
     "text": [
      "分析棋局:  73%|███████▎  | 1230/1686 [3:29:49<1:30:30, 11.91s/it]"
     ]
    },
    {
     "name": "stdout",
     "output_type": "stream",
     "text": [
      "\n",
      "—— Analyzing Game 1268 ——\n",
      "White: ChessTrener (2482), Black: rhungaski (2425)\n"
     ]
    },
    {
     "name": "stderr",
     "output_type": "stream",
     "text": [
      "分析棋局:  73%|███████▎  | 1231/1686 [3:29:58<1:24:57, 11.20s/it]"
     ]
    },
    {
     "name": "stdout",
     "output_type": "stream",
     "text": [
      "\n",
      "—— Analyzing Game 1269 ——\n",
      "White: GMNeiksans (2503), Black: GulamaliRises (2327)\n"
     ]
    },
    {
     "name": "stderr",
     "output_type": "stream",
     "text": [
      "分析棋局:  73%|███████▎  | 1232/1686 [3:30:11<1:27:33, 11.57s/it]"
     ]
    },
    {
     "name": "stdout",
     "output_type": "stream",
     "text": [
      "\n",
      "—— Analyzing Game 1270 ——\n",
      "White: Zvonokchess (2470), Black: tigrangharamian (2541)\n"
     ]
    },
    {
     "name": "stderr",
     "output_type": "stream",
     "text": [
      "分析棋局:  73%|███████▎  | 1233/1686 [3:30:24<1:30:37, 12.00s/it]"
     ]
    },
    {
     "name": "stdout",
     "output_type": "stream",
     "text": [
      "\n",
      "—— Analyzing Game 1271 ——\n",
      "White: MinhGTrAn (2441), Black: GasconJR (2288)\n"
     ]
    },
    {
     "name": "stderr",
     "output_type": "stream",
     "text": [
      "分析棋局:  73%|███████▎  | 1234/1686 [3:30:31<1:18:53, 10.47s/it]"
     ]
    },
    {
     "name": "stdout",
     "output_type": "stream",
     "text": [
      "\n",
      "—— Analyzing Game 1272 ——\n",
      "White: guillead1 (2255), Black: BjarkeSahl (2128)\n"
     ]
    },
    {
     "name": "stderr",
     "output_type": "stream",
     "text": [
      "分析棋局:  73%|███████▎  | 1235/1686 [3:30:43<1:24:07, 11.19s/it]"
     ]
    },
    {
     "name": "stdout",
     "output_type": "stream",
     "text": [
      "\n",
      "—— Analyzing Game 1273 ——\n",
      "White: megarompa (2668), Black: AkshatChandra (2456)\n"
     ]
    },
    {
     "name": "stderr",
     "output_type": "stream",
     "text": [
      "分析棋局:  73%|███████▎  | 1236/1686 [3:30:57<1:29:31, 11.94s/it]"
     ]
    },
    {
     "name": "stdout",
     "output_type": "stream",
     "text": [
      "\n",
      "—— Analyzing Game 1274 ——\n",
      "White: Colombiano07 (2016), Black: kinetix (1530)\n"
     ]
    },
    {
     "name": "stderr",
     "output_type": "stream",
     "text": [
      "分析棋局:  73%|███████▎  | 1237/1686 [3:31:10<1:30:31, 12.10s/it]"
     ]
    },
    {
     "name": "stdout",
     "output_type": "stream",
     "text": [
      "\n",
      "—— Analyzing Game 1275 ——\n",
      "White: manitodeplomo (2303), Black: Schemato (2085)\n"
     ]
    },
    {
     "name": "stderr",
     "output_type": "stream",
     "text": [
      "分析棋局:  73%|███████▎  | 1238/1686 [3:31:24<1:34:28, 12.65s/it]"
     ]
    },
    {
     "name": "stdout",
     "output_type": "stream",
     "text": [
      "\n",
      "—— Analyzing Game 1276 ——\n",
      "White: FlySooHigh (2322), Black: GedoGluperd (2243)\n"
     ]
    },
    {
     "name": "stderr",
     "output_type": "stream",
     "text": [
      "分析棋局:  73%|███████▎  | 1239/1686 [3:31:36<1:34:35, 12.70s/it]"
     ]
    },
    {
     "name": "stdout",
     "output_type": "stream",
     "text": [
      "\n",
      "—— Analyzing Game 1277 ——\n",
      "White: ilmago (1899), Black: Hafez_Bakr (1808)\n"
     ]
    },
    {
     "name": "stderr",
     "output_type": "stream",
     "text": [
      "分析棋局:  74%|███████▎  | 1240/1686 [3:31:51<1:38:23, 13.24s/it]"
     ]
    },
    {
     "name": "stdout",
     "output_type": "stream",
     "text": [
      "\n",
      "—— Analyzing Game 1278 ——\n",
      "White: gmjlh (2487), Black: 9ShMat2 (2465)\n"
     ]
    },
    {
     "name": "stderr",
     "output_type": "stream",
     "text": [
      "分析棋局:  74%|███████▎  | 1241/1686 [3:32:07<1:44:15, 14.06s/it]"
     ]
    },
    {
     "name": "stdout",
     "output_type": "stream",
     "text": [
      "\n",
      "—— Analyzing Game 1279 ——\n",
      "White: jcibarra (2536), Black: exoticprincess (2796)\n"
     ]
    },
    {
     "name": "stderr",
     "output_type": "stream",
     "text": [
      "分析棋局:  74%|███████▎  | 1242/1686 [3:32:21<1:43:26, 13.98s/it]"
     ]
    },
    {
     "name": "stdout",
     "output_type": "stream",
     "text": [
      "\n",
      "—— Analyzing Game 1280 ——\n",
      "White: stepanosinovsky (2259), Black: xtremeungar (2247)\n"
     ]
    },
    {
     "name": "stderr",
     "output_type": "stream",
     "text": [
      "分析棋局:  74%|███████▎  | 1243/1686 [3:32:37<1:48:28, 14.69s/it]"
     ]
    },
    {
     "name": "stdout",
     "output_type": "stream",
     "text": [
      "\n",
      "—— Analyzing Game 1281 ——\n",
      "White: BeerLag (2407), Black: VerdeNotte (2458)\n"
     ]
    },
    {
     "name": "stderr",
     "output_type": "stream",
     "text": [
      "分析棋局:  74%|███████▍  | 1244/1686 [3:32:59<2:04:21, 16.88s/it]"
     ]
    },
    {
     "name": "stdout",
     "output_type": "stream",
     "text": [
      "\n",
      "—— Analyzing Game 1282 ——\n",
      "White: AnthonyWirig (2506), Black: Inopov (2467)\n"
     ]
    },
    {
     "name": "stderr",
     "output_type": "stream",
     "text": [
      "分析棋局:  74%|███████▍  | 1245/1686 [3:33:14<2:00:11, 16.35s/it]"
     ]
    },
    {
     "name": "stdout",
     "output_type": "stream",
     "text": [
      "\n",
      "—— Analyzing Game 1283 ——\n",
      "White: destroyer305 (2120), Black: petrpalachev (2381)\n"
     ]
    },
    {
     "name": "stderr",
     "output_type": "stream",
     "text": [
      "分析棋局:  74%|███████▍  | 1246/1686 [3:33:37<2:15:13, 18.44s/it]"
     ]
    },
    {
     "name": "stdout",
     "output_type": "stream",
     "text": [
      "\n",
      "—— Analyzing Game 1284 ——\n",
      "White: lukas_111111 (2160), Black: Zlatan56 (2492)\n"
     ]
    },
    {
     "name": "stderr",
     "output_type": "stream",
     "text": [
      "分析棋局:  74%|███████▍  | 1247/1686 [3:33:57<2:17:10, 18.75s/it]"
     ]
    },
    {
     "name": "stdout",
     "output_type": "stream",
     "text": [
      "\n",
      "—— Analyzing Game 1285 ——\n",
      "White: kesarev (2263), Black: alturas_pacificas (2068)\n"
     ]
    },
    {
     "name": "stderr",
     "output_type": "stream",
     "text": [
      "分析棋局:  74%|███████▍  | 1248/1686 [3:34:14<2:14:14, 18.39s/it]"
     ]
    },
    {
     "name": "stdout",
     "output_type": "stream",
     "text": [
      "\n",
      "—— Analyzing Game 1286 ——\n",
      "White: pedromartinez91 (2159), Black: LuckyTiger (2457)\n"
     ]
    },
    {
     "name": "stderr",
     "output_type": "stream",
     "text": [
      "分析棋局:  74%|███████▍  | 1249/1686 [3:34:37<2:22:56, 19.63s/it]"
     ]
    },
    {
     "name": "stdout",
     "output_type": "stream",
     "text": [
      "\n",
      "—— Analyzing Game 1287 ——\n",
      "White: tac49 (2405), Black: Gevorg_Harutjunyan (2507)\n"
     ]
    },
    {
     "name": "stderr",
     "output_type": "stream",
     "text": [
      "分析棋局:  74%|███████▍  | 1250/1686 [3:34:53<2:14:15, 18.48s/it]"
     ]
    },
    {
     "name": "stdout",
     "output_type": "stream",
     "text": [
      "\n",
      "—— Analyzing Game 1288 ——\n",
      "White: FytNob (1877), Black: LADIESGET2KNOWME (2285)\n"
     ]
    },
    {
     "name": "stderr",
     "output_type": "stream",
     "text": [
      "分析棋局:  74%|███████▍  | 1251/1686 [3:35:13<2:18:41, 19.13s/it]"
     ]
    },
    {
     "name": "stdout",
     "output_type": "stream",
     "text": [
      "\n",
      "—— Analyzing Game 1289 ——\n",
      "White: LyonBeast (2758), Black: EltajSafarli (2648)\n"
     ]
    },
    {
     "name": "stderr",
     "output_type": "stream",
     "text": [
      "分析棋局:  74%|███████▍  | 1252/1686 [3:35:33<2:20:28, 19.42s/it]"
     ]
    },
    {
     "name": "stdout",
     "output_type": "stream",
     "text": [
      "\n",
      "—— Analyzing Game 1290 ——\n",
      "White: Ar4uha (2469), Black: 1stSecond (2380)\n"
     ]
    },
    {
     "name": "stderr",
     "output_type": "stream",
     "text": [
      "分析棋局:  74%|███████▍  | 1253/1686 [3:35:54<2:22:30, 19.75s/it]"
     ]
    },
    {
     "name": "stdout",
     "output_type": "stream",
     "text": [
      "\n",
      "—— Analyzing Game 1291 ——\n",
      "White: Kacparov (2447), Black: Nouki (2641)\n"
     ]
    },
    {
     "name": "stderr",
     "output_type": "stream",
     "text": [
      "分析棋局:  74%|███████▍  | 1254/1686 [3:36:14<2:22:16, 19.76s/it]"
     ]
    },
    {
     "name": "stdout",
     "output_type": "stream",
     "text": [
      "\n",
      "—— Analyzing Game 1292 ——\n",
      "White: MattyDPerrine (2043), Black: monika84 (2042)\n"
     ]
    },
    {
     "name": "stderr",
     "output_type": "stream",
     "text": [
      "分析棋局:  74%|███████▍  | 1255/1686 [3:36:37<2:30:24, 20.94s/it]"
     ]
    },
    {
     "name": "stdout",
     "output_type": "stream",
     "text": [
      "\n",
      "—— Analyzing Game 1293 ——\n",
      "White: igorkovalenko (2484), Black: Tilicheev_Viacheslav (2542)\n"
     ]
    },
    {
     "name": "stderr",
     "output_type": "stream",
     "text": [
      "分析棋局:  74%|███████▍  | 1256/1686 [3:37:10<2:55:06, 24.43s/it]"
     ]
    },
    {
     "name": "stdout",
     "output_type": "stream",
     "text": [
      "\n",
      "—— Analyzing Game 1294 ——\n",
      "White: Chesseducation4u (2235), Black: 190l (1985)\n"
     ]
    },
    {
     "name": "stderr",
     "output_type": "stream",
     "text": [
      "分析棋局:  75%|███████▍  | 1257/1686 [3:37:14<2:09:42, 18.14s/it]"
     ]
    },
    {
     "name": "stdout",
     "output_type": "stream",
     "text": [
      "\n",
      "—— Analyzing Game 1295 ——\n",
      "White: jcibarra (2540), Black: GeorgMeier (2675)\n"
     ]
    },
    {
     "name": "stderr",
     "output_type": "stream",
     "text": [
      "分析棋局:  75%|███████▍  | 1258/1686 [3:37:19<1:41:16, 14.20s/it]"
     ]
    },
    {
     "name": "stdout",
     "output_type": "stream",
     "text": [
      "\n",
      "—— Analyzing Game 1296 ——\n",
      "White: juniortay (2205), Black: Colombiano07 (2012)\n"
     ]
    },
    {
     "name": "stderr",
     "output_type": "stream",
     "text": [
      "分析棋局:  75%|███████▍  | 1259/1686 [3:37:23<1:20:51, 11.36s/it]"
     ]
    },
    {
     "name": "stdout",
     "output_type": "stream",
     "text": [
      "\n",
      "—— Analyzing Game 1297 ——\n",
      "White: gumersindo (2100), Black: Aragon (2043)\n"
     ]
    },
    {
     "name": "stderr",
     "output_type": "stream",
     "text": [
      "分析棋局:  75%|███████▍  | 1260/1686 [3:37:30<1:11:50, 10.12s/it]"
     ]
    },
    {
     "name": "stdout",
     "output_type": "stream",
     "text": [
      "\n",
      "—— Analyzing Game 1298 ——\n",
      "White: FlySooHigh (2325), Black: alturas_pacificas (2065)\n"
     ]
    },
    {
     "name": "stderr",
     "output_type": "stream",
     "text": [
      "分析棋局:  75%|███████▍  | 1261/1686 [3:37:37<1:04:45,  9.14s/it]"
     ]
    },
    {
     "name": "stdout",
     "output_type": "stream",
     "text": [
      "\n",
      "—— Analyzing Game 1299 ——\n",
      "White: igorkovalenko (2465), Black: AkshatChandra (2490)\n"
     ]
    },
    {
     "name": "stderr",
     "output_type": "stream",
     "text": [
      "分析棋局:  75%|███████▍  | 1262/1686 [3:37:46<1:03:18,  8.96s/it]"
     ]
    },
    {
     "name": "stdout",
     "output_type": "stream",
     "text": [
      "\n",
      "—— Analyzing Game 1300 ——\n",
      "White: DoctorMove (1759), Black: raskolnnikov (2266)\n"
     ]
    },
    {
     "name": "stderr",
     "output_type": "stream",
     "text": [
      "分析棋局:  75%|███████▍  | 1263/1686 [3:37:57<1:06:55,  9.49s/it]"
     ]
    },
    {
     "name": "stdout",
     "output_type": "stream",
     "text": [
      "\n",
      "—— Analyzing Game 1301 ——\n",
      "White: Hafez_Bakr (1805), Black: gawk (2049)\n"
     ]
    },
    {
     "name": "stderr",
     "output_type": "stream",
     "text": [
      "分析棋局:  75%|███████▍  | 1264/1686 [3:38:07<1:09:20,  9.86s/it]"
     ]
    },
    {
     "name": "stdout",
     "output_type": "stream",
     "text": [
      "\n",
      "—— Analyzing Game 1302 ——\n",
      "White: lukas_111111 (2167), Black: bsmail (2117)\n"
     ]
    },
    {
     "name": "stderr",
     "output_type": "stream",
     "text": [
      "分析棋局:  75%|███████▌  | 1265/1686 [3:38:18<1:10:03,  9.98s/it]"
     ]
    },
    {
     "name": "stdout",
     "output_type": "stream",
     "text": [
      "\n",
      "—— Analyzing Game 1303 ——\n",
      "White: GMNeiksans (2507), Black: jup1978 (2160)\n"
     ]
    },
    {
     "name": "stderr",
     "output_type": "stream",
     "text": [
      "分析棋局:  75%|███████▌  | 1266/1686 [3:38:28<1:10:32, 10.08s/it]"
     ]
    },
    {
     "name": "stdout",
     "output_type": "stream",
     "text": [
      "\n",
      "—— Analyzing Game 1304 ——\n",
      "White: monika84 (2047), Black: ilmago (1890)\n"
     ]
    },
    {
     "name": "stderr",
     "output_type": "stream",
     "text": [
      "分析棋局:  75%|███████▌  | 1267/1686 [3:38:37<1:08:41,  9.84s/it]"
     ]
    },
    {
     "name": "stdout",
     "output_type": "stream",
     "text": [
      "\n",
      "—— Analyzing Game 1305 ——\n",
      "White: exoticprincess (2789), Black: EltajSafarli (2653)\n"
     ]
    },
    {
     "name": "stderr",
     "output_type": "stream",
     "text": [
      "分析棋局:  75%|███████▌  | 1268/1686 [3:38:52<1:17:54, 11.18s/it]"
     ]
    },
    {
     "name": "stdout",
     "output_type": "stream",
     "text": [
      "\n",
      "—— Analyzing Game 1306 ——\n",
      "White: Inopov (2473), Black: bugsbunny444 (2354)\n"
     ]
    },
    {
     "name": "stderr",
     "output_type": "stream",
     "text": [
      "分析棋局:  75%|███████▌  | 1269/1686 [3:39:05<1:22:43, 11.90s/it]"
     ]
    },
    {
     "name": "stdout",
     "output_type": "stream",
     "text": [
      "\n",
      "—— Analyzing Game 1307 ——\n",
      "White: LADIESGET2KNOWME (2288), Black: facu57 (2031)\n"
     ]
    },
    {
     "name": "stderr",
     "output_type": "stream",
     "text": [
      "分析棋局:  75%|███████▌  | 1270/1686 [3:39:19<1:25:56, 12.40s/it]"
     ]
    },
    {
     "name": "stdout",
     "output_type": "stream",
     "text": [
      "\n",
      "—— Analyzing Game 1308 ——\n",
      "White: Zvonokchess (2474), Black: FabianEnglert (2245)\n"
     ]
    },
    {
     "name": "stderr",
     "output_type": "stream",
     "text": [
      "分析棋局:  75%|███████▌  | 1271/1686 [3:39:28<1:20:09, 11.59s/it]"
     ]
    },
    {
     "name": "stdout",
     "output_type": "stream",
     "text": [
      "\n",
      "—— Analyzing Game 1309 ——\n",
      "White: petrpalachev (2388), Black: GulamaliRises (2320)\n"
     ]
    },
    {
     "name": "stderr",
     "output_type": "stream",
     "text": [
      "分析棋局:  75%|███████▌  | 1272/1686 [3:39:47<1:34:48, 13.74s/it]"
     ]
    },
    {
     "name": "stdout",
     "output_type": "stream",
     "text": [
      "\n",
      "—— Analyzing Game 1310 ——\n",
      "White: 1stSecond (2359), Black: Schemato (2099)\n"
     ]
    },
    {
     "name": "stderr",
     "output_type": "stream",
     "text": [
      "分析棋局:  76%|███████▌  | 1273/1686 [3:39:59<1:31:18, 13.26s/it]"
     ]
    },
    {
     "name": "stdout",
     "output_type": "stream",
     "text": [
      "\n",
      "—— Analyzing Game 1311 ——\n",
      "White: destroyer305 (2123), Black: FytNob (1874)\n"
     ]
    },
    {
     "name": "stderr",
     "output_type": "stream",
     "text": [
      "分析棋局:  76%|███████▌  | 1274/1686 [3:40:11<1:27:38, 12.76s/it]"
     ]
    },
    {
     "name": "stdout",
     "output_type": "stream",
     "text": [
      "\n",
      "—— Analyzing Game 1312 ——\n",
      "White: GasconJR (2284), Black: LuckyTiger (2469)\n"
     ]
    },
    {
     "name": "stderr",
     "output_type": "stream",
     "text": [
      "分析棋局:  76%|███████▌  | 1275/1686 [3:40:26<1:31:39, 13.38s/it]"
     ]
    },
    {
     "name": "stdout",
     "output_type": "stream",
     "text": [
      "\n",
      "—— Analyzing Game 1313 ——\n",
      "White: kinetix (1518), Black: BjarkeSahl (2129)\n"
     ]
    },
    {
     "name": "stderr",
     "output_type": "stream",
     "text": [
      "分析棋局:  76%|███████▌  | 1276/1686 [3:40:37<1:26:47, 12.70s/it]"
     ]
    },
    {
     "name": "stdout",
     "output_type": "stream",
     "text": [
      "\n",
      "—— Analyzing Game 1314 ——\n",
      "White: Gevorg_Harutjunyan (2511), Black: AndreyOstrovskiy (2334)\n"
     ]
    },
    {
     "name": "stderr",
     "output_type": "stream",
     "text": [
      "分析棋局:  76%|███████▌  | 1277/1686 [3:40:52<1:32:44, 13.61s/it]"
     ]
    },
    {
     "name": "stdout",
     "output_type": "stream",
     "text": [
      "\n",
      "—— Analyzing Game 1315 ——\n",
      "White: LyonBeast (2764), Black: DanielNaroditsky (2582)\n"
     ]
    },
    {
     "name": "stderr",
     "output_type": "stream",
     "text": [
      "分析棋局:  76%|███████▌  | 1278/1686 [3:41:11<1:41:30, 14.93s/it]"
     ]
    },
    {
     "name": "stdout",
     "output_type": "stream",
     "text": [
      "\n",
      "—— Analyzing Game 1316 ——\n",
      "White: Carolina-moon (1919), Black: MattyDPerrine (2032)\n"
     ]
    },
    {
     "name": "stderr",
     "output_type": "stream",
     "text": [
      "分析棋局:  76%|███████▌  | 1279/1686 [3:41:27<1:43:44, 15.29s/it]"
     ]
    },
    {
     "name": "stdout",
     "output_type": "stream",
     "text": [
      "\n",
      "—— Analyzing Game 1317 ——\n",
      "White: megarompa (2643), Black: Ar4uha (2481)\n"
     ]
    },
    {
     "name": "stderr",
     "output_type": "stream",
     "text": [
      "分析棋局:  76%|███████▌  | 1280/1686 [3:41:45<1:49:14, 16.14s/it]"
     ]
    },
    {
     "name": "stdout",
     "output_type": "stream",
     "text": [
      "\n",
      "—— Analyzing Game 1318 ——\n",
      "White: AnthonyWirig (2488), Black: Argente (2214)\n"
     ]
    },
    {
     "name": "stderr",
     "output_type": "stream",
     "text": [
      "分析棋局:  76%|███████▌  | 1281/1686 [3:41:55<1:37:28, 14.44s/it]"
     ]
    },
    {
     "name": "stdout",
     "output_type": "stream",
     "text": [
      "\n",
      "—— Analyzing Game 1319 ——\n",
      "White: GedoGluperd (2253), Black: AUSSIE_PINOY (2341)\n"
     ]
    },
    {
     "name": "stderr",
     "output_type": "stream",
     "text": [
      "分析棋局:  76%|███████▌  | 1282/1686 [3:42:11<1:40:06, 14.87s/it]"
     ]
    },
    {
     "name": "stdout",
     "output_type": "stream",
     "text": [
      "\n",
      "—— Analyzing Game 1320 ——\n",
      "White: Zlatan56 (2527), Black: BeerLag (2401)\n"
     ]
    },
    {
     "name": "stderr",
     "output_type": "stream",
     "text": [
      "分析棋局:  76%|███████▌  | 1283/1686 [3:42:27<1:42:16, 15.23s/it]"
     ]
    },
    {
     "name": "stdout",
     "output_type": "stream",
     "text": [
      "\n",
      "—— Analyzing Game 1321 ——\n",
      "White: ChessTrener (2470), Black: stepanosinovsky (2271)\n"
     ]
    },
    {
     "name": "stderr",
     "output_type": "stream",
     "text": [
      "分析棋局:  76%|███████▌  | 1284/1686 [3:42:41<1:39:51, 14.91s/it]"
     ]
    },
    {
     "name": "stdout",
     "output_type": "stream",
     "text": [
      "\n",
      "—— Analyzing Game 1322 ——\n",
      "White: rhungaski (2430), Black: kesarev (2258)\n"
     ]
    },
    {
     "name": "stderr",
     "output_type": "stream",
     "text": [
      "分析棋局:  76%|███████▌  | 1285/1686 [3:42:57<1:40:12, 14.99s/it]"
     ]
    },
    {
     "name": "stdout",
     "output_type": "stream",
     "text": [
      "\n",
      "—— Analyzing Game 1323 ——\n",
      "White: SuPeR_Fm (2322), Black: xtremeungar (2225)\n"
     ]
    },
    {
     "name": "stderr",
     "output_type": "stream",
     "text": [
      "分析棋局:  76%|███████▋  | 1286/1686 [3:43:11<1:39:35, 14.94s/it]"
     ]
    },
    {
     "name": "stdout",
     "output_type": "stream",
     "text": [
      "\n",
      "—— Analyzing Game 1324 ——\n",
      "White: Tilicheev_Viacheslav (2548), Black: Kacparov (2441)\n"
     ]
    },
    {
     "name": "stderr",
     "output_type": "stream",
     "text": [
      "分析棋局:  76%|███████▋  | 1287/1686 [3:43:32<1:50:32, 16.62s/it]"
     ]
    },
    {
     "name": "stdout",
     "output_type": "stream",
     "text": [
      "\n",
      "—— Analyzing Game 1325 ——\n",
      "White: gmjlh (2476), Black: chito89 (2595)\n"
     ]
    },
    {
     "name": "stderr",
     "output_type": "stream",
     "text": [
      "分析棋局:  76%|███████▋  | 1288/1686 [3:43:48<1:49:12, 16.46s/it]"
     ]
    },
    {
     "name": "stdout",
     "output_type": "stream",
     "text": [
      "\n",
      "—— Analyzing Game 1326 ——\n",
      "White: pedromartinez91 (2173), Black: tigrangharamian (2507)\n"
     ]
    },
    {
     "name": "stderr",
     "output_type": "stream",
     "text": [
      "分析棋局:  76%|███████▋  | 1289/1686 [3:44:03<1:46:39, 16.12s/it]"
     ]
    },
    {
     "name": "stdout",
     "output_type": "stream",
     "text": [
      "\n",
      "—— Analyzing Game 1327 ——\n",
      "White: guillead1 (2259), Black: PauloCesarCosta (2062)\n"
     ]
    },
    {
     "name": "stderr",
     "output_type": "stream",
     "text": [
      "分析棋局:  77%|███████▋  | 1290/1686 [3:44:23<1:54:03, 17.28s/it]"
     ]
    },
    {
     "name": "stdout",
     "output_type": "stream",
     "text": [
      "\n",
      "—— Analyzing Game 1328 ——\n",
      "White: Nouki (2636), Black: 9ShMat2 (2469)\n"
     ]
    },
    {
     "name": "stderr",
     "output_type": "stream",
     "text": [
      "分析棋局:  77%|███████▋  | 1291/1686 [3:44:48<2:07:29, 19.37s/it]"
     ]
    },
    {
     "name": "stdout",
     "output_type": "stream",
     "text": [
      "\n",
      "—— Analyzing Game 1329 ——\n",
      "White: tac49 (2408), Black: wonderfultime (2547)\n"
     ]
    },
    {
     "name": "stderr",
     "output_type": "stream",
     "text": [
      "分析棋局:  77%|███████▋  | 1292/1686 [3:45:02<1:56:36, 17.76s/it]"
     ]
    },
    {
     "name": "stdout",
     "output_type": "stream",
     "text": [
      "\n",
      "—— Analyzing Game 1330 ——\n",
      "White: Dlugy (2491), Black: KyronGriffith (2162)\n",
      "\n",
      "—— Analyzing Game 1331 ——\n",
      "White: Colombiano07 (1978), Black: zmaj23 (2303)\n"
     ]
    },
    {
     "name": "stderr",
     "output_type": "stream",
     "text": [
      "分析棋局:  77%|███████▋  | 1293/1686 [3:45:07<1:32:54, 14.18s/it]"
     ]
    },
    {
     "name": "stdout",
     "output_type": "stream",
     "text": [
      "\n",
      "—— Analyzing Game 1332 ——\n",
      "White: FytNob (1829), Black: GasconJR (2276)\n",
      "\n",
      "—— Analyzing Game 1333 ——\n",
      "White: Hieronymus00 (2072), Black: MinhGTrAn (2430)\n"
     ]
    },
    {
     "name": "stderr",
     "output_type": "stream",
     "text": [
      "分析棋局:  77%|███████▋  | 1294/1686 [3:45:08<1:05:37, 10.05s/it]"
     ]
    },
    {
     "name": "stdout",
     "output_type": "stream",
     "text": [
      "\n",
      "—— Analyzing Game 1334 ——\n",
      "White: gmjlh (2480), Black: facu57 (2117)\n",
      "\n",
      "—— Analyzing Game 1335 ——\n",
      "White: Konavets (2365), Black: BjarkeSahl (2058)\n"
     ]
    },
    {
     "name": "stderr",
     "output_type": "stream",
     "text": [
      "分析棋局:  77%|███████▋  | 1296/1686 [3:45:16<47:54,  7.37s/it]  "
     ]
    },
    {
     "name": "stdout",
     "output_type": "stream",
     "text": [
      "\n",
      "—— Analyzing Game 1336 ——\n",
      "White: michaelk123 (1900), Black: biostatistician (2291)\n"
     ]
    },
    {
     "name": "stderr",
     "output_type": "stream",
     "text": [
      "分析棋局:  77%|███████▋  | 1297/1686 [3:45:27<52:30,  8.10s/it]"
     ]
    },
    {
     "name": "stdout",
     "output_type": "stream",
     "text": [
      "\n",
      "—— Analyzing Game 1337 ——\n",
      "White: ViennaRocket (2192), Black: jcibarra (2543)\n"
     ]
    },
    {
     "name": "stderr",
     "output_type": "stream",
     "text": [
      "分析棋局:  77%|███████▋  | 1298/1686 [3:45:35<52:19,  8.09s/it]"
     ]
    },
    {
     "name": "stdout",
     "output_type": "stream",
     "text": [
      "\n",
      "—— Analyzing Game 1338 ——\n",
      "White: manitodeplomo (2292), Black: Mugzyyy (2272)\n"
     ]
    },
    {
     "name": "stderr",
     "output_type": "stream",
     "text": [
      "分析棋局:  77%|███████▋  | 1299/1686 [3:45:44<54:00,  8.37s/it]"
     ]
    },
    {
     "name": "stdout",
     "output_type": "stream",
     "text": [
      "\n",
      "—— Analyzing Game 1339 ——\n",
      "White: Fandorine (2535), Black: asms9699 (2183)\n"
     ]
    },
    {
     "name": "stderr",
     "output_type": "stream",
     "text": [
      "分析棋局:  77%|███████▋  | 1300/1686 [3:45:53<55:53,  8.69s/it]"
     ]
    },
    {
     "name": "stdout",
     "output_type": "stream",
     "text": [
      "\n",
      "—— Analyzing Game 1340 ——\n",
      "White: Tirantes (2272), Black: DanielRensch (2284)\n"
     ]
    },
    {
     "name": "stderr",
     "output_type": "stream",
     "text": [
      "分析棋局:  77%|███████▋  | 1301/1686 [3:46:00<51:28,  8.02s/it]"
     ]
    },
    {
     "name": "stdout",
     "output_type": "stream",
     "text": [
      "\n",
      "—— Analyzing Game 1341 ——\n",
      "White: MITerryble (2490), Black: jup1978 (2141)\n"
     ]
    },
    {
     "name": "stderr",
     "output_type": "stream",
     "text": [
      "分析棋局:  77%|███████▋  | 1302/1686 [3:46:13<1:00:45,  9.49s/it]"
     ]
    },
    {
     "name": "stdout",
     "output_type": "stream",
     "text": [
      "\n",
      "—— Analyzing Game 1342 ——\n",
      "White: Danirod (2325), Black: kharposh (2058)\n"
     ]
    },
    {
     "name": "stderr",
     "output_type": "stream",
     "text": [
      "分析棋局:  77%|███████▋  | 1303/1686 [3:46:21<58:50,  9.22s/it]  "
     ]
    },
    {
     "name": "stdout",
     "output_type": "stream",
     "text": [
      "\n",
      "—— Analyzing Game 1343 ——\n",
      "White: IMRosen (2089), Black: SuPeR_Fm (2377)\n"
     ]
    },
    {
     "name": "stderr",
     "output_type": "stream",
     "text": [
      "分析棋局:  77%|███████▋  | 1304/1686 [3:46:32<1:00:34,  9.52s/it]"
     ]
    },
    {
     "name": "stdout",
     "output_type": "stream",
     "text": [
      "\n",
      "—— Analyzing Game 1344 ——\n",
      "White: GMHess (2460), Black: gumersindo (2100)\n"
     ]
    },
    {
     "name": "stderr",
     "output_type": "stream",
     "text": [
      "分析棋局:  77%|███████▋  | 1305/1686 [3:46:41<59:30,  9.37s/it]  "
     ]
    },
    {
     "name": "stdout",
     "output_type": "stream",
     "text": [
      "\n",
      "—— Analyzing Game 1345 ——\n",
      "White: Mvpag (1864), Black: stepanosinovsky (2282)\n"
     ]
    },
    {
     "name": "stderr",
     "output_type": "stream",
     "text": [
      "分析棋局:  77%|███████▋  | 1306/1686 [3:46:50<59:56,  9.47s/it]"
     ]
    },
    {
     "name": "stdout",
     "output_type": "stream",
     "text": [
      "\n",
      "—— Analyzing Game 1346 ——\n",
      "White: AUSSIE_PINOY (2213), Black: megarompa (2646)\n"
     ]
    },
    {
     "name": "stderr",
     "output_type": "stream",
     "text": [
      "分析棋局:  78%|███████▊  | 1307/1686 [3:46:58<56:38,  8.97s/it]"
     ]
    },
    {
     "name": "stdout",
     "output_type": "stream",
     "text": [
      "\n",
      "—— Analyzing Game 1347 ——\n",
      "White: DanielNaroditsky (2588), Black: iFrancisco (2209)\n"
     ]
    },
    {
     "name": "stderr",
     "output_type": "stream",
     "text": [
      "分析棋局:  78%|███████▊  | 1308/1686 [3:47:09<1:01:12,  9.71s/it]"
     ]
    },
    {
     "name": "stdout",
     "output_type": "stream",
     "text": [
      "\n",
      "—— Analyzing Game 1348 ——\n",
      "White: patzerplay (2153), Black: AlexanderL (2504)\n"
     ]
    },
    {
     "name": "stderr",
     "output_type": "stream",
     "text": [
      "分析棋局:  78%|███████▊  | 1309/1686 [3:47:19<59:56,  9.54s/it]  "
     ]
    },
    {
     "name": "stdout",
     "output_type": "stream",
     "text": [
      "\n",
      "—— Analyzing Game 1349 ——\n",
      "White: pedromartinez91 (2149), Black: Ar4uha (2467)\n"
     ]
    },
    {
     "name": "stderr",
     "output_type": "stream",
     "text": [
      "分析棋局:  78%|███████▊  | 1310/1686 [3:47:28<59:40,  9.52s/it]"
     ]
    },
    {
     "name": "stdout",
     "output_type": "stream",
     "text": [
      "\n",
      "—— Analyzing Game 1350 ——\n",
      "White: LADIESGET2KNOWME (2286), Black: Aragon (1968)\n"
     ]
    },
    {
     "name": "stderr",
     "output_type": "stream",
     "text": [
      "分析棋局:  78%|███████▊  | 1311/1686 [3:47:41<1:04:59, 10.40s/it]"
     ]
    },
    {
     "name": "stdout",
     "output_type": "stream",
     "text": [
      "\n",
      "—— Analyzing Game 1351 ——\n",
      "White: wonderfultime (2533), Black: GGuseinov (2407)\n"
     ]
    },
    {
     "name": "stderr",
     "output_type": "stream",
     "text": [
      "分析棋局:  78%|███████▊  | 1312/1686 [3:47:55<1:12:52, 11.69s/it]"
     ]
    },
    {
     "name": "stdout",
     "output_type": "stream",
     "text": [
      "\n",
      "—— Analyzing Game 1352 ——\n",
      "White: FrankieJay (2207), Black: Yaacovn (2559)\n"
     ]
    },
    {
     "name": "stderr",
     "output_type": "stream",
     "text": [
      "分析棋局:  78%|███████▊  | 1313/1686 [3:48:09<1:16:19, 12.28s/it]"
     ]
    },
    {
     "name": "stdout",
     "output_type": "stream",
     "text": [
      "\n",
      "—— Analyzing Game 1353 ——\n",
      "White: 1stSecond (2374), Black: Bab3s (2061)\n"
     ]
    },
    {
     "name": "stderr",
     "output_type": "stream",
     "text": [
      "分析棋局:  78%|███████▊  | 1314/1686 [3:48:21<1:16:35, 12.35s/it]"
     ]
    },
    {
     "name": "stdout",
     "output_type": "stream",
     "text": [
      "\n",
      "—— Analyzing Game 1354 ——\n",
      "White: Irochka83 (2281), Black: Hafez_Bakr (1832)\n"
     ]
    },
    {
     "name": "stderr",
     "output_type": "stream",
     "text": [
      "分析棋局:  78%|███████▊  | 1315/1686 [3:48:33<1:15:31, 12.21s/it]"
     ]
    },
    {
     "name": "stdout",
     "output_type": "stream",
     "text": [
      "\n",
      "—— Analyzing Game 1355 ——\n",
      "White: kinetix (1512), Black: pKiLz5Rn9b (2254)\n"
     ]
    },
    {
     "name": "stderr",
     "output_type": "stream",
     "text": [
      "分析棋局:  78%|███████▊  | 1316/1686 [3:48:48<1:19:04, 12.82s/it]"
     ]
    },
    {
     "name": "stdout",
     "output_type": "stream",
     "text": [
      "\n",
      "—— Analyzing Game 1356 ——\n",
      "White: vinceyoung15 (2117), Black: ChessTrener (2464)\n"
     ]
    },
    {
     "name": "stderr",
     "output_type": "stream",
     "text": [
      "分析棋局:  78%|███████▊  | 1317/1686 [3:49:01<1:20:11, 13.04s/it]"
     ]
    },
    {
     "name": "stdout",
     "output_type": "stream",
     "text": [
      "\n",
      "—— Analyzing Game 1357 ——\n",
      "White: Malev212 (2046), Black: Chesseducation4u (2316)\n"
     ]
    },
    {
     "name": "stderr",
     "output_type": "stream",
     "text": [
      "分析棋局:  78%|███████▊  | 1318/1686 [3:49:16<1:23:01, 13.54s/it]"
     ]
    },
    {
     "name": "stdout",
     "output_type": "stream",
     "text": [
      "\n",
      "—— Analyzing Game 1358 ——\n",
      "White: Schemato (2070), Black: lorcho (2375)\n"
     ]
    },
    {
     "name": "stderr",
     "output_type": "stream",
     "text": [
      "分析棋局:  78%|███████▊  | 1319/1686 [3:49:31<1:25:04, 13.91s/it]"
     ]
    },
    {
     "name": "stdout",
     "output_type": "stream",
     "text": [
      "\n",
      "—— Analyzing Game 1359 ——\n",
      "White: Gevorg_Harutjunyan (2513), Black: MattyDPerrine (2166)\n"
     ]
    },
    {
     "name": "stderr",
     "output_type": "stream",
     "text": [
      "分析棋局:  78%|███████▊  | 1320/1686 [3:49:44<1:24:19, 13.82s/it]"
     ]
    },
    {
     "name": "stdout",
     "output_type": "stream",
     "text": [
      "\n",
      "—— Analyzing Game 1360 ——\n",
      "White: kesarev (2239), Black: GeorgMeier (2730)\n"
     ]
    },
    {
     "name": "stderr",
     "output_type": "stream",
     "text": [
      "分析棋局:  78%|███████▊  | 1321/1686 [3:50:00<1:27:33, 14.39s/it]"
     ]
    },
    {
     "name": "stdout",
     "output_type": "stream",
     "text": [
      "\n",
      "—— Analyzing Game 1361 ——\n",
      "White: raskolnnikov (2270), Black: HansCoolNiemann (1823)\n"
     ]
    },
    {
     "name": "stderr",
     "output_type": "stream",
     "text": [
      "分析棋局:  78%|███████▊  | 1322/1686 [3:50:16<1:30:16, 14.88s/it]"
     ]
    },
    {
     "name": "stdout",
     "output_type": "stream",
     "text": [
      "\n",
      "—— Analyzing Game 1362 ——\n",
      "White: Cryptochess (2383), Black: alturas_pacificas (2066)\n"
     ]
    },
    {
     "name": "stderr",
     "output_type": "stream",
     "text": [
      "分析棋局:  78%|███████▊  | 1323/1686 [3:50:25<1:20:18, 13.27s/it]"
     ]
    },
    {
     "name": "stdout",
     "output_type": "stream",
     "text": [
      "\n",
      "—— Analyzing Game 1363 ——\n",
      "White: darsen_sanzhaev (2146), Black: AkshatChandra (2498)\n"
     ]
    },
    {
     "name": "stderr",
     "output_type": "stream",
     "text": [
      "分析棋局:  79%|███████▊  | 1324/1686 [3:50:37<1:16:55, 12.75s/it]"
     ]
    },
    {
     "name": "stdout",
     "output_type": "stream",
     "text": [
      "\n",
      "—— Analyzing Game 1364 ——\n",
      "White: exoticprincess (2791), Black: Rijeka1999 (2240)\n"
     ]
    },
    {
     "name": "stderr",
     "output_type": "stream",
     "text": [
      "分析棋局:  79%|███████▊  | 1325/1686 [3:50:52<1:20:32, 13.39s/it]"
     ]
    },
    {
     "name": "stdout",
     "output_type": "stream",
     "text": [
      "\n",
      "—— Analyzing Game 1365 ——\n",
      "White: Tomsel (2287), Black: chesstatour (1891)\n"
     ]
    },
    {
     "name": "stderr",
     "output_type": "stream",
     "text": [
      "分析棋局:  79%|███████▊  | 1326/1686 [3:51:06<1:20:53, 13.48s/it]"
     ]
    },
    {
     "name": "stdout",
     "output_type": "stream",
     "text": [
      "\n",
      "—— Analyzing Game 1366 ——\n",
      "White: EltajSafarli (2655), Black: promen1999 (2231)\n"
     ]
    },
    {
     "name": "stderr",
     "output_type": "stream",
     "text": [
      "分析棋局:  79%|███████▊  | 1327/1686 [3:51:19<1:20:57, 13.53s/it]"
     ]
    },
    {
     "name": "stdout",
     "output_type": "stream",
     "text": [
      "\n",
      "—— Analyzing Game 1367 ——\n",
      "White: Mazetovic (2271), Black: grandmastergauri (2290)\n"
     ]
    },
    {
     "name": "stderr",
     "output_type": "stream",
     "text": [
      "分析棋局:  79%|███████▉  | 1328/1686 [3:51:33<1:21:22, 13.64s/it]"
     ]
    },
    {
     "name": "stdout",
     "output_type": "stream",
     "text": [
      "\n",
      "—— Analyzing Game 1368 ——\n",
      "White: WanderingPuppet (2087), Black: IMLevAltounian (2449)\n"
     ]
    },
    {
     "name": "stderr",
     "output_type": "stream",
     "text": [
      "分析棋局:  79%|███████▉  | 1329/1686 [3:51:53<1:32:02, 15.47s/it]"
     ]
    },
    {
     "name": "stdout",
     "output_type": "stream",
     "text": [
      "\n",
      "—— Analyzing Game 1369 ——\n",
      "White: AungTZ (2075), Black: AndreyOstrovskiy (2350)\n"
     ]
    },
    {
     "name": "stderr",
     "output_type": "stream",
     "text": [
      "分析棋局:  79%|███████▉  | 1330/1686 [3:52:10<1:35:11, 16.04s/it]"
     ]
    },
    {
     "name": "stdout",
     "output_type": "stream",
     "text": [
      "\n",
      "—— Analyzing Game 1370 ——\n",
      "White: lukas_111111 (2288), Black: ChessPsych0 (2058)\n"
     ]
    },
    {
     "name": "stderr",
     "output_type": "stream",
     "text": [
      "分析棋局:  79%|███████▉  | 1331/1686 [3:52:26<1:34:12, 15.92s/it]"
     ]
    },
    {
     "name": "stdout",
     "output_type": "stream",
     "text": [
      "\n",
      "—— Analyzing Game 1371 ——\n",
      "White: PauloCesarCosta (2055), Black: Novak_Pezelj (2371)\n"
     ]
    },
    {
     "name": "stderr",
     "output_type": "stream",
     "text": [
      "分析棋局:  79%|███████▉  | 1332/1686 [3:52:44<1:37:54, 16.60s/it]"
     ]
    },
    {
     "name": "stdout",
     "output_type": "stream",
     "text": [
      "\n",
      "—— Analyzing Game 1372 ——\n",
      "White: Brandon_Clarke (2311), Black: brauliocuarta (1997)\n"
     ]
    },
    {
     "name": "stderr",
     "output_type": "stream",
     "text": [
      "分析棋局:  79%|███████▉  | 1333/1686 [3:53:02<1:40:34, 17.10s/it]"
     ]
    },
    {
     "name": "stdout",
     "output_type": "stream",
     "text": [
      "\n",
      "—— Analyzing Game 1373 ——\n",
      "White: Spas_Kozhuharov (2410), Black: bsmail (2057)\n"
     ]
    },
    {
     "name": "stderr",
     "output_type": "stream",
     "text": [
      "分析棋局:  79%|███████▉  | 1334/1686 [3:53:17<1:35:31, 16.28s/it]"
     ]
    },
    {
     "name": "stdout",
     "output_type": "stream",
     "text": [
      "\n",
      "—— Analyzing Game 1374 ——\n",
      "White: FabianEnglert (2245), Black: Polemistis (1192)\n"
     ]
    },
    {
     "name": "stderr",
     "output_type": "stream",
     "text": [
      "分析棋局:  79%|███████▉  | 1335/1686 [3:53:36<1:41:10, 17.29s/it]"
     ]
    },
    {
     "name": "stdout",
     "output_type": "stream",
     "text": [
      "\n",
      "—— Analyzing Game 1375 ——\n",
      "White: petrpalachev (2441), Black: esr44 (2077)\n"
     ]
    },
    {
     "name": "stderr",
     "output_type": "stream",
     "text": [
      "分析棋局:  79%|███████▉  | 1336/1686 [3:54:01<1:54:33, 19.64s/it]"
     ]
    },
    {
     "name": "stdout",
     "output_type": "stream",
     "text": [
      "\n",
      "—— Analyzing Game 1376 ——\n",
      "White: destroyer305 (2184), Black: Tilicheev_Viacheslav (2519)\n"
     ]
    },
    {
     "name": "stderr",
     "output_type": "stream",
     "text": [
      "分析棋局:  79%|███████▉  | 1337/1686 [3:54:21<1:53:29, 19.51s/it]"
     ]
    },
    {
     "name": "stdout",
     "output_type": "stream",
     "text": [
      "\n",
      "—— Analyzing Game 1377 ——\n",
      "White: Dlugy (2484), Black: destroyer305 (2190)\n",
      "\n",
      "—— Analyzing Game 1378 ——\n",
      "White: IMLevAltounian (2449), Black: GMHess (2460)\n"
     ]
    },
    {
     "name": "stderr",
     "output_type": "stream",
     "text": [
      "分析棋局:  79%|███████▉  | 1338/1686 [3:54:23<1:23:43, 14.44s/it]"
     ]
    },
    {
     "name": "stdout",
     "output_type": "stream",
     "text": [
      "\n",
      "—— Analyzing Game 1379 ——\n",
      "White: gumersindo (2096), Black: manitodeplomo (2296)\n"
     ]
    },
    {
     "name": "stderr",
     "output_type": "stream",
     "text": [
      "分析棋局:  79%|███████▉  | 1339/1686 [3:54:31<1:11:17, 12.33s/it]"
     ]
    },
    {
     "name": "stdout",
     "output_type": "stream",
     "text": [
      "\n",
      "—— Analyzing Game 1380 ——\n",
      "White: BjarkeSahl (2064), Black: Colombiano07 (1972)\n"
     ]
    },
    {
     "name": "stderr",
     "output_type": "stream",
     "text": [
      "分析棋局:  79%|███████▉  | 1340/1686 [3:54:38<1:01:38, 10.69s/it]"
     ]
    },
    {
     "name": "stdout",
     "output_type": "stream",
     "text": [
      "\n",
      "—— Analyzing Game 1381 ——\n",
      "White: HansCoolNiemann (1826), Black: kinetix (1479)\n"
     ]
    },
    {
     "name": "stderr",
     "output_type": "stream",
     "text": [
      "分析棋局:  80%|███████▉  | 1341/1686 [3:54:44<53:31,  9.31s/it]  "
     ]
    },
    {
     "name": "stdout",
     "output_type": "stream",
     "text": [
      "\n",
      "—— Analyzing Game 1382 ——\n",
      "White: Novak_Pezelj (2359), Black: exoticprincess (2794)\n"
     ]
    },
    {
     "name": "stderr",
     "output_type": "stream",
     "text": [
      "分析棋局:  80%|███████▉  | 1342/1686 [3:54:51<50:27,  8.80s/it]"
     ]
    },
    {
     "name": "stdout",
     "output_type": "stream",
     "text": [
      "\n",
      "—— Analyzing Game 1383 ——\n",
      "White: brauliocuarta (2005), Black: Hafez_Bakr (1828)\n"
     ]
    },
    {
     "name": "stderr",
     "output_type": "stream",
     "text": [
      "分析棋局:  80%|███████▉  | 1343/1686 [3:55:00<49:31,  8.66s/it]"
     ]
    },
    {
     "name": "stdout",
     "output_type": "stream",
     "text": [
      "\n",
      "—— Analyzing Game 1384 ——\n",
      "White: Tilicheev_Viacheslav (2521), Black: KyronGriffith (2160)\n"
     ]
    },
    {
     "name": "stderr",
     "output_type": "stream",
     "text": [
      "分析棋局:  80%|███████▉  | 1344/1686 [3:55:07<47:30,  8.34s/it]"
     ]
    },
    {
     "name": "stdout",
     "output_type": "stream",
     "text": [
      "\n",
      "—— Analyzing Game 1385 ——\n",
      "White: DanielNaroditsky (2600), Black: 1stSecond (2370)\n"
     ]
    },
    {
     "name": "stderr",
     "output_type": "stream",
     "text": [
      "分析棋局:  80%|███████▉  | 1345/1686 [3:55:14<44:18,  7.80s/it]"
     ]
    },
    {
     "name": "stdout",
     "output_type": "stream",
     "text": [
      "\n",
      "—— Analyzing Game 1386 ——\n",
      "White: Mugzyyy (2356), Black: ChessPsych0 (2042)\n"
     ]
    },
    {
     "name": "stderr",
     "output_type": "stream",
     "text": [
      "分析棋局:  80%|███████▉  | 1346/1686 [3:55:23<46:19,  8.17s/it]"
     ]
    },
    {
     "name": "stdout",
     "output_type": "stream",
     "text": [
      "\n",
      "—— Analyzing Game 1387 ——\n",
      "White: bsmail (2056), Black: Ar4uha (2468)\n"
     ]
    },
    {
     "name": "stderr",
     "output_type": "stream",
     "text": [
      "分析棋局:  80%|███████▉  | 1347/1686 [3:55:37<56:25,  9.99s/it]"
     ]
    },
    {
     "name": "stdout",
     "output_type": "stream",
     "text": [
      "\n",
      "—— Analyzing Game 1388 ——\n",
      "White: EltajSafarli (2659), Black: Konavets (2360)\n"
     ]
    },
    {
     "name": "stderr",
     "output_type": "stream",
     "text": [
      "分析棋局:  80%|███████▉  | 1348/1686 [3:55:54<1:08:47, 12.21s/it]"
     ]
    },
    {
     "name": "stdout",
     "output_type": "stream",
     "text": [
      "\n",
      "—— Analyzing Game 1389 ——\n",
      "White: Aragon (1966), Black: Mazetovic (2338)\n"
     ]
    },
    {
     "name": "stderr",
     "output_type": "stream",
     "text": [
      "分析棋局:  80%|████████  | 1349/1686 [3:56:06<1:07:25, 12.00s/it]"
     ]
    },
    {
     "name": "stdout",
     "output_type": "stream",
     "text": [
      "\n",
      "—— Analyzing Game 1390 ——\n",
      "White: Bab3s (2067), Black: chesstatour (1887)\n"
     ]
    },
    {
     "name": "stderr",
     "output_type": "stream",
     "text": [
      "分析棋局:  80%|████████  | 1350/1686 [3:56:13<59:40, 10.66s/it]  "
     ]
    },
    {
     "name": "stdout",
     "output_type": "stream",
     "text": [
      "\n",
      "—— Analyzing Game 1391 ——\n",
      "White: Fandorine (2548), Black: Tomsel (2284)\n"
     ]
    },
    {
     "name": "stderr",
     "output_type": "stream",
     "text": [
      "分析棋局:  80%|████████  | 1351/1686 [3:56:24<1:00:10, 10.78s/it]"
     ]
    },
    {
     "name": "stdout",
     "output_type": "stream",
     "text": [
      "\n",
      "—— Analyzing Game 1392 ——\n",
      "White: FabianEnglert (2241), Black: AungTZ (2079)\n"
     ]
    },
    {
     "name": "stderr",
     "output_type": "stream",
     "text": [
      "分析棋局:  80%|████████  | 1352/1686 [3:56:35<59:38, 10.71s/it]  "
     ]
    },
    {
     "name": "stdout",
     "output_type": "stream",
     "text": [
      "\n",
      "—— Analyzing Game 1393 ——\n",
      "White: ChessTrener (2452), Black: GasconJR (2288)\n"
     ]
    },
    {
     "name": "stderr",
     "output_type": "stream",
     "text": [
      "分析棋局:  80%|████████  | 1353/1686 [3:56:47<1:02:02, 11.18s/it]"
     ]
    },
    {
     "name": "stdout",
     "output_type": "stream",
     "text": [
      "\n",
      "—— Analyzing Game 1394 ——\n",
      "White: Spas_Kozhuharov (2401), Black: wonderfultime (2538)\n"
     ]
    },
    {
     "name": "stderr",
     "output_type": "stream",
     "text": [
      "分析棋局:  80%|████████  | 1354/1686 [3:56:58<1:01:18, 11.08s/it]"
     ]
    },
    {
     "name": "stdout",
     "output_type": "stream",
     "text": [
      "\n",
      "—— Analyzing Game 1395 ——\n",
      "White: kharposh (2054), Black: raskolnnikov (2274)\n"
     ]
    },
    {
     "name": "stderr",
     "output_type": "stream",
     "text": [
      "分析棋局:  80%|████████  | 1355/1686 [3:57:13<1:07:43, 12.28s/it]"
     ]
    },
    {
     "name": "stdout",
     "output_type": "stream",
     "text": [
      "\n",
      "—— Analyzing Game 1396 ——\n",
      "White: Yaacovn (2546), Black: biostatistician (2304)\n"
     ]
    },
    {
     "name": "stderr",
     "output_type": "stream",
     "text": [
      "分析棋局:  80%|████████  | 1356/1686 [3:57:26<1:09:01, 12.55s/it]"
     ]
    },
    {
     "name": "stdout",
     "output_type": "stream",
     "text": [
      "\n",
      "—— Analyzing Game 1397 ——\n",
      "White: promen1999 (2238), Black: alturas_pacificas (2062)\n"
     ]
    },
    {
     "name": "stderr",
     "output_type": "stream",
     "text": [
      "分析棋局:  80%|████████  | 1357/1686 [3:57:46<1:19:59, 14.59s/it]"
     ]
    },
    {
     "name": "stdout",
     "output_type": "stream",
     "text": [
      "\n",
      "—— Analyzing Game 1398 ——\n",
      "White: lukas_111111 (2276), Black: WanderingPuppet (2099)\n"
     ]
    },
    {
     "name": "stderr",
     "output_type": "stream",
     "text": [
      "分析棋局:  81%|████████  | 1358/1686 [3:58:01<1:21:17, 14.87s/it]"
     ]
    },
    {
     "name": "stdout",
     "output_type": "stream",
     "text": [
      "\n",
      "—— Analyzing Game 1399 ——\n",
      "White: megarompa (2634), Black: zmaj23 (2309)\n"
     ]
    },
    {
     "name": "stderr",
     "output_type": "stream",
     "text": [
      "分析棋局:  81%|████████  | 1359/1686 [3:58:11<1:12:49, 13.36s/it]"
     ]
    },
    {
     "name": "stdout",
     "output_type": "stream",
     "text": [
      "\n",
      "—— Analyzing Game 1400 ——\n",
      "White: AlexanderL (2508), Black: stepanosinovsky (2278)\n"
     ]
    },
    {
     "name": "stderr",
     "output_type": "stream",
     "text": [
      "分析棋局:  81%|████████  | 1360/1686 [3:58:26<1:15:52, 13.97s/it]"
     ]
    },
    {
     "name": "stdout",
     "output_type": "stream",
     "text": [
      "\n",
      "—— Analyzing Game 1401 ——\n",
      "White: jcibarra (2549), Black: lorcho (2366)\n"
     ]
    },
    {
     "name": "stderr",
     "output_type": "stream",
     "text": [
      "分析棋局:  81%|████████  | 1361/1686 [3:58:44<1:22:08, 15.16s/it]"
     ]
    },
    {
     "name": "stdout",
     "output_type": "stream",
     "text": [
      "\n",
      "—— Analyzing Game 1402 ——\n",
      "White: Danirod (2313), Black: patzerplay (2167)\n"
     ]
    },
    {
     "name": "stderr",
     "output_type": "stream",
     "text": [
      "分析棋局:  81%|████████  | 1362/1686 [3:59:02<1:25:45, 15.88s/it]"
     ]
    },
    {
     "name": "stdout",
     "output_type": "stream",
     "text": [
      "\n",
      "—— Analyzing Game 1403 ——\n",
      "White: PauloCesarCosta (2059), Black: Mvpag (1860)\n"
     ]
    },
    {
     "name": "stderr",
     "output_type": "stream",
     "text": [
      "分析棋局:  81%|████████  | 1363/1686 [3:59:18<1:26:11, 16.01s/it]"
     ]
    },
    {
     "name": "stdout",
     "output_type": "stream",
     "text": [
      "\n",
      "—— Analyzing Game 1404 ——\n",
      "White: SuPeR_Fm (2362), Black: darsen_sanzhaev (2162)\n"
     ]
    },
    {
     "name": "stderr",
     "output_type": "stream",
     "text": [
      "分析棋局:  81%|████████  | 1364/1686 [3:59:31<1:20:15, 14.95s/it]"
     ]
    },
    {
     "name": "stdout",
     "output_type": "stream",
     "text": [
      "\n",
      "—— Analyzing Game 1405 ——\n",
      "White: AndreyOstrovskiy (2354), Black: jup1978 (2137)\n"
     ]
    },
    {
     "name": "stderr",
     "output_type": "stream",
     "text": [
      "分析棋局:  81%|████████  | 1365/1686 [3:59:45<1:18:20, 14.64s/it]"
     ]
    },
    {
     "name": "stdout",
     "output_type": "stream",
     "text": [
      "\n",
      "—— Analyzing Game 1406 ——\n",
      "White: GeorgMeier (2731), Black: Brandon_Clarke (2310)\n"
     ]
    },
    {
     "name": "stderr",
     "output_type": "stream",
     "text": [
      "分析棋局:  81%|████████  | 1366/1686 [4:00:03<1:23:16, 15.61s/it]"
     ]
    },
    {
     "name": "stdout",
     "output_type": "stream",
     "text": [
      "\n",
      "—— Analyzing Game 1407 ——\n",
      "White: MITerryble (2499), Black: Irochka83 (2273)\n"
     ]
    },
    {
     "name": "stderr",
     "output_type": "stream",
     "text": [
      "分析棋局:  81%|████████  | 1367/1686 [4:00:16<1:20:11, 15.08s/it]"
     ]
    },
    {
     "name": "stdout",
     "output_type": "stream",
     "text": [
      "\n",
      "—— Analyzing Game 1408 ——\n",
      "White: pKiLz5Rn9b (2242), Black: Malev212 (2069)\n"
     ]
    },
    {
     "name": "stderr",
     "output_type": "stream",
     "text": [
      "分析棋局:  81%|████████  | 1368/1686 [4:00:31<1:19:26, 14.99s/it]"
     ]
    },
    {
     "name": "stdout",
     "output_type": "stream",
     "text": [
      "\n",
      "—— Analyzing Game 1409 ——\n",
      "White: Chesseducation4u (2320), Black: vinceyoung15 (2113)\n"
     ]
    },
    {
     "name": "stderr",
     "output_type": "stream",
     "text": [
      "分析棋局:  81%|████████  | 1369/1686 [4:00:52<1:28:21, 16.73s/it]"
     ]
    },
    {
     "name": "stdout",
     "output_type": "stream",
     "text": [
      "\n",
      "—— Analyzing Game 1410 ——\n",
      "White: kesarev (2238), Black: FrankieJay (2208)\n"
     ]
    },
    {
     "name": "stderr",
     "output_type": "stream",
     "text": [
      "分析棋局:  81%|████████▏ | 1370/1686 [4:01:10<1:30:41, 17.22s/it]"
     ]
    },
    {
     "name": "stdout",
     "output_type": "stream",
     "text": [
      "\n",
      "—— Analyzing Game 1411 ——\n",
      "White: Rijeka1999 (2245), Black: esr44 (2072)\n"
     ]
    },
    {
     "name": "stderr",
     "output_type": "stream",
     "text": [
      "分析棋局:  81%|████████▏ | 1371/1686 [4:01:26<1:28:36, 16.88s/it]"
     ]
    },
    {
     "name": "stdout",
     "output_type": "stream",
     "text": [
      "\n",
      "—— Analyzing Game 1412 ——\n",
      "White: GGuseinov (2479), Black: Tirantes (2170)\n"
     ]
    },
    {
     "name": "stderr",
     "output_type": "stream",
     "text": [
      "分析棋局:  81%|████████▏ | 1372/1686 [4:01:42<1:27:00, 16.63s/it]"
     ]
    },
    {
     "name": "stdout",
     "output_type": "stream",
     "text": [
      "\n",
      "—— Analyzing Game 1413 ——\n",
      "White: gmjlh (2478), Black: petrpalachev (2442)\n"
     ]
    },
    {
     "name": "stderr",
     "output_type": "stream",
     "text": [
      "分析棋局:  81%|████████▏ | 1373/1686 [4:01:54<1:19:29, 15.24s/it]"
     ]
    },
    {
     "name": "stdout",
     "output_type": "stream",
     "text": [
      "\n",
      "—— Analyzing Game 1414 ——\n",
      "White: grandmastergauri (2288), Black: asms9699 (2192)\n"
     ]
    },
    {
     "name": "stderr",
     "output_type": "stream",
     "text": [
      "分析棋局:  81%|████████▏ | 1374/1686 [4:02:10<1:20:17, 15.44s/it]"
     ]
    },
    {
     "name": "stdout",
     "output_type": "stream",
     "text": [
      "\n",
      "—— Analyzing Game 1415 ——\n",
      "White: Schemato (2074), Black: michaelk123 (1882)\n"
     ]
    },
    {
     "name": "stderr",
     "output_type": "stream",
     "text": [
      "分析棋局:  82%|████████▏ | 1375/1686 [4:02:28<1:24:02, 16.21s/it]"
     ]
    },
    {
     "name": "stdout",
     "output_type": "stream",
     "text": [
      "\n",
      "—— Analyzing Game 1416 ——\n",
      "White: Gevorg_Harutjunyan (2502), Black: Cryptochess (2394)\n"
     ]
    },
    {
     "name": "stderr",
     "output_type": "stream",
     "text": [
      "分析棋局:  82%|████████▏ | 1376/1686 [4:02:42<1:18:59, 15.29s/it]"
     ]
    },
    {
     "name": "stdout",
     "output_type": "stream",
     "text": [
      "\n",
      "—— Analyzing Game 1417 ——\n",
      "White: iFrancisco (2201), Black: AUSSIE_PINOY (2221)\n"
     ]
    },
    {
     "name": "stderr",
     "output_type": "stream",
     "text": [
      "分析棋局:  82%|████████▏ | 1377/1686 [4:03:07<1:34:19, 18.32s/it]"
     ]
    },
    {
     "name": "stdout",
     "output_type": "stream",
     "text": [
      "\n",
      "—— Analyzing Game 1418 ——\n",
      "White: DanielRensch (2280), Black: MattyDPerrine (2169)\n"
     ]
    },
    {
     "name": "stderr",
     "output_type": "stream",
     "text": [
      "分析棋局:  82%|████████▏ | 1378/1686 [4:03:30<1:40:37, 19.60s/it]"
     ]
    },
    {
     "name": "stdout",
     "output_type": "stream",
     "text": [
      "\n",
      "—— Analyzing Game 1419 ——\n",
      "White: AkshatChandra (2522), Black: MinhGTrAn (2424)\n"
     ]
    },
    {
     "name": "stderr",
     "output_type": "stream",
     "text": [
      "分析棋局:  82%|████████▏ | 1379/1686 [4:03:56<1:51:19, 21.76s/it]"
     ]
    },
    {
     "name": "stdout",
     "output_type": "stream",
     "text": [
      "\n",
      "—— Analyzing Game 1420 ——\n",
      "White: LADIESGET2KNOWME (2276), Black: ViennaRocket (2202)\n"
     ]
    },
    {
     "name": "stderr",
     "output_type": "stream",
     "text": [
      "分析棋局:  82%|████████▏ | 1380/1686 [4:04:13<1:43:58, 20.39s/it]"
     ]
    },
    {
     "name": "stdout",
     "output_type": "stream",
     "text": [
      "\n",
      "—— Analyzing Game 1421 ——\n",
      "White: pedromartinez91 (2148), Black: IMRosen (2091)\n"
     ]
    },
    {
     "name": "stderr",
     "output_type": "stream",
     "text": [
      "分析棋局:  82%|████████▏ | 1381/1686 [4:04:33<1:42:56, 20.25s/it]"
     ]
    },
    {
     "name": "stdout",
     "output_type": "stream",
     "text": [
      "\n",
      "—— Analyzing Game 1422 ——\n",
      "White: Polemistis (1160), Black: HansCoolNiemann (1827)\n"
     ]
    },
    {
     "name": "stderr",
     "output_type": "stream",
     "text": [
      "分析棋局:  82%|████████▏ | 1382/1686 [4:04:38<1:19:20, 15.66s/it]"
     ]
    },
    {
     "name": "stdout",
     "output_type": "stream",
     "text": [
      "\n",
      "—— Analyzing Game 1423 ——\n",
      "White: Colombiano07 (1970), Black: lukas_111111 (2278)\n"
     ]
    },
    {
     "name": "stderr",
     "output_type": "stream",
     "text": [
      "分析棋局:  82%|████████▏ | 1383/1686 [4:04:43<1:02:59, 12.48s/it]"
     ]
    },
    {
     "name": "stdout",
     "output_type": "stream",
     "text": [
      "\n",
      "—— Analyzing Game 1424 ——\n",
      "White: IMLevAltounian (2458), Black: gmjlh (2463)\n"
     ]
    },
    {
     "name": "stderr",
     "output_type": "stream",
     "text": [
      "分析棋局:  82%|████████▏ | 1384/1686 [4:04:49<51:41, 10.27s/it]  "
     ]
    },
    {
     "name": "stdout",
     "output_type": "stream",
     "text": [
      "\n",
      "—— Analyzing Game 1425 ——\n",
      "White: vinceyoung15 (2121), Black: gumersindo (2088)\n"
     ]
    },
    {
     "name": "stderr",
     "output_type": "stream",
     "text": [
      "分析棋局:  82%|████████▏ | 1385/1686 [4:04:59<52:00, 10.37s/it]"
     ]
    },
    {
     "name": "stdout",
     "output_type": "stream",
     "text": [
      "\n",
      "—— Analyzing Game 1426 ——\n",
      "White: chesstatour (1888), Black: kinetix (1459)\n"
     ]
    },
    {
     "name": "stderr",
     "output_type": "stream",
     "text": [
      "分析棋局:  82%|████████▏ | 1386/1686 [4:05:04<43:05,  8.62s/it]"
     ]
    },
    {
     "name": "stdout",
     "output_type": "stream",
     "text": [
      "\n",
      "—— Analyzing Game 1427 ——\n",
      "White: exoticprincess (2800), Black: MITerryble (2493)\n"
     ]
    },
    {
     "name": "stderr",
     "output_type": "stream",
     "text": [
      "分析棋局:  82%|████████▏ | 1387/1686 [4:05:11<40:40,  8.16s/it]"
     ]
    },
    {
     "name": "stdout",
     "output_type": "stream",
     "text": [
      "\n",
      "—— Analyzing Game 1428 ——\n",
      "White: GMHess (2464), Black: FabianEnglert (2237)\n"
     ]
    },
    {
     "name": "stderr",
     "output_type": "stream",
     "text": [
      "分析棋局:  82%|████████▏ | 1388/1686 [4:05:17<37:23,  7.53s/it]"
     ]
    },
    {
     "name": "stdout",
     "output_type": "stream",
     "text": [
      "\n",
      "—— Analyzing Game 1429 ——\n",
      "White: 1stSecond (2374), Black: patzerplay (2163)\n"
     ]
    },
    {
     "name": "stderr",
     "output_type": "stream",
     "text": [
      "分析棋局:  82%|████████▏ | 1389/1686 [4:05:25<38:36,  7.80s/it]"
     ]
    },
    {
     "name": "stdout",
     "output_type": "stream",
     "text": [
      "\n",
      "—— Analyzing Game 1430 ——\n",
      "White: biostatistician (2302), Black: DanielNaroditsky (2608)\n"
     ]
    },
    {
     "name": "stderr",
     "output_type": "stream",
     "text": [
      "分析棋局:  82%|████████▏ | 1390/1686 [4:05:38<45:26,  9.21s/it]"
     ]
    },
    {
     "name": "stdout",
     "output_type": "stream",
     "text": [
      "\n",
      "—— Analyzing Game 1431 ——\n",
      "White: IMRosen (2101), Black: AungTZ (2071)\n"
     ]
    },
    {
     "name": "stderr",
     "output_type": "stream",
     "text": [
      "分析棋局:  83%|████████▎ | 1391/1686 [4:05:51<51:17, 10.43s/it]"
     ]
    },
    {
     "name": "stdout",
     "output_type": "stream",
     "text": [
      "\n",
      "—— Analyzing Game 1432 ——\n",
      "White: wonderfultime (2540), Black: AUSSIE_PINOY (2219)\n"
     ]
    },
    {
     "name": "stderr",
     "output_type": "stream",
     "text": [
      "分析棋局:  83%|████████▎ | 1392/1686 [4:06:03<53:16, 10.87s/it]"
     ]
    },
    {
     "name": "stdout",
     "output_type": "stream",
     "text": [
      "\n",
      "—— Analyzing Game 1433 ——\n",
      "White: Yaacovn (2532), Black: promen1999 (2260)\n"
     ]
    },
    {
     "name": "stderr",
     "output_type": "stream",
     "text": [
      "分析棋局:  83%|████████▎ | 1393/1686 [4:06:12<50:58, 10.44s/it]"
     ]
    },
    {
     "name": "stdout",
     "output_type": "stream",
     "text": [
      "\n",
      "—— Analyzing Game 1434 ——\n",
      "White: ChessTrener (2456), Black: pKiLz5Rn9b (2238)\n"
     ]
    },
    {
     "name": "stderr",
     "output_type": "stream",
     "text": [
      "分析棋局:  83%|████████▎ | 1394/1686 [4:06:24<52:40, 10.82s/it]"
     ]
    },
    {
     "name": "stdout",
     "output_type": "stream",
     "text": [
      "\n",
      "—— Analyzing Game 1435 ——\n",
      "White: MinhGTrAn (2411), Black: destroyer305 (2203)\n"
     ]
    },
    {
     "name": "stderr",
     "output_type": "stream",
     "text": [
      "分析棋局:  83%|████████▎ | 1395/1686 [4:06:35<52:38, 10.85s/it]"
     ]
    },
    {
     "name": "stdout",
     "output_type": "stream",
     "text": [
      "\n",
      "—— Analyzing Game 1436 ——\n",
      "White: grandmastergauri (2295), Black: kesarev (2231)\n"
     ]
    },
    {
     "name": "stderr",
     "output_type": "stream",
     "text": [
      "分析棋局:  83%|████████▎ | 1396/1686 [4:06:52<1:01:42, 12.77s/it]"
     ]
    },
    {
     "name": "stdout",
     "output_type": "stream",
     "text": [
      "\n",
      "—— Analyzing Game 1437 ——\n",
      "White: kharposh (2060), Black: Aragon (1960)\n"
     ]
    },
    {
     "name": "stderr",
     "output_type": "stream",
     "text": [
      "分析棋局:  83%|████████▎ | 1397/1686 [4:07:01<56:08, 11.65s/it]  "
     ]
    },
    {
     "name": "stdout",
     "output_type": "stream",
     "text": [
      "\n",
      "—— Analyzing Game 1438 ——\n",
      "White: Ar4uha (2471), Black: ViennaRocket (2199)\n"
     ]
    },
    {
     "name": "stderr",
     "output_type": "stream",
     "text": [
      "分析棋局:  83%|████████▎ | 1398/1686 [4:07:11<52:49, 11.01s/it]"
     ]
    },
    {
     "name": "stdout",
     "output_type": "stream",
     "text": [
      "\n",
      "—— Analyzing Game 1439 ——\n",
      "White: petrpalachev (2445), Black: pedromartinez91 (2145)\n"
     ]
    },
    {
     "name": "stderr",
     "output_type": "stream",
     "text": [
      "分析棋局:  83%|████████▎ | 1399/1686 [4:07:23<53:48, 11.25s/it]"
     ]
    },
    {
     "name": "stdout",
     "output_type": "stream",
     "text": [
      "\n",
      "—— Analyzing Game 1440 ——\n",
      "White: AkshatChandra (2505), Black: EltajSafarli (2667)\n"
     ]
    },
    {
     "name": "stderr",
     "output_type": "stream",
     "text": [
      "分析棋局:  83%|████████▎ | 1400/1686 [4:07:35<54:43, 11.48s/it]"
     ]
    },
    {
     "name": "stdout",
     "output_type": "stream",
     "text": [
      "\n",
      "—— Analyzing Game 1441 ——\n",
      "White: ChessPsych0 (2014), Black: BjarkeSahl (2071)\n"
     ]
    },
    {
     "name": "stderr",
     "output_type": "stream",
     "text": [
      "分析棋局:  83%|████████▎ | 1401/1686 [4:07:46<54:27, 11.46s/it]"
     ]
    },
    {
     "name": "stdout",
     "output_type": "stream",
     "text": [
      "\n",
      "—— Analyzing Game 1442 ——\n",
      "White: FrankieJay (2203), Black: Spas_Kozhuharov (2407)\n"
     ]
    },
    {
     "name": "stderr",
     "output_type": "stream",
     "text": [
      "分析棋局:  83%|████████▎ | 1402/1686 [4:07:58<54:58, 11.62s/it]"
     ]
    },
    {
     "name": "stdout",
     "output_type": "stream",
     "text": [
      "\n",
      "—— Analyzing Game 1443 ——\n",
      "White: Novak_Pezelj (2386), Black: darsen_sanzhaev (2157)\n"
     ]
    },
    {
     "name": "stderr",
     "output_type": "stream",
     "text": [
      "分析棋局:  83%|████████▎ | 1403/1686 [4:08:08<53:08, 11.27s/it]"
     ]
    },
    {
     "name": "stdout",
     "output_type": "stream",
     "text": [
      "\n",
      "—— Analyzing Game 1444 ——\n",
      "White: manitodeplomo (2292), Black: Schemato (2079)\n"
     ]
    },
    {
     "name": "stderr",
     "output_type": "stream",
     "text": [
      "分析棋局:  83%|████████▎ | 1404/1686 [4:08:20<53:38, 11.41s/it]"
     ]
    },
    {
     "name": "stdout",
     "output_type": "stream",
     "text": [
      "\n",
      "—— Analyzing Game 1445 ——\n",
      "White: esr44 (2084), Black: LADIESGET2KNOWME (2264)\n"
     ]
    },
    {
     "name": "stderr",
     "output_type": "stream",
     "text": [
      "分析棋局:  83%|████████▎ | 1405/1686 [4:08:30<51:25, 10.98s/it]"
     ]
    },
    {
     "name": "stdout",
     "output_type": "stream",
     "text": [
      "\n",
      "—— Analyzing Game 1446 ——\n",
      "White: brauliocuarta (2021), Black: PauloCesarCosta (2050)\n"
     ]
    },
    {
     "name": "stderr",
     "output_type": "stream",
     "text": [
      "分析棋局:  83%|████████▎ | 1406/1686 [4:08:41<50:43, 10.87s/it]"
     ]
    },
    {
     "name": "stdout",
     "output_type": "stream",
     "text": [
      "\n",
      "—— Analyzing Game 1447 ——\n",
      "White: Chesseducation4u (2327), Black: Tomsel (2277)\n"
     ]
    },
    {
     "name": "stderr",
     "output_type": "stream",
     "text": [
      "分析棋局:  83%|████████▎ | 1407/1686 [4:08:54<54:14, 11.67s/it]"
     ]
    },
    {
     "name": "stdout",
     "output_type": "stream",
     "text": [
      "\n",
      "—— Analyzing Game 1448 ——\n",
      "White: GasconJR (2285), Black: Fandorine (2559)\n"
     ]
    },
    {
     "name": "stderr",
     "output_type": "stream",
     "text": [
      "分析棋局:  84%|████████▎ | 1408/1686 [4:09:06<53:36, 11.57s/it]"
     ]
    },
    {
     "name": "stdout",
     "output_type": "stream",
     "text": [
      "\n",
      "—— Analyzing Game 1449 ——\n",
      "White: MattyDPerrine (2174), Black: bsmail (2051)\n"
     ]
    },
    {
     "name": "stderr",
     "output_type": "stream",
     "text": [
      "分析棋局:  84%|████████▎ | 1409/1686 [4:09:15<50:40, 10.98s/it]"
     ]
    },
    {
     "name": "stdout",
     "output_type": "stream",
     "text": [
      "\n",
      "—— Analyzing Game 1450 ——\n",
      "White: jcibarra (2537), Black: AlexanderL (2517)\n"
     ]
    },
    {
     "name": "stderr",
     "output_type": "stream",
     "text": [
      "分析棋局:  84%|████████▎ | 1410/1686 [4:09:28<53:18, 11.59s/it]"
     ]
    },
    {
     "name": "stdout",
     "output_type": "stream",
     "text": [
      "\n",
      "—— Analyzing Game 1451 ——\n",
      "White: zmaj23 (2321), Black: Tilicheev_Viacheslav (2509)\n"
     ]
    },
    {
     "name": "stderr",
     "output_type": "stream",
     "text": [
      "分析棋局:  84%|████████▎ | 1411/1686 [4:09:42<55:21, 12.08s/it]"
     ]
    },
    {
     "name": "stdout",
     "output_type": "stream",
     "text": [
      "\n",
      "—— Analyzing Game 1452 ——\n",
      "White: GGuseinov (2541), Black: Mugzyyy (2270)\n"
     ]
    },
    {
     "name": "stderr",
     "output_type": "stream",
     "text": [
      "分析棋局:  84%|████████▎ | 1412/1686 [4:09:56<58:41, 12.85s/it]"
     ]
    },
    {
     "name": "stdout",
     "output_type": "stream",
     "text": [
      "\n",
      "—— Analyzing Game 1453 ——\n",
      "White: Rijeka1999 (2242), Black: Gevorg_Harutjunyan (2505)\n"
     ]
    },
    {
     "name": "stderr",
     "output_type": "stream",
     "text": [
      "分析棋局:  84%|████████▍ | 1413/1686 [4:10:12<1:02:05, 13.65s/it]"
     ]
    },
    {
     "name": "stdout",
     "output_type": "stream",
     "text": [
      "\n",
      "—— Analyzing Game 1454 ——\n",
      "White: GeorgMeier (2733), Black: Cryptochess (2392)\n"
     ]
    },
    {
     "name": "stderr",
     "output_type": "stream",
     "text": [
      "分析棋局:  84%|████████▍ | 1414/1686 [4:10:26<1:03:01, 13.90s/it]"
     ]
    },
    {
     "name": "stdout",
     "output_type": "stream",
     "text": [
      "\n",
      "—— Analyzing Game 1455 ——\n",
      "White: alturas_pacificas (2059), Black: Danirod (2316)\n"
     ]
    },
    {
     "name": "stderr",
     "output_type": "stream",
     "text": [
      "分析棋局:  84%|████████▍ | 1415/1686 [4:10:47<1:12:26, 16.04s/it]"
     ]
    },
    {
     "name": "stdout",
     "output_type": "stream",
     "text": [
      "\n",
      "—— Analyzing Game 1456 ——\n",
      "White: Brandon_Clarke (2314), Black: WanderingPuppet (2095)\n"
     ]
    },
    {
     "name": "stderr",
     "output_type": "stream",
     "text": [
      "分析棋局:  84%|████████▍ | 1416/1686 [4:11:03<1:11:31, 15.90s/it]"
     ]
    },
    {
     "name": "stdout",
     "output_type": "stream",
     "text": [
      "\n",
      "—— Analyzing Game 1457 ——\n",
      "White: asms9699 (2227), Black: DanielRensch (2265)\n"
     ]
    },
    {
     "name": "stderr",
     "output_type": "stream",
     "text": [
      "分析棋局:  84%|████████▍ | 1417/1686 [4:11:19<1:11:09, 15.87s/it]"
     ]
    },
    {
     "name": "stdout",
     "output_type": "stream",
     "text": [
      "\n",
      "—— Analyzing Game 1458 ——\n",
      "White: raskolnnikov (2278), Black: Malev212 (2062)\n"
     ]
    },
    {
     "name": "stderr",
     "output_type": "stream",
     "text": [
      "分析棋局:  84%|████████▍ | 1418/1686 [4:11:37<1:13:41, 16.50s/it]"
     ]
    },
    {
     "name": "stdout",
     "output_type": "stream",
     "text": [
      "\n",
      "—— Analyzing Game 1459 ——\n",
      "White: lorcho (2348), Black: Irochka83 (2293)\n"
     ]
    },
    {
     "name": "stderr",
     "output_type": "stream",
     "text": [
      "分析棋局:  84%|████████▍ | 1419/1686 [4:11:54<1:14:33, 16.75s/it]"
     ]
    },
    {
     "name": "stdout",
     "output_type": "stream",
     "text": [
      "\n",
      "—— Analyzing Game 1460 ——\n",
      "White: Mazetovic (2283), Black: megarompa (2639)\n"
     ]
    },
    {
     "name": "stderr",
     "output_type": "stream",
     "text": [
      "分析棋局:  84%|████████▍ | 1420/1686 [4:12:10<1:14:01, 16.70s/it]"
     ]
    },
    {
     "name": "stdout",
     "output_type": "stream",
     "text": [
      "\n",
      "—— Analyzing Game 1461 ——\n",
      "White: Hafez_Bakr (1837), Black: Mvpag (1851)\n"
     ]
    },
    {
     "name": "stderr",
     "output_type": "stream",
     "text": [
      "分析棋局:  84%|████████▍ | 1421/1686 [4:12:27<1:13:48, 16.71s/it]"
     ]
    },
    {
     "name": "stdout",
     "output_type": "stream",
     "text": [
      "\n",
      "—— Analyzing Game 1462 ——\n",
      "White: jup1978 (2132), Black: michaelk123 (1900)\n"
     ]
    },
    {
     "name": "stderr",
     "output_type": "stream",
     "text": [
      "分析棋局:  84%|████████▍ | 1422/1686 [4:12:42<1:10:55, 16.12s/it]"
     ]
    },
    {
     "name": "stdout",
     "output_type": "stream",
     "text": [
      "\n",
      "—— Analyzing Game 1463 ——\n",
      "White: Bab3s (2059), Black: Tirantes (2258)\n"
     ]
    },
    {
     "name": "stderr",
     "output_type": "stream",
     "text": [
      "分析棋局:  84%|████████▍ | 1423/1686 [4:13:01<1:14:41, 17.04s/it]"
     ]
    },
    {
     "name": "stdout",
     "output_type": "stream",
     "text": [
      "\n",
      "—— Analyzing Game 1464 ——\n",
      "White: KyronGriffith (2164), Black: SuPeR_Fm (2357)\n"
     ]
    },
    {
     "name": "stderr",
     "output_type": "stream",
     "text": [
      "分析棋局:  84%|████████▍ | 1424/1686 [4:13:30<1:30:13, 20.66s/it]"
     ]
    },
    {
     "name": "stdout",
     "output_type": "stream",
     "text": [
      "\n",
      "—— Analyzing Game 1465 ——\n",
      "White: stepanosinovsky (2280), Black: AndreyOstrovskiy (2352)\n"
     ]
    },
    {
     "name": "stderr",
     "output_type": "stream",
     "text": [
      "分析棋局:  85%|████████▍ | 1425/1686 [4:13:41<1:17:17, 17.77s/it]"
     ]
    },
    {
     "name": "stdout",
     "output_type": "stream",
     "text": [
      "\n",
      "—— Analyzing Game 1466 ——\n",
      "White: exoticprincess (2790), Black: Fandorine (2575)\n",
      "\n",
      "—— Analyzing Game 1467 ——\n",
      "White: ViennaRocket (2192), Black: Rijeka1999 (2249)\n"
     ]
    },
    {
     "name": "stderr",
     "output_type": "stream",
     "text": [
      "分析棋局:  85%|████████▍ | 1426/1686 [4:13:45<58:33, 13.51s/it]  "
     ]
    },
    {
     "name": "stdout",
     "output_type": "stream",
     "text": [
      "\n",
      "—— Analyzing Game 1468 ——\n",
      "White: LADIESGET2KNOWME (2267), Black: Colombiano07 (1967)\n"
     ]
    },
    {
     "name": "stderr",
     "output_type": "stream",
     "text": [
      "分析棋局:  85%|████████▍ | 1427/1686 [4:13:50<47:02, 10.90s/it]"
     ]
    },
    {
     "name": "stdout",
     "output_type": "stream",
     "text": [
      "\n",
      "—— Analyzing Game 1469 ——\n",
      "White: HansCoolNiemann (1827), Black: Tilicheev_Viacheslav (2509)\n"
     ]
    },
    {
     "name": "stderr",
     "output_type": "stream",
     "text": [
      "分析棋局:  85%|████████▍ | 1428/1686 [4:13:53<37:04,  8.62s/it]"
     ]
    },
    {
     "name": "stdout",
     "output_type": "stream",
     "text": [
      "\n",
      "—— Analyzing Game 1470 ——\n",
      "White: raskolnnikov (2275), Black: GGuseinov (2574)\n"
     ]
    },
    {
     "name": "stderr",
     "output_type": "stream",
     "text": [
      "分析棋局:  85%|████████▍ | 1429/1686 [4:14:03<38:24,  8.97s/it]"
     ]
    },
    {
     "name": "stdout",
     "output_type": "stream",
     "text": [
      "\n",
      "—— Analyzing Game 1471 ——\n",
      "White: MITerryble (2504), Black: Chesseducation4u (2323)\n"
     ]
    },
    {
     "name": "stderr",
     "output_type": "stream",
     "text": [
      "分析棋局:  85%|████████▍ | 1430/1686 [4:14:14<40:44,  9.55s/it]"
     ]
    },
    {
     "name": "stdout",
     "output_type": "stream",
     "text": [
      "\n",
      "—— Analyzing Game 1472 ——\n",
      "White: BjarkeSahl (2085), Black: 1stSecond (2360)\n"
     ]
    },
    {
     "name": "stderr",
     "output_type": "stream",
     "text": [
      "分析棋局:  85%|████████▍ | 1431/1686 [4:14:25<43:02, 10.13s/it]"
     ]
    },
    {
     "name": "stdout",
     "output_type": "stream",
     "text": [
      "\n",
      "—— Analyzing Game 1473 ——\n",
      "White: SuPeR_Fm (2357), Black: Polemistis (1157)\n"
     ]
    },
    {
     "name": "stderr",
     "output_type": "stream",
     "text": [
      "分析棋局:  85%|████████▍ | 1432/1686 [4:14:34<41:03,  9.70s/it]"
     ]
    },
    {
     "name": "stdout",
     "output_type": "stream",
     "text": [
      "\n",
      "—— Analyzing Game 1474 ——\n",
      "White: Gevorg_Harutjunyan (2509), Black: Brandon_Clarke (2310)\n"
     ]
    },
    {
     "name": "stderr",
     "output_type": "stream",
     "text": [
      "分析棋局:  85%|████████▍ | 1433/1686 [4:14:42<38:29,  9.13s/it]"
     ]
    },
    {
     "name": "stdout",
     "output_type": "stream",
     "text": [
      "\n",
      "—— Analyzing Game 1475 ——\n",
      "White: Malev212 (2055), Black: Mugzyyy (2325)\n"
     ]
    },
    {
     "name": "stderr",
     "output_type": "stream",
     "text": [
      "分析棋局:  85%|████████▌ | 1434/1686 [4:14:50<37:15,  8.87s/it]"
     ]
    },
    {
     "name": "stdout",
     "output_type": "stream",
     "text": [
      "\n",
      "—— Analyzing Game 1476 ——\n",
      "White: pKiLz5Rn9b (2228), Black: patzerplay (2174)\n"
     ]
    },
    {
     "name": "stderr",
     "output_type": "stream",
     "text": [
      "分析棋局:  85%|████████▌ | 1435/1686 [4:15:02<41:00,  9.80s/it]"
     ]
    },
    {
     "name": "stdout",
     "output_type": "stream",
     "text": [
      "\n",
      "—— Analyzing Game 1477 ——\n",
      "White: Schemato (2078), Black: Yaacovn (2533)\n"
     ]
    },
    {
     "name": "stderr",
     "output_type": "stream",
     "text": [
      "分析棋局:  85%|████████▌ | 1436/1686 [4:15:13<43:07, 10.35s/it]"
     ]
    },
    {
     "name": "stdout",
     "output_type": "stream",
     "text": [
      "\n",
      "—— Analyzing Game 1478 ——\n",
      "White: Spas_Kozhuharov (2414), Black: FabianEnglert (2233)\n"
     ]
    },
    {
     "name": "stderr",
     "output_type": "stream",
     "text": [
      "分析棋局:  85%|████████▌ | 1437/1686 [4:15:23<42:04, 10.14s/it]"
     ]
    },
    {
     "name": "stdout",
     "output_type": "stream",
     "text": [
      "\n",
      "—— Analyzing Game 1479 ——\n",
      "White: IMLevAltounian (2444), Black: IMRosen (2118)\n"
     ]
    },
    {
     "name": "stderr",
     "output_type": "stream",
     "text": [
      "分析棋局:  85%|████████▌ | 1438/1686 [4:15:29<36:54,  8.93s/it]"
     ]
    },
    {
     "name": "stdout",
     "output_type": "stream",
     "text": [
      "\n",
      "—— Analyzing Game 1480 ——\n",
      "White: Cryptochess (2396), Black: destroyer305 (2199)\n"
     ]
    },
    {
     "name": "stderr",
     "output_type": "stream",
     "text": [
      "分析棋局:  85%|████████▌ | 1439/1686 [4:15:40<39:36,  9.62s/it]"
     ]
    },
    {
     "name": "stdout",
     "output_type": "stream",
     "text": [
      "\n",
      "—— Analyzing Game 1481 ——\n",
      "White: GasconJR (2281), Black: AkshatChandra (2517)\n"
     ]
    },
    {
     "name": "stderr",
     "output_type": "stream",
     "text": [
      "分析棋局:  85%|████████▌ | 1440/1686 [4:15:48<37:23,  9.12s/it]"
     ]
    },
    {
     "name": "stdout",
     "output_type": "stream",
     "text": [
      "\n",
      "—— Analyzing Game 1482 ——\n",
      "White: ChessPsych0 (2030), Black: Hafez_Bakr (1833)\n"
     ]
    },
    {
     "name": "stderr",
     "output_type": "stream",
     "text": [
      "分析棋局:  85%|████████▌ | 1441/1686 [4:16:02<42:29, 10.41s/it]"
     ]
    },
    {
     "name": "stdout",
     "output_type": "stream",
     "text": [
      "\n",
      "—— Analyzing Game 1483 ——\n",
      "White: megarompa (2647), Black: petrpalachev (2441)\n"
     ]
    },
    {
     "name": "stderr",
     "output_type": "stream",
     "text": [
      "分析棋局:  86%|████████▌ | 1442/1686 [4:16:13<42:53, 10.55s/it]"
     ]
    },
    {
     "name": "stdout",
     "output_type": "stream",
     "text": [
      "\n",
      "—— Analyzing Game 1484 ——\n",
      "White: Danirod (2320), Black: vinceyoung15 (2117)\n"
     ]
    },
    {
     "name": "stderr",
     "output_type": "stream",
     "text": [
      "分析棋局:  86%|████████▌ | 1443/1686 [4:16:24<43:33, 10.76s/it]"
     ]
    },
    {
     "name": "stdout",
     "output_type": "stream",
     "text": [
      "\n",
      "—— Analyzing Game 1485 ——\n",
      "White: Ar4uha (2459), Black: promen1999 (2279)\n"
     ]
    },
    {
     "name": "stderr",
     "output_type": "stream",
     "text": [
      "分析棋局:  86%|████████▌ | 1444/1686 [4:16:36<45:11, 11.21s/it]"
     ]
    },
    {
     "name": "stdout",
     "output_type": "stream",
     "text": [
      "\n",
      "—— Analyzing Game 1486 ——\n",
      "White: EltajSafarli (2678), Black: DanielNaroditsky (2589)\n"
     ]
    },
    {
     "name": "stderr",
     "output_type": "stream",
     "text": [
      "分析棋局:  86%|████████▌ | 1445/1686 [4:16:51<49:48, 12.40s/it]"
     ]
    },
    {
     "name": "stdout",
     "output_type": "stream",
     "text": [
      "\n",
      "—— Analyzing Game 1487 ——\n",
      "White: gumersindo (2091), Black: Mvpag (1848)\n"
     ]
    },
    {
     "name": "stderr",
     "output_type": "stream",
     "text": [
      "分析棋局:  86%|████████▌ | 1446/1686 [4:17:10<56:30, 14.13s/it]"
     ]
    },
    {
     "name": "stdout",
     "output_type": "stream",
     "text": [
      "\n",
      "—— Analyzing Game 1488 ——\n",
      "White: brauliocuarta (2016), Black: Mazetovic (2334)\n"
     ]
    },
    {
     "name": "stderr",
     "output_type": "stream",
     "text": [
      "分析棋局:  86%|████████▌ | 1447/1686 [4:17:22<54:09, 13.60s/it]"
     ]
    },
    {
     "name": "stdout",
     "output_type": "stream",
     "text": [
      "\n",
      "—— Analyzing Game 1489 ——\n",
      "White: alturas_pacificas (2059), Black: kinetix (1451)\n"
     ]
    },
    {
     "name": "stderr",
     "output_type": "stream",
     "text": [
      "分析棋局:  86%|████████▌ | 1448/1686 [4:17:36<54:30, 13.74s/it]"
     ]
    },
    {
     "name": "stdout",
     "output_type": "stream",
     "text": [
      "\n",
      "—— Analyzing Game 1490 ——\n",
      "White: ChessTrener (2446), Black: Novak_Pezelj (2440)\n"
     ]
    },
    {
     "name": "stderr",
     "output_type": "stream",
     "text": [
      "分析棋局:  86%|████████▌ | 1449/1686 [4:17:51<55:43, 14.11s/it]"
     ]
    },
    {
     "name": "stdout",
     "output_type": "stream",
     "text": [
      "\n",
      "—— Analyzing Game 1491 ——\n",
      "White: AungTZ (2065), Black: pedromartinez91 (2151)\n"
     ]
    },
    {
     "name": "stderr",
     "output_type": "stream",
     "text": [
      "分析棋局:  86%|████████▌ | 1450/1686 [4:18:03<53:13, 13.53s/it]"
     ]
    },
    {
     "name": "stdout",
     "output_type": "stream",
     "text": [
      "\n",
      "—— Analyzing Game 1492 ——\n",
      "White: biostatistician (2299), Black: wonderfultime (2543)\n"
     ]
    },
    {
     "name": "stderr",
     "output_type": "stream",
     "text": [
      "分析棋局:  86%|████████▌ | 1451/1686 [4:18:15<51:32, 13.16s/it]"
     ]
    },
    {
     "name": "stdout",
     "output_type": "stream",
     "text": [
      "\n",
      "—— Analyzing Game 1493 ——\n",
      "White: chesstatour (1891), Black: PauloCesarCosta (2047)\n"
     ]
    },
    {
     "name": "stderr",
     "output_type": "stream",
     "text": [
      "分析棋局:  86%|████████▌ | 1452/1686 [4:18:28<50:14, 12.88s/it]"
     ]
    },
    {
     "name": "stdout",
     "output_type": "stream",
     "text": [
      "\n",
      "—— Analyzing Game 1494 ——\n",
      "White: Tomsel (2281), Black: WanderingPuppet (2091)\n"
     ]
    },
    {
     "name": "stderr",
     "output_type": "stream",
     "text": [
      "分析棋局:  86%|████████▌ | 1453/1686 [4:18:42<52:10, 13.44s/it]"
     ]
    },
    {
     "name": "stdout",
     "output_type": "stream",
     "text": [
      "\n",
      "—— Analyzing Game 1495 ——\n",
      "White: AlexanderL (2513), Black: GeorgMeier (2737)\n"
     ]
    },
    {
     "name": "stderr",
     "output_type": "stream",
     "text": [
      "分析棋局:  86%|████████▌ | 1454/1686 [4:18:55<50:55, 13.17s/it]"
     ]
    },
    {
     "name": "stdout",
     "output_type": "stream",
     "text": [
      "\n",
      "—— Analyzing Game 1496 ——\n",
      "White: stepanosinovsky (2288), Black: manitodeplomo (2284)\n"
     ]
    },
    {
     "name": "stderr",
     "output_type": "stream",
     "text": [
      "分析棋局:  86%|████████▋ | 1455/1686 [4:19:07<49:02, 12.74s/it]"
     ]
    },
    {
     "name": "stdout",
     "output_type": "stream",
     "text": [
      "\n",
      "—— Analyzing Game 1497 ——\n",
      "White: MinhGTrAn (2414), Black: darsen_sanzhaev (2153)\n"
     ]
    },
    {
     "name": "stderr",
     "output_type": "stream",
     "text": [
      "分析棋局:  86%|████████▋ | 1456/1686 [4:19:18<47:38, 12.43s/it]"
     ]
    },
    {
     "name": "stdout",
     "output_type": "stream",
     "text": [
      "\n",
      "—— Analyzing Game 1498 ——\n",
      "White: Irochka83 (2287), Black: jcibarra (2541)\n"
     ]
    },
    {
     "name": "stderr",
     "output_type": "stream",
     "text": [
      "分析棋局:  86%|████████▋ | 1457/1686 [4:19:34<51:22, 13.46s/it]"
     ]
    },
    {
     "name": "stdout",
     "output_type": "stream",
     "text": [
      "\n",
      "—— Analyzing Game 1499 ——\n",
      "White: Aragon (1970), Black: Bab3s (2046)\n"
     ]
    },
    {
     "name": "stderr",
     "output_type": "stream",
     "text": [
      "分析棋局:  86%|████████▋ | 1458/1686 [4:19:52<55:50, 14.69s/it]"
     ]
    },
    {
     "name": "stdout",
     "output_type": "stream",
     "text": [
      "\n",
      "—— Analyzing Game 1500 ——\n",
      "White: DanielRensch (2249), Black: jup1978 (2143)\n"
     ]
    },
    {
     "name": "stderr",
     "output_type": "stream",
     "text": [
      "分析棋局:  87%|████████▋ | 1459/1686 [4:20:06<55:27, 14.66s/it]"
     ]
    },
    {
     "name": "stdout",
     "output_type": "stream",
     "text": [
      "\n",
      "—— Analyzing Game 1501 ——\n",
      "White: AndreyOstrovskiy (2349), Black: asms9699 (2236)\n"
     ]
    },
    {
     "name": "stderr",
     "output_type": "stream",
     "text": [
      "分析棋局:  87%|████████▋ | 1460/1686 [4:20:30<1:05:36, 17.42s/it]"
     ]
    },
    {
     "name": "stdout",
     "output_type": "stream",
     "text": [
      "\n",
      "—— Analyzing Game 1502 ——\n",
      "White: Tirantes (2313), Black: kharposh (2056)\n"
     ]
    },
    {
     "name": "stderr",
     "output_type": "stream",
     "text": [
      "分析棋局:  87%|████████▋ | 1461/1686 [4:20:44<1:01:42, 16.45s/it]"
     ]
    },
    {
     "name": "stdout",
     "output_type": "stream",
     "text": [
      "\n",
      "—— Analyzing Game 1503 ——\n",
      "White: bsmail (2047), Black: kesarev (2235)\n"
     ]
    },
    {
     "name": "stderr",
     "output_type": "stream",
     "text": [
      "分析棋局:  87%|████████▋ | 1462/1686 [4:21:06<1:07:39, 18.12s/it]"
     ]
    },
    {
     "name": "stdout",
     "output_type": "stream",
     "text": [
      "\n",
      "—— Analyzing Game 1504 ——\n",
      "White: KyronGriffith (2159), Black: lukas_111111 (2283)\n"
     ]
    },
    {
     "name": "stderr",
     "output_type": "stream",
     "text": [
      "分析棋局:  87%|████████▋ | 1463/1686 [4:21:28<1:10:41, 19.02s/it]"
     ]
    },
    {
     "name": "stdout",
     "output_type": "stream",
     "text": [
      "\n",
      "—— Analyzing Game 1505 ——\n",
      "White: AUSSIE_PINOY (2224), Black: esr44 (2079)\n"
     ]
    },
    {
     "name": "stderr",
     "output_type": "stream",
     "text": [
      "分析棋局:  87%|████████▋ | 1464/1686 [4:21:43<1:06:44, 18.04s/it]"
     ]
    },
    {
     "name": "stdout",
     "output_type": "stream",
     "text": [
      "\n",
      "—— Analyzing Game 1506 ——\n",
      "White: michaelk123 (1919), Black: FrankieJay (2196)\n"
     ]
    },
    {
     "name": "stderr",
     "output_type": "stream",
     "text": [
      "分析棋局:  87%|████████▋ | 1465/1686 [4:22:01<1:06:24, 18.03s/it]"
     ]
    },
    {
     "name": "stdout",
     "output_type": "stream",
     "text": [
      "\n",
      "—— Analyzing Game 1507 ——\n",
      "White: MattyDPerrine (2177), Black: grandmastergauri (2292)\n"
     ]
    },
    {
     "name": "stderr",
     "output_type": "stream",
     "text": [
      "分析棋局:  87%|████████▋ | 1466/1686 [4:22:23<1:10:15, 19.16s/it]"
     ]
    },
    {
     "name": "stdout",
     "output_type": "stream",
     "text": [
      "\n",
      "—— Analyzing Game 1508 ——\n",
      "White: zmaj23 (2332), Black: GMHess (2453)\n"
     ]
    },
    {
     "name": "stderr",
     "output_type": "stream",
     "text": [
      "分析棋局:  87%|████████▋ | 1467/1686 [4:22:46<1:14:23, 20.38s/it]"
     ]
    },
    {
     "name": "stdout",
     "output_type": "stream",
     "text": [
      "\n",
      "—— Analyzing Game 1509 ——\n",
      "White: MinhGTrAn (2419), Black: GasconJR (2276)\n"
     ]
    },
    {
     "name": "stderr",
     "output_type": "stream",
     "text": [
      "分析棋局:  87%|████████▋ | 1468/1686 [4:22:54<59:42, 16.43s/it]  "
     ]
    },
    {
     "name": "stdout",
     "output_type": "stream",
     "text": [
      "\n",
      "—— Analyzing Game 1510 ——\n",
      "White: Tomsel (2290), Black: Danirod (2311)\n"
     ]
    },
    {
     "name": "stderr",
     "output_type": "stream",
     "text": [
      "分析棋局:  87%|████████▋ | 1469/1686 [4:23:00<48:23, 13.38s/it]"
     ]
    },
    {
     "name": "stdout",
     "output_type": "stream",
     "text": [
      "\n",
      "—— Analyzing Game 1511 ——\n",
      "White: zmaj23 (2331), Black: exoticprincess (2792)\n"
     ]
    },
    {
     "name": "stderr",
     "output_type": "stream",
     "text": [
      "分析棋局:  87%|████████▋ | 1470/1686 [4:23:10<44:35, 12.39s/it]"
     ]
    },
    {
     "name": "stdout",
     "output_type": "stream",
     "text": [
      "\n",
      "—— Analyzing Game 1512 ——\n",
      "White: FabianEnglert (2238), Black: Schemato (2073)\n"
     ]
    },
    {
     "name": "stderr",
     "output_type": "stream",
     "text": [
      "分析棋局:  87%|████████▋ | 1471/1686 [4:23:14<35:59, 10.05s/it]"
     ]
    },
    {
     "name": "stdout",
     "output_type": "stream",
     "text": [
      "\n",
      "—— Analyzing Game 1513 ——\n",
      "White: DanielRensch (2255), Black: bsmail (2043)\n"
     ]
    },
    {
     "name": "stderr",
     "output_type": "stream",
     "text": [
      "分析棋局:  87%|████████▋ | 1472/1686 [4:23:25<36:45, 10.31s/it]"
     ]
    },
    {
     "name": "stdout",
     "output_type": "stream",
     "text": [
      "\n",
      "—— Analyzing Game 1514 ——\n",
      "White: stepanosinovsky (2283), Black: IMLevAltounian (2449)\n"
     ]
    },
    {
     "name": "stderr",
     "output_type": "stream",
     "text": [
      "分析棋局:  87%|████████▋ | 1473/1686 [4:23:33<33:22,  9.40s/it]"
     ]
    },
    {
     "name": "stdout",
     "output_type": "stream",
     "text": [
      "\n",
      "—— Analyzing Game 1515 ——\n",
      "White: 1stSecond (2366), Black: Rijeka1999 (2243)\n"
     ]
    },
    {
     "name": "stderr",
     "output_type": "stream",
     "text": [
      "分析棋局:  87%|████████▋ | 1474/1686 [4:23:43<33:55,  9.60s/it]"
     ]
    },
    {
     "name": "stdout",
     "output_type": "stream",
     "text": [
      "\n",
      "—— Analyzing Game 1516 ——\n",
      "White: pedromartinez91 (2149), Black: ChessTrener (2449)\n"
     ]
    },
    {
     "name": "stderr",
     "output_type": "stream",
     "text": [
      "分析棋局:  87%|████████▋ | 1475/1686 [4:23:53<33:59,  9.67s/it]"
     ]
    },
    {
     "name": "stdout",
     "output_type": "stream",
     "text": [
      "\n",
      "—— Analyzing Game 1517 ——\n",
      "White: Mvpag (1859), Black: Colombiano07 (1956)\n"
     ]
    },
    {
     "name": "stderr",
     "output_type": "stream",
     "text": [
      "分析棋局:  88%|████████▊ | 1476/1686 [4:24:03<34:20,  9.81s/it]"
     ]
    },
    {
     "name": "stdout",
     "output_type": "stream",
     "text": [
      "\n",
      "—— Analyzing Game 1518 ——\n",
      "White: Tilicheev_Viacheslav (2513), Black: Mazetovic (2278)\n"
     ]
    },
    {
     "name": "stderr",
     "output_type": "stream",
     "text": [
      "分析棋局:  88%|████████▊ | 1477/1686 [4:24:15<36:18, 10.42s/it]"
     ]
    },
    {
     "name": "stdout",
     "output_type": "stream",
     "text": [
      "\n",
      "—— Analyzing Game 1519 ——\n",
      "White: Ar4uha (2463), Black: Irochka83 (2279)\n"
     ]
    },
    {
     "name": "stderr",
     "output_type": "stream",
     "text": [
      "分析棋局:  88%|████████▊ | 1478/1686 [4:24:26<36:53, 10.64s/it]"
     ]
    },
    {
     "name": "stdout",
     "output_type": "stream",
     "text": [
      "\n",
      "—— Analyzing Game 1520 ——\n",
      "White: Fandorine (2579), Black: IMRosen (2117)\n"
     ]
    },
    {
     "name": "stderr",
     "output_type": "stream",
     "text": [
      "分析棋局:  88%|████████▊ | 1479/1686 [4:24:37<37:51, 10.97s/it]"
     ]
    },
    {
     "name": "stdout",
     "output_type": "stream",
     "text": [
      "\n",
      "—— Analyzing Game 1521 ——\n",
      "White: destroyer305 (2209), Black: grandmastergauri (2282)\n"
     ]
    },
    {
     "name": "stderr",
     "output_type": "stream",
     "text": [
      "分析棋局:  88%|████████▊ | 1480/1686 [4:24:46<35:12, 10.26s/it]"
     ]
    },
    {
     "name": "stdout",
     "output_type": "stream",
     "text": [
      "\n",
      "—— Analyzing Game 1522 ——\n",
      "White: AlexanderL (2516), Black: raskolnnikov (2272)\n"
     ]
    },
    {
     "name": "stderr",
     "output_type": "stream",
     "text": [
      "分析棋局:  88%|████████▊ | 1481/1686 [4:24:56<34:33, 10.12s/it]"
     ]
    },
    {
     "name": "stdout",
     "output_type": "stream",
     "text": [
      "\n",
      "—— Analyzing Game 1523 ——\n",
      "White: AndreyOstrovskiy (2354), Black: AUSSIE_PINOY (2219)\n"
     ]
    },
    {
     "name": "stderr",
     "output_type": "stream",
     "text": [
      "分析棋局:  88%|████████▊ | 1482/1686 [4:25:09<37:34, 11.05s/it]"
     ]
    },
    {
     "name": "stdout",
     "output_type": "stream",
     "text": [
      "\n",
      "—— Analyzing Game 1524 ——\n",
      "White: Polemistis (1140), Black: michaelk123 (1920)\n"
     ]
    },
    {
     "name": "stderr",
     "output_type": "stream",
     "text": [
      "分析棋局:  88%|████████▊ | 1483/1686 [4:25:20<36:53, 10.90s/it]"
     ]
    },
    {
     "name": "stdout",
     "output_type": "stream",
     "text": [
      "\n",
      "—— Analyzing Game 1525 ——\n",
      "White: Brandon_Clarke (2302), Black: biostatistician (2307)\n"
     ]
    },
    {
     "name": "stderr",
     "output_type": "stream",
     "text": [
      "分析棋局:  88%|████████▊ | 1484/1686 [4:25:35<40:54, 12.15s/it]"
     ]
    },
    {
     "name": "stdout",
     "output_type": "stream",
     "text": [
      "\n",
      "—— Analyzing Game 1526 ——\n",
      "White: HansCoolNiemann (1826), Black: SuPeR_Fm (2358)\n"
     ]
    },
    {
     "name": "stderr",
     "output_type": "stream",
     "text": [
      "分析棋局:  88%|████████▊ | 1485/1686 [4:25:45<38:44, 11.56s/it]"
     ]
    },
    {
     "name": "stdout",
     "output_type": "stream",
     "text": [
      "\n",
      "—— Analyzing Game 1527 ——\n",
      "White: manitodeplomo (2288), Black: AungTZ (2061)\n"
     ]
    },
    {
     "name": "stderr",
     "output_type": "stream",
     "text": [
      "分析棋局:  88%|████████▊ | 1486/1686 [4:25:56<37:37, 11.29s/it]"
     ]
    },
    {
     "name": "stdout",
     "output_type": "stream",
     "text": [
      "\n",
      "—— Analyzing Game 1528 ——\n",
      "White: darsen_sanzhaev (2161), Black: vinceyoung15 (2110)\n"
     ]
    },
    {
     "name": "stderr",
     "output_type": "stream",
     "text": [
      "分析棋局:  88%|████████▊ | 1487/1686 [4:26:07<37:18, 11.25s/it]"
     ]
    },
    {
     "name": "stdout",
     "output_type": "stream",
     "text": [
      "\n",
      "—— Analyzing Game 1529 ——\n",
      "White: chesstatour (1889), Black: pKiLz5Rn9b (2230)\n"
     ]
    },
    {
     "name": "stderr",
     "output_type": "stream",
     "text": [
      "分析棋局:  88%|████████▊ | 1488/1686 [4:26:24<43:09, 13.08s/it]"
     ]
    },
    {
     "name": "stdout",
     "output_type": "stream",
     "text": [
      "\n",
      "—— Analyzing Game 1530 ——\n",
      "White: patzerplay (2179), Black: brauliocuarta (2008)\n"
     ]
    },
    {
     "name": "stderr",
     "output_type": "stream",
     "text": [
      "分析棋局:  88%|████████▊ | 1489/1686 [4:26:40<45:44, 13.93s/it]"
     ]
    },
    {
     "name": "stdout",
     "output_type": "stream",
     "text": [
      "\n",
      "—— Analyzing Game 1531 ——\n",
      "White: lukas_111111 (2273), Black: MattyDPerrine (2187)\n"
     ]
    },
    {
     "name": "stderr",
     "output_type": "stream",
     "text": [
      "分析棋局:  88%|████████▊ | 1490/1686 [4:26:51<42:26, 12.99s/it]"
     ]
    },
    {
     "name": "stdout",
     "output_type": "stream",
     "text": [
      "\n",
      "—— Analyzing Game 1532 ——\n",
      "White: esr44 (2090), Black: FrankieJay (2183)\n"
     ]
    },
    {
     "name": "stderr",
     "output_type": "stream",
     "text": [
      "分析棋局:  88%|████████▊ | 1491/1686 [4:27:04<42:17, 13.01s/it]"
     ]
    },
    {
     "name": "stdout",
     "output_type": "stream",
     "text": [
      "\n",
      "—— Analyzing Game 1533 ——\n",
      "White: asms9699 (2217), Black: Chesseducation4u (2329)\n"
     ]
    },
    {
     "name": "stderr",
     "output_type": "stream",
     "text": [
      "分析棋局:  88%|████████▊ | 1492/1686 [4:27:17<41:51, 12.95s/it]"
     ]
    },
    {
     "name": "stdout",
     "output_type": "stream",
     "text": [
      "\n",
      "—— Analyzing Game 1534 ——\n",
      "White: GeorgMeier (2734), Black: GGuseinov (2600)\n"
     ]
    },
    {
     "name": "stderr",
     "output_type": "stream",
     "text": [
      "分析棋局:  89%|████████▊ | 1493/1686 [4:27:28<40:31, 12.60s/it]"
     ]
    },
    {
     "name": "stdout",
     "output_type": "stream",
     "text": [
      "\n",
      "—— Analyzing Game 1535 ——\n",
      "White: DanielNaroditsky (2600), Black: Cryptochess (2392)\n"
     ]
    },
    {
     "name": "stderr",
     "output_type": "stream",
     "text": [
      "分析棋局:  89%|████████▊ | 1494/1686 [4:27:46<44:57, 14.05s/it]"
     ]
    },
    {
     "name": "stdout",
     "output_type": "stream",
     "text": [
      "\n",
      "—— Analyzing Game 1536 ——\n",
      "White: Malev212 (2065), Black: Aragon (1964)\n"
     ]
    },
    {
     "name": "stderr",
     "output_type": "stream",
     "text": [
      "分析棋局:  89%|████████▊ | 1495/1686 [4:27:58<43:12, 13.58s/it]"
     ]
    },
    {
     "name": "stdout",
     "output_type": "stream",
     "text": [
      "\n",
      "—— Analyzing Game 1537 ——\n",
      "White: Mugzyyy (2367), Black: BjarkeSahl (2082)\n"
     ]
    },
    {
     "name": "stderr",
     "output_type": "stream",
     "text": [
      "分析棋局:  89%|████████▊ | 1496/1686 [4:28:24<54:04, 17.07s/it]"
     ]
    },
    {
     "name": "stdout",
     "output_type": "stream",
     "text": [
      "\n",
      "—— Analyzing Game 1538 ——\n",
      "White: GMHess (2444), Black: Spas_Kozhuharov (2427)\n"
     ]
    },
    {
     "name": "stderr",
     "output_type": "stream",
     "text": [
      "分析棋局:  89%|████████▉ | 1497/1686 [4:28:38<51:09, 16.24s/it]"
     ]
    },
    {
     "name": "stdout",
     "output_type": "stream",
     "text": [
      "\n",
      "—— Analyzing Game 1539 ——\n",
      "White: wonderfultime (2549), Black: Novak_Pezelj (2409)\n"
     ]
    },
    {
     "name": "stderr",
     "output_type": "stream",
     "text": [
      "分析棋局:  89%|████████▉ | 1498/1686 [4:28:54<50:29, 16.11s/it]"
     ]
    },
    {
     "name": "stdout",
     "output_type": "stream",
     "text": [
      "\n",
      "—— Analyzing Game 1540 ——\n",
      "White: KyronGriffith (2165), Black: alturas_pacificas (2053)\n"
     ]
    },
    {
     "name": "stderr",
     "output_type": "stream",
     "text": [
      "分析棋局:  89%|████████▉ | 1499/1686 [4:29:04<45:02, 14.45s/it]"
     ]
    },
    {
     "name": "stdout",
     "output_type": "stream",
     "text": [
      "\n",
      "—— Analyzing Game 1541 ——\n",
      "White: PauloCesarCosta (2051), Black: LADIESGET2KNOWME (2263)\n"
     ]
    },
    {
     "name": "stderr",
     "output_type": "stream",
     "text": [
      "分析棋局:  89%|████████▉ | 1500/1686 [4:29:20<46:22, 14.96s/it]"
     ]
    },
    {
     "name": "stdout",
     "output_type": "stream",
     "text": [
      "\n",
      "—— Analyzing Game 1542 ——\n",
      "White: jcibarra (2529), Black: MITerryble (2523)\n"
     ]
    },
    {
     "name": "stderr",
     "output_type": "stream",
     "text": [
      "分析棋局:  89%|████████▉ | 1501/1686 [4:29:36<47:02, 15.26s/it]"
     ]
    },
    {
     "name": "stdout",
     "output_type": "stream",
     "text": [
      "\n",
      "—— Analyzing Game 1543 ——\n",
      "White: kharposh (2047), Black: ChessPsych0 (2058)\n"
     ]
    },
    {
     "name": "stderr",
     "output_type": "stream",
     "text": [
      "分析棋局:  89%|████████▉ | 1502/1686 [4:29:50<45:42, 14.90s/it]"
     ]
    },
    {
     "name": "stdout",
     "output_type": "stream",
     "text": [
      "\n",
      "—— Analyzing Game 1544 ——\n",
      "White: promen1999 (2292), Black: Tirantes (2225)\n"
     ]
    },
    {
     "name": "stderr",
     "output_type": "stream",
     "text": [
      "分析棋局:  89%|████████▉ | 1503/1686 [4:30:11<50:56, 16.70s/it]"
     ]
    },
    {
     "name": "stdout",
     "output_type": "stream",
     "text": [
      "\n",
      "—— Analyzing Game 1545 ——\n",
      "White: ViennaRocket (2182), Black: gumersindo (2101)\n"
     ]
    },
    {
     "name": "stderr",
     "output_type": "stream",
     "text": [
      "分析棋局:  89%|████████▉ | 1504/1686 [4:30:31<53:19, 17.58s/it]"
     ]
    },
    {
     "name": "stdout",
     "output_type": "stream",
     "text": [
      "\n",
      "—— Analyzing Game 1546 ——\n",
      "White: Hafez_Bakr (1829), Black: Bab3s (2051)\n"
     ]
    },
    {
     "name": "stderr",
     "output_type": "stream",
     "text": [
      "分析棋局:  89%|████████▉ | 1505/1686 [4:30:48<52:47, 17.50s/it]"
     ]
    },
    {
     "name": "stdout",
     "output_type": "stream",
     "text": [
      "\n",
      "—— Analyzing Game 1547 ——\n",
      "White: megarompa (2648), Black: EltajSafarli (2677)\n"
     ]
    },
    {
     "name": "stderr",
     "output_type": "stream",
     "text": [
      "分析棋局:  89%|████████▉ | 1506/1686 [4:31:08<54:55, 18.31s/it]"
     ]
    },
    {
     "name": "stdout",
     "output_type": "stream",
     "text": [
      "\n",
      "—— Analyzing Game 1548 ——\n",
      "White: petrpalachev (2443), Black: Yaacovn (2531)\n"
     ]
    },
    {
     "name": "stderr",
     "output_type": "stream",
     "text": [
      "分析棋局:  89%|████████▉ | 1507/1686 [4:31:20<48:34, 16.28s/it]"
     ]
    },
    {
     "name": "stdout",
     "output_type": "stream",
     "text": [
      "\n",
      "—— Analyzing Game 1549 ——\n",
      "White: AkshatChandra (2541), Black: Gevorg_Harutjunyan (2501)\n"
     ]
    },
    {
     "name": "stderr",
     "output_type": "stream",
     "text": [
      "分析棋局:  89%|████████▉ | 1508/1686 [4:31:42<52:59, 17.86s/it]"
     ]
    },
    {
     "name": "stdout",
     "output_type": "stream",
     "text": [
      "\n",
      "—— Analyzing Game 1550 ——\n",
      "White: jup1978 (2153), Black: kesarev (2225)\n"
     ]
    },
    {
     "name": "stderr",
     "output_type": "stream",
     "text": [
      "分析棋局:  90%|████████▉ | 1509/1686 [4:32:03<56:07, 19.02s/it]"
     ]
    },
    {
     "name": "stdout",
     "output_type": "stream",
     "text": [
      "\n",
      "—— Analyzing Game 1551 ——\n",
      "White: GasconJR (2265), Black: darsen_sanzhaev (2173)\n",
      "\n",
      "—— Analyzing Game 1552 ——\n",
      "White: LADIESGET2KNOWME (2267), Black: Schemato (2069)\n"
     ]
    },
    {
     "name": "stderr",
     "output_type": "stream",
     "text": [
      "分析棋局:  90%|████████▉ | 1510/1686 [4:32:10<44:38, 15.22s/it]"
     ]
    },
    {
     "name": "stdout",
     "output_type": "stream",
     "text": [
      "\n",
      "—— Analyzing Game 1553 ——\n",
      "White: pKiLz5Rn9b (2234), Black: Bab3s (2046)\n"
     ]
    },
    {
     "name": "stderr",
     "output_type": "stream",
     "text": [
      "分析棋局:  90%|████████▉ | 1511/1686 [4:32:18<38:04, 13.06s/it]"
     ]
    },
    {
     "name": "stdout",
     "output_type": "stream",
     "text": [
      "\n",
      "—— Analyzing Game 1554 ——\n",
      "White: bsmail (2049), Black: Colombiano07 (1950)\n"
     ]
    },
    {
     "name": "stderr",
     "output_type": "stream",
     "text": [
      "分析棋局:  90%|████████▉ | 1512/1686 [4:32:25<32:44, 11.29s/it]"
     ]
    },
    {
     "name": "stdout",
     "output_type": "stream",
     "text": [
      "\n",
      "—— Analyzing Game 1555 ——\n",
      "White: pedromartinez91 (2160), Black: Danirod (2300)\n"
     ]
    },
    {
     "name": "stderr",
     "output_type": "stream",
     "text": [
      "分析棋局:  90%|████████▉ | 1513/1686 [4:32:33<29:36, 10.27s/it]"
     ]
    },
    {
     "name": "stdout",
     "output_type": "stream",
     "text": [
      "\n",
      "—— Analyzing Game 1556 ——\n",
      "White: gumersindo (2097), Black: Brandon_Clarke (2306)\n"
     ]
    },
    {
     "name": "stderr",
     "output_type": "stream",
     "text": [
      "分析棋局:  90%|████████▉ | 1514/1686 [4:32:46<32:20, 11.28s/it]"
     ]
    },
    {
     "name": "stdout",
     "output_type": "stream",
     "text": [
      "\n",
      "—— Analyzing Game 1557 ——\n",
      "White: Mugzyyy (2318), Black: Tilicheev_Viacheslav (2518)\n"
     ]
    },
    {
     "name": "stderr",
     "output_type": "stream",
     "text": [
      "分析棋局:  90%|████████▉ | 1515/1686 [4:32:58<32:11, 11.29s/it]"
     ]
    },
    {
     "name": "stdout",
     "output_type": "stream",
     "text": [
      "\n",
      "—— Analyzing Game 1558 ——\n",
      "White: patzerplay (2168), Black: Malev212 (2082)\n"
     ]
    },
    {
     "name": "stderr",
     "output_type": "stream",
     "text": [
      "分析棋局:  90%|████████▉ | 1516/1686 [4:33:09<32:02, 11.31s/it]"
     ]
    },
    {
     "name": "stdout",
     "output_type": "stream",
     "text": [
      "\n",
      "—— Analyzing Game 1559 ——\n",
      "White: michaelk123 (1900), Black: brauliocuarta (2018)\n"
     ]
    },
    {
     "name": "stderr",
     "output_type": "stream",
     "text": [
      "分析棋局:  90%|████████▉ | 1517/1686 [4:33:17<29:25, 10.45s/it]"
     ]
    },
    {
     "name": "stdout",
     "output_type": "stream",
     "text": [
      "\n",
      "—— Analyzing Game 1560 ——\n",
      "White: promen1999 (2287), Black: AlexanderL (2520)\n"
     ]
    },
    {
     "name": "stderr",
     "output_type": "stream",
     "text": [
      "分析棋局:  90%|█████████ | 1518/1686 [4:33:28<29:21, 10.48s/it]"
     ]
    },
    {
     "name": "stdout",
     "output_type": "stream",
     "text": [
      "\n",
      "—— Analyzing Game 1561 ——\n",
      "White: alturas_pacificas (2057), Black: chesstatour (1885)\n"
     ]
    },
    {
     "name": "stderr",
     "output_type": "stream",
     "text": [
      "分析棋局:  90%|█████████ | 1519/1686 [4:33:41<31:13, 11.22s/it]"
     ]
    },
    {
     "name": "stdout",
     "output_type": "stream",
     "text": [
      "\n",
      "—— Analyzing Game 1562 ——\n",
      "White: wonderfultime (2556), Black: MITerryble (2507)\n"
     ]
    },
    {
     "name": "stderr",
     "output_type": "stream",
     "text": [
      "分析棋局:  90%|█████████ | 1520/1686 [4:33:52<30:30, 11.03s/it]"
     ]
    },
    {
     "name": "stdout",
     "output_type": "stream",
     "text": [
      "\n",
      "—— Analyzing Game 1563 ——\n",
      "White: MinhGTrAn (2426), Black: 1stSecond (2359)\n"
     ]
    },
    {
     "name": "stderr",
     "output_type": "stream",
     "text": [
      "分析棋局:  90%|█████████ | 1521/1686 [4:34:07<34:06, 12.40s/it]"
     ]
    },
    {
     "name": "stdout",
     "output_type": "stream",
     "text": [
      "\n",
      "—— Analyzing Game 1564 ——\n",
      "White: jup1978 (2148), Black: manitodeplomo (2293)\n"
     ]
    },
    {
     "name": "stderr",
     "output_type": "stream",
     "text": [
      "分析棋局:  90%|█████████ | 1522/1686 [4:34:21<34:49, 12.74s/it]"
     ]
    },
    {
     "name": "stdout",
     "output_type": "stream",
     "text": [
      "\n",
      "—— Analyzing Game 1565 ——\n",
      "White: destroyer305 (2198), Black: BjarkeSahl (2093)\n"
     ]
    },
    {
     "name": "stderr",
     "output_type": "stream",
     "text": [
      "分析棋局:  90%|█████████ | 1523/1686 [4:34:29<31:02, 11.43s/it]"
     ]
    },
    {
     "name": "stdout",
     "output_type": "stream",
     "text": [
      "\n",
      "—— Analyzing Game 1566 ——\n",
      "White: Novak_Pezelj (2377), Black: Ar4uha (2470)\n"
     ]
    },
    {
     "name": "stderr",
     "output_type": "stream",
     "text": [
      "分析棋局:  90%|█████████ | 1524/1686 [4:34:41<30:54, 11.45s/it]"
     ]
    },
    {
     "name": "stdout",
     "output_type": "stream",
     "text": [
      "\n",
      "—— Analyzing Game 1567 ——\n",
      "White: IMLevAltounian (2438), Black: zmaj23 (2342)\n"
     ]
    },
    {
     "name": "stderr",
     "output_type": "stream",
     "text": [
      "分析棋局:  90%|█████████ | 1525/1686 [4:34:53<31:35, 11.77s/it]"
     ]
    },
    {
     "name": "stdout",
     "output_type": "stream",
     "text": [
      "\n",
      "—— Analyzing Game 1568 ——\n",
      "White: kinetix (1433), Black: Mvpag (1860)\n"
     ]
    },
    {
     "name": "stderr",
     "output_type": "stream",
     "text": [
      "分析棋局:  91%|█████████ | 1526/1686 [4:35:10<35:28, 13.30s/it]"
     ]
    },
    {
     "name": "stdout",
     "output_type": "stream",
     "text": [
      "\n",
      "—— Analyzing Game 1569 ——\n",
      "White: Mazetovic (2405), Black: Yaacovn (2518)\n"
     ]
    },
    {
     "name": "stderr",
     "output_type": "stream",
     "text": [
      "分析棋局:  91%|█████████ | 1527/1686 [4:35:25<36:35, 13.81s/it]"
     ]
    },
    {
     "name": "stdout",
     "output_type": "stream",
     "text": [
      "\n",
      "—— Analyzing Game 1570 ——\n",
      "White: ChessTrener (2446), Black: Tomsel (2293)\n"
     ]
    },
    {
     "name": "stderr",
     "output_type": "stream",
     "text": [
      "分析棋局:  91%|█████████ | 1528/1686 [4:35:40<37:40, 14.31s/it]"
     ]
    },
    {
     "name": "stdout",
     "output_type": "stream",
     "text": [
      "\n",
      "—— Analyzing Game 1571 ——\n",
      "White: Irochka83 (2287), Black: esr44 (2086)\n"
     ]
    },
    {
     "name": "stderr",
     "output_type": "stream",
     "text": [
      "分析棋局:  91%|█████████ | 1529/1686 [4:36:00<41:14, 15.76s/it]"
     ]
    },
    {
     "name": "stdout",
     "output_type": "stream",
     "text": [
      "\n",
      "—— Analyzing Game 1572 ——\n",
      "White: IMRosen (2134), Black: Spas_Kozhuharov (2407)\n"
     ]
    },
    {
     "name": "stderr",
     "output_type": "stream",
     "text": [
      "分析棋局:  91%|█████████ | 1530/1686 [4:36:15<40:44, 15.67s/it]"
     ]
    },
    {
     "name": "stdout",
     "output_type": "stream",
     "text": [
      "\n",
      "—— Analyzing Game 1573 ——\n",
      "White: GMHess (2449), Black: stepanosinovsky (2278)\n"
     ]
    },
    {
     "name": "stderr",
     "output_type": "stream",
     "text": [
      "分析棋局:  91%|█████████ | 1531/1686 [4:36:28<38:06, 14.75s/it]"
     ]
    },
    {
     "name": "stdout",
     "output_type": "stream",
     "text": [
      "\n",
      "—— Analyzing Game 1574 ——\n",
      "White: GeorgMeier (2739), Black: Fandorine (2564)\n"
     ]
    },
    {
     "name": "stderr",
     "output_type": "stream",
     "text": [
      "分析棋局:  91%|█████████ | 1532/1686 [4:36:38<34:42, 13.52s/it]"
     ]
    },
    {
     "name": "stdout",
     "output_type": "stream",
     "text": [
      "\n",
      "—— Analyzing Game 1575 ——\n",
      "White: Tirantes (2126), Black: ChessPsych0 (2094)\n"
     ]
    },
    {
     "name": "stderr",
     "output_type": "stream",
     "text": [
      "分析棋局:  91%|█████████ | 1533/1686 [4:36:50<33:20, 13.07s/it]"
     ]
    },
    {
     "name": "stdout",
     "output_type": "stream",
     "text": [
      "\n",
      "—— Analyzing Game 1576 ——\n",
      "White: SuPeR_Fm (2346), Black: FabianEnglert (2249)\n"
     ]
    },
    {
     "name": "stderr",
     "output_type": "stream",
     "text": [
      "分析棋局:  91%|█████████ | 1534/1686 [4:37:04<33:42, 13.31s/it]"
     ]
    },
    {
     "name": "stdout",
     "output_type": "stream",
     "text": [
      "\n",
      "—— Analyzing Game 1577 ——\n",
      "White: AUSSIE_PINOY (2223), Black: PauloCesarCosta (2047)\n"
     ]
    },
    {
     "name": "stderr",
     "output_type": "stream",
     "text": [
      "分析棋局:  91%|█████████ | 1535/1686 [4:37:19<34:43, 13.80s/it]"
     ]
    },
    {
     "name": "stdout",
     "output_type": "stream",
     "text": [
      "\n",
      "—— Analyzing Game 1578 ——\n",
      "White: Aragon (1969), Black: HansCoolNiemann (1820)\n"
     ]
    },
    {
     "name": "stderr",
     "output_type": "stream",
     "text": [
      "分析棋局:  91%|█████████ | 1536/1686 [4:37:35<35:56, 14.38s/it]"
     ]
    },
    {
     "name": "stdout",
     "output_type": "stream",
     "text": [
      "\n",
      "—— Analyzing Game 1579 ——\n",
      "White: GGuseinov (2548), Black: megarompa (2661)\n"
     ]
    },
    {
     "name": "stderr",
     "output_type": "stream",
     "text": [
      "分析棋局:  91%|█████████ | 1537/1686 [4:37:47<34:10, 13.76s/it]"
     ]
    },
    {
     "name": "stdout",
     "output_type": "stream",
     "text": [
      "\n",
      "—— Analyzing Game 1580 ——\n",
      "White: Hafez_Bakr (1813), Black: Polemistis (1485)\n"
     ]
    },
    {
     "name": "stderr",
     "output_type": "stream",
     "text": [
      "分析棋局:  91%|█████████ | 1538/1686 [4:38:01<34:17, 13.90s/it]"
     ]
    },
    {
     "name": "stdout",
     "output_type": "stream",
     "text": [
      "\n",
      "—— Analyzing Game 1581 ——\n",
      "White: kesarev (2226), Black: DanielRensch (2254)\n"
     ]
    },
    {
     "name": "stderr",
     "output_type": "stream",
     "text": [
      "分析棋局:  91%|█████████▏| 1539/1686 [4:38:18<36:07, 14.74s/it]"
     ]
    },
    {
     "name": "stdout",
     "output_type": "stream",
     "text": [
      "\n",
      "—— Analyzing Game 1582 ——\n",
      "White: Chesseducation4u (2333), Black: jcibarra (2524)\n"
     ]
    },
    {
     "name": "stderr",
     "output_type": "stream",
     "text": [
      "分析棋局:  91%|█████████▏| 1540/1686 [4:38:32<35:32, 14.61s/it]"
     ]
    },
    {
     "name": "stdout",
     "output_type": "stream",
     "text": [
      "\n",
      "—— Analyzing Game 1583 ——\n",
      "White: biostatistician (2303), Black: Gevorg_Harutjunyan (2505)\n"
     ]
    },
    {
     "name": "stderr",
     "output_type": "stream",
     "text": [
      "分析棋局:  91%|█████████▏| 1541/1686 [4:39:00<44:25, 18.38s/it]"
     ]
    },
    {
     "name": "stdout",
     "output_type": "stream",
     "text": [
      "\n",
      "—— Analyzing Game 1584 ——\n",
      "White: Rijeka1999 (2249), Black: KyronGriffith (2159)\n"
     ]
    },
    {
     "name": "stderr",
     "output_type": "stream",
     "text": [
      "分析棋局:  91%|█████████▏| 1542/1686 [4:39:13<40:15, 16.77s/it]"
     ]
    },
    {
     "name": "stdout",
     "output_type": "stream",
     "text": [
      "\n",
      "—— Analyzing Game 1585 ——\n",
      "White: petrpalachev (2449), Black: AndreyOstrovskiy (2348)\n"
     ]
    },
    {
     "name": "stderr",
     "output_type": "stream",
     "text": [
      "分析棋局:  92%|█████████▏| 1543/1686 [4:39:30<40:10, 16.86s/it]"
     ]
    },
    {
     "name": "stdout",
     "output_type": "stream",
     "text": [
      "\n",
      "—— Analyzing Game 1586 ——\n",
      "White: Cryptochess (2388), Black: MattyDPerrine (2191)\n"
     ]
    },
    {
     "name": "stderr",
     "output_type": "stream",
     "text": [
      "分析棋局:  92%|█████████▏| 1544/1686 [4:39:53<44:50, 18.95s/it]"
     ]
    },
    {
     "name": "stdout",
     "output_type": "stream",
     "text": [
      "\n",
      "—— Analyzing Game 1587 ——\n",
      "White: exoticprincess (2787), Black: EltajSafarli (2681)\n"
     ]
    },
    {
     "name": "stderr",
     "output_type": "stream",
     "text": [
      "分析棋局:  92%|█████████▏| 1545/1686 [4:40:13<44:40, 19.01s/it]"
     ]
    },
    {
     "name": "stdout",
     "output_type": "stream",
     "text": [
      "\n",
      "—— Analyzing Game 1588 ——\n",
      "White: DanielNaroditsky (2597), Black: AkshatChandra (2545)\n"
     ]
    },
    {
     "name": "stderr",
     "output_type": "stream",
     "text": [
      "分析棋局:  92%|█████████▏| 1546/1686 [4:40:50<57:23, 24.60s/it]"
     ]
    },
    {
     "name": "stdout",
     "output_type": "stream",
     "text": [
      "\n",
      "—— Analyzing Game 1589 ——\n",
      "White: Polemistis (1458), Black: Schemato (2070)\n"
     ]
    },
    {
     "name": "stderr",
     "output_type": "stream",
     "text": [
      "分析棋局:  92%|█████████▏| 1547/1686 [4:40:58<45:11, 19.51s/it]"
     ]
    },
    {
     "name": "stdout",
     "output_type": "stream",
     "text": [
      "\n",
      "—— Analyzing Game 1590 ——\n",
      "White: Colombiano07 (1935), Black: kinetix (1569)\n"
     ]
    },
    {
     "name": "stderr",
     "output_type": "stream",
     "text": [
      "分析棋局:  92%|█████████▏| 1548/1686 [4:41:05<36:29, 15.87s/it]"
     ]
    },
    {
     "name": "stdout",
     "output_type": "stream",
     "text": [
      "\n",
      "—— Analyzing Game 1591 ——\n",
      "White: Spas_Kozhuharov (2415), Black: Tomsel (2288)\n"
     ]
    },
    {
     "name": "stderr",
     "output_type": "stream",
     "text": [
      "分析棋局:  92%|█████████▏| 1549/1686 [4:41:11<29:23, 12.87s/it]"
     ]
    },
    {
     "name": "stdout",
     "output_type": "stream",
     "text": [
      "\n",
      "—— Analyzing Game 1592 ——\n",
      "White: darsen_sanzhaev (2181), Black: Tirantes (2072)\n"
     ]
    },
    {
     "name": "stderr",
     "output_type": "stream",
     "text": [
      "分析棋局:  92%|█████████▏| 1550/1686 [4:41:20<26:16, 11.59s/it]"
     ]
    },
    {
     "name": "stdout",
     "output_type": "stream",
     "text": [
      "\n",
      "—— Analyzing Game 1593 ——\n",
      "White: Mvpag (1856), Black: alturas_pacificas (2061)\n"
     ]
    },
    {
     "name": "stderr",
     "output_type": "stream",
     "text": [
      "分析棋局:  92%|█████████▏| 1551/1686 [4:41:43<34:05, 15.15s/it]"
     ]
    },
    {
     "name": "stdout",
     "output_type": "stream",
     "text": [
      "\n",
      "—— Analyzing Game 1594 ——\n",
      "White: Chesseducation4u (2328), Black: ChessTrener (2452)\n"
     ]
    },
    {
     "name": "stderr",
     "output_type": "stream",
     "text": [
      "分析棋局:  92%|█████████▏| 1552/1686 [4:41:58<33:23, 14.95s/it]"
     ]
    },
    {
     "name": "stdout",
     "output_type": "stream",
     "text": [
      "\n",
      "—— Analyzing Game 1595 ——\n",
      "White: Mazetovic (2478), Black: MinhGTrAn (2418)\n"
     ]
    },
    {
     "name": "stderr",
     "output_type": "stream",
     "text": [
      "分析棋局:  92%|█████████▏| 1553/1686 [4:42:07<29:30, 13.31s/it]"
     ]
    },
    {
     "name": "stdout",
     "output_type": "stream",
     "text": [
      "\n",
      "—— Analyzing Game 1596 ——\n",
      "White: Novak_Pezelj (2398), Black: AUSSIE_PINOY (2218)\n"
     ]
    },
    {
     "name": "stderr",
     "output_type": "stream",
     "text": [
      "分析棋局:  92%|█████████▏| 1554/1686 [4:42:18<27:57, 12.71s/it]"
     ]
    },
    {
     "name": "stdout",
     "output_type": "stream",
     "text": [
      "\n",
      "—— Analyzing Game 1597 ——\n",
      "White: zmaj23 (2355), Black: DanielNaroditsky (2565)\n"
     ]
    },
    {
     "name": "stderr",
     "output_type": "stream",
     "text": [
      "分析棋局:  92%|█████████▏| 1555/1686 [4:42:29<26:31, 12.15s/it]"
     ]
    },
    {
     "name": "stdout",
     "output_type": "stream",
     "text": [
      "\n",
      "—— Analyzing Game 1598 ——\n",
      "White: manitodeplomo (2288), Black: GMHess (2454)\n"
     ]
    },
    {
     "name": "stderr",
     "output_type": "stream",
     "text": [
      "分析棋局:  92%|█████████▏| 1556/1686 [4:42:35<21:59, 10.15s/it]"
     ]
    },
    {
     "name": "stdout",
     "output_type": "stream",
     "text": [
      "\n",
      "—— Analyzing Game 1599 ——\n",
      "White: SuPeR_Fm (2336), Black: stepanosinovsky (2288)\n"
     ]
    },
    {
     "name": "stderr",
     "output_type": "stream",
     "text": [
      "分析棋局:  92%|█████████▏| 1557/1686 [4:42:41<19:15,  8.96s/it]"
     ]
    },
    {
     "name": "stdout",
     "output_type": "stream",
     "text": [
      "\n",
      "—— Analyzing Game 1600 ——\n",
      "White: Mugzyyy (2404), Black: petrpalachev (2438)\n"
     ]
    },
    {
     "name": "stderr",
     "output_type": "stream",
     "text": [
      "分析棋局:  92%|█████████▏| 1558/1686 [4:42:50<19:22,  9.09s/it]"
     ]
    },
    {
     "name": "stdout",
     "output_type": "stream",
     "text": [
      "\n",
      "—— Analyzing Game 1601 ——\n",
      "White: HansCoolNiemann (1834), Black: bsmail (2036)\n"
     ]
    },
    {
     "name": "stderr",
     "output_type": "stream",
     "text": [
      "分析棋局:  92%|█████████▏| 1559/1686 [4:43:06<23:10, 10.95s/it]"
     ]
    },
    {
     "name": "stdout",
     "output_type": "stream",
     "text": [
      "\n",
      "—— Analyzing Game 1602 ——\n",
      "White: Tilicheev_Viacheslav (2511), Black: GGuseinov (2596)\n"
     ]
    },
    {
     "name": "stderr",
     "output_type": "stream",
     "text": [
      "分析棋局:  93%|█████████▎| 1560/1686 [4:43:18<23:44, 11.31s/it]"
     ]
    },
    {
     "name": "stdout",
     "output_type": "stream",
     "text": [
      "\n",
      "—— Analyzing Game 1603 ——\n",
      "White: jup1978 (2159), Black: LADIESGET2KNOWME (2256)\n"
     ]
    },
    {
     "name": "stderr",
     "output_type": "stream",
     "text": [
      "分析棋局:  93%|█████████▎| 1561/1686 [4:43:25<20:55, 10.05s/it]"
     ]
    },
    {
     "name": "stdout",
     "output_type": "stream",
     "text": [
      "\n",
      "—— Analyzing Game 1604 ——\n",
      "White: Cryptochess (2381), Black: IMLevAltounian (2445)\n"
     ]
    },
    {
     "name": "stderr",
     "output_type": "stream",
     "text": [
      "分析棋局:  93%|█████████▎| 1562/1686 [4:43:36<21:12, 10.26s/it]"
     ]
    },
    {
     "name": "stdout",
     "output_type": "stream",
     "text": [
      "\n",
      "—— Analyzing Game 1605 ——\n",
      "White: AlexanderL (2529), Black: wonderfultime (2547)\n"
     ]
    },
    {
     "name": "stderr",
     "output_type": "stream",
     "text": [
      "分析棋局:  93%|█████████▎| 1563/1686 [4:43:46<20:48, 10.15s/it]"
     ]
    },
    {
     "name": "stdout",
     "output_type": "stream",
     "text": [
      "\n",
      "—— Analyzing Game 1606 ——\n",
      "White: AndreyOstrovskiy (2353), Black: destroyer305 (2193)\n"
     ]
    },
    {
     "name": "stderr",
     "output_type": "stream",
     "text": [
      "分析棋局:  93%|█████████▎| 1564/1686 [4:43:57<21:35, 10.62s/it]"
     ]
    },
    {
     "name": "stdout",
     "output_type": "stream",
     "text": [
      "\n",
      "—— Analyzing Game 1607 ——\n",
      "White: Irochka83 (2271), Black: pKiLz5Rn9b (2243)\n"
     ]
    },
    {
     "name": "stderr",
     "output_type": "stream",
     "text": [
      "分析棋局:  93%|█████████▎| 1565/1686 [4:44:13<24:36, 12.20s/it]"
     ]
    },
    {
     "name": "stdout",
     "output_type": "stream",
     "text": [
      "\n",
      "—— Analyzing Game 1608 ——\n",
      "White: DanielRensch (2259), Black: PauloCesarCosta (2043)\n"
     ]
    },
    {
     "name": "stderr",
     "output_type": "stream",
     "text": [
      "分析棋局:  93%|█████████▎| 1566/1686 [4:44:24<23:22, 11.69s/it]"
     ]
    },
    {
     "name": "stdout",
     "output_type": "stream",
     "text": [
      "\n",
      "—— Analyzing Game 1609 ——\n",
      "White: brauliocuarta (2029), Black: Aragon (1962)\n"
     ]
    },
    {
     "name": "stderr",
     "output_type": "stream",
     "text": [
      "分析棋局:  93%|█████████▎| 1567/1686 [4:44:35<22:58, 11.58s/it]"
     ]
    },
    {
     "name": "stdout",
     "output_type": "stream",
     "text": [
      "\n",
      "—— Analyzing Game 1610 ——\n",
      "White: FabianEnglert (2239), Black: pedromartinez91 (2170)\n"
     ]
    },
    {
     "name": "stderr",
     "output_type": "stream",
     "text": [
      "分析棋局:  93%|█████████▎| 1568/1686 [4:44:45<21:42, 11.04s/it]"
     ]
    },
    {
     "name": "stdout",
     "output_type": "stream",
     "text": [
      "\n",
      "—— Analyzing Game 1611 ——\n",
      "White: chesstatour (1891), Black: Hafez_Bakr (1807)\n"
     ]
    },
    {
     "name": "stderr",
     "output_type": "stream",
     "text": [
      "分析棋局:  93%|█████████▎| 1569/1686 [4:44:56<21:23, 10.97s/it]"
     ]
    },
    {
     "name": "stdout",
     "output_type": "stream",
     "text": [
      "\n",
      "—— Analyzing Game 1612 ——\n",
      "White: Fandorine (2587), Black: AkshatChandra (2525)\n"
     ]
    },
    {
     "name": "stderr",
     "output_type": "stream",
     "text": [
      "分析棋局:  93%|█████████▎| 1570/1686 [4:45:09<22:46, 11.78s/it]"
     ]
    },
    {
     "name": "stdout",
     "output_type": "stream",
     "text": [
      "\n",
      "—— Analyzing Game 1613 ——\n",
      "White: ChessPsych0 (2090), Black: jcibarra (2526)\n"
     ]
    },
    {
     "name": "stderr",
     "output_type": "stream",
     "text": [
      "分析棋局:  93%|█████████▎| 1571/1686 [4:45:22<23:06, 12.06s/it]"
     ]
    },
    {
     "name": "stdout",
     "output_type": "stream",
     "text": [
      "\n",
      "—— Analyzing Game 1614 ——\n",
      "White: Bab3s (2038), Black: gumersindo (2104)\n"
     ]
    },
    {
     "name": "stderr",
     "output_type": "stream",
     "text": [
      "分析棋局:  93%|█████████▎| 1572/1686 [4:45:34<22:57, 12.09s/it]"
     ]
    },
    {
     "name": "stdout",
     "output_type": "stream",
     "text": [
      "\n",
      "—— Analyzing Game 1615 ——\n",
      "White: biostatistician (2292), Black: patzerplay (2179)\n"
     ]
    },
    {
     "name": "stderr",
     "output_type": "stream",
     "text": [
      "分析棋局:  93%|█████████▎| 1573/1686 [4:45:49<24:10, 12.84s/it]"
     ]
    },
    {
     "name": "stdout",
     "output_type": "stream",
     "text": [
      "\n",
      "—— Analyzing Game 1616 ——\n",
      "White: kesarev (2228), Black: michaelk123 (1893)\n"
     ]
    },
    {
     "name": "stderr",
     "output_type": "stream",
     "text": [
      "分析棋局:  93%|█████████▎| 1574/1686 [4:46:05<26:09, 14.01s/it]"
     ]
    },
    {
     "name": "stdout",
     "output_type": "stream",
     "text": [
      "\n",
      "—— Analyzing Game 1617 ——\n",
      "White: MattyDPerrine (2187), Black: 1stSecond (2363)\n"
     ]
    },
    {
     "name": "stderr",
     "output_type": "stream",
     "text": [
      "分析棋局:  93%|█████████▎| 1575/1686 [4:46:19<25:31, 13.79s/it]"
     ]
    },
    {
     "name": "stdout",
     "output_type": "stream",
     "text": [
      "\n",
      "—— Analyzing Game 1618 ——\n",
      "White: Brandon_Clarke (2313), Black: Rijeka1999 (2242)\n"
     ]
    },
    {
     "name": "stderr",
     "output_type": "stream",
     "text": [
      "分析棋局:  93%|█████████▎| 1576/1686 [4:46:39<28:46, 15.70s/it]"
     ]
    },
    {
     "name": "stdout",
     "output_type": "stream",
     "text": [
      "\n",
      "—— Analyzing Game 1619 ——\n",
      "White: BjarkeSahl (2108), Black: MITerryble (2477)\n"
     ]
    },
    {
     "name": "stderr",
     "output_type": "stream",
     "text": [
      "分析棋局:  94%|█████████▎| 1577/1686 [4:46:57<29:41, 16.35s/it]"
     ]
    },
    {
     "name": "stdout",
     "output_type": "stream",
     "text": [
      "\n",
      "—— Analyzing Game 1620 ——\n",
      "White: EltajSafarli (2683), Black: GeorgMeier (2738)\n"
     ]
    },
    {
     "name": "stderr",
     "output_type": "stream",
     "text": [
      "分析棋局:  94%|█████████▎| 1578/1686 [4:47:14<30:09, 16.76s/it]"
     ]
    },
    {
     "name": "stdout",
     "output_type": "stream",
     "text": [
      "\n",
      "—— Analyzing Game 1621 ——\n",
      "White: IMRosen (2132), Black: Gevorg_Harutjunyan (2507)\n"
     ]
    },
    {
     "name": "stderr",
     "output_type": "stream",
     "text": [
      "分析棋局:  94%|█████████▎| 1579/1686 [4:47:35<31:52, 17.87s/it]"
     ]
    },
    {
     "name": "stdout",
     "output_type": "stream",
     "text": [
      "\n",
      "—— Analyzing Game 1622 ——\n",
      "White: megarompa (2666), Black: exoticprincess (2782)\n"
     ]
    },
    {
     "name": "stderr",
     "output_type": "stream",
     "text": [
      "分析棋局:  94%|█████████▎| 1580/1686 [4:47:56<33:08, 18.76s/it]"
     ]
    },
    {
     "name": "stdout",
     "output_type": "stream",
     "text": [
      "\n",
      "—— Analyzing Game 1623 ——\n",
      "White: Ar4uha (2464), Black: Malev212 (2092)\n"
     ]
    },
    {
     "name": "stderr",
     "output_type": "stream",
     "text": [
      "分析棋局:  94%|█████████▍| 1581/1686 [4:48:06<28:33, 16.32s/it]"
     ]
    },
    {
     "name": "stdout",
     "output_type": "stream",
     "text": [
      "\n",
      "—— Analyzing Game 1624 ——\n",
      "White: kinetix (1489), Black: Polemistis (1615)\n",
      "\n",
      "—— Analyzing Game 1625 ——\n",
      "White: Rijeka1999 (2231), Black: gumersindo (2115)\n"
     ]
    },
    {
     "name": "stderr",
     "output_type": "stream",
     "text": [
      "分析棋局:  94%|█████████▍| 1582/1686 [4:48:15<24:15, 14.00s/it]"
     ]
    },
    {
     "name": "stdout",
     "output_type": "stream",
     "text": [
      "\n",
      "—— Analyzing Game 1626 ——\n",
      "White: Tilicheev_Viacheslav (2518), Black: IMLevAltounian (2438)\n"
     ]
    },
    {
     "name": "stderr",
     "output_type": "stream",
     "text": [
      "分析棋局:  94%|█████████▍| 1583/1686 [4:48:25<22:09, 12.91s/it]"
     ]
    },
    {
     "name": "stdout",
     "output_type": "stream",
     "text": [
      "\n",
      "—— Analyzing Game 1627 ——\n",
      "White: megarompa (2677), Black: Fandorine (2569)\n"
     ]
    },
    {
     "name": "stderr",
     "output_type": "stream",
     "text": [
      "分析棋局:  94%|█████████▍| 1584/1686 [4:48:34<19:39, 11.57s/it]"
     ]
    },
    {
     "name": "stdout",
     "output_type": "stream",
     "text": [
      "\n",
      "—— Analyzing Game 1628 ——\n",
      "White: michaelk123 (1911), Black: Hafez_Bakr (1801)\n"
     ]
    },
    {
     "name": "stderr",
     "output_type": "stream",
     "text": [
      "分析棋局:  94%|█████████▍| 1585/1686 [4:48:45<19:19, 11.48s/it]"
     ]
    },
    {
     "name": "stdout",
     "output_type": "stream",
     "text": [
      "\n",
      "—— Analyzing Game 1629 ——\n",
      "White: Bab3s (2043), Black: Mvpag (1852)\n"
     ]
    },
    {
     "name": "stderr",
     "output_type": "stream",
     "text": [
      "分析棋局:  94%|█████████▍| 1586/1686 [4:48:54<17:48, 10.69s/it]"
     ]
    },
    {
     "name": "stdout",
     "output_type": "stream",
     "text": [
      "\n",
      "—— Analyzing Game 1630 ——\n",
      "White: Gevorg_Harutjunyan (2497), Black: Mugzyyy (2476)\n"
     ]
    },
    {
     "name": "stderr",
     "output_type": "stream",
     "text": [
      "分析棋局:  94%|█████████▍| 1587/1686 [4:49:02<16:35, 10.06s/it]"
     ]
    },
    {
     "name": "stdout",
     "output_type": "stream",
     "text": [
      "\n",
      "—— Analyzing Game 1631 ——\n",
      "White: pKiLz5Rn9b (2239), Black: MinhGTrAn (2422)\n"
     ]
    },
    {
     "name": "stderr",
     "output_type": "stream",
     "text": [
      "分析棋局:  94%|█████████▍| 1588/1686 [4:49:15<17:48, 10.90s/it]"
     ]
    },
    {
     "name": "stdout",
     "output_type": "stream",
     "text": [
      "\n",
      "—— Analyzing Game 1632 ——\n",
      "White: GGuseinov (2569), Black: zmaj23 (2360)\n"
     ]
    },
    {
     "name": "stderr",
     "output_type": "stream",
     "text": [
      "分析棋局:  94%|█████████▍| 1589/1686 [4:49:26<17:39, 10.92s/it]"
     ]
    },
    {
     "name": "stdout",
     "output_type": "stream",
     "text": [
      "\n",
      "—— Analyzing Game 1633 ——\n",
      "White: Tomsel (2278), Black: MattyDPerrine (2197)\n"
     ]
    },
    {
     "name": "stderr",
     "output_type": "stream",
     "text": [
      "分析棋局:  94%|█████████▍| 1590/1686 [4:49:33<15:22,  9.61s/it]"
     ]
    },
    {
     "name": "stdout",
     "output_type": "stream",
     "text": [
      "\n",
      "—— Analyzing Game 1634 ——\n",
      "White: 1stSecond (2372), Black: Novak_Pezelj (2363)\n"
     ]
    },
    {
     "name": "stderr",
     "output_type": "stream",
     "text": [
      "分析棋局:  94%|█████████▍| 1591/1686 [4:49:46<17:08, 10.82s/it]"
     ]
    },
    {
     "name": "stdout",
     "output_type": "stream",
     "text": [
      "\n",
      "—— Analyzing Game 1635 ——\n",
      "White: destroyer305 (2203), Black: Irochka83 (2254)\n"
     ]
    },
    {
     "name": "stderr",
     "output_type": "stream",
     "text": [
      "分析棋局:  94%|█████████▍| 1592/1686 [4:49:55<15:50, 10.11s/it]"
     ]
    },
    {
     "name": "stdout",
     "output_type": "stream",
     "text": [
      "\n",
      "—— Analyzing Game 1636 ——\n",
      "White: manitodeplomo (2279), Black: FabianEnglert (2248)\n"
     ]
    },
    {
     "name": "stderr",
     "output_type": "stream",
     "text": [
      "分析棋局:  94%|█████████▍| 1593/1686 [4:50:05<15:43, 10.14s/it]"
     ]
    },
    {
     "name": "stdout",
     "output_type": "stream",
     "text": [
      "\n",
      "—— Analyzing Game 1637 ——\n",
      "White: Tirantes (2148), Black: kesarev (2217)\n"
     ]
    },
    {
     "name": "stderr",
     "output_type": "stream",
     "text": [
      "分析棋局:  95%|█████████▍| 1594/1686 [4:50:22<18:37, 12.15s/it]"
     ]
    },
    {
     "name": "stdout",
     "output_type": "stream",
     "text": [
      "\n",
      "—— Analyzing Game 1638 ——\n",
      "White: Ar4uha (2456), Black: GMHess (2462)\n"
     ]
    },
    {
     "name": "stderr",
     "output_type": "stream",
     "text": [
      "分析棋局:  95%|█████████▍| 1595/1686 [4:50:30<16:33, 10.92s/it]"
     ]
    },
    {
     "name": "stdout",
     "output_type": "stream",
     "text": [
      "\n",
      "—— Analyzing Game 1639 ——\n",
      "White: brauliocuarta (2050), Black: Cryptochess (2367)\n"
     ]
    },
    {
     "name": "stderr",
     "output_type": "stream",
     "text": [
      "分析棋局:  95%|█████████▍| 1596/1686 [4:50:42<17:02, 11.36s/it]"
     ]
    },
    {
     "name": "stdout",
     "output_type": "stream",
     "text": [
      "\n",
      "—— Analyzing Game 1640 ——\n",
      "White: AlexanderL (2524), Black: EltajSafarli (2690)\n"
     ]
    },
    {
     "name": "stderr",
     "output_type": "stream",
     "text": [
      "分析棋局:  95%|█████████▍| 1597/1686 [4:50:54<16:56, 11.43s/it]"
     ]
    },
    {
     "name": "stdout",
     "output_type": "stream",
     "text": [
      "\n",
      "—— Analyzing Game 1641 ——\n",
      "White: Malev212 (2107), Black: pedromartinez91 (2160)\n"
     ]
    },
    {
     "name": "stderr",
     "output_type": "stream",
     "text": [
      "分析棋局:  95%|█████████▍| 1598/1686 [4:51:05<16:36, 11.33s/it]"
     ]
    },
    {
     "name": "stdout",
     "output_type": "stream",
     "text": [
      "\n",
      "—— Analyzing Game 1642 ——\n",
      "White: BjarkeSahl (2107), Black: wonderfultime (2548)\n"
     ]
    },
    {
     "name": "stderr",
     "output_type": "stream",
     "text": [
      "分析棋局:  95%|█████████▍| 1599/1686 [4:51:19<17:24, 12.01s/it]"
     ]
    },
    {
     "name": "stdout",
     "output_type": "stream",
     "text": [
      "\n",
      "—— Analyzing Game 1643 ——\n",
      "White: darsen_sanzhaev (2187), Black: ChessPsych0 (2073)\n"
     ]
    },
    {
     "name": "stderr",
     "output_type": "stream",
     "text": [
      "分析棋局:  95%|█████████▍| 1600/1686 [4:51:31<17:22, 12.12s/it]"
     ]
    },
    {
     "name": "stdout",
     "output_type": "stream",
     "text": [
      "\n",
      "—— Analyzing Game 1644 ——\n",
      "White: petrpalachev (2427), Black: Brandon_Clarke (2324)\n"
     ]
    },
    {
     "name": "stderr",
     "output_type": "stream",
     "text": [
      "分析棋局:  95%|█████████▍| 1601/1686 [4:51:51<20:38, 14.57s/it]"
     ]
    },
    {
     "name": "stdout",
     "output_type": "stream",
     "text": [
      "\n",
      "—— Analyzing Game 1645 ——\n",
      "White: jup1978 (2162), Black: biostatistician (2289)\n"
     ]
    },
    {
     "name": "stderr",
     "output_type": "stream",
     "text": [
      "分析棋局:  95%|█████████▌| 1602/1686 [4:52:11<22:29, 16.06s/it]"
     ]
    },
    {
     "name": "stdout",
     "output_type": "stream",
     "text": [
      "\n",
      "—— Analyzing Game 1646 ——\n",
      "White: jcibarra (2535), Black: Mazetovic (2425)\n"
     ]
    },
    {
     "name": "stderr",
     "output_type": "stream",
     "text": [
      "分析棋局:  95%|█████████▌| 1603/1686 [4:52:24<21:09, 15.30s/it]"
     ]
    },
    {
     "name": "stdout",
     "output_type": "stream",
     "text": [
      "\n",
      "—— Analyzing Game 1647 ——\n",
      "White: PauloCesarCosta (2035), Black: bsmail (2044)\n"
     ]
    },
    {
     "name": "stderr",
     "output_type": "stream",
     "text": [
      "分析棋局:  95%|█████████▌| 1604/1686 [4:52:42<22:00, 16.10s/it]"
     ]
    },
    {
     "name": "stdout",
     "output_type": "stream",
     "text": [
      "\n",
      "—— Analyzing Game 1648 ——\n",
      "White: AkshatChandra (2539), Black: Spas_Kozhuharov (2407)\n"
     ]
    },
    {
     "name": "stderr",
     "output_type": "stream",
     "text": [
      "分析棋局:  95%|█████████▌| 1605/1686 [4:52:57<21:15, 15.75s/it]"
     ]
    },
    {
     "name": "stdout",
     "output_type": "stream",
     "text": [
      "\n",
      "—— Analyzing Game 1649 ——\n",
      "White: stepanosinovsky (2297), Black: Chesseducation4u (2319)\n"
     ]
    },
    {
     "name": "stderr",
     "output_type": "stream",
     "text": [
      "分析棋局:  95%|█████████▌| 1606/1686 [4:53:08<19:06, 14.34s/it]"
     ]
    },
    {
     "name": "stdout",
     "output_type": "stream",
     "text": [
      "\n",
      "—— Analyzing Game 1650 ——\n",
      "White: AUSSIE_PINOY (2227), Black: DanielRensch (2247)\n"
     ]
    },
    {
     "name": "stderr",
     "output_type": "stream",
     "text": [
      "分析棋局:  95%|█████████▌| 1607/1686 [4:53:20<18:00, 13.67s/it]"
     ]
    },
    {
     "name": "stdout",
     "output_type": "stream",
     "text": [
      "\n",
      "—— Analyzing Game 1651 ——\n",
      "White: ChessTrener (2454), Black: IMRosen (2129)\n"
     ]
    },
    {
     "name": "stderr",
     "output_type": "stream",
     "text": [
      "分析棋局:  95%|█████████▌| 1608/1686 [4:53:36<18:24, 14.17s/it]"
     ]
    },
    {
     "name": "stdout",
     "output_type": "stream",
     "text": [
      "\n",
      "—— Analyzing Game 1652 ——\n",
      "White: patzerplay (2175), Black: AndreyOstrovskiy (2357)\n"
     ]
    },
    {
     "name": "stderr",
     "output_type": "stream",
     "text": [
      "分析棋局:  95%|█████████▌| 1609/1686 [4:53:49<17:48, 13.88s/it]"
     ]
    },
    {
     "name": "stdout",
     "output_type": "stream",
     "text": [
      "\n",
      "—— Analyzing Game 1653 ——\n",
      "White: Schemato (2074), Black: chesstatour (1887)\n"
     ]
    },
    {
     "name": "stderr",
     "output_type": "stream",
     "text": [
      "分析棋局:  95%|█████████▌| 1610/1686 [4:54:04<17:58, 14.19s/it]"
     ]
    },
    {
     "name": "stdout",
     "output_type": "stream",
     "text": [
      "\n",
      "—— Analyzing Game 1654 ——\n",
      "White: Aragon (1960), Black: SuPeR_Fm (2338)\n"
     ]
    },
    {
     "name": "stderr",
     "output_type": "stream",
     "text": [
      "分析棋局:  96%|█████████▌| 1611/1686 [4:54:21<18:56, 15.15s/it]"
     ]
    },
    {
     "name": "stdout",
     "output_type": "stream",
     "text": [
      "\n",
      "—— Analyzing Game 1655 ——\n",
      "White: HansCoolNiemann (1833), Black: LADIESGET2KNOWME (2257)\n"
     ]
    },
    {
     "name": "stderr",
     "output_type": "stream",
     "text": [
      "分析棋局:  96%|█████████▌| 1612/1686 [4:54:44<21:29, 17.43s/it]"
     ]
    },
    {
     "name": "stdout",
     "output_type": "stream",
     "text": [
      "\n",
      "—— Analyzing Game 1656 ——\n",
      "White: GeorgMeier (2747), Black: exoticprincess (2766)\n"
     ]
    },
    {
     "name": "stderr",
     "output_type": "stream",
     "text": [
      "分析棋局:  96%|█████████▌| 1613/1686 [4:55:23<28:57, 23.79s/it]"
     ]
    },
    {
     "name": "stdout",
     "output_type": "stream",
     "text": [
      "\n",
      "—— Analyzing Game 1657 ——\n",
      "White: MinhGTrAn (2428), Black: Brandon_Clarke (2318)\n"
     ]
    },
    {
     "name": "stderr",
     "output_type": "stream",
     "text": [
      "分析棋局:  96%|█████████▌| 1614/1686 [4:55:28<21:51, 18.22s/it]"
     ]
    },
    {
     "name": "stdout",
     "output_type": "stream",
     "text": [
      "\n",
      "—— Analyzing Game 1658 ——\n",
      "White: Rijeka1999 (2218), Black: Aragon (1973)\n"
     ]
    },
    {
     "name": "stderr",
     "output_type": "stream",
     "text": [
      "分析棋局:  96%|█████████▌| 1615/1686 [4:55:35<17:36, 14.89s/it]"
     ]
    },
    {
     "name": "stdout",
     "output_type": "stream",
     "text": [
      "\n",
      "—— Analyzing Game 1659 ——\n",
      "White: Colombiano07 (1937), Black: PauloCesarCosta (2033)\n"
     ]
    },
    {
     "name": "stderr",
     "output_type": "stream",
     "text": [
      "分析棋局:  96%|█████████▌| 1616/1686 [4:55:41<14:21, 12.31s/it]"
     ]
    },
    {
     "name": "stdout",
     "output_type": "stream",
     "text": [
      "\n",
      "—— Analyzing Game 1660 ——\n",
      "White: Chesseducation4u (2326), Black: biostatistician (2282)\n"
     ]
    },
    {
     "name": "stderr",
     "output_type": "stream",
     "text": [
      "分析棋局:  96%|█████████▌| 1617/1686 [4:55:48<12:04, 10.50s/it]"
     ]
    },
    {
     "name": "stdout",
     "output_type": "stream",
     "text": [
      "\n",
      "—— Analyzing Game 1661 ——\n",
      "White: MattyDPerrine (2188), Black: pedromartinez91 (2169)\n"
     ]
    },
    {
     "name": "stderr",
     "output_type": "stream",
     "text": [
      "分析棋局:  96%|█████████▌| 1618/1686 [4:55:55<10:59,  9.70s/it]"
     ]
    },
    {
     "name": "stdout",
     "output_type": "stream",
     "text": [
      "\n",
      "—— Analyzing Game 1662 ——\n",
      "White: wonderfultime (2552), Black: GeorgMeier (2743)\n"
     ]
    },
    {
     "name": "stderr",
     "output_type": "stream",
     "text": [
      "分析棋局:  96%|█████████▌| 1619/1686 [4:56:07<11:22, 10.19s/it]"
     ]
    },
    {
     "name": "stdout",
     "output_type": "stream",
     "text": [
      "\n",
      "—— Analyzing Game 1663 ——\n",
      "White: EltajSafarli (2693), Black: zmaj23 (2358)\n"
     ]
    },
    {
     "name": "stderr",
     "output_type": "stream",
     "text": [
      "分析棋局:  96%|█████████▌| 1620/1686 [4:56:17<11:15, 10.23s/it]"
     ]
    },
    {
     "name": "stdout",
     "output_type": "stream",
     "text": [
      "\n",
      "—— Analyzing Game 1664 ——\n",
      "White: IMLevAltounian (2440), Black: brauliocuarta (2048)\n"
     ]
    },
    {
     "name": "stderr",
     "output_type": "stream",
     "text": [
      "分析棋局:  96%|█████████▌| 1621/1686 [4:56:28<11:09, 10.29s/it]"
     ]
    },
    {
     "name": "stdout",
     "output_type": "stream",
     "text": [
      "\n",
      "—— Analyzing Game 1665 ——\n",
      "White: exoticprincess (2758), Black: AkshatChandra (2550)\n"
     ]
    },
    {
     "name": "stderr",
     "output_type": "stream",
     "text": [
      "分析棋局:  96%|█████████▌| 1622/1686 [4:56:43<12:34, 11.79s/it]"
     ]
    },
    {
     "name": "stdout",
     "output_type": "stream",
     "text": [
      "\n",
      "—— Analyzing Game 1666 ——\n",
      "White: jcibarra (2542), Black: ChessTrener (2448)\n"
     ]
    },
    {
     "name": "stderr",
     "output_type": "stream",
     "text": [
      "分析棋局:  96%|█████████▋| 1623/1686 [4:56:57<12:59, 12.38s/it]"
     ]
    },
    {
     "name": "stdout",
     "output_type": "stream",
     "text": [
      "\n",
      "—— Analyzing Game 1667 ——\n",
      "White: Mvpag (1845), Black: chesstatour (1894)\n"
     ]
    },
    {
     "name": "stderr",
     "output_type": "stream",
     "text": [
      "分析棋局:  96%|█████████▋| 1624/1686 [4:57:06<11:47, 11.42s/it]"
     ]
    },
    {
     "name": "stdout",
     "output_type": "stream",
     "text": [
      "\n",
      "—— Analyzing Game 1668 ——\n",
      "White: stepanosinovsky (2292), Black: Ar4uha (2461)\n"
     ]
    },
    {
     "name": "stderr",
     "output_type": "stream",
     "text": [
      "分析棋局:  96%|█████████▋| 1625/1686 [4:57:18<11:56, 11.75s/it]"
     ]
    },
    {
     "name": "stdout",
     "output_type": "stream",
     "text": [
      "\n",
      "—— Analyzing Game 1669 ——\n",
      "White: BjarkeSahl (2121), Black: Mazetovic (2330)\n"
     ]
    },
    {
     "name": "stderr",
     "output_type": "stream",
     "text": [
      "分析棋局:  96%|█████████▋| 1626/1686 [4:57:30<11:46, 11.78s/it]"
     ]
    },
    {
     "name": "stdout",
     "output_type": "stream",
     "text": [
      "\n",
      "—— Analyzing Game 1670 ——\n",
      "White: bsmail (2045), Black: Polemistis (1585)\n"
     ]
    },
    {
     "name": "stderr",
     "output_type": "stream",
     "text": [
      "分析棋局:  97%|█████████▋| 1627/1686 [4:57:43<11:52, 12.08s/it]"
     ]
    },
    {
     "name": "stdout",
     "output_type": "stream",
     "text": [
      "\n",
      "—— Analyzing Game 1671 ——\n",
      "White: kesarev (2221), Black: Bab3s (2038)\n"
     ]
    },
    {
     "name": "stderr",
     "output_type": "stream",
     "text": [
      "分析棋局:  97%|█████████▋| 1628/1686 [4:57:58<12:30, 12.93s/it]"
     ]
    },
    {
     "name": "stdout",
     "output_type": "stream",
     "text": [
      "\n",
      "—— Analyzing Game 1672 ——\n",
      "White: Gevorg_Harutjunyan (2483), Black: darsen_sanzhaev (2202)\n"
     ]
    },
    {
     "name": "stderr",
     "output_type": "stream",
     "text": [
      "分析棋局:  97%|█████████▋| 1629/1686 [4:58:10<11:56, 12.57s/it]"
     ]
    },
    {
     "name": "stdout",
     "output_type": "stream",
     "text": [
      "\n",
      "—— Analyzing Game 1673 ——\n",
      "White: michaelk123 (1906), Black: HansCoolNiemann (1835)\n"
     ]
    },
    {
     "name": "stderr",
     "output_type": "stream",
     "text": [
      "分析棋局:  97%|█████████▋| 1630/1686 [4:58:28<13:30, 14.47s/it]"
     ]
    },
    {
     "name": "stdout",
     "output_type": "stream",
     "text": [
      "\n",
      "—— Analyzing Game 1674 ——\n",
      "White: LADIESGET2KNOWME (2249), Black: DanielRensch (2257)\n"
     ]
    },
    {
     "name": "stderr",
     "output_type": "stream",
     "text": [
      "分析棋局:  97%|█████████▋| 1631/1686 [4:58:47<14:16, 15.58s/it]"
     ]
    },
    {
     "name": "stdout",
     "output_type": "stream",
     "text": [
      "\n",
      "—— Analyzing Game 1675 ——\n",
      "White: FabianEnglert (2245), Black: IMRosen (2132)\n"
     ]
    },
    {
     "name": "stderr",
     "output_type": "stream",
     "text": [
      "分析棋局:  97%|█████████▋| 1632/1686 [4:58:58<12:45, 14.18s/it]"
     ]
    },
    {
     "name": "stdout",
     "output_type": "stream",
     "text": [
      "\n",
      "—— Analyzing Game 1676 ——\n",
      "White: GMHess (2448), Black: Malev212 (2129)\n"
     ]
    },
    {
     "name": "stderr",
     "output_type": "stream",
     "text": [
      "分析棋局:  97%|█████████▋| 1633/1686 [4:59:09<11:42, 13.26s/it]"
     ]
    },
    {
     "name": "stdout",
     "output_type": "stream",
     "text": [
      "\n",
      "—— Analyzing Game 1677 ——\n",
      "White: gumersindo (2118), Black: pKiLz5Rn9b (2236)\n"
     ]
    },
    {
     "name": "stderr",
     "output_type": "stream",
     "text": [
      "分析棋局:  97%|█████████▋| 1634/1686 [4:59:23<11:42, 13.50s/it]"
     ]
    },
    {
     "name": "stdout",
     "output_type": "stream",
     "text": [
      "\n",
      "—— Analyzing Game 1678 ——\n",
      "White: patzerplay (2188), Black: petrpalachev (2414)\n"
     ]
    },
    {
     "name": "stderr",
     "output_type": "stream",
     "text": [
      "分析棋局:  97%|█████████▋| 1635/1686 [4:59:41<12:36, 14.83s/it]"
     ]
    },
    {
     "name": "stdout",
     "output_type": "stream",
     "text": [
      "\n",
      "—— Analyzing Game 1679 ——\n",
      "White: Novak_Pezelj (2381), Black: destroyer305 (2198)\n"
     ]
    },
    {
     "name": "stderr",
     "output_type": "stream",
     "text": [
      "分析棋局:  97%|█████████▋| 1636/1686 [5:00:01<13:48, 16.56s/it]"
     ]
    },
    {
     "name": "stdout",
     "output_type": "stream",
     "text": [
      "\n",
      "—— Analyzing Game 1680 ——\n",
      "White: Schemato (2070), Black: Irochka83 (2261)\n"
     ]
    },
    {
     "name": "stderr",
     "output_type": "stream",
     "text": [
      "分析棋局:  97%|█████████▋| 1637/1686 [5:00:20<14:05, 17.26s/it]"
     ]
    },
    {
     "name": "stdout",
     "output_type": "stream",
     "text": [
      "\n",
      "—— Analyzing Game 1681 ——\n",
      "White: AUSSIE_PINOY (2217), Black: Tirantes (2207)\n"
     ]
    },
    {
     "name": "stderr",
     "output_type": "stream",
     "text": [
      "分析棋局:  97%|█████████▋| 1638/1686 [5:00:37<13:44, 17.19s/it]"
     ]
    },
    {
     "name": "stdout",
     "output_type": "stream",
     "text": [
      "\n",
      "—— Analyzing Game 1682 ——\n",
      "White: Mugzyyy (2449), Black: megarompa (2683)\n"
     ]
    },
    {
     "name": "stderr",
     "output_type": "stream",
     "text": [
      "分析棋局:  97%|█████████▋| 1639/1686 [5:00:56<13:44, 17.54s/it]"
     ]
    },
    {
     "name": "stdout",
     "output_type": "stream",
     "text": [
      "\n",
      "—— Analyzing Game 1683 ——\n",
      "White: 1stSecond (2372), Black: AndreyOstrovskiy (2357)\n"
     ]
    },
    {
     "name": "stderr",
     "output_type": "stream",
     "text": [
      "分析棋局:  97%|█████████▋| 1640/1686 [5:01:13<13:26, 17.53s/it]"
     ]
    },
    {
     "name": "stdout",
     "output_type": "stream",
     "text": [
      "\n",
      "—— Analyzing Game 1684 ——\n",
      "White: ChessPsych0 (2065), Black: SuPeR_Fm (2341)\n"
     ]
    },
    {
     "name": "stderr",
     "output_type": "stream",
     "text": [
      "分析棋局:  97%|█████████▋| 1641/1686 [5:01:33<13:36, 18.14s/it]"
     ]
    },
    {
     "name": "stdout",
     "output_type": "stream",
     "text": [
      "\n",
      "—— Analyzing Game 1685 ——\n",
      "White: Fandorine (2566), Black: Tilicheev_Viacheslav (2519)\n"
     ]
    },
    {
     "name": "stderr",
     "output_type": "stream",
     "text": [
      "分析棋局:  97%|█████████▋| 1642/1686 [5:01:54<13:58, 19.06s/it]"
     ]
    },
    {
     "name": "stdout",
     "output_type": "stream",
     "text": [
      "\n",
      "—— Analyzing Game 1686 ——\n",
      "White: GGuseinov (2521), Black: AlexanderL (2533)\n"
     ]
    },
    {
     "name": "stderr",
     "output_type": "stream",
     "text": [
      "分析棋局:  97%|█████████▋| 1643/1686 [5:02:15<07:54, 11.04s/it]"
     ]
    },
    {
     "name": "stdout",
     "output_type": "stream",
     "text": [
      "\n",
      "跳过/分析失败的棋局数: 43\n",
      "\n",
      "总棋局数: 1686\n",
      "成功分析棋局数: 1634\n",
      "跳过/分析失败棋局数: 52\n",
      "\n",
      "===== 总体统计 =====\n",
      "有效分析对局数: 1634\n",
      "白方平均: 33.3cp损失, 86.8%准确率\n",
      "黑方平均: 34.1cp损失, 86.5%准确率\n"
     ]
    },
    {
     "name": "stderr",
     "output_type": "stream",
     "text": [
      "\n"
     ]
    },
    {
     "data": {
      "text/html": [
       "<div>\n",
       "<style scoped>\n",
       "    .dataframe tbody tr th:only-of-type {\n",
       "        vertical-align: middle;\n",
       "    }\n",
       "\n",
       "    .dataframe tbody tr th {\n",
       "        vertical-align: top;\n",
       "    }\n",
       "\n",
       "    .dataframe thead th {\n",
       "        text-align: right;\n",
       "    }\n",
       "</style>\n",
       "<table border=\"1\" class=\"dataframe\">\n",
       "  <thead>\n",
       "    <tr style=\"text-align: right;\">\n",
       "      <th></th>\n",
       "      <th>Event</th>\n",
       "      <th>Site</th>\n",
       "      <th>Date</th>\n",
       "      <th>Round</th>\n",
       "      <th>White</th>\n",
       "      <th>Black</th>\n",
       "      <th>Result</th>\n",
       "      <th>WhiteElo</th>\n",
       "      <th>BlackElo</th>\n",
       "      <th>TimeControl</th>\n",
       "      <th>...</th>\n",
       "      <th>White Middle Accuracy</th>\n",
       "      <th>White Middle Std</th>\n",
       "      <th>White Endgame Accuracy</th>\n",
       "      <th>White Endgame Std</th>\n",
       "      <th>Black Beginning Accuracy</th>\n",
       "      <th>Black Beginning Std</th>\n",
       "      <th>Black Middle Accuracy</th>\n",
       "      <th>Black Middle Std</th>\n",
       "      <th>Black Endgame Accuracy</th>\n",
       "      <th>Black Endgame Std</th>\n",
       "    </tr>\n",
       "  </thead>\n",
       "  <tbody>\n",
       "    <tr>\n",
       "      <th>0</th>\n",
       "      <td>*** Monthly 3|2 Blitz Masters</td>\n",
       "      <td>Chess.com</td>\n",
       "      <td>2014.10.28</td>\n",
       "      <td>1</td>\n",
       "      <td>VovAn1991</td>\n",
       "      <td>RealBlindMuddy</td>\n",
       "      <td>1-0</td>\n",
       "      <td>2355</td>\n",
       "      <td>2037</td>\n",
       "      <td>180+2</td>\n",
       "      <td>...</td>\n",
       "      <td>NaN</td>\n",
       "      <td>NaN</td>\n",
       "      <td>97.355130</td>\n",
       "      <td>0.000000</td>\n",
       "      <td>NaN</td>\n",
       "      <td>NaN</td>\n",
       "      <td>NaN</td>\n",
       "      <td>NaN</td>\n",
       "      <td>NaN</td>\n",
       "      <td>NaN</td>\n",
       "    </tr>\n",
       "    <tr>\n",
       "      <th>1</th>\n",
       "      <td>*** Monthly 3|2 Blitz Masters</td>\n",
       "      <td>Chess.com</td>\n",
       "      <td>2014.10.28</td>\n",
       "      <td>1</td>\n",
       "      <td>TomsKantans</td>\n",
       "      <td>lorcho</td>\n",
       "      <td>0-1</td>\n",
       "      <td>2234</td>\n",
       "      <td>2632</td>\n",
       "      <td>180+2</td>\n",
       "      <td>...</td>\n",
       "      <td>NaN</td>\n",
       "      <td>NaN</td>\n",
       "      <td>NaN</td>\n",
       "      <td>NaN</td>\n",
       "      <td>NaN</td>\n",
       "      <td>NaN</td>\n",
       "      <td>NaN</td>\n",
       "      <td>NaN</td>\n",
       "      <td>NaN</td>\n",
       "      <td>NaN</td>\n",
       "    </tr>\n",
       "    <tr>\n",
       "      <th>2</th>\n",
       "      <td>*** Monthly 3|2 Blitz Masters</td>\n",
       "      <td>Chess.com</td>\n",
       "      <td>2014.10.28</td>\n",
       "      <td>1</td>\n",
       "      <td>ilmago</td>\n",
       "      <td>GMG</td>\n",
       "      <td>0-1</td>\n",
       "      <td>1718</td>\n",
       "      <td>2278</td>\n",
       "      <td>180+2</td>\n",
       "      <td>...</td>\n",
       "      <td>82.985401</td>\n",
       "      <td>16.838992</td>\n",
       "      <td>77.517956</td>\n",
       "      <td>20.594522</td>\n",
       "      <td>97.275020</td>\n",
       "      <td>3.716128</td>\n",
       "      <td>90.504206</td>\n",
       "      <td>9.857504</td>\n",
       "      <td>89.741507</td>\n",
       "      <td>16.832719</td>\n",
       "    </tr>\n",
       "    <tr>\n",
       "      <th>3</th>\n",
       "      <td>*** Monthly 3|2 Blitz Masters</td>\n",
       "      <td>Chess.com</td>\n",
       "      <td>2014.10.28</td>\n",
       "      <td>1</td>\n",
       "      <td>SabinaFoisor</td>\n",
       "      <td>swayamsm</td>\n",
       "      <td>1-0</td>\n",
       "      <td>2284</td>\n",
       "      <td>2288</td>\n",
       "      <td>180+2</td>\n",
       "      <td>...</td>\n",
       "      <td>93.624434</td>\n",
       "      <td>5.337049</td>\n",
       "      <td>93.291736</td>\n",
       "      <td>3.030791</td>\n",
       "      <td>93.303910</td>\n",
       "      <td>2.470164</td>\n",
       "      <td>90.883089</td>\n",
       "      <td>2.193190</td>\n",
       "      <td>96.366502</td>\n",
       "      <td>3.633498</td>\n",
       "    </tr>\n",
       "    <tr>\n",
       "      <th>4</th>\n",
       "      <td>*** Monthly 3|2 Blitz Masters</td>\n",
       "      <td>Chess.com</td>\n",
       "      <td>2014.10.28</td>\n",
       "      <td>1</td>\n",
       "      <td>KingPetrosian</td>\n",
       "      <td>mat_kolosowski</td>\n",
       "      <td>0-1</td>\n",
       "      <td>2095</td>\n",
       "      <td>2352</td>\n",
       "      <td>180+2</td>\n",
       "      <td>...</td>\n",
       "      <td>93.308720</td>\n",
       "      <td>12.892787</td>\n",
       "      <td>99.687454</td>\n",
       "      <td>0.740533</td>\n",
       "      <td>99.355770</td>\n",
       "      <td>1.274435</td>\n",
       "      <td>98.939505</td>\n",
       "      <td>2.150934</td>\n",
       "      <td>99.886281</td>\n",
       "      <td>0.270958</td>\n",
       "    </tr>\n",
       "    <tr>\n",
       "      <th>...</th>\n",
       "      <td>...</td>\n",
       "      <td>...</td>\n",
       "      <td>...</td>\n",
       "      <td>...</td>\n",
       "      <td>...</td>\n",
       "      <td>...</td>\n",
       "      <td>...</td>\n",
       "      <td>...</td>\n",
       "      <td>...</td>\n",
       "      <td>...</td>\n",
       "      <td>...</td>\n",
       "      <td>...</td>\n",
       "      <td>...</td>\n",
       "      <td>...</td>\n",
       "      <td>...</td>\n",
       "      <td>...</td>\n",
       "      <td>...</td>\n",
       "      <td>...</td>\n",
       "      <td>...</td>\n",
       "      <td>...</td>\n",
       "      <td>...</td>\n",
       "    </tr>\n",
       "    <tr>\n",
       "      <th>1681</th>\n",
       "      <td>*** Titled Tuesday 3|2 Blitz</td>\n",
       "      <td>Chess.com</td>\n",
       "      <td>2015.03.03</td>\n",
       "      <td>9</td>\n",
       "      <td>Mugzyyy</td>\n",
       "      <td>megarompa</td>\n",
       "      <td>0-1</td>\n",
       "      <td>2449</td>\n",
       "      <td>2683</td>\n",
       "      <td>180+2</td>\n",
       "      <td>...</td>\n",
       "      <td>92.094203</td>\n",
       "      <td>11.973641</td>\n",
       "      <td>85.556916</td>\n",
       "      <td>23.677186</td>\n",
       "      <td>92.783882</td>\n",
       "      <td>9.567825</td>\n",
       "      <td>90.203439</td>\n",
       "      <td>14.422086</td>\n",
       "      <td>88.992977</td>\n",
       "      <td>20.332599</td>\n",
       "    </tr>\n",
       "    <tr>\n",
       "      <th>1682</th>\n",
       "      <td>*** Titled Tuesday 3|2 Blitz</td>\n",
       "      <td>Chess.com</td>\n",
       "      <td>2015.03.03</td>\n",
       "      <td>9</td>\n",
       "      <td>1stSecond</td>\n",
       "      <td>AndreyOstrovskiy</td>\n",
       "      <td>1/2-1/2</td>\n",
       "      <td>2372</td>\n",
       "      <td>2357</td>\n",
       "      <td>180+2</td>\n",
       "      <td>...</td>\n",
       "      <td>94.140987</td>\n",
       "      <td>14.125250</td>\n",
       "      <td>99.315577</td>\n",
       "      <td>2.138444</td>\n",
       "      <td>90.751940</td>\n",
       "      <td>14.598213</td>\n",
       "      <td>96.391597</td>\n",
       "      <td>10.093465</td>\n",
       "      <td>99.369315</td>\n",
       "      <td>2.715192</td>\n",
       "    </tr>\n",
       "    <tr>\n",
       "      <th>1683</th>\n",
       "      <td>*** Titled Tuesday 3|2 Blitz</td>\n",
       "      <td>Chess.com</td>\n",
       "      <td>2015.03.03</td>\n",
       "      <td>9</td>\n",
       "      <td>ChessPsych0</td>\n",
       "      <td>SuPeR_Fm</td>\n",
       "      <td>0-1</td>\n",
       "      <td>2065</td>\n",
       "      <td>2341</td>\n",
       "      <td>180+2</td>\n",
       "      <td>...</td>\n",
       "      <td>97.506019</td>\n",
       "      <td>6.503138</td>\n",
       "      <td>93.914429</td>\n",
       "      <td>17.383642</td>\n",
       "      <td>91.750301</td>\n",
       "      <td>10.206618</td>\n",
       "      <td>98.488577</td>\n",
       "      <td>3.233310</td>\n",
       "      <td>96.504535</td>\n",
       "      <td>12.443981</td>\n",
       "    </tr>\n",
       "    <tr>\n",
       "      <th>1684</th>\n",
       "      <td>*** Titled Tuesday 3|2 Blitz</td>\n",
       "      <td>Chess.com</td>\n",
       "      <td>2015.03.03</td>\n",
       "      <td>9</td>\n",
       "      <td>Fandorine</td>\n",
       "      <td>Tilicheev_Viacheslav</td>\n",
       "      <td>1/2-1/2</td>\n",
       "      <td>2566</td>\n",
       "      <td>2519</td>\n",
       "      <td>180+2</td>\n",
       "      <td>...</td>\n",
       "      <td>97.803933</td>\n",
       "      <td>4.436912</td>\n",
       "      <td>97.627445</td>\n",
       "      <td>10.923771</td>\n",
       "      <td>93.973668</td>\n",
       "      <td>6.090862</td>\n",
       "      <td>98.436069</td>\n",
       "      <td>2.892443</td>\n",
       "      <td>97.454330</td>\n",
       "      <td>11.399091</td>\n",
       "    </tr>\n",
       "    <tr>\n",
       "      <th>1685</th>\n",
       "      <td>*** Titled Tuesday 3|2 Blitz</td>\n",
       "      <td>Chess.com</td>\n",
       "      <td>2015.03.03</td>\n",
       "      <td>9</td>\n",
       "      <td>GGuseinov</td>\n",
       "      <td>AlexanderL</td>\n",
       "      <td>0-1</td>\n",
       "      <td>2521</td>\n",
       "      <td>2533</td>\n",
       "      <td>180+2</td>\n",
       "      <td>...</td>\n",
       "      <td>98.379705</td>\n",
       "      <td>2.730408</td>\n",
       "      <td>95.367433</td>\n",
       "      <td>10.428628</td>\n",
       "      <td>97.392317</td>\n",
       "      <td>8.736544</td>\n",
       "      <td>98.060003</td>\n",
       "      <td>3.417998</td>\n",
       "      <td>97.018011</td>\n",
       "      <td>8.030589</td>\n",
       "    </tr>\n",
       "  </tbody>\n",
       "</table>\n",
       "<p>1686 rows × 30 columns</p>\n",
       "</div>"
      ],
      "text/plain": [
       "                              Event       Site        Date  Round  \\\n",
       "0     *** Monthly 3|2 Blitz Masters  Chess.com  2014.10.28      1   \n",
       "1     *** Monthly 3|2 Blitz Masters  Chess.com  2014.10.28      1   \n",
       "2     *** Monthly 3|2 Blitz Masters  Chess.com  2014.10.28      1   \n",
       "3     *** Monthly 3|2 Blitz Masters  Chess.com  2014.10.28      1   \n",
       "4     *** Monthly 3|2 Blitz Masters  Chess.com  2014.10.28      1   \n",
       "...                             ...        ...         ...    ...   \n",
       "1681   *** Titled Tuesday 3|2 Blitz  Chess.com  2015.03.03      9   \n",
       "1682   *** Titled Tuesday 3|2 Blitz  Chess.com  2015.03.03      9   \n",
       "1683   *** Titled Tuesday 3|2 Blitz  Chess.com  2015.03.03      9   \n",
       "1684   *** Titled Tuesday 3|2 Blitz  Chess.com  2015.03.03      9   \n",
       "1685   *** Titled Tuesday 3|2 Blitz  Chess.com  2015.03.03      9   \n",
       "\n",
       "              White                 Black   Result  WhiteElo  BlackElo  \\\n",
       "0         VovAn1991        RealBlindMuddy      1-0      2355      2037   \n",
       "1       TomsKantans                lorcho      0-1      2234      2632   \n",
       "2            ilmago                   GMG      0-1      1718      2278   \n",
       "3      SabinaFoisor              swayamsm      1-0      2284      2288   \n",
       "4     KingPetrosian        mat_kolosowski      0-1      2095      2352   \n",
       "...             ...                   ...      ...       ...       ...   \n",
       "1681        Mugzyyy             megarompa      0-1      2449      2683   \n",
       "1682      1stSecond      AndreyOstrovskiy  1/2-1/2      2372      2357   \n",
       "1683    ChessPsych0              SuPeR_Fm      0-1      2065      2341   \n",
       "1684      Fandorine  Tilicheev_Viacheslav  1/2-1/2      2566      2519   \n",
       "1685      GGuseinov            AlexanderL      0-1      2521      2533   \n",
       "\n",
       "     TimeControl  ... White Middle Accuracy White Middle Std  \\\n",
       "0          180+2  ...                   NaN              NaN   \n",
       "1          180+2  ...                   NaN              NaN   \n",
       "2          180+2  ...             82.985401        16.838992   \n",
       "3          180+2  ...             93.624434         5.337049   \n",
       "4          180+2  ...             93.308720        12.892787   \n",
       "...          ...  ...                   ...              ...   \n",
       "1681       180+2  ...             92.094203        11.973641   \n",
       "1682       180+2  ...             94.140987        14.125250   \n",
       "1683       180+2  ...             97.506019         6.503138   \n",
       "1684       180+2  ...             97.803933         4.436912   \n",
       "1685       180+2  ...             98.379705         2.730408   \n",
       "\n",
       "     White Endgame Accuracy White Endgame Std  Black Beginning Accuracy  \\\n",
       "0                 97.355130          0.000000                       NaN   \n",
       "1                       NaN               NaN                       NaN   \n",
       "2                 77.517956         20.594522                 97.275020   \n",
       "3                 93.291736          3.030791                 93.303910   \n",
       "4                 99.687454          0.740533                 99.355770   \n",
       "...                     ...               ...                       ...   \n",
       "1681              85.556916         23.677186                 92.783882   \n",
       "1682              99.315577          2.138444                 90.751940   \n",
       "1683              93.914429         17.383642                 91.750301   \n",
       "1684              97.627445         10.923771                 93.973668   \n",
       "1685              95.367433         10.428628                 97.392317   \n",
       "\n",
       "      Black Beginning Std  Black Middle Accuracy  Black Middle Std  \\\n",
       "0                     NaN                    NaN               NaN   \n",
       "1                     NaN                    NaN               NaN   \n",
       "2                3.716128              90.504206          9.857504   \n",
       "3                2.470164              90.883089          2.193190   \n",
       "4                1.274435              98.939505          2.150934   \n",
       "...                   ...                    ...               ...   \n",
       "1681             9.567825              90.203439         14.422086   \n",
       "1682            14.598213              96.391597         10.093465   \n",
       "1683            10.206618              98.488577          3.233310   \n",
       "1684             6.090862              98.436069          2.892443   \n",
       "1685             8.736544              98.060003          3.417998   \n",
       "\n",
       "      Black Endgame Accuracy  Black Endgame Std  \n",
       "0                        NaN                NaN  \n",
       "1                        NaN                NaN  \n",
       "2                  89.741507          16.832719  \n",
       "3                  96.366502           3.633498  \n",
       "4                  99.886281           0.270958  \n",
       "...                      ...                ...  \n",
       "1681               88.992977          20.332599  \n",
       "1682               99.369315           2.715192  \n",
       "1683               96.504535          12.443981  \n",
       "1684               97.454330          11.399091  \n",
       "1685               97.018011           8.030589  \n",
       "\n",
       "[1686 rows x 30 columns]"
      ]
     },
     "metadata": {},
     "output_type": "display_data"
    }
   ],
   "source": [
    "csv_file_path=\"C:\\\\Users\\\\Administrator\\\\Desktop\\\\2014.10-15.2\\\\results\\\\aftermerge\\\\1410-1503.csv\"\n",
    "engine_path='C:\\\\Users\\\\Administrator\\\\Downloads\\\\stockfish-windows-x86-64-avx2\\\\stockfish\\\\stockfish-windows-x86-64-avx2.exe'\n",
    "threads = 2  \n",
    "depth = 16  \n",
    "is_verbose = True  \n",
    "\n",
    "# 运行分析\n",
    "result_dict,mediate_df = analyze_csv(csv_file_path, engine_path, threads, depth, is_verbose)\n",
    "\n",
    "# 创建对局结果DataFrame\n",
    "display(mediate_df)"
   ]
  },
  {
   "cell_type": "code",
   "execution_count": 6,
   "metadata": {},
   "outputs": [
    {
     "data": {
      "text/html": [
       "<div>\n",
       "<style scoped>\n",
       "    .dataframe tbody tr th:only-of-type {\n",
       "        vertical-align: middle;\n",
       "    }\n",
       "\n",
       "    .dataframe tbody tr th {\n",
       "        vertical-align: top;\n",
       "    }\n",
       "\n",
       "    .dataframe thead th {\n",
       "        text-align: right;\n",
       "    }\n",
       "</style>\n",
       "<table border=\"1\" class=\"dataframe\">\n",
       "  <thead>\n",
       "    <tr style=\"text-align: right;\">\n",
       "      <th></th>\n",
       "      <th>Event</th>\n",
       "      <th>Site</th>\n",
       "      <th>Date</th>\n",
       "      <th>Round</th>\n",
       "      <th>White</th>\n",
       "      <th>Black</th>\n",
       "      <th>Result</th>\n",
       "      <th>WhiteElo</th>\n",
       "      <th>BlackElo</th>\n",
       "      <th>TimeControl</th>\n",
       "      <th>...</th>\n",
       "      <th>White Middle Accuracy</th>\n",
       "      <th>White Middle Std</th>\n",
       "      <th>White Endgame Accuracy</th>\n",
       "      <th>White Endgame Std</th>\n",
       "      <th>Black Beginning Accuracy</th>\n",
       "      <th>Black Beginning Std</th>\n",
       "      <th>Black Middle Accuracy</th>\n",
       "      <th>Black Middle Std</th>\n",
       "      <th>Black Endgame Accuracy</th>\n",
       "      <th>Black Endgame Std</th>\n",
       "    </tr>\n",
       "  </thead>\n",
       "  <tbody>\n",
       "    <tr>\n",
       "      <th>0</th>\n",
       "      <td>*** Monthly 3|2 Blitz Masters</td>\n",
       "      <td>Chess.com</td>\n",
       "      <td>2014.10.28</td>\n",
       "      <td>1</td>\n",
       "      <td>VovAn1991</td>\n",
       "      <td>RealBlindMuddy</td>\n",
       "      <td>1-0</td>\n",
       "      <td>2355</td>\n",
       "      <td>2037</td>\n",
       "      <td>180+2</td>\n",
       "      <td>...</td>\n",
       "      <td>NaN</td>\n",
       "      <td>NaN</td>\n",
       "      <td>97.355130</td>\n",
       "      <td>0.000000</td>\n",
       "      <td>NaN</td>\n",
       "      <td>NaN</td>\n",
       "      <td>NaN</td>\n",
       "      <td>NaN</td>\n",
       "      <td>NaN</td>\n",
       "      <td>NaN</td>\n",
       "    </tr>\n",
       "    <tr>\n",
       "      <th>1</th>\n",
       "      <td>*** Monthly 3|2 Blitz Masters</td>\n",
       "      <td>Chess.com</td>\n",
       "      <td>2014.10.28</td>\n",
       "      <td>1</td>\n",
       "      <td>TomsKantans</td>\n",
       "      <td>lorcho</td>\n",
       "      <td>0-1</td>\n",
       "      <td>2234</td>\n",
       "      <td>2632</td>\n",
       "      <td>180+2</td>\n",
       "      <td>...</td>\n",
       "      <td>NaN</td>\n",
       "      <td>NaN</td>\n",
       "      <td>NaN</td>\n",
       "      <td>NaN</td>\n",
       "      <td>NaN</td>\n",
       "      <td>NaN</td>\n",
       "      <td>NaN</td>\n",
       "      <td>NaN</td>\n",
       "      <td>NaN</td>\n",
       "      <td>NaN</td>\n",
       "    </tr>\n",
       "    <tr>\n",
       "      <th>2</th>\n",
       "      <td>*** Monthly 3|2 Blitz Masters</td>\n",
       "      <td>Chess.com</td>\n",
       "      <td>2014.10.28</td>\n",
       "      <td>1</td>\n",
       "      <td>ilmago</td>\n",
       "      <td>GMG</td>\n",
       "      <td>0-1</td>\n",
       "      <td>1718</td>\n",
       "      <td>2278</td>\n",
       "      <td>180+2</td>\n",
       "      <td>...</td>\n",
       "      <td>82.985401</td>\n",
       "      <td>16.838992</td>\n",
       "      <td>77.517956</td>\n",
       "      <td>20.594522</td>\n",
       "      <td>97.275020</td>\n",
       "      <td>3.716128</td>\n",
       "      <td>90.504206</td>\n",
       "      <td>9.857504</td>\n",
       "      <td>89.741507</td>\n",
       "      <td>16.832719</td>\n",
       "    </tr>\n",
       "    <tr>\n",
       "      <th>3</th>\n",
       "      <td>*** Monthly 3|2 Blitz Masters</td>\n",
       "      <td>Chess.com</td>\n",
       "      <td>2014.10.28</td>\n",
       "      <td>1</td>\n",
       "      <td>SabinaFoisor</td>\n",
       "      <td>swayamsm</td>\n",
       "      <td>1-0</td>\n",
       "      <td>2284</td>\n",
       "      <td>2288</td>\n",
       "      <td>180+2</td>\n",
       "      <td>...</td>\n",
       "      <td>93.624434</td>\n",
       "      <td>5.337049</td>\n",
       "      <td>93.291736</td>\n",
       "      <td>3.030791</td>\n",
       "      <td>93.303910</td>\n",
       "      <td>2.470164</td>\n",
       "      <td>90.883089</td>\n",
       "      <td>2.193190</td>\n",
       "      <td>96.366502</td>\n",
       "      <td>3.633498</td>\n",
       "    </tr>\n",
       "    <tr>\n",
       "      <th>4</th>\n",
       "      <td>*** Monthly 3|2 Blitz Masters</td>\n",
       "      <td>Chess.com</td>\n",
       "      <td>2014.10.28</td>\n",
       "      <td>1</td>\n",
       "      <td>KingPetrosian</td>\n",
       "      <td>mat_kolosowski</td>\n",
       "      <td>0-1</td>\n",
       "      <td>2095</td>\n",
       "      <td>2352</td>\n",
       "      <td>180+2</td>\n",
       "      <td>...</td>\n",
       "      <td>93.308720</td>\n",
       "      <td>12.892787</td>\n",
       "      <td>99.687454</td>\n",
       "      <td>0.740533</td>\n",
       "      <td>99.355770</td>\n",
       "      <td>1.274435</td>\n",
       "      <td>98.939505</td>\n",
       "      <td>2.150934</td>\n",
       "      <td>99.886281</td>\n",
       "      <td>0.270958</td>\n",
       "    </tr>\n",
       "    <tr>\n",
       "      <th>...</th>\n",
       "      <td>...</td>\n",
       "      <td>...</td>\n",
       "      <td>...</td>\n",
       "      <td>...</td>\n",
       "      <td>...</td>\n",
       "      <td>...</td>\n",
       "      <td>...</td>\n",
       "      <td>...</td>\n",
       "      <td>...</td>\n",
       "      <td>...</td>\n",
       "      <td>...</td>\n",
       "      <td>...</td>\n",
       "      <td>...</td>\n",
       "      <td>...</td>\n",
       "      <td>...</td>\n",
       "      <td>...</td>\n",
       "      <td>...</td>\n",
       "      <td>...</td>\n",
       "      <td>...</td>\n",
       "      <td>...</td>\n",
       "      <td>...</td>\n",
       "    </tr>\n",
       "    <tr>\n",
       "      <th>1681</th>\n",
       "      <td>*** Titled Tuesday 3|2 Blitz</td>\n",
       "      <td>Chess.com</td>\n",
       "      <td>2015.03.03</td>\n",
       "      <td>9</td>\n",
       "      <td>Mugzyyy</td>\n",
       "      <td>megarompa</td>\n",
       "      <td>0-1</td>\n",
       "      <td>2449</td>\n",
       "      <td>2683</td>\n",
       "      <td>180+2</td>\n",
       "      <td>...</td>\n",
       "      <td>92.094203</td>\n",
       "      <td>11.973641</td>\n",
       "      <td>85.556916</td>\n",
       "      <td>23.677186</td>\n",
       "      <td>92.783882</td>\n",
       "      <td>9.567825</td>\n",
       "      <td>90.203439</td>\n",
       "      <td>14.422086</td>\n",
       "      <td>88.992977</td>\n",
       "      <td>20.332599</td>\n",
       "    </tr>\n",
       "    <tr>\n",
       "      <th>1682</th>\n",
       "      <td>*** Titled Tuesday 3|2 Blitz</td>\n",
       "      <td>Chess.com</td>\n",
       "      <td>2015.03.03</td>\n",
       "      <td>9</td>\n",
       "      <td>1stSecond</td>\n",
       "      <td>AndreyOstrovskiy</td>\n",
       "      <td>1/2-1/2</td>\n",
       "      <td>2372</td>\n",
       "      <td>2357</td>\n",
       "      <td>180+2</td>\n",
       "      <td>...</td>\n",
       "      <td>94.140987</td>\n",
       "      <td>14.125250</td>\n",
       "      <td>99.315577</td>\n",
       "      <td>2.138444</td>\n",
       "      <td>90.751940</td>\n",
       "      <td>14.598213</td>\n",
       "      <td>96.391597</td>\n",
       "      <td>10.093465</td>\n",
       "      <td>99.369315</td>\n",
       "      <td>2.715192</td>\n",
       "    </tr>\n",
       "    <tr>\n",
       "      <th>1683</th>\n",
       "      <td>*** Titled Tuesday 3|2 Blitz</td>\n",
       "      <td>Chess.com</td>\n",
       "      <td>2015.03.03</td>\n",
       "      <td>9</td>\n",
       "      <td>ChessPsych0</td>\n",
       "      <td>SuPeR_Fm</td>\n",
       "      <td>0-1</td>\n",
       "      <td>2065</td>\n",
       "      <td>2341</td>\n",
       "      <td>180+2</td>\n",
       "      <td>...</td>\n",
       "      <td>97.506019</td>\n",
       "      <td>6.503138</td>\n",
       "      <td>93.914429</td>\n",
       "      <td>17.383642</td>\n",
       "      <td>91.750301</td>\n",
       "      <td>10.206618</td>\n",
       "      <td>98.488577</td>\n",
       "      <td>3.233310</td>\n",
       "      <td>96.504535</td>\n",
       "      <td>12.443981</td>\n",
       "    </tr>\n",
       "    <tr>\n",
       "      <th>1684</th>\n",
       "      <td>*** Titled Tuesday 3|2 Blitz</td>\n",
       "      <td>Chess.com</td>\n",
       "      <td>2015.03.03</td>\n",
       "      <td>9</td>\n",
       "      <td>Fandorine</td>\n",
       "      <td>Tilicheev_Viacheslav</td>\n",
       "      <td>1/2-1/2</td>\n",
       "      <td>2566</td>\n",
       "      <td>2519</td>\n",
       "      <td>180+2</td>\n",
       "      <td>...</td>\n",
       "      <td>97.803933</td>\n",
       "      <td>4.436912</td>\n",
       "      <td>97.627445</td>\n",
       "      <td>10.923771</td>\n",
       "      <td>93.973668</td>\n",
       "      <td>6.090862</td>\n",
       "      <td>98.436069</td>\n",
       "      <td>2.892443</td>\n",
       "      <td>97.454330</td>\n",
       "      <td>11.399091</td>\n",
       "    </tr>\n",
       "    <tr>\n",
       "      <th>1685</th>\n",
       "      <td>*** Titled Tuesday 3|2 Blitz</td>\n",
       "      <td>Chess.com</td>\n",
       "      <td>2015.03.03</td>\n",
       "      <td>9</td>\n",
       "      <td>GGuseinov</td>\n",
       "      <td>AlexanderL</td>\n",
       "      <td>0-1</td>\n",
       "      <td>2521</td>\n",
       "      <td>2533</td>\n",
       "      <td>180+2</td>\n",
       "      <td>...</td>\n",
       "      <td>98.379705</td>\n",
       "      <td>2.730408</td>\n",
       "      <td>95.367433</td>\n",
       "      <td>10.428628</td>\n",
       "      <td>97.392317</td>\n",
       "      <td>8.736544</td>\n",
       "      <td>98.060003</td>\n",
       "      <td>3.417998</td>\n",
       "      <td>97.018011</td>\n",
       "      <td>8.030589</td>\n",
       "    </tr>\n",
       "  </tbody>\n",
       "</table>\n",
       "<p>1686 rows × 30 columns</p>\n",
       "</div>"
      ],
      "text/plain": [
       "                              Event       Site        Date  Round  \\\n",
       "0     *** Monthly 3|2 Blitz Masters  Chess.com  2014.10.28      1   \n",
       "1     *** Monthly 3|2 Blitz Masters  Chess.com  2014.10.28      1   \n",
       "2     *** Monthly 3|2 Blitz Masters  Chess.com  2014.10.28      1   \n",
       "3     *** Monthly 3|2 Blitz Masters  Chess.com  2014.10.28      1   \n",
       "4     *** Monthly 3|2 Blitz Masters  Chess.com  2014.10.28      1   \n",
       "...                             ...        ...         ...    ...   \n",
       "1681   *** Titled Tuesday 3|2 Blitz  Chess.com  2015.03.03      9   \n",
       "1682   *** Titled Tuesday 3|2 Blitz  Chess.com  2015.03.03      9   \n",
       "1683   *** Titled Tuesday 3|2 Blitz  Chess.com  2015.03.03      9   \n",
       "1684   *** Titled Tuesday 3|2 Blitz  Chess.com  2015.03.03      9   \n",
       "1685   *** Titled Tuesday 3|2 Blitz  Chess.com  2015.03.03      9   \n",
       "\n",
       "              White                 Black   Result  WhiteElo  BlackElo  \\\n",
       "0         VovAn1991        RealBlindMuddy      1-0      2355      2037   \n",
       "1       TomsKantans                lorcho      0-1      2234      2632   \n",
       "2            ilmago                   GMG      0-1      1718      2278   \n",
       "3      SabinaFoisor              swayamsm      1-0      2284      2288   \n",
       "4     KingPetrosian        mat_kolosowski      0-1      2095      2352   \n",
       "...             ...                   ...      ...       ...       ...   \n",
       "1681        Mugzyyy             megarompa      0-1      2449      2683   \n",
       "1682      1stSecond      AndreyOstrovskiy  1/2-1/2      2372      2357   \n",
       "1683    ChessPsych0              SuPeR_Fm      0-1      2065      2341   \n",
       "1684      Fandorine  Tilicheev_Viacheslav  1/2-1/2      2566      2519   \n",
       "1685      GGuseinov            AlexanderL      0-1      2521      2533   \n",
       "\n",
       "     TimeControl  ... White Middle Accuracy White Middle Std  \\\n",
       "0          180+2  ...                   NaN              NaN   \n",
       "1          180+2  ...                   NaN              NaN   \n",
       "2          180+2  ...             82.985401        16.838992   \n",
       "3          180+2  ...             93.624434         5.337049   \n",
       "4          180+2  ...             93.308720        12.892787   \n",
       "...          ...  ...                   ...              ...   \n",
       "1681       180+2  ...             92.094203        11.973641   \n",
       "1682       180+2  ...             94.140987        14.125250   \n",
       "1683       180+2  ...             97.506019         6.503138   \n",
       "1684       180+2  ...             97.803933         4.436912   \n",
       "1685       180+2  ...             98.379705         2.730408   \n",
       "\n",
       "     White Endgame Accuracy White Endgame Std  Black Beginning Accuracy  \\\n",
       "0                 97.355130          0.000000                       NaN   \n",
       "1                       NaN               NaN                       NaN   \n",
       "2                 77.517956         20.594522                 97.275020   \n",
       "3                 93.291736          3.030791                 93.303910   \n",
       "4                 99.687454          0.740533                 99.355770   \n",
       "...                     ...               ...                       ...   \n",
       "1681              85.556916         23.677186                 92.783882   \n",
       "1682              99.315577          2.138444                 90.751940   \n",
       "1683              93.914429         17.383642                 91.750301   \n",
       "1684              97.627445         10.923771                 93.973668   \n",
       "1685              95.367433         10.428628                 97.392317   \n",
       "\n",
       "      Black Beginning Std  Black Middle Accuracy  Black Middle Std  \\\n",
       "0                     NaN                    NaN               NaN   \n",
       "1                     NaN                    NaN               NaN   \n",
       "2                3.716128              90.504206          9.857504   \n",
       "3                2.470164              90.883089          2.193190   \n",
       "4                1.274435              98.939505          2.150934   \n",
       "...                   ...                    ...               ...   \n",
       "1681             9.567825              90.203439         14.422086   \n",
       "1682            14.598213              96.391597         10.093465   \n",
       "1683            10.206618              98.488577          3.233310   \n",
       "1684             6.090862              98.436069          2.892443   \n",
       "1685             8.736544              98.060003          3.417998   \n",
       "\n",
       "      Black Endgame Accuracy  Black Endgame Std  \n",
       "0                        NaN                NaN  \n",
       "1                        NaN                NaN  \n",
       "2                  89.741507          16.832719  \n",
       "3                  96.366502           3.633498  \n",
       "4                  99.886281           0.270958  \n",
       "...                      ...                ...  \n",
       "1681               88.992977          20.332599  \n",
       "1682               99.369315           2.715192  \n",
       "1683               96.504535          12.443981  \n",
       "1684               97.454330          11.399091  \n",
       "1685               97.018011           8.030589  \n",
       "\n",
       "[1686 rows x 30 columns]"
      ]
     },
     "metadata": {},
     "output_type": "display_data"
    }
   ],
   "source": [
    "display(mediate_df)"
   ]
  },
  {
   "cell_type": "code",
   "execution_count": 7,
   "metadata": {},
   "outputs": [],
   "source": [
    "def simplify_termination(term):\n",
    "    if pd.isna(term) or term == '':\n",
    "        return 'None'\n",
    "    #WON\n",
    "    if 'resignation' in term.lower():\n",
    "        return 'resignation'\n",
    "    elif 'checkmate' in term.lower():\n",
    "        return 'checkmate'\n",
    "    elif 'game abandoned' in term.lower():\n",
    "        return 'game abandoned'\n",
    "    elif 'time' in term.lower() and not ('insufficient' in term.lower() or 'stalemate' in term.lower()):  # 修正拼写错误\n",
    "        return 'time'\n",
    "    #DRAW\n",
    "    elif 'repetition' in term.lower():\n",
    "        return 'repetition'\n",
    "    elif 'agreement' in term.lower():\n",
    "        return 'agreement'\n",
    "    elif 'insufficient material' in term.lower():\n",
    "        return 'insufficient material'\n",
    "    elif 'stalemate' in term.lower():\n",
    "        return 'stalemate'\n",
    "    elif '50-move rule' in term.lower():\n",
    "        return '50-move rule'\n",
    "    elif 'timeout vs insufficient material' in term.lower():\n",
    "        return 'timeout vs insufficient material'\n",
    "    else:\n",
    "        return term\n",
    "    \n",
    "mediate_df['Termination']=mediate_df['Termination'].apply(simplify_termination)"
   ]
  },
  {
   "cell_type": "code",
   "execution_count": 8,
   "metadata": {},
   "outputs": [],
   "source": [
    "mediate_df.to_csv('1410-1503results.csv',index=False)\n",
    "#C:\\Users\\Administrator\\Desktop\\simple eda\\simple eda\\EDA\\1410-1503results.csv"
   ]
  }
 ],
 "metadata": {
  "kernelspec": {
   "display_name": "Python 3",
   "language": "python",
   "name": "python3"
  },
  "language_info": {
   "codemirror_mode": {
    "name": "ipython",
    "version": 3
   },
   "file_extension": ".py",
   "mimetype": "text/x-python",
   "name": "python",
   "nbconvert_exporter": "python",
   "pygments_lexer": "ipython3",
   "version": "3.12.9"
  }
 },
 "nbformat": 4,
 "nbformat_minor": 2
}
